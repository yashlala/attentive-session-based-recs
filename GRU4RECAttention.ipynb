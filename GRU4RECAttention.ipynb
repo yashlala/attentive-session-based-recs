{
 "cells": [
  {
   "cell_type": "code",
   "execution_count": 1,
   "metadata": {},
   "outputs": [],
   "source": [
    "import os\n",
    "os.environ['CUDA_LAUNCH_BLOCKING'] = '1'\n",
    "\n",
    "import torch\n",
    "import torch.nn as nn\n",
    "import torch.nn.functional as F\n",
    "\n",
    "import argparse\n",
    "from torch.utils.data import DataLoader\n",
    "import torch\n",
    "from tqdm import tqdm\n",
    "\n",
    "from preprocessing import *\n",
    "from dataset import *\n",
    "from metrics import *\n",
    "from model import *\n",
    "from utils import bert2dict"
   ]
  },
  {
   "cell_type": "code",
   "execution_count": 2,
   "metadata": {},
   "outputs": [],
   "source": [
    "MAX_LENGTH = 200\n",
    "# class gru4recFC_decoder(nn.Module):\n",
    "#     def __init__(self, hidden_size, output_size, dropout_p=0.1, max_length=MAX_LENGTH):\n",
    "#         super(gru4recFC_decoder, self).__init__()\n",
    "#         self.hidden_size = hidden_size\n",
    "#         self.output_size = output_size\n",
    "#         self.dropout_p = dropout_p\n",
    "#         self.max_length = max_length\n",
    "\n",
    "#         self.embedding = nn.Embedding(self.output_size, self.hidden_size)\n",
    "#         self.attn = nn.Linear(self.hidden_size * 2, self.max_length)\n",
    "#         self.attn_combine = nn.Linear(self.hidden_size * 2, self.hidden_size)\n",
    "#         self.dropout = nn.Dropout(self.dropout_p)\n",
    "#         self.gru = nn.GRU(self.hidden_size, self.hidden_size)\n",
    "#         self.out = nn.Linear(self.hidden_size, self.output_size)\n",
    "\n",
    "#     def forward(self, input, hidden, encoder_outputs):\n",
    "#         embedded = self.embedding(input).view(1, 1, -1)\n",
    "#         embedded = self.dropout(embedded)\n",
    "\n",
    "#         attn_weights = F.softmax(\n",
    "#             self.attn(torch.cat((embedded[0], hidden[0]), 1)), dim=1)\n",
    "#         attn_applied = torch.bmm(attn_weights.unsqueeze(0),\n",
    "#                                  encoder_outputs.unsqueeze(0))\n",
    "\n",
    "#         output = torch.cat((embedded[0], attn_applied[0]), 1)\n",
    "#         output = self.attn_combine(output).unsqueeze(0)\n",
    "\n",
    "#         output = F.relu(output)\n",
    "#         output, hidden = self.gru(output, hidden)\n",
    "\n",
    "#         output = F.log_softmax(self.out(output[0]), dim=1)\n",
    "#         return output, hidden, attn_weights\n",
    "\n",
    "#     def initHidden(self):\n",
    "#         return torch.zeros(1, 1, self.hidden_size, device=device)\n",
    "    \n",
    "# # class EncoderRNN(nn.Module):\n",
    "# #     def __init__(self, input_size, hidden_size):\n",
    "# #         super(EncoderRNN, self).__init__()\n",
    "# #         self.hidden_size = hidden_size\n",
    "\n",
    "# #         self.embedding = nn.Embedding(input_size, hidden_size)\n",
    "# #         self.gru = nn.GRU(hidden_size, hidden_size)\n",
    "\n",
    "# #     def forward(self, input, hidden):\n",
    "# #         embedded = self.embedding(input).view(1, 1, -1)\n",
    "# #         output = embedded\n",
    "# #         output, hidden = self.gru(output, hidden)\n",
    "# #         return output, hidden\n",
    "\n",
    "# #     def initHidden(self):\n",
    "# #         return torch.zeros(1, 1, self.hidden_size, device=device)\n",
    "\n",
    "class gru4recF_decoder(nn.Module):\n",
    "    def __init__(self, hidden_dim, output_dim, dropout=0, max_length=MAX_LENGTH):\n",
    "        super(gru4recF_decoder, self).__init__()\n",
    "        self.hidden_dim = hidden_dim\n",
    "        self.output_dim = output_dim\n",
    "        self.dropout = dropout\n",
    "        self.max_length = max_length\n",
    "\n",
    "        self.embedding = nn.Embedding(self.output_dim+1, self.hidden_dim)\n",
    "        self.attn = nn.Linear(self.hidden_dim * 2, self.max_length)\n",
    "        self.attn_combine = nn.Linear(self.hidden_dim * 2, self.hidden_dim)\n",
    "        self.dropout = nn.Dropout(self.dropout)\n",
    "        self.gru = nn.GRU(self.hidden_dim, self.hidden_dim)\n",
    "        self.out = nn.Linear(self.hidden_dim, self.output_dim)\n",
    "\n",
    "    def forward(self, input, hidden, encoder_outputs):\n",
    "        embedded = self.embedding(input).view(1, input.size()[1], -1)\n",
    "        embedded = self.dropout(embedded)\n",
    "        \n",
    "#         print(\"Pre-Embedded Tensor: \")\n",
    "#         print(input[0])\n",
    "        \n",
    "#         print(\"Embedded Dimension: \")\n",
    "#         print(embedded.size())\n",
    "        \n",
    "#         print(\"Hidden Dimension: \")\n",
    "#         print(hidden.size())\n",
    "\n",
    "#         print(\"Embedded Tensor: \")\n",
    "#         print(embedded[0])\n",
    "        \n",
    "#         print(\"Hidden Tensor: \")\n",
    "#         print(hidden[0])\n",
    "        \n",
    "        attn_weights = F.softmax(\n",
    "            self.attn(torch.cat((embedded[0], hidden[0]), 1)), dim=1)\n",
    "        \n",
    "#         print(\"Attention Dimension: \")\n",
    "#         print(attn_weights.size())\n",
    "        \n",
    "#         print(\"Encoder Outputs Dimension: \")\n",
    "#         print(encoder_outputs.size())\n",
    "        \n",
    "        attn_applied = torch.bmm(attn_weights.unsqueeze(1),\n",
    "                                 encoder_outputs).squeeze(1)\n",
    "        \n",
    "#         print(\"Attention Applied Dimension: \")\n",
    "#         print(attn_applied.size())\n",
    "\n",
    "        output = torch.cat((embedded[0], attn_applied), 1)\n",
    "        output = self.attn_combine(output).unsqueeze(0)\n",
    "\n",
    "        output = F.relu(output)\n",
    "        output, hidden = self.gru(output, hidden)\n",
    "\n",
    "        output = self.out(output[0])\n",
    "        \n",
    "#         print(\"Output Dimension: \")\n",
    "#         print(output.size())\n",
    "        \n",
    "#         print(\"New Hidden Dimension: \")\n",
    "#         print(hidden.size())\n",
    "        \n",
    "        return output, hidden, attn_weights\n",
    "\n",
    "    def initHidden(self):\n",
    "        return torch.zeros(1, 1, self.hidden_size, device=device)"
   ]
  },
  {
   "cell_type": "code",
   "execution_count": 3,
   "metadata": {},
   "outputs": [],
   "source": [
    "# class gru4recF_attention(nn.Module):\n",
    "#         def __init__(self,embedding_dim,\n",
    "#                  hidden_dim,\n",
    "#                  output_dim,\n",
    "#                  genre_dim=0,\n",
    "#                  batch_first=True,\n",
    "#                  max_length=200,\n",
    "#                  pad_token=0,\n",
    "#                  pad_genre_token=0,\n",
    "#                  bert_dim=0,\n",
    "#                  dropout=0,\n",
    "#                  tied=False):\n",
    "#             self.bert_dim = bert_dim\n",
    "#             self.genre_dim = genre_dim\n",
    "            \n",
    "#             self.model = gru4recF_encoder(embedding_dim=embedding_dim,\n",
    "#              hidden_dim=hidden_dim,\n",
    "#              output_dim=output_dim,\n",
    "#              genre_dim=genre_dim,\n",
    "#              batch_first=True,\n",
    "#              max_length=max_length,\n",
    "#              bert_dim=bert_dim,\n",
    "#              tied = tied,\n",
    "#              dropout=dropout)\n",
    "\n",
    "#             self.modelD = gru4recF_decoder(hidden_dim=hidden_dim, output_dim=output_dim, dropout=0, max_length=max_length)\n",
    "            \n",
    "#         def forward(self,x,x_lens,labels,x_genre=None,pack=True):\n",
    "#             encoder_outputs, hidden_states = self.model(x=inputs.to(device),x_lens=x_lens.squeeze().tolist())\n",
    "#             decoder_inputs = inputs[:,0].view(1,-1).to(device)\n",
    "#             decoder_hidden = hidden_states\n",
    "            \n",
    "#             outputs = torch.zeros(inputs.size()[0],max_length,output_dim, device=device)\n",
    "            \n",
    "#             for i in range(max_length):\n",
    "#                 decoder_outputs, decoder_hidden, decoder_attention = self.modelD(decoder_inputs, decoder_hidden, encoder_outputs)\n",
    "#                 outputs[:,i,:] = decoder_outputs\n",
    "#                 decoder_inputs = labels[:,i].view(1,-1)"
   ]
  },
  {
   "cell_type": "code",
   "execution_count": 42,
   "metadata": {},
   "outputs": [],
   "source": [
    "class gru4recF_attention(nn.Module):\n",
    "    \"\"\"\n",
    "    embedding dim: the dimension of the item-embedding look-up table\n",
    "    hidden_dim: the dimension of the hidden state of the GRU-RNN\n",
    "    batch_first: whether the batch dimension should be the first dimension of input to GRU-RNN\n",
    "    output_dim: the output dimension of the last fully connected layer\n",
    "    max_length: the maximum session length for any user, used for packing/padding input to GRU-RNN\n",
    "    pad_token: the value that pad tokens should be set to for GRU-RNN and item embedding\n",
    "    bert_dim: the dimension of the feature-embedding look-up table\n",
    "    ... to do add all comments ... \n",
    "    \"\"\"\n",
    "    def __init__(self,embedding_dim,\n",
    "                 hidden_dim,\n",
    "                 output_dim,\n",
    "                 attn_dim,\n",
    "                 genre_dim=0,\n",
    "                 batch_first=True,\n",
    "                 max_length=200,\n",
    "                 pad_token=0,\n",
    "                 pad_genre_token=0,\n",
    "                 bert_dim=0,\n",
    "                 dropout=0,\n",
    "                 tied=False,\n",
    "                 cat=True,\n",
    "                 attn=True):\n",
    "        \n",
    "        super(gru4recF_attention,self).__init__()\n",
    "        \n",
    "        self.batch_first =batch_first\n",
    "        \n",
    "        self.embedding_dim = embedding_dim\n",
    "        self.hidden_dim =hidden_dim\n",
    "        self.output_dim =output_dim\n",
    "        self.genre_dim = genre_dim\n",
    "        self.bert_dim = bert_dim\n",
    "        self.attn_dim = attn_dim\n",
    "\n",
    "        self.max_length = max_length\n",
    "        self.pad_token = pad_token\n",
    "        self.pad_genre_token = pad_genre_token\n",
    "        \n",
    "        self.tied = tied\n",
    "        self.dropout = dropout\n",
    "        self.cat = cat\n",
    "        self.attn = attn\n",
    "        \n",
    "        if self.tied:\n",
    "            self.hidden_dim = embedding_dim\n",
    "    \n",
    "        # initialize item-id lookup table\n",
    "        # add 1 to output dimension because we have to add a pad token\n",
    "        self.movie_embedding = nn.Embedding(output_dim+1,embedding_dim,padding_idx=pad_token)\n",
    "        \n",
    "        #  initialize plot lookup table\n",
    "        # add 1 to output dimensino because we have to add a pad token\n",
    "        if bert_dim != 0:\n",
    "            self.plot_embedding = nn.Embedding(output_dim+1,bert_dim,padding_idx=pad_token)\n",
    "            #self.plot_embedding.requires_grad_(requires_grad=False)\n",
    "            #self.plot_embedding = torch.ones(output_dim+1,bert_dim).cuda() #nn.Embedding(output_dim+1,bert_dim,padding_idx=pad_token)\n",
    "            #self.plot_embedding[pad_token,:] = 0\n",
    "            \n",
    "            # project plot embedding to same dimensionality as movie embedding\n",
    "            self.plot_projection = nn.Linear(bert_dim,embedding_dim)\n",
    "                    \n",
    "        if genre_dim != 0:\n",
    "            self.genre_embedding = nn.Embedding(genre_dim+1,embedding_dim,padding_idx=pad_genre_token)\n",
    "\n",
    "\n",
    "        self.encoder_layer = nn.GRU(embedding_dim,self.hidden_dim,batch_first=self.batch_first,dropout=self.dropout)\n",
    "        \n",
    "        if attn:\n",
    "            self.attention_layer = nn.Linear(self.hidden_dim,self.attn_dim)\n",
    "            self.score_layer = nn.Linear(self.attn_dim*2,1)\n",
    "            self.sigmoid = nn.Sigmoid()\n",
    "\n",
    "        if cat:\n",
    "            attn_dim = attn_dim + hidden_dim # ht cat weightedSum\n",
    "        \n",
    "#         # add 1 to the output dimension because we have to add a pad token\n",
    "        if not self.tied:\n",
    "            self.output_layer = nn.Linear(attn_dim,output_dim)\n",
    "        \n",
    "        if self.tied:\n",
    "            self.output_layer = nn.Linear(attn_dim,output_dim+1)\n",
    "            self.output_layer.weight = self.movie_embedding.weight\n",
    "    \n",
    "    def forward(self,x,x_lens,x_genre=None,pack=True,**kwargs):\n",
    "        # add the plot embedding and movie embedding\n",
    "        # do I add non-linearity or not? ... \n",
    "        # concatenate or not? ...\n",
    "        # many questions ...\n",
    "        batch_size = x.size()[0]\n",
    "        if (self.bert_dim != 0) and (self.genre_dim != 0):\n",
    "            x = self.movie_embedding(x) + self.plot_projection(F.leaky_relu(self.plot_embedding(x))) + self.genre_embedding(x_genre).sum(2)\n",
    "        elif (self.bert_dim != 0) and (self.genre_dim == 0):\n",
    "            x = self.movie_embedding(x) + self.plot_projection(F.leaky_relu(self.plot_embedding(x)))\n",
    "        elif (self.bert_dim == 0) and (self.genre_dim != 0):\n",
    "            x = self.movie_embedding(x) + self.genre_embedding(x_genre).sum(2)\n",
    "        else:\n",
    "            x = self.movie_embedding(x)\n",
    "        \n",
    "#         print(\"Embedder Dimension: \")\n",
    "#         print(x.size())\n",
    "        \n",
    "        if pack:\n",
    "            x = pack_padded_sequence(x,x_lens,batch_first=True,enforce_sorted=False)\n",
    "        \n",
    "        encoder_states, _ = self.encoder_layer(x) \n",
    "        \n",
    "        if pack:\n",
    "            encoder_states, _ = pad_packed_sequence(encoder_states, batch_first=self.batch_first,total_length=self.max_length,padding_value=self.pad_token)\n",
    "        \n",
    "        if self.attn:\n",
    "            attn_states = self.attention_layer(encoder_states)\n",
    "#             hidden_state = self.attention_layer(hidden_state)\n",
    "        \n",
    "        # CCs = BS x MS x 2HS\n",
    "        combined_contexts = torch.zeros(batch_size,max_length,self.attn_dim)\n",
    "        combined_contexts = combined_contexts.cuda()\n",
    "        \n",
    "        for t in range(max_length):\n",
    "            # CF = BS x (t+1) x HS\n",
    "            context_frame = attn_states[:,:t+1,:]\n",
    "            # CH = BS x HS x 1\n",
    "            current_hidden = attn_states[:,t,:].squeeze(1).unsqueeze(2)\n",
    "            # AS = BS x (t+1) x 1\n",
    "            attention_score = torch.bmm(context_frame,current_hidden).squeeze(2) / self.attn_dim\n",
    "            attention_score = torch.nn.functional.softmax(attention_score,1).unsqueeze(2)\n",
    "            # CFT = BS x HS x (t+1)\n",
    "            context_frame_transposed = torch.transpose(context_frame,1,2)\n",
    "            # CV = BS x HS\n",
    "            context_vector = torch.bmm(context_frame_transposed,attention_score).squeeze(2)\n",
    "            # CH = BS x HS\n",
    "#             current_hidden = current_hidden.squeeze(2)\n",
    "            # CC = BS x AS\n",
    "            combined_contexts[:,t,:] = context_vector\n",
    "        \n",
    "#         for t in range(max_length):\n",
    "#             # CF = BS x (t+1) x AS\n",
    "#             context_frame = attn_states[:,:t+1,:]\n",
    "#             # CH = BS x 1 x AS\n",
    "#             current_hidden = attn_states[:,t,:].unsqueeze(1)\n",
    "#             # CH = BS x (t+1) x AS\n",
    "#             current_hidden = torch.cat((t+1)*[current_hidden],1)\n",
    "#             #CBF = BS x (t+1) x 2*AS\n",
    "#             combined_frame = torch.cat((context_frame,current_hidden),2)\n",
    "#             # AS = BS x (t+1) x 1\n",
    "#             attention_score = self.score_layer(combined_frame) / self.attn_dim\n",
    "#             attention_score = self.sigmoid(attention_score)\n",
    "#             attention_score = torch.nn.functional.softmax(attention_score,1)\n",
    "#             # CFT = BS x HS x (t+1)\n",
    "#             context_frame_transposed = torch.transpose(context_frame,1,2) # hidden_state?\n",
    "#             # CV = BS x HS\n",
    "#             context_vector = torch.bmm(context_frame_transposed,attention_score).squeeze(2)\n",
    "#             # CH = BS x HS\n",
    "# #             current_hidden = current_hidden.squeeze(2)\n",
    "#             # CC = BS x AS\n",
    "#             combined_contexts[:,t,:] = context_vector\n",
    "\n",
    "        if self.cat:\n",
    "            ## CCs = BS x MS x AS, ES = BS x MS x HS\n",
    "            combined_contexts_cat = torch.cat((combined_contexts,encoder_states),2)\n",
    "                \n",
    "        # print(combined_contexts_cat)\n",
    "            \n",
    "        # CCC = BS x MS x (AS + HS)\n",
    "        # O = BS x MS x V\n",
    "        if self.cat:\n",
    "            x = self.output_layer(combined_contexts_cat)\n",
    "        else:\n",
    "            x = self.output_layer(combined_contexts)\n",
    "            \n",
    "#         print(\"Encoder States: \")\n",
    "#         print(encoder_states)\n",
    "#         print(encoder_states.size())\n",
    "#         print(\"Combined Contexts: \")\n",
    "#         print(combined_contexts.size())\n",
    "#         print(\"Combined Contexts Cat.: \")\n",
    "#         print(combined_contexts_cat.size())\n",
    "        \n",
    "        return x\n",
    "    def initHidden(self):\n",
    "        return torch.zeros(1, 1, self.hidden_size, device=device)\n",
    "    def init_weight(self,reset_object,feature_embed):\n",
    "        for (item_id,embedding) in feature_embed.items():\n",
    "            if item_id not in reset_object.item_enc.classes_:\n",
    "                continue\n",
    "            item_id = reset_object.item_enc.transform([item_id]).item()\n",
    "            self.plot_embedding.weight.data[item_id,:] = torch.DoubleTensor(embedding)"
   ]
  },
  {
   "cell_type": "code",
   "execution_count": 5,
   "metadata": {},
   "outputs": [],
   "source": [
    "import torch\n",
    "import torch.nn as nn\n",
    "import torch.nn.functional as F"
   ]
  },
  {
   "cell_type": "code",
   "execution_count": 6,
   "metadata": {},
   "outputs": [],
   "source": [
    "# -*- coding: utf-8 -*-\n",
    "\"\"\"\n",
    "Created on Tue Mar 23 08:39:11 2021\n",
    "\n",
    "@author: lpott\n",
    "\"\"\"\n",
    "import argparse\n",
    "from torch.utils.data import DataLoader\n",
    "import torch\n",
    "from tqdm import tqdm\n",
    "\n",
    "from preprocessing import *\n",
    "from dataset import *\n",
    "from metrics import *\n",
    "from model import *\n",
    "from utils import bert2dict\n"
   ]
  },
  {
   "cell_type": "code",
   "execution_count": 47,
   "metadata": {},
   "outputs": [],
   "source": [
    "# variables\n",
    "\n",
    "read_filename =\"data/movielens-1m/ratings.dat\"\n",
    "read_bert_filename = \"data/bert_sequence_20m.txt\"\n",
    "read_movie_filename = \"\"#\"movies-1m.csv\"\n",
    "size = \"1m\"\n",
    "\n",
    "num_epochs = 100\n",
    "lr = 1e-3\n",
    "batch_size = 64\n",
    "reg = 1e-4\n",
    "train_method = \"alternate\"\n",
    "loss_type = \"BPR\"\n",
    "num_neg_samples = 10\n",
    "\n",
    "\n",
    "hidden_dim = 256\n",
    "attn_dim = 64\n",
    "embedding_dim = 256\n",
    "bert_dim= 768\n",
    "window = 0\n",
    "\n",
    "freeze_plot = False\n",
    "tied = False\n",
    "dropout= 0\n",
    "\n",
    "k = 10\n",
    "max_length = 200\n",
    "min_len = 10\n",
    "\n",
    "\n",
    "# nextitnet options...\n",
    "hidden_layers = 3\n",
    "dilations = [1,2,2,4]\n",
    "\n",
    "model_type = \"attention\"\n",
    "\n",
    "device = torch.device('cuda' if torch.cuda.is_available() else 'cpu')"
   ]
  },
  {
   "cell_type": "code",
   "execution_count": 48,
   "metadata": {},
   "outputs": [],
   "source": [
    "torch.cuda.empty_cache()"
   ]
  },
  {
   "cell_type": "code",
   "execution_count": 49,
   "metadata": {},
   "outputs": [
    {
     "name": "stdout",
     "output_type": "stream",
     "text": [
      "========== Creating DataFrame ==========\n",
      "user_id        6040\n",
      "item_id        3706\n",
      "rating            5\n",
      "timestamp    458455\n",
      "dtype: int64\n",
      "(1000209, 4)\n",
      "Minimum Session Length: 20\n",
      "Maximum Session Length: 2314\n",
      "Average Session Length: 165.60\n",
      "========== Filtering Sessions <= 10  DataFrame ==========\n",
      "user_id        6040\n",
      "item_id        3706\n",
      "rating            5\n",
      "timestamp    458455\n",
      "dtype: int64\n",
      "(1000209, 4)\n",
      "Minimum Session Length: 20\n",
      "Maximum Session Length: 2314\n",
      "Average Session Length: 165.60\n"
     ]
    }
   ],
   "source": [
    "# ------------------Data Initialization----------------------#\n",
    "\n",
    "# convert .dat file to time-sorted pandas dataframe\n",
    "ml_1m = create_df(read_filename,size=size)\n",
    "\n",
    "# remove users who have sessions lengths less than min_len\n",
    "ml_1m = filter_df(ml_1m,item_min=min_len)"
   ]
  },
  {
   "cell_type": "code",
   "execution_count": 50,
   "metadata": {},
   "outputs": [
    {
     "name": "stdout",
     "output_type": "stream",
     "text": [
      "========== Initialize Reset DataFrame Object ==========\n",
      "========== Resetting user ids and item ids in DataFrame ==========\n"
     ]
    }
   ],
   "source": [
    "# ------------------Data Initialization----------------------#\n",
    "if read_movie_filename != \"\":\n",
    "    ml_movie_df = create_movie_df(read_movie_filename,size=size)\n",
    "    ml_movie_df = convert_genres(ml_movie_df)\n",
    "    \n",
    "    # initialize reset object\n",
    "    reset_object = reset_df()\n",
    "    \n",
    "    # map all user ids, item ids, and genres to range 0 - number of users/items/genres\n",
    "    ml_1m,ml_movie_df = reset_object.fit_transform(ml_1m,ml_movie_df)\n",
    "    \n",
    "    # value that padded genre tokens shall take\n",
    "    pad_genre_token = reset_object.genre_enc.transform([\"NULL\"]).item()\n",
    "    \n",
    "    genre_dim = len(np.unique(np.concatenate(ml_movie_df.genre))) - 1\n",
    "\n",
    "else:\n",
    "    # initialize reset object\n",
    "    reset_object = reset_df()\n",
    "    \n",
    "    # map all user ids and item ids to range 0 - Number of Users/Items \n",
    "    # i.e. [1,7,5] -> [0,2,1]\n",
    "    ml_1m = reset_object.fit_transform(ml_1m)\n",
    "    \n",
    "    pad_genre_token = None\n",
    "    ml_movie_df = None\n",
    "    genre_dim = 0"
   ]
  },
  {
   "cell_type": "code",
   "execution_count": 51,
   "metadata": {},
   "outputs": [
    {
     "name": "stdout",
     "output_type": "stream",
     "text": [
      "========== Reading .txt file with all item id and embeddings ==========\n"
     ]
    }
   ],
   "source": [
    "# ------------------Data Initialization----------------------#\n",
    "# how many unique users, items, ratings and timestamps are there\n",
    "n_users,n_items,n_ratings,n_timestamp = ml_1m.nunique()\n",
    "\n",
    "# value that padded tokens shall take\n",
    "pad_token = n_items\n",
    "\n",
    "# the output dimension for softmax layer\n",
    "output_dim = n_items\n",
    "\n",
    "\n",
    "# get the item id : bert plot embedding dictionary\n",
    "if bert_dim != 0:\n",
    "    feature_embed = bert2dict(bert_filename=read_bert_filename)"
   ]
  },
  {
   "cell_type": "code",
   "execution_count": 52,
   "metadata": {},
   "outputs": [
    {
     "name": "stderr",
     "output_type": "stream",
     "text": [
      "  1%|▊                                                                              | 60/6040 [00:00<00:10, 594.06it/s]"
     ]
    },
    {
     "name": "stdout",
     "output_type": "stream",
     "text": [
      "========== Creating User Histories ==========\n"
     ]
    },
    {
     "name": "stderr",
     "output_type": "stream",
     "text": [
      "100%|█████████████████████████████████████████████████████████████████████████████| 6040/6040 [00:09<00:00, 633.46it/s]\n"
     ]
    }
   ],
   "source": [
    "# create a dictionary of every user's session (history)\n",
    "# i.e. {user: [user clicks]}\n",
    "if size == \"1m\":\n",
    "    user_history = create_user_history(ml_1m)\n",
    "\n",
    "elif size == \"20m\":\n",
    "    import pickle\n",
    "    with open('userhistory.pickle', 'rb') as handle:\n",
    "        user_history = pickle.load(handle)\n",
    "# create a dictionary of all items a user has not clicked\n",
    "# i.e. {user: [items not clicked by user]}\n",
    "# user_noclicks = create_user_noclick(user_history,ml_1m,n_items)"
   ]
  },
  {
   "cell_type": "code",
   "execution_count": 53,
   "metadata": {},
   "outputs": [
    {
     "name": "stderr",
     "output_type": "stream",
     "text": [
      "100%|██████████████████████████████████████████████████████████████████████████| 6040/6040 [00:00<00:00, 109818.05it/s]"
     ]
    },
    {
     "name": "stdout",
     "output_type": "stream",
     "text": [
      "========== Splitting User Histories into Train, Validation, and Test Splits ==========\n"
     ]
    },
    {
     "name": "stderr",
     "output_type": "stream",
     "text": [
      "\n"
     ]
    }
   ],
   "source": [
    "# split data by leave-one-out strategy\n",
    "# have train dictionary {user: [last 41 items prior to last 2 items in user session]}\n",
    "# have val dictionary {user: [last 41 items prior to last item in user session]}\n",
    "# have test dictionary {user: [last 41 items]}\n",
    "# i.e. if max_length = 4, [1,2,3,4,5,6] -> [1,2,3,4] , [2,3,4,5] , [3,4,5,6]\n",
    "train_history,val_history,test_history = train_val_test_split(user_history,max_length=max_length)\n",
    "\n",
    "# initialize the train,validation, and test pytorch dataset objects\n",
    "# eval pads all items except last token to predict\n",
    "train_dataset = GRUDataset(train_history,genre_df=ml_movie_df,mode='train',max_length=max_length,pad_token=pad_token,pad_genre_token=pad_genre_token)\n",
    "val_dataset = GRUDataset(val_history,genre_df=ml_movie_df,mode='eval',max_length=max_length,pad_token=pad_token,pad_genre_token=pad_genre_token)\n",
    "test_dataset = GRUDataset(test_history,genre_df=ml_movie_df,mode='eval',max_length=max_length,pad_token=pad_token,pad_genre_token=pad_genre_token)\n",
    "\n",
    "# create the train,validation, and test pytorch dataloader objects\n",
    "train_dl = DataLoader(train_dataset,batch_size = batch_size,shuffle=True)\n",
    "val_dl = DataLoader(val_dataset,batch_size=64)\n",
    "test_dl = DataLoader(test_dataset,batch_size=64)"
   ]
  },
  {
   "cell_type": "code",
   "execution_count": 54,
   "metadata": {},
   "outputs": [
    {
     "name": "stdout",
     "output_type": "stream",
     "text": [
      "Bert dim: 768\n",
      "Genre dim: 0\n",
      "Pad Token: 3706\n",
      "Pad Genre Token: None\n"
     ]
    }
   ],
   "source": [
    "print(\"Bert dim: {:d}\".format(bert_dim))\n",
    "print(\"Genre dim: {:d}\".format(genre_dim))\n",
    "print(\"Pad Token: {}\".format(pad_token))\n",
    "print(\"Pad Genre Token: {}\".format(pad_genre_token))"
   ]
  },
  {
   "cell_type": "code",
   "execution_count": 55,
   "metadata": {},
   "outputs": [],
   "source": [
    "# ------------------Model Initialization----------------------#\n",
    "\n",
    "# initialize gru4rec model with arguments specified earlier\n",
    "if model_type == \"feature_add\":\n",
    "    model = gru4recF(embedding_dim=embedding_dim,\n",
    "             hidden_dim=hidden_dim,\n",
    "             output_dim=output_dim,\n",
    "             genre_dim=genre_dim,\n",
    "             batch_first=True,\n",
    "             max_length=max_length,\n",
    "             pad_token=pad_token,\n",
    "             pad_genre_token=pad_genre_token,\n",
    "             bert_dim=bert_dim,\n",
    "             tied = tied,\n",
    "             dropout=dropout)\n",
    "\n",
    "\n",
    "if model_type == \"feature_concat\":\n",
    "    model = gru4recFC(embedding_dim=embedding_dim,\n",
    "             hidden_dim=hidden_dim,\n",
    "             output_dim=output_dim,\n",
    "             genre_dim=genre_dim,\n",
    "             batch_first=True,\n",
    "             max_length=max_length,\n",
    "             pad_token=pad_token,\n",
    "             pad_genre_token=pad_genre_token,\n",
    "             bert_dim=bert_dim,\n",
    "             tied = tied,\n",
    "             dropout=dropout)\n",
    "\n",
    "if model_type == \"vanilla\":\n",
    "    model = gru4rec_vanilla(hidden_dim=hidden_dim,\n",
    "                            output_dim=output_dim,\n",
    "                            batch_first=True,\n",
    "                            max_length=max_length,\n",
    "                            pad_token=pad_token,\n",
    "                            tied=tied,\n",
    "                            embedding_dim=embedding_dim)\n",
    "\n",
    "if model_type ==\"feature_only\":\n",
    "    model = gru4rec_feature(hidden_dim=hidden_dim,\n",
    "                            output_dim=output_dim,\n",
    "                            batch_first=True,\n",
    "                            max_length=max_length,\n",
    "                            pad_token=pad_token,\n",
    "                            bert_dim=bert_dim)\n",
    "\n",
    "if model_type == \"conv\":\n",
    "    model = gru4rec_conv(embedding_dim,\n",
    "                 hidden_dim,\n",
    "                 output_dim,\n",
    "                 batch_first=True,\n",
    "                 max_length=200,\n",
    "                 pad_token=0,\n",
    "                 dropout=0,\n",
    "                 window=3,\n",
    "                 tied=tied)\n",
    "    \n",
    "if model_type == \"nextitnet\":\n",
    "    model = NextItNet(embedding_dim=embedding_dim,\n",
    "                      output_dim=output_dim,\n",
    "                      hidden_layers=hidden_layers,\n",
    "                      dilations=dilations,\n",
    "                      pad_token=n_items,\n",
    "                      max_len=max_length)\n",
    "\n",
    "if model_type == \"attention\":\n",
    "    model = gru4recF_attention(embedding_dim=embedding_dim,\n",
    "             hidden_dim=hidden_dim,\n",
    "             output_dim=output_dim,\n",
    "             genre_dim=genre_dim,\n",
    "             attn_dim=attn_dim,\n",
    "             batch_first=True,\n",
    "             max_length=max_length,\n",
    "             pad_token=pad_token,\n",
    "             pad_genre_token=pad_genre_token,\n",
    "             bert_dim=bert_dim,\n",
    "             tied = tied,\n",
    "             dropout=dropout, cat=True)\n",
    "#     modelD = gru4recF_decoder(hidden_dim=hidden_dim, output_dim=output_dim, dropout=0, max_length=max_length)\n",
    "#     modelD = modelD.to(device)"
   ]
  },
  {
   "cell_type": "code",
   "execution_count": 56,
   "metadata": {},
   "outputs": [],
   "source": [
    "if bert_dim != 0:\n",
    "    model.init_weight(reset_object,feature_embed)\n",
    "    \n",
    "model = model.to(device)"
   ]
  },
  {
   "cell_type": "code",
   "execution_count": 57,
   "metadata": {},
   "outputs": [
    {
     "data": {
      "text/plain": [
       "['plot_embedding.weight',\n",
       " 'plot_projection.weight',\n",
       " 'plot_projection.bias',\n",
       " 'encoder_layer.weight_ih_l0',\n",
       " 'encoder_layer.weight_hh_l0',\n",
       " 'encoder_layer.bias_ih_l0',\n",
       " 'encoder_layer.bias_hh_l0',\n",
       " 'attention_layer.weight',\n",
       " 'attention_layer.bias',\n",
       " 'score_layer.weight',\n",
       " 'score_layer.bias',\n",
       " 'output_layer.weight',\n",
       " 'output_layer.bias']"
      ]
     },
     "execution_count": 57,
     "metadata": {},
     "output_type": "execute_result"
    }
   ],
   "source": [
    "[name for name,param in model.named_parameters() if ((\"movie\" not in name) or (\"plot_embedding\" in name) or (\"genre\" in name))]"
   ]
  },
  {
   "cell_type": "code",
   "execution_count": 58,
   "metadata": {},
   "outputs": [
    {
     "data": {
      "text/plain": [
       "['movie_embedding.weight',\n",
       " 'encoder_layer.weight_ih_l0',\n",
       " 'encoder_layer.weight_hh_l0',\n",
       " 'encoder_layer.bias_ih_l0',\n",
       " 'encoder_layer.bias_hh_l0',\n",
       " 'attention_layer.weight',\n",
       " 'attention_layer.bias',\n",
       " 'score_layer.weight',\n",
       " 'score_layer.bias',\n",
       " 'output_layer.weight',\n",
       " 'output_layer.bias']"
      ]
     },
     "execution_count": 58,
     "metadata": {},
     "output_type": "execute_result"
    }
   ],
   "source": [
    "[name for name,param in model.named_parameters() if (\"plot\" not in name) and (\"genre\" not in name)]"
   ]
  },
  {
   "cell_type": "code",
   "execution_count": 59,
   "metadata": {},
   "outputs": [],
   "source": [
    "# initialize Adam optimizer with gru4rec model parameters\n",
    "if train_method != \"normal\":\n",
    "    optimizer_features = torch.optim.Adam([param for name,param in model.named_parameters() if ((\"movie\" not in name) or (\"plot_embedding\" in name) or (\"genre\" in name)) ],\n",
    "                                          lr=lr,weight_decay=reg) # can change\n",
    "    \n",
    "    optimizer_ids = torch.optim.Adam([param for name,param in model.named_parameters() if (\"plot\" not in name) and (\"genre\" not in name)],\n",
    "                                     lr=lr,weight_decay=reg)\n",
    "\n",
    "elif train_method == \"normal\":\n",
    "    optimizer = torch.optim.Adam(model.parameters(),lr=lr,weight_decay=reg)\n",
    "    decoder_optimizer = torch.optim.Adam(model.parameters(), lr=lr,weight_decay=reg)\n",
    "if freeze_plot and bert_dim !=0:\n",
    "    model.plot_embedding.weight.requires_grad = False"
   ]
  },
  {
   "cell_type": "code",
   "execution_count": 60,
   "metadata": {},
   "outputs": [
    {
     "name": "stdout",
     "output_type": "stream",
     "text": [
      "3706\n"
     ]
    }
   ],
   "source": [
    "if loss_type == \"XE\":\n",
    "    loss_fn = nn.CrossEntropyLoss(ignore_index=n_items)\n",
    "    \n",
    "elif loss_type == \"BPR\":\n",
    "    loss_fn = BPRLoss(user_history = user_history,\n",
    "                      n_items = n_items, \n",
    "                      df = ml_1m,\n",
    "                      device = device, \n",
    "                      samples=num_neg_samples)\n",
    "\n",
    "elif loss_type == \"BPR_MAX\":\n",
    "    loss_fn = BPRMaxLoss(user_history = user_history,\n",
    "                      n_items = n_items, \n",
    "                      df = ml_1m,\n",
    "                      device = device,\n",
    "                      reg = 2,\n",
    "                      samples=num_neg_samples)"
   ]
  },
  {
   "cell_type": "code",
   "execution_count": 61,
   "metadata": {},
   "outputs": [
    {
     "name": "stdout",
     "output_type": "stream",
     "text": [
      "========== Creating Hit@10 Metric Object ==========\n"
     ]
    }
   ],
   "source": [
    "Recall_Object = Recall_E_prob(ml_1m,user_history,n_users,n_items,k=k,device=device)"
   ]
  },
  {
   "cell_type": "code",
   "execution_count": 62,
   "metadata": {
    "scrolled": true
   },
   "outputs": [
    {
     "name": "stderr",
     "output_type": "stream",
     "text": [
      "\r",
      "  0%|                                                                                           | 0/95 [00:00<?, ?it/s]"
     ]
    },
    {
     "name": "stdout",
     "output_type": "stream",
     "text": [
      "==================== Epoch 1 ====================\n"
     ]
    },
    {
     "name": "stderr",
     "output_type": "stream",
     "text": [
      "100%|██████████████████████████████████████████████████████████████████████████████████| 95/95 [03:15<00:00,  2.06s/it]\n",
      "  0%|                                                                                           | 0/95 [00:00<?, ?it/s]"
     ]
    },
    {
     "name": "stdout",
     "output_type": "stream",
     "text": [
      "Training Loss: 5.40220\n",
      "Train Hits \t @10: 0.49785 \t @5 : 0.34503 \t @1 : 0.11192\n",
      "Train ndcg \t @10: 0.27941 \t @5 : 0.23028 \t @1 : 0.11192\n",
      "Train mrr: 0.23392742532181432\n",
      "Valid Hits \t @10: 0.46308 \t @5 : 0.31970 \t @1 : 0.10017\n",
      "Valid ndcg \t @10: 0.25720 \t @5 : 0.21100 \t @1 : 0.10017\n",
      "Valid mrr: 0.21572711983094436\n",
      "Test Hits \t @10: 0.43758 \t @5 : 0.29222 \t @1 : 0.09785\n",
      "Test ndcg \t @10: 0.24291 \t @5 : 0.19611 \t @1 : 0.09785\n",
      "Test mrr: 0.2054460187477027\n",
      "==================== Epoch 2 ====================\n"
     ]
    },
    {
     "name": "stderr",
     "output_type": "stream",
     "text": [
      "100%|██████████████████████████████████████████████████████████████████████████████████| 95/95 [03:12<00:00,  2.02s/it]\n",
      "  0%|                                                                                           | 0/95 [00:00<?, ?it/s]"
     ]
    },
    {
     "name": "stdout",
     "output_type": "stream",
     "text": [
      "Training Loss: 3.44749\n",
      "Train Hits \t @10: 0.61374 \t @5 : 0.46805 \t @1 : 0.17616\n",
      "Train ndcg \t @10: 0.37388 \t @5 : 0.32659 \t @1 : 0.17616\n",
      "Train mrr: 0.31654760302518103\n",
      "Valid Hits \t @10: 0.55894 \t @5 : 0.41325 \t @1 : 0.14503\n",
      "Valid ndcg \t @10: 0.32979 \t @5 : 0.28231 \t @1 : 0.14503\n",
      "Valid mrr: 0.27732396462185094\n",
      "Test Hits \t @10: 0.52732 \t @5 : 0.38791 \t @1 : 0.14454\n",
      "Test ndcg \t @10: 0.31342 \t @5 : 0.26834 \t @1 : 0.14454\n",
      "Test mrr: 0.2664832293332236\n",
      "==================== Epoch 3 ====================\n"
     ]
    },
    {
     "name": "stderr",
     "output_type": "stream",
     "text": [
      "100%|██████████████████████████████████████████████████████████████████████████████████| 95/95 [03:09<00:00,  2.00s/it]\n",
      "  0%|                                                                                           | 0/95 [00:00<?, ?it/s]"
     ]
    },
    {
     "name": "stdout",
     "output_type": "stream",
     "text": [
      "Training Loss: 2.67885\n",
      "Train Hits \t @10: 0.66871 \t @5 : 0.52533 \t @1 : 0.21738\n",
      "Train ndcg \t @10: 0.42364 \t @5 : 0.37700 \t @1 : 0.21738\n",
      "Train mrr: 0.3626995973633547\n",
      "Valid Hits \t @10: 0.61639 \t @5 : 0.47036 \t @1 : 0.17897\n",
      "Valid ndcg \t @10: 0.37636 \t @5 : 0.32916 \t @1 : 0.17897\n",
      "Valid mrr: 0.31833674135454054\n",
      "Test Hits \t @10: 0.57864 \t @5 : 0.44007 \t @1 : 0.17268\n",
      "Test ndcg \t @10: 0.35555 \t @5 : 0.31051 \t @1 : 0.17268\n",
      "Test mrr: 0.3036404018786812\n",
      "==================== Epoch 4 ====================\n"
     ]
    },
    {
     "name": "stderr",
     "output_type": "stream",
     "text": [
      "100%|██████████████████████████████████████████████████████████████████████████████████| 95/95 [03:11<00:00,  2.01s/it]\n",
      "  0%|                                                                                           | 0/95 [00:00<?, ?it/s]"
     ]
    },
    {
     "name": "stdout",
     "output_type": "stream",
     "text": [
      "Training Loss: 2.32178\n",
      "Train Hits \t @10: 0.69851 \t @5 : 0.55331 \t @1 : 0.23692\n",
      "Train ndcg \t @10: 0.45007 \t @5 : 0.40298 \t @1 : 0.23692\n",
      "Train mrr: 0.3868595466360507\n",
      "Valid Hits \t @10: 0.63907 \t @5 : 0.49901 \t @1 : 0.19007\n",
      "Valid ndcg \t @10: 0.39460 \t @5 : 0.34914 \t @1 : 0.19007\n",
      "Valid mrr: 0.33379839488925805\n",
      "Test Hits \t @10: 0.59785 \t @5 : 0.46126 \t @1 : 0.18394\n",
      "Test ndcg \t @10: 0.37178 \t @5 : 0.32737 \t @1 : 0.18394\n",
      "Test mrr: 0.3178187688958358\n",
      "==================== Epoch 5 ====================\n"
     ]
    },
    {
     "name": "stderr",
     "output_type": "stream",
     "text": [
      "100%|██████████████████████████████████████████████████████████████████████████████████| 95/95 [03:11<00:00,  2.01s/it]\n",
      "  0%|                                                                                           | 0/95 [00:00<?, ?it/s]"
     ]
    },
    {
     "name": "stdout",
     "output_type": "stream",
     "text": [
      "Training Loss: 2.08654\n",
      "Train Hits \t @10: 0.72616 \t @5 : 0.58030 \t @1 : 0.25033\n",
      "Train ndcg \t @10: 0.47103 \t @5 : 0.42369 \t @1 : 0.25033\n",
      "Train mrr: 0.40466618016685657\n",
      "Valid Hits \t @10: 0.65381 \t @5 : 0.51308 \t @1 : 0.20844\n",
      "Valid ndcg \t @10: 0.41244 \t @5 : 0.36673 \t @1 : 0.20844\n",
      "Valid mrr: 0.3521524122381567\n",
      "Test Hits \t @10: 0.61921 \t @5 : 0.47682 \t @1 : 0.18709\n",
      "Test ndcg \t @10: 0.38424 \t @5 : 0.33819 \t @1 : 0.18709\n",
      "Test mrr: 0.32680849566204323\n",
      "==================== Epoch 6 ====================\n"
     ]
    },
    {
     "name": "stderr",
     "output_type": "stream",
     "text": [
      "100%|██████████████████████████████████████████████████████████████████████████████████| 95/95 [03:09<00:00,  2.00s/it]\n",
      "  0%|                                                                                           | 0/95 [00:00<?, ?it/s]"
     ]
    },
    {
     "name": "stdout",
     "output_type": "stream",
     "text": [
      "Training Loss: 1.91445\n",
      "Train Hits \t @10: 0.73609 \t @5 : 0.59934 \t @1 : 0.25795\n",
      "Train ndcg \t @10: 0.48216 \t @5 : 0.43772 \t @1 : 0.25795\n",
      "Train mrr: 0.4157623825731788\n",
      "Valid Hits \t @10: 0.66275 \t @5 : 0.52401 \t @1 : 0.21126\n",
      "Valid ndcg \t @10: 0.41823 \t @5 : 0.37319 \t @1 : 0.21126\n",
      "Valid mrr: 0.3565223591661696\n",
      "Test Hits \t @10: 0.62417 \t @5 : 0.48858 \t @1 : 0.19834\n",
      "Test ndcg \t @10: 0.39321 \t @5 : 0.34944 \t @1 : 0.19834\n",
      "Test mrr: 0.33691024243155304\n",
      "==================== Epoch 7 ====================\n"
     ]
    },
    {
     "name": "stderr",
     "output_type": "stream",
     "text": [
      "100%|██████████████████████████████████████████████████████████████████████████████████| 95/95 [03:09<00:00,  2.00s/it]\n",
      "  0%|                                                                                           | 0/95 [00:00<?, ?it/s]"
     ]
    },
    {
     "name": "stdout",
     "output_type": "stream",
     "text": [
      "Training Loss: 1.76413\n",
      "Train Hits \t @10: 0.75811 \t @5 : 0.61225 \t @1 : 0.26705\n",
      "Train ndcg \t @10: 0.49512 \t @5 : 0.44777 \t @1 : 0.26705\n",
      "Train mrr: 0.4247684135743704\n",
      "Valid Hits \t @10: 0.66821 \t @5 : 0.53444 \t @1 : 0.22252\n",
      "Valid ndcg \t @10: 0.42901 \t @5 : 0.38584 \t @1 : 0.22252\n",
      "Valid mrr: 0.36849590887743516\n",
      "Test Hits \t @10: 0.63129 \t @5 : 0.49950 \t @1 : 0.20166\n",
      "Test ndcg \t @10: 0.39917 \t @5 : 0.35639 \t @1 : 0.20166\n",
      "Test mrr: 0.341971482860123\n",
      "==================== Epoch 8 ====================\n"
     ]
    },
    {
     "name": "stderr",
     "output_type": "stream",
     "text": [
      "100%|██████████████████████████████████████████████████████████████████████████████████| 95/95 [03:16<00:00,  2.07s/it]\n",
      "  0%|                                                                                           | 0/95 [00:00<?, ?it/s]"
     ]
    },
    {
     "name": "stdout",
     "output_type": "stream",
     "text": [
      "Training Loss: 1.66271\n",
      "Train Hits \t @10: 0.77235 \t @5 : 0.62881 \t @1 : 0.27334\n",
      "Train ndcg \t @10: 0.50652 \t @5 : 0.46001 \t @1 : 0.27334\n",
      "Train mrr: 0.43464072843060153\n",
      "Valid Hits \t @10: 0.67434 \t @5 : 0.54255 \t @1 : 0.22185\n",
      "Valid ndcg \t @10: 0.43190 \t @5 : 0.38902 \t @1 : 0.22185\n",
      "Valid mrr: 0.36998463925285763\n",
      "Test Hits \t @10: 0.63808 \t @5 : 0.50679 \t @1 : 0.21192\n",
      "Test ndcg \t @10: 0.40753 \t @5 : 0.36493 \t @1 : 0.21192\n",
      "Test mrr: 0.35046755419458275\n",
      "==================== Epoch 9 ====================\n"
     ]
    },
    {
     "name": "stderr",
     "output_type": "stream",
     "text": [
      "100%|██████████████████████████████████████████████████████████████████████████████████| 95/95 [03:09<00:00,  1.99s/it]\n",
      "  0%|                                                                                           | 0/95 [00:00<?, ?it/s]"
     ]
    },
    {
     "name": "stdout",
     "output_type": "stream",
     "text": [
      "Training Loss: 1.56818\n",
      "Train Hits \t @10: 0.78262 \t @5 : 0.63974 \t @1 : 0.27699\n",
      "Train ndcg \t @10: 0.51355 \t @5 : 0.46709 \t @1 : 0.27699\n",
      "Train mrr: 0.4402091341799432\n",
      "Valid Hits \t @10: 0.68113 \t @5 : 0.54702 \t @1 : 0.22980\n",
      "Valid ndcg \t @10: 0.43813 \t @5 : 0.39463 \t @1 : 0.22980\n",
      "Valid mrr: 0.3760329586907423\n",
      "Test Hits \t @10: 0.64536 \t @5 : 0.51457 \t @1 : 0.21722\n",
      "Test ndcg \t @10: 0.41532 \t @5 : 0.37279 \t @1 : 0.21722\n",
      "Test mrr: 0.3581686929436411\n",
      "==================== Epoch 10 ====================\n"
     ]
    },
    {
     "name": "stderr",
     "output_type": "stream",
     "text": [
      "100%|██████████████████████████████████████████████████████████████████████████████████| 95/95 [03:09<00:00,  1.99s/it]\n",
      "  0%|                                                                                           | 0/95 [00:00<?, ?it/s]"
     ]
    },
    {
     "name": "stdout",
     "output_type": "stream",
     "text": [
      "Training Loss: 1.48786\n",
      "Train Hits \t @10: 0.79801 \t @5 : 0.65762 \t @1 : 0.28957\n",
      "Train ndcg \t @10: 0.52729 \t @5 : 0.48164 \t @1 : 0.28957\n",
      "Train mrr: 0.45265757844811605\n",
      "Valid Hits \t @10: 0.68212 \t @5 : 0.54901 \t @1 : 0.23593\n",
      "Valid ndcg \t @10: 0.44238 \t @5 : 0.39906 \t @1 : 0.23593\n",
      "Valid mrr: 0.38139641504362837\n",
      "Test Hits \t @10: 0.64901 \t @5 : 0.51887 \t @1 : 0.21623\n",
      "Test ndcg \t @10: 0.41451 \t @5 : 0.37224 \t @1 : 0.21623\n",
      "Test mrr: 0.35602851261058555\n",
      "==================== Epoch 11 ====================\n"
     ]
    },
    {
     "name": "stderr",
     "output_type": "stream",
     "text": [
      "100%|██████████████████████████████████████████████████████████████████████████████████| 95/95 [03:12<00:00,  2.02s/it]\n",
      "  0%|                                                                                           | 0/95 [00:00<?, ?it/s]"
     ]
    },
    {
     "name": "stdout",
     "output_type": "stream",
     "text": [
      "Training Loss: 1.42183\n",
      "Train Hits \t @10: 0.79619 \t @5 : 0.65844 \t @1 : 0.28974\n",
      "Train ndcg \t @10: 0.52911 \t @5 : 0.48429 \t @1 : 0.28974\n",
      "Train mrr: 0.45265757844811605\n",
      "Valid Hits \t @10: 0.68245 \t @5 : 0.55381 \t @1 : 0.22897\n",
      "Valid ndcg \t @10: 0.43998 \t @5 : 0.39819 \t @1 : 0.22897\n",
      "Valid mrr: 0.38139641504362837\n",
      "Test Hits \t @10: 0.65166 \t @5 : 0.51507 \t @1 : 0.22152\n",
      "Test ndcg \t @10: 0.41744 \t @5 : 0.37324 \t @1 : 0.22152\n",
      "Test mrr: 0.35602851261058555\n",
      "==================== Epoch 12 ====================\n"
     ]
    },
    {
     "name": "stderr",
     "output_type": "stream",
     "text": [
      "100%|██████████████████████████████████████████████████████████████████████████████████| 95/95 [03:19<00:00,  2.10s/it]\n",
      "  0%|                                                                                           | 0/95 [00:00<?, ?it/s]"
     ]
    },
    {
     "name": "stdout",
     "output_type": "stream",
     "text": [
      "Training Loss: 1.36288\n",
      "Train Hits \t @10: 0.81225 \t @5 : 0.66689 \t @1 : 0.30199\n",
      "Train ndcg \t @10: 0.54086 \t @5 : 0.49354 \t @1 : 0.30199\n",
      "Train mrr: 0.4655715440444263\n",
      "Valid Hits \t @10: 0.69205 \t @5 : 0.55679 \t @1 : 0.22781\n",
      "Valid ndcg \t @10: 0.44426 \t @5 : 0.40031 \t @1 : 0.22781\n",
      "Valid mrr: 0.3799146061268367\n",
      "Test Hits \t @10: 0.65662 \t @5 : 0.52434 \t @1 : 0.21474\n",
      "Test ndcg \t @10: 0.41810 \t @5 : 0.37525 \t @1 : 0.21474\n",
      "Test mrr: 0.3577904892558512\n",
      "==================== Epoch 13 ====================\n"
     ]
    },
    {
     "name": "stderr",
     "output_type": "stream",
     "text": [
      "100%|██████████████████████████████████████████████████████████████████████████████████| 95/95 [03:18<00:00,  2.09s/it]\n",
      "  0%|                                                                                           | 0/95 [00:00<?, ?it/s]"
     ]
    },
    {
     "name": "stdout",
     "output_type": "stream",
     "text": [
      "Training Loss: 1.31254\n",
      "Train Hits \t @10: 0.81126 \t @5 : 0.67152 \t @1 : 0.30182\n",
      "Train ndcg \t @10: 0.54120 \t @5 : 0.49569 \t @1 : 0.30182\n",
      "Train mrr: 0.46641080513249056\n",
      "Valid Hits \t @10: 0.69073 \t @5 : 0.55811 \t @1 : 0.23858\n",
      "Valid ndcg \t @10: 0.44766 \t @5 : 0.40474 \t @1 : 0.23858\n",
      "Valid mrr: 0.3852945915755638\n",
      "Test Hits \t @10: 0.65795 \t @5 : 0.52152 \t @1 : 0.22219\n",
      "Test ndcg \t @10: 0.42263 \t @5 : 0.37832 \t @1 : 0.22219\n",
      "Test mrr: 0.36334057184818813\n",
      "==================== Epoch 14 ====================\n"
     ]
    },
    {
     "name": "stderr",
     "output_type": "stream",
     "text": [
      "100%|██████████████████████████████████████████████████████████████████████████████████| 95/95 [03:16<00:00,  2.07s/it]\n",
      "  0%|                                                                                           | 0/95 [00:00<?, ?it/s]"
     ]
    },
    {
     "name": "stdout",
     "output_type": "stream",
     "text": [
      "Training Loss: 1.27358\n",
      "Train Hits \t @10: 0.82070 \t @5 : 0.67947 \t @1 : 0.29834\n",
      "Train ndcg \t @10: 0.54473 \t @5 : 0.49867 \t @1 : 0.29834\n",
      "Train mrr: 0.46641080513249056\n",
      "Valid Hits \t @10: 0.68907 \t @5 : 0.55050 \t @1 : 0.23377\n",
      "Valid ndcg \t @10: 0.44497 \t @5 : 0.39991 \t @1 : 0.23377\n",
      "Valid mrr: 0.3852945915755638\n",
      "Test Hits \t @10: 0.65447 \t @5 : 0.52103 \t @1 : 0.21391\n",
      "Test ndcg \t @10: 0.41747 \t @5 : 0.37428 \t @1 : 0.21391\n",
      "Test mrr: 0.36334057184818813\n",
      "==================== Epoch 15 ====================\n"
     ]
    },
    {
     "name": "stderr",
     "output_type": "stream",
     "text": [
      "100%|██████████████████████████████████████████████████████████████████████████████████| 95/95 [03:09<00:00,  1.99s/it]\n",
      "  0%|                                                                                           | 0/95 [00:00<?, ?it/s]"
     ]
    },
    {
     "name": "stdout",
     "output_type": "stream",
     "text": [
      "Training Loss: 1.22942\n",
      "Train Hits \t @10: 0.82500 \t @5 : 0.68228 \t @1 : 0.30497\n",
      "Train ndcg \t @10: 0.54959 \t @5 : 0.50315 \t @1 : 0.30497\n",
      "Train mrr: 0.4724994222516348\n",
      "Valid Hits \t @10: 0.69752 \t @5 : 0.55778 \t @1 : 0.23841\n",
      "Valid ndcg \t @10: 0.45039 \t @5 : 0.40498 \t @1 : 0.23841\n",
      "Valid mrr: 0.3863976712819611\n",
      "Test Hits \t @10: 0.65513 \t @5 : 0.52599 \t @1 : 0.21954\n",
      "Test ndcg \t @10: 0.42226 \t @5 : 0.38020 \t @1 : 0.21954\n",
      "Test mrr: 0.3638448481993306\n",
      "==================== Epoch 16 ====================\n"
     ]
    },
    {
     "name": "stderr",
     "output_type": "stream",
     "text": [
      "100%|██████████████████████████████████████████████████████████████████████████████████| 95/95 [03:09<00:00,  1.99s/it]\n",
      "  0%|                                                                                           | 0/95 [00:00<?, ?it/s]"
     ]
    },
    {
     "name": "stdout",
     "output_type": "stream",
     "text": [
      "Training Loss: 1.19707\n",
      "Train Hits \t @10: 0.83179 \t @5 : 0.69768 \t @1 : 0.31242\n",
      "Train ndcg \t @10: 0.55815 \t @5 : 0.51452 \t @1 : 0.31242\n",
      "Train mrr: 0.48110052828896305\n",
      "Valid Hits \t @10: 0.69470 \t @5 : 0.56225 \t @1 : 0.24371\n",
      "Valid ndcg \t @10: 0.45307 \t @5 : 0.41008 \t @1 : 0.24371\n",
      "Valid mrr: 0.3909048820695162\n",
      "Test Hits \t @10: 0.66556 \t @5 : 0.53361 \t @1 : 0.22235\n",
      "Test ndcg \t @10: 0.42879 \t @5 : 0.38581 \t @1 : 0.22235\n",
      "Test mrr: 0.36834063181315607\n",
      "==================== Epoch 17 ====================\n"
     ]
    },
    {
     "name": "stderr",
     "output_type": "stream",
     "text": [
      "100%|██████████████████████████████████████████████████████████████████████████████████| 95/95 [03:09<00:00,  2.00s/it]\n",
      "  0%|                                                                                           | 0/95 [00:00<?, ?it/s]"
     ]
    },
    {
     "name": "stdout",
     "output_type": "stream",
     "text": [
      "Training Loss: 1.16366\n",
      "Train Hits \t @10: 0.83245 \t @5 : 0.69719 \t @1 : 0.31242\n",
      "Train ndcg \t @10: 0.55965 \t @5 : 0.51563 \t @1 : 0.31242\n",
      "Train mrr: 0.48274369625265184\n",
      "Valid Hits \t @10: 0.70050 \t @5 : 0.56093 \t @1 : 0.25116\n",
      "Valid ndcg \t @10: 0.45737 \t @5 : 0.41214 \t @1 : 0.25116\n",
      "Valid mrr: 0.3945940567442858\n",
      "Test Hits \t @10: 0.66242 \t @5 : 0.53344 \t @1 : 0.21705\n",
      "Test ndcg \t @10: 0.42362 \t @5 : 0.38193 \t @1 : 0.21705\n",
      "Test mrr: 0.3629823227434231\n",
      "==================== Epoch 18 ====================\n"
     ]
    },
    {
     "name": "stderr",
     "output_type": "stream",
     "text": [
      "100%|██████████████████████████████████████████████████████████████████████████████████| 95/95 [03:09<00:00,  2.00s/it]\n",
      "  0%|                                                                                           | 0/95 [00:00<?, ?it/s]"
     ]
    },
    {
     "name": "stdout",
     "output_type": "stream",
     "text": [
      "Training Loss: 1.13776\n",
      "Train Hits \t @10: 0.83725 \t @5 : 0.70215 \t @1 : 0.31225\n",
      "Train ndcg \t @10: 0.56260 \t @5 : 0.51874 \t @1 : 0.31225\n",
      "Train mrr: 0.48274369625265184\n",
      "Valid Hits \t @10: 0.69785 \t @5 : 0.56440 \t @1 : 0.24801\n",
      "Valid ndcg \t @10: 0.45646 \t @5 : 0.41300 \t @1 : 0.24801\n",
      "Valid mrr: 0.3945940567442858\n",
      "Test Hits \t @10: 0.66026 \t @5 : 0.52682 \t @1 : 0.22649\n",
      "Test ndcg \t @10: 0.42615 \t @5 : 0.38279 \t @1 : 0.22649\n",
      "Test mrr: 0.3629823227434231\n",
      "==================== Epoch 19 ====================\n"
     ]
    },
    {
     "name": "stderr",
     "output_type": "stream",
     "text": [
      "100%|██████████████████████████████████████████████████████████████████████████████████| 95/95 [03:09<00:00,  1.99s/it]\n",
      "  0%|                                                                                           | 0/95 [00:00<?, ?it/s]"
     ]
    },
    {
     "name": "stdout",
     "output_type": "stream",
     "text": [
      "Training Loss: 1.11222\n",
      "Train Hits \t @10: 0.84205 \t @5 : 0.70083 \t @1 : 0.32136\n",
      "Train ndcg \t @10: 0.56642 \t @5 : 0.52029 \t @1 : 0.32136\n",
      "Train mrr: 0.48851324432403637\n",
      "Valid Hits \t @10: 0.70199 \t @5 : 0.56689 \t @1 : 0.24801\n",
      "Valid ndcg \t @10: 0.45842 \t @5 : 0.41453 \t @1 : 0.24801\n",
      "Valid mrr: 0.3951657988669591\n",
      "Test Hits \t @10: 0.66391 \t @5 : 0.53311 \t @1 : 0.22831\n",
      "Test ndcg \t @10: 0.42879 \t @5 : 0.38660 \t @1 : 0.22831\n",
      "Test mrr: 0.3694377445797251\n",
      "==================== Epoch 20 ====================\n"
     ]
    },
    {
     "name": "stderr",
     "output_type": "stream",
     "text": [
      "100%|██████████████████████████████████████████████████████████████████████████████████| 95/95 [03:09<00:00,  1.99s/it]\n",
      "  0%|                                                                                           | 0/95 [00:00<?, ?it/s]"
     ]
    },
    {
     "name": "stdout",
     "output_type": "stream",
     "text": [
      "Training Loss: 1.09176\n",
      "Train Hits \t @10: 0.84934 \t @5 : 0.70877 \t @1 : 0.33344\n",
      "Train ndcg \t @10: 0.57835 \t @5 : 0.53248 \t @1 : 0.33344\n",
      "Train mrr: 0.48851324432403637\n",
      "Valid Hits \t @10: 0.70265 \t @5 : 0.57136 \t @1 : 0.24503\n",
      "Valid ndcg \t @10: 0.45766 \t @5 : 0.41510 \t @1 : 0.24503\n",
      "Valid mrr: 0.3951657988669591\n",
      "Test Hits \t @10: 0.66589 \t @5 : 0.53113 \t @1 : 0.23030\n",
      "Test ndcg \t @10: 0.43170 \t @5 : 0.38787 \t @1 : 0.23030\n",
      "Test mrr: 0.3694377445797251\n",
      "==================== Epoch 21 ====================\n"
     ]
    },
    {
     "name": "stderr",
     "output_type": "stream",
     "text": [
      "100%|██████████████████████████████████████████████████████████████████████████████████| 95/95 [03:08<00:00,  1.99s/it]\n",
      "  0%|                                                                                           | 0/95 [00:00<?, ?it/s]"
     ]
    },
    {
     "name": "stdout",
     "output_type": "stream",
     "text": [
      "Training Loss: 1.06655\n",
      "Train Hits \t @10: 0.85050 \t @5 : 0.70828 \t @1 : 0.32483\n",
      "Train ndcg \t @10: 0.57404 \t @5 : 0.52760 \t @1 : 0.32483\n",
      "Train mrr: 0.48851324432403637\n",
      "Valid Hits \t @10: 0.69967 \t @5 : 0.56987 \t @1 : 0.24603\n",
      "Valid ndcg \t @10: 0.45801 \t @5 : 0.41579 \t @1 : 0.24603\n",
      "Valid mrr: 0.3951657988669591\n",
      "Test Hits \t @10: 0.66275 \t @5 : 0.52930 \t @1 : 0.23394\n",
      "Test ndcg \t @10: 0.43054 \t @5 : 0.38709 \t @1 : 0.23394\n",
      "Test mrr: 0.3694377445797251\n",
      "==================== Epoch 22 ====================\n"
     ]
    },
    {
     "name": "stderr",
     "output_type": "stream",
     "text": [
      "100%|██████████████████████████████████████████████████████████████████████████████████| 95/95 [03:08<00:00,  1.98s/it]\n",
      "  0%|                                                                                           | 0/95 [00:00<?, ?it/s]"
     ]
    },
    {
     "name": "stdout",
     "output_type": "stream",
     "text": [
      "Training Loss: 1.05167\n",
      "Train Hits \t @10: 0.85315 \t @5 : 0.71639 \t @1 : 0.33079\n",
      "Train ndcg \t @10: 0.57931 \t @5 : 0.53486 \t @1 : 0.33079\n",
      "Train mrr: 0.5012791745594003\n",
      "Valid Hits \t @10: 0.71175 \t @5 : 0.56689 \t @1 : 0.24735\n",
      "Valid ndcg \t @10: 0.46268 \t @5 : 0.41549 \t @1 : 0.24735\n",
      "Valid mrr: 0.39735230317952264\n",
      "Test Hits \t @10: 0.67086 \t @5 : 0.53576 \t @1 : 0.22483\n",
      "Test ndcg \t @10: 0.43042 \t @5 : 0.38670 \t @1 : 0.22483\n",
      "Test mrr: 0.36889701606487557\n",
      "==================== Epoch 23 ====================\n"
     ]
    },
    {
     "name": "stderr",
     "output_type": "stream",
     "text": [
      "100%|██████████████████████████████████████████████████████████████████████████████████| 95/95 [03:09<00:00,  1.99s/it]\n",
      "  0%|                                                                                           | 0/95 [00:00<?, ?it/s]"
     ]
    },
    {
     "name": "stdout",
     "output_type": "stream",
     "text": [
      "Training Loss: 1.02671\n",
      "Train Hits \t @10: 0.85563 \t @5 : 0.71308 \t @1 : 0.33212\n",
      "Train ndcg \t @10: 0.58009 \t @5 : 0.53356 \t @1 : 0.33212\n",
      "Train mrr: 0.5012791745594003\n",
      "Valid Hits \t @10: 0.70811 \t @5 : 0.57202 \t @1 : 0.24884\n",
      "Valid ndcg \t @10: 0.46198 \t @5 : 0.41756 \t @1 : 0.24884\n",
      "Valid mrr: 0.39735230317952264\n",
      "Test Hits \t @10: 0.66507 \t @5 : 0.53675 \t @1 : 0.23212\n",
      "Test ndcg \t @10: 0.43322 \t @5 : 0.39161 \t @1 : 0.23212\n",
      "Test mrr: 0.36889701606487557\n",
      "==================== Epoch 24 ====================\n"
     ]
    },
    {
     "name": "stderr",
     "output_type": "stream",
     "text": [
      "100%|██████████████████████████████████████████████████████████████████████████████████| 95/95 [03:08<00:00,  1.99s/it]\n",
      "  0%|                                                                                           | 0/95 [00:00<?, ?it/s]"
     ]
    },
    {
     "name": "stdout",
     "output_type": "stream",
     "text": [
      "Training Loss: 1.01238\n",
      "Train Hits \t @10: 0.85464 \t @5 : 0.72384 \t @1 : 0.33411\n",
      "Train ndcg \t @10: 0.58194 \t @5 : 0.53919 \t @1 : 0.33411\n",
      "Train mrr: 0.5012791745594003\n",
      "Valid Hits \t @10: 0.70281 \t @5 : 0.57351 \t @1 : 0.24735\n",
      "Valid ndcg \t @10: 0.46014 \t @5 : 0.41810 \t @1 : 0.24735\n",
      "Valid mrr: 0.39735230317952264\n",
      "Test Hits \t @10: 0.66308 \t @5 : 0.53361 \t @1 : 0.22748\n",
      "Test ndcg \t @10: 0.43058 \t @5 : 0.38831 \t @1 : 0.22748\n",
      "Test mrr: 0.36889701606487557\n",
      "==================== Epoch 25 ====================\n"
     ]
    },
    {
     "name": "stderr",
     "output_type": "stream",
     "text": [
      "100%|██████████████████████████████████████████████████████████████████████████████████| 95/95 [03:09<00:00,  2.00s/it]\n",
      "  0%|                                                                                           | 0/95 [00:00<?, ?it/s]"
     ]
    },
    {
     "name": "stdout",
     "output_type": "stream",
     "text": [
      "Training Loss: 0.99218\n",
      "Train Hits \t @10: 0.86026 \t @5 : 0.72136 \t @1 : 0.33195\n",
      "Train ndcg \t @10: 0.58248 \t @5 : 0.53733 \t @1 : 0.33195\n",
      "Train mrr: 0.5012791745594003\n",
      "Valid Hits \t @10: 0.70331 \t @5 : 0.56689 \t @1 : 0.24487\n",
      "Valid ndcg \t @10: 0.45799 \t @5 : 0.41360 \t @1 : 0.24487\n",
      "Valid mrr: 0.39735230317952264\n",
      "Test Hits \t @10: 0.65993 \t @5 : 0.53228 \t @1 : 0.22997\n",
      "Test ndcg \t @10: 0.42907 \t @5 : 0.38774 \t @1 : 0.22997\n",
      "Test mrr: 0.36889701606487557\n",
      "==================== Epoch 26 ====================\n"
     ]
    },
    {
     "name": "stderr",
     "output_type": "stream",
     "text": [
      "100%|██████████████████████████████████████████████████████████████████████████████████| 95/95 [03:09<00:00,  2.00s/it]\n",
      "  0%|                                                                                           | 0/95 [00:00<?, ?it/s]"
     ]
    },
    {
     "name": "stdout",
     "output_type": "stream",
     "text": [
      "Training Loss: 0.98225\n",
      "Train Hits \t @10: 0.86192 \t @5 : 0.72334 \t @1 : 0.33609\n",
      "Train ndcg \t @10: 0.58680 \t @5 : 0.54157 \t @1 : 0.33609\n",
      "Train mrr: 0.5012791745594003\n",
      "Valid Hits \t @10: 0.70861 \t @5 : 0.56772 \t @1 : 0.24735\n",
      "Valid ndcg \t @10: 0.46185 \t @5 : 0.41593 \t @1 : 0.24735\n",
      "Valid mrr: 0.39735230317952264\n",
      "Test Hits \t @10: 0.66142 \t @5 : 0.53725 \t @1 : 0.23609\n",
      "Test ndcg \t @10: 0.43345 \t @5 : 0.39309 \t @1 : 0.23609\n",
      "Test mrr: 0.36889701606487557\n",
      "==================== Epoch 27 ====================\n"
     ]
    },
    {
     "name": "stderr",
     "output_type": "stream",
     "text": [
      "100%|██████████████████████████████████████████████████████████████████████████████████| 95/95 [03:09<00:00,  1.99s/it]\n",
      "  0%|                                                                                           | 0/95 [00:00<?, ?it/s]"
     ]
    },
    {
     "name": "stdout",
     "output_type": "stream",
     "text": [
      "Training Loss: 0.96705\n",
      "Train Hits \t @10: 0.86474 \t @5 : 0.73162 \t @1 : 0.34123\n",
      "Train ndcg \t @10: 0.59115 \t @5 : 0.54763 \t @1 : 0.34123\n",
      "Train mrr: 0.5012791745594003\n",
      "Valid Hits \t @10: 0.70513 \t @5 : 0.57384 \t @1 : 0.24023\n",
      "Valid ndcg \t @10: 0.45692 \t @5 : 0.41439 \t @1 : 0.24023\n",
      "Valid mrr: 0.39735230317952264\n",
      "Test Hits \t @10: 0.66490 \t @5 : 0.53659 \t @1 : 0.22483\n",
      "Test ndcg \t @10: 0.42959 \t @5 : 0.38801 \t @1 : 0.22483\n",
      "Test mrr: 0.36889701606487557\n",
      "==================== Epoch 28 ====================\n"
     ]
    },
    {
     "name": "stderr",
     "output_type": "stream",
     "text": [
      "100%|██████████████████████████████████████████████████████████████████████████████████| 95/95 [03:09<00:00,  1.99s/it]\n",
      "  0%|                                                                                           | 0/95 [00:00<?, ?it/s]"
     ]
    },
    {
     "name": "stdout",
     "output_type": "stream",
     "text": [
      "Training Loss: 0.95724\n",
      "Train Hits \t @10: 0.86738 \t @5 : 0.74040 \t @1 : 0.33858\n",
      "Train ndcg \t @10: 0.59216 \t @5 : 0.55081 \t @1 : 0.33858\n",
      "Train mrr: 0.512673836090257\n",
      "Valid Hits \t @10: 0.70844 \t @5 : 0.57781 \t @1 : 0.24702\n",
      "Valid ndcg \t @10: 0.46335 \t @5 : 0.42089 \t @1 : 0.24702\n",
      "Valid mrr: 0.3992712847478902\n",
      "Test Hits \t @10: 0.66821 \t @5 : 0.53808 \t @1 : 0.23493\n",
      "Test ndcg \t @10: 0.43580 \t @5 : 0.39349 \t @1 : 0.23493\n",
      "Test mrr: 0.3770712272718579\n",
      "==================== Epoch 29 ====================\n"
     ]
    },
    {
     "name": "stderr",
     "output_type": "stream",
     "text": [
      "100%|██████████████████████████████████████████████████████████████████████████████████| 95/95 [03:09<00:00,  1.99s/it]\n",
      "  0%|                                                                                           | 0/95 [00:00<?, ?it/s]"
     ]
    },
    {
     "name": "stdout",
     "output_type": "stream",
     "text": [
      "Training Loss: 0.94054\n",
      "Train Hits \t @10: 0.86705 \t @5 : 0.73692 \t @1 : 0.34089\n",
      "Train ndcg \t @10: 0.59294 \t @5 : 0.55044 \t @1 : 0.34089\n",
      "Train mrr: 0.5139888394924463\n",
      "Valid Hits \t @10: 0.70911 \t @5 : 0.57384 \t @1 : 0.25166\n",
      "Valid ndcg \t @10: 0.46492 \t @5 : 0.42083 \t @1 : 0.25166\n",
      "Valid mrr: 0.4013768127029479\n",
      "Test Hits \t @10: 0.66854 \t @5 : 0.53808 \t @1 : 0.23642\n",
      "Test ndcg \t @10: 0.43702 \t @5 : 0.39465 \t @1 : 0.23642\n",
      "Test mrr: 0.3784728622708763\n",
      "==================== Epoch 30 ====================\n"
     ]
    },
    {
     "name": "stderr",
     "output_type": "stream",
     "text": [
      "100%|██████████████████████████████████████████████████████████████████████████████████| 95/95 [03:09<00:00,  2.00s/it]\n",
      "  0%|                                                                                           | 0/95 [00:00<?, ?it/s]"
     ]
    },
    {
     "name": "stdout",
     "output_type": "stream",
     "text": [
      "Training Loss: 0.93011\n",
      "Train Hits \t @10: 0.86937 \t @5 : 0.73609 \t @1 : 0.33046\n",
      "Train ndcg \t @10: 0.58806 \t @5 : 0.54455 \t @1 : 0.33046\n",
      "Train mrr: 0.5139888394924463\n",
      "Valid Hits \t @10: 0.70993 \t @5 : 0.57401 \t @1 : 0.24089\n",
      "Valid ndcg \t @10: 0.45946 \t @5 : 0.41523 \t @1 : 0.24089\n",
      "Valid mrr: 0.4013768127029479\n",
      "Test Hits \t @10: 0.66391 \t @5 : 0.53510 \t @1 : 0.23030\n",
      "Test ndcg \t @10: 0.43187 \t @5 : 0.38995 \t @1 : 0.23030\n",
      "Test mrr: 0.3784728622708763\n",
      "==================== Epoch 31 ====================\n"
     ]
    },
    {
     "name": "stderr",
     "output_type": "stream",
     "text": [
      "100%|██████████████████████████████████████████████████████████████████████████████████| 95/95 [03:09<00:00,  1.99s/it]\n",
      "  0%|                                                                                           | 0/95 [00:00<?, ?it/s]"
     ]
    },
    {
     "name": "stdout",
     "output_type": "stream",
     "text": [
      "Training Loss: 0.92015\n",
      "Train Hits \t @10: 0.86772 \t @5 : 0.73278 \t @1 : 0.34454\n",
      "Train ndcg \t @10: 0.59381 \t @5 : 0.54969 \t @1 : 0.34454\n",
      "Train mrr: 0.5139888394924463\n",
      "Valid Hits \t @10: 0.71093 \t @5 : 0.57152 \t @1 : 0.25480\n",
      "Valid ndcg \t @10: 0.46469 \t @5 : 0.41944 \t @1 : 0.25480\n",
      "Valid mrr: 0.4013768127029479\n",
      "Test Hits \t @10: 0.66507 \t @5 : 0.53907 \t @1 : 0.22467\n",
      "Test ndcg \t @10: 0.42891 \t @5 : 0.38803 \t @1 : 0.22467\n",
      "Test mrr: 0.3784728622708763\n",
      "==================== Epoch 32 ====================\n"
     ]
    },
    {
     "name": "stderr",
     "output_type": "stream",
     "text": [
      "100%|██████████████████████████████████████████████████████████████████████████████████| 95/95 [03:09<00:00,  1.99s/it]\n",
      "  0%|                                                                                           | 0/95 [00:00<?, ?it/s]"
     ]
    },
    {
     "name": "stdout",
     "output_type": "stream",
     "text": [
      "Training Loss: 0.90985\n",
      "Train Hits \t @10: 0.87202 \t @5 : 0.74553 \t @1 : 0.34040\n",
      "Train ndcg \t @10: 0.59570 \t @5 : 0.55455 \t @1 : 0.34040\n",
      "Train mrr: 0.5139888394924463\n",
      "Valid Hits \t @10: 0.71026 \t @5 : 0.57732 \t @1 : 0.24851\n",
      "Valid ndcg \t @10: 0.46360 \t @5 : 0.42053 \t @1 : 0.24851\n",
      "Valid mrr: 0.4013768127029479\n",
      "Test Hits \t @10: 0.67020 \t @5 : 0.53742 \t @1 : 0.23030\n",
      "Test ndcg \t @10: 0.43485 \t @5 : 0.39175 \t @1 : 0.23030\n",
      "Test mrr: 0.3784728622708763\n",
      "==================== Epoch 33 ====================\n"
     ]
    },
    {
     "name": "stderr",
     "output_type": "stream",
     "text": [
      "100%|██████████████████████████████████████████████████████████████████████████████████| 95/95 [03:09<00:00,  1.99s/it]\n",
      "  0%|                                                                                           | 0/95 [00:00<?, ?it/s]"
     ]
    },
    {
     "name": "stdout",
     "output_type": "stream",
     "text": [
      "Training Loss: 0.90267\n",
      "Train Hits \t @10: 0.87533 \t @5 : 0.74752 \t @1 : 0.34404\n",
      "Train ndcg \t @10: 0.59819 \t @5 : 0.55665 \t @1 : 0.34404\n",
      "Train mrr: 0.517943419702399\n",
      "Valid Hits \t @10: 0.71589 \t @5 : 0.58113 \t @1 : 0.24437\n",
      "Valid ndcg \t @10: 0.46543 \t @5 : 0.42180 \t @1 : 0.24437\n",
      "Valid mrr: 0.39925517582984593\n",
      "Test Hits \t @10: 0.66589 \t @5 : 0.53709 \t @1 : 0.22914\n",
      "Test ndcg \t @10: 0.43099 \t @5 : 0.38917 \t @1 : 0.22914\n",
      "Test mrr: 0.37170947987392416\n",
      "==================== Epoch 34 ====================\n"
     ]
    },
    {
     "name": "stderr",
     "output_type": "stream",
     "text": [
      "100%|██████████████████████████████████████████████████████████████████████████████████| 95/95 [03:09<00:00,  1.99s/it]\n",
      "  0%|                                                                                           | 0/95 [00:00<?, ?it/s]"
     ]
    },
    {
     "name": "stdout",
     "output_type": "stream",
     "text": [
      "Training Loss: 0.89468\n",
      "Train Hits \t @10: 0.87599 \t @5 : 0.74536 \t @1 : 0.34735\n",
      "Train ndcg \t @10: 0.60055 \t @5 : 0.55776 \t @1 : 0.34735\n",
      "Train mrr: 0.517943419702399\n",
      "Valid Hits \t @10: 0.71142 \t @5 : 0.57086 \t @1 : 0.25232\n",
      "Valid ndcg \t @10: 0.46515 \t @5 : 0.41954 \t @1 : 0.25232\n",
      "Valid mrr: 0.39925517582984593\n",
      "Test Hits \t @10: 0.66424 \t @5 : 0.54272 \t @1 : 0.23460\n",
      "Test ndcg \t @10: 0.43449 \t @5 : 0.39519 \t @1 : 0.23460\n",
      "Test mrr: 0.37170947987392416\n",
      "==================== Epoch 35 ====================\n"
     ]
    },
    {
     "name": "stderr",
     "output_type": "stream",
     "text": [
      "100%|██████████████████████████████████████████████████████████████████████████████████| 95/95 [03:09<00:00,  1.99s/it]\n",
      "  0%|                                                                                           | 0/95 [00:00<?, ?it/s]"
     ]
    },
    {
     "name": "stdout",
     "output_type": "stream",
     "text": [
      "Training Loss: 0.88199\n",
      "Train Hits \t @10: 0.88079 \t @5 : 0.74901 \t @1 : 0.34338\n",
      "Train ndcg \t @10: 0.60112 \t @5 : 0.55832 \t @1 : 0.34338\n",
      "Train mrr: 0.517943419702399\n",
      "Valid Hits \t @10: 0.71358 \t @5 : 0.57815 \t @1 : 0.24421\n",
      "Valid ndcg \t @10: 0.46254 \t @5 : 0.41866 \t @1 : 0.24421\n",
      "Valid mrr: 0.39925517582984593\n",
      "Test Hits \t @10: 0.66887 \t @5 : 0.54040 \t @1 : 0.23361\n",
      "Test ndcg \t @10: 0.43559 \t @5 : 0.39411 \t @1 : 0.23361\n",
      "Test mrr: 0.37170947987392416\n",
      "==================== Epoch 36 ====================\n"
     ]
    },
    {
     "name": "stderr",
     "output_type": "stream",
     "text": [
      "100%|██████████████████████████████████████████████████████████████████████████████████| 95/95 [03:09<00:00,  1.99s/it]\n",
      "  0%|                                                                                           | 0/95 [00:00<?, ?it/s]"
     ]
    },
    {
     "name": "stdout",
     "output_type": "stream",
     "text": [
      "Training Loss: 0.87957\n",
      "Train Hits \t @10: 0.88079 \t @5 : 0.75050 \t @1 : 0.34983\n",
      "Train ndcg \t @10: 0.60461 \t @5 : 0.56205 \t @1 : 0.34983\n",
      "Train mrr: 0.5242374749289662\n",
      "Valid Hits \t @10: 0.71275 \t @5 : 0.57417 \t @1 : 0.25166\n",
      "Valid ndcg \t @10: 0.46575 \t @5 : 0.42083 \t @1 : 0.25166\n",
      "Valid mrr: 0.40118085453647884\n",
      "Test Hits \t @10: 0.67003 \t @5 : 0.54189 \t @1 : 0.23113\n",
      "Test ndcg \t @10: 0.43545 \t @5 : 0.39390 \t @1 : 0.23113\n",
      "Test mrr: 0.3757984275813267\n",
      "==================== Epoch 37 ====================\n"
     ]
    },
    {
     "name": "stderr",
     "output_type": "stream",
     "text": [
      "100%|██████████████████████████████████████████████████████████████████████████████████| 95/95 [03:09<00:00,  1.99s/it]\n",
      "  0%|                                                                                           | 0/95 [00:00<?, ?it/s]"
     ]
    },
    {
     "name": "stdout",
     "output_type": "stream",
     "text": [
      "Training Loss: 0.86708\n",
      "Train Hits \t @10: 0.88146 \t @5 : 0.75497 \t @1 : 0.35513\n",
      "Train ndcg \t @10: 0.60858 \t @5 : 0.56754 \t @1 : 0.35513\n",
      "Train mrr: 0.5242374749289662\n",
      "Valid Hits \t @10: 0.71440 \t @5 : 0.57964 \t @1 : 0.23940\n",
      "Valid ndcg \t @10: 0.46148 \t @5 : 0.41781 \t @1 : 0.23940\n",
      "Valid mrr: 0.40118085453647884\n",
      "Test Hits \t @10: 0.66772 \t @5 : 0.53692 \t @1 : 0.23609\n",
      "Test ndcg \t @10: 0.43548 \t @5 : 0.39298 \t @1 : 0.23609\n",
      "Test mrr: 0.3757984275813267\n",
      "==================== Epoch 38 ====================\n"
     ]
    },
    {
     "name": "stderr",
     "output_type": "stream",
     "text": [
      "100%|██████████████████████████████████████████████████████████████████████████████████| 95/95 [03:09<00:00,  1.99s/it]\n",
      "  0%|                                                                                           | 0/95 [00:00<?, ?it/s]"
     ]
    },
    {
     "name": "stdout",
     "output_type": "stream",
     "text": [
      "Training Loss: 0.86133\n",
      "Train Hits \t @10: 0.87980 \t @5 : 0.75182 \t @1 : 0.34901\n",
      "Train ndcg \t @10: 0.60389 \t @5 : 0.56211 \t @1 : 0.34901\n",
      "Train mrr: 0.5242374749289662\n",
      "Valid Hits \t @10: 0.70811 \t @5 : 0.57434 \t @1 : 0.24321\n",
      "Valid ndcg \t @10: 0.46104 \t @5 : 0.41771 \t @1 : 0.24321\n",
      "Valid mrr: 0.40118085453647884\n",
      "Test Hits \t @10: 0.66639 \t @5 : 0.53576 \t @1 : 0.22748\n",
      "Test ndcg \t @10: 0.43178 \t @5 : 0.38923 \t @1 : 0.22748\n",
      "Test mrr: 0.3757984275813267\n",
      "==================== Epoch 39 ====================\n"
     ]
    },
    {
     "name": "stderr",
     "output_type": "stream",
     "text": [
      "100%|██████████████████████████████████████████████████████████████████████████████████| 95/95 [03:09<00:00,  1.99s/it]\n",
      "  0%|                                                                                           | 0/95 [00:00<?, ?it/s]"
     ]
    },
    {
     "name": "stdout",
     "output_type": "stream",
     "text": [
      "Training Loss: 0.85139\n",
      "Train Hits \t @10: 0.88278 \t @5 : 0.75579 \t @1 : 0.35000\n",
      "Train ndcg \t @10: 0.60704 \t @5 : 0.56569 \t @1 : 0.35000\n",
      "Train mrr: 0.5242374749289662\n",
      "Valid Hits \t @10: 0.71325 \t @5 : 0.58146 \t @1 : 0.24172\n",
      "Valid ndcg \t @10: 0.46226 \t @5 : 0.41968 \t @1 : 0.24172\n",
      "Valid mrr: 0.40118085453647884\n",
      "Test Hits \t @10: 0.67020 \t @5 : 0.54934 \t @1 : 0.23179\n",
      "Test ndcg \t @10: 0.43718 \t @5 : 0.39803 \t @1 : 0.23179\n",
      "Test mrr: 0.3757984275813267\n",
      "==================== Epoch 40 ====================\n"
     ]
    },
    {
     "name": "stderr",
     "output_type": "stream",
     "text": [
      "100%|██████████████████████████████████████████████████████████████████████████████████| 95/95 [03:09<00:00,  2.00s/it]\n",
      "  0%|                                                                                           | 0/95 [00:00<?, ?it/s]"
     ]
    },
    {
     "name": "stdout",
     "output_type": "stream",
     "text": [
      "Training Loss: 0.84656\n",
      "Train Hits \t @10: 0.88510 \t @5 : 0.75712 \t @1 : 0.34851\n",
      "Train ndcg \t @10: 0.60583 \t @5 : 0.56394 \t @1 : 0.34851\n",
      "Train mrr: 0.5242904583911533\n",
      "Valid Hits \t @10: 0.70911 \t @5 : 0.57815 \t @1 : 0.25546\n",
      "Valid ndcg \t @10: 0.46582 \t @5 : 0.42319 \t @1 : 0.25546\n",
      "Valid mrr: 0.4026095495373223\n",
      "Test Hits \t @10: 0.66043 \t @5 : 0.54437 \t @1 : 0.23659\n",
      "Test ndcg \t @10: 0.43512 \t @5 : 0.39741 \t @1 : 0.23659\n",
      "Test mrr: 0.37881306383293145\n",
      "==================== Epoch 41 ====================\n"
     ]
    },
    {
     "name": "stderr",
     "output_type": "stream",
     "text": [
      "100%|██████████████████████████████████████████████████████████████████████████████████| 95/95 [03:08<00:00,  1.98s/it]\n",
      "  0%|                                                                                           | 0/95 [00:00<?, ?it/s]"
     ]
    },
    {
     "name": "stdout",
     "output_type": "stream",
     "text": [
      "Training Loss: 0.83437\n",
      "Train Hits \t @10: 0.88394 \t @5 : 0.75464 \t @1 : 0.35000\n",
      "Train ndcg \t @10: 0.60720 \t @5 : 0.56496 \t @1 : 0.35000\n",
      "Train mrr: 0.5264247514525429\n",
      "Valid Hits \t @10: 0.71540 \t @5 : 0.58079 \t @1 : 0.25232\n",
      "Valid ndcg \t @10: 0.46857 \t @5 : 0.42485 \t @1 : 0.25232\n",
      "Valid mrr: 0.40360173460258403\n",
      "Test Hits \t @10: 0.66672 \t @5 : 0.53974 \t @1 : 0.23394\n",
      "Test ndcg \t @10: 0.43581 \t @5 : 0.39448 \t @1 : 0.23394\n",
      "Test mrr: 0.37756296829953784\n",
      "==================== Epoch 42 ====================\n"
     ]
    },
    {
     "name": "stderr",
     "output_type": "stream",
     "text": [
      "100%|██████████████████████████████████████████████████████████████████████████████████| 95/95 [03:09<00:00,  1.99s/it]\n",
      "  0%|                                                                                           | 0/95 [00:00<?, ?it/s]"
     ]
    },
    {
     "name": "stdout",
     "output_type": "stream",
     "text": [
      "Training Loss: 0.83392\n",
      "Train Hits \t @10: 0.89007 \t @5 : 0.76490 \t @1 : 0.35497\n",
      "Train ndcg \t @10: 0.61351 \t @5 : 0.57263 \t @1 : 0.35497\n",
      "Train mrr: 0.5324074015152165\n",
      "Valid Hits \t @10: 0.71838 \t @5 : 0.58162 \t @1 : 0.25083\n",
      "Valid ndcg \t @10: 0.46892 \t @5 : 0.42478 \t @1 : 0.25083\n",
      "Valid mrr: 0.4030176773688236\n",
      "Test Hits \t @10: 0.66623 \t @5 : 0.54338 \t @1 : 0.23195\n",
      "Test ndcg \t @10: 0.43411 \t @5 : 0.39426 \t @1 : 0.23195\n",
      "Test mrr: 0.3754839029866852\n",
      "==================== Epoch 43 ====================\n"
     ]
    },
    {
     "name": "stderr",
     "output_type": "stream",
     "text": [
      "100%|██████████████████████████████████████████████████████████████████████████████████| 95/95 [03:09<00:00,  1.99s/it]\n",
      "  0%|                                                                                           | 0/95 [00:00<?, ?it/s]"
     ]
    },
    {
     "name": "stdout",
     "output_type": "stream",
     "text": [
      "Training Loss: 0.82156\n",
      "Train Hits \t @10: 0.89123 \t @5 : 0.76209 \t @1 : 0.36209\n",
      "Train ndcg \t @10: 0.61735 \t @5 : 0.57503 \t @1 : 0.36209\n",
      "Train mrr: 0.5324074015152165\n",
      "Valid Hits \t @10: 0.71755 \t @5 : 0.57417 \t @1 : 0.24768\n",
      "Valid ndcg \t @10: 0.46612 \t @5 : 0.41947 \t @1 : 0.24768\n",
      "Valid mrr: 0.4030176773688236\n",
      "Test Hits \t @10: 0.67351 \t @5 : 0.54768 \t @1 : 0.23411\n",
      "Test ndcg \t @10: 0.43797 \t @5 : 0.39709 \t @1 : 0.23411\n",
      "Test mrr: 0.3754839029866852\n",
      "==================== Epoch 44 ====================\n"
     ]
    },
    {
     "name": "stderr",
     "output_type": "stream",
     "text": [
      "100%|██████████████████████████████████████████████████████████████████████████████████| 95/95 [03:09<00:00,  1.99s/it]\n",
      "  0%|                                                                                           | 0/95 [00:00<?, ?it/s]"
     ]
    },
    {
     "name": "stdout",
     "output_type": "stream",
     "text": [
      "Training Loss: 0.81786\n",
      "Train Hits \t @10: 0.89421 \t @5 : 0.76639 \t @1 : 0.36126\n",
      "Train ndcg \t @10: 0.61815 \t @5 : 0.57629 \t @1 : 0.36126\n",
      "Train mrr: 0.5324074015152165\n",
      "Valid Hits \t @10: 0.71738 \t @5 : 0.58377 \t @1 : 0.24553\n",
      "Valid ndcg \t @10: 0.46595 \t @5 : 0.42251 \t @1 : 0.24553\n",
      "Valid mrr: 0.4030176773688236\n",
      "Test Hits \t @10: 0.66937 \t @5 : 0.54007 \t @1 : 0.24288\n",
      "Test ndcg \t @10: 0.44092 \t @5 : 0.39886 \t @1 : 0.24288\n",
      "Test mrr: 0.3754839029866852\n",
      "==================== Epoch 45 ====================\n"
     ]
    },
    {
     "name": "stderr",
     "output_type": "stream",
     "text": [
      "100%|██████████████████████████████████████████████████████████████████████████████████| 95/95 [03:08<00:00,  1.99s/it]\n",
      "  0%|                                                                                           | 0/95 [00:00<?, ?it/s]"
     ]
    },
    {
     "name": "stdout",
     "output_type": "stream",
     "text": [
      "Training Loss: 0.81081\n",
      "Train Hits \t @10: 0.89106 \t @5 : 0.76175 \t @1 : 0.35464\n",
      "Train ndcg \t @10: 0.61385 \t @5 : 0.57167 \t @1 : 0.35464\n",
      "Train mrr: 0.5324074015152165\n",
      "Valid Hits \t @10: 0.71606 \t @5 : 0.57815 \t @1 : 0.24901\n",
      "Valid ndcg \t @10: 0.46603 \t @5 : 0.42135 \t @1 : 0.24901\n",
      "Valid mrr: 0.4030176773688236\n",
      "Test Hits \t @10: 0.66805 \t @5 : 0.54205 \t @1 : 0.23096\n",
      "Test ndcg \t @10: 0.43489 \t @5 : 0.39408 \t @1 : 0.23096\n",
      "Test mrr: 0.3754839029866852\n",
      "==================== Epoch 46 ====================\n"
     ]
    },
    {
     "name": "stderr",
     "output_type": "stream",
     "text": [
      "100%|██████████████████████████████████████████████████████████████████████████████████| 95/95 [03:09<00:00,  2.00s/it]\n",
      "  0%|                                                                                           | 0/95 [00:00<?, ?it/s]"
     ]
    },
    {
     "name": "stdout",
     "output_type": "stream",
     "text": [
      "Training Loss: 0.80951\n",
      "Train Hits \t @10: 0.89603 \t @5 : 0.77219 \t @1 : 0.36159\n",
      "Train ndcg \t @10: 0.61868 \t @5 : 0.57833 \t @1 : 0.36159\n",
      "Train mrr: 0.5324074015152165\n",
      "Valid Hits \t @10: 0.71573 \t @5 : 0.57864 \t @1 : 0.25265\n",
      "Valid ndcg \t @10: 0.46801 \t @5 : 0.42362 \t @1 : 0.25265\n",
      "Valid mrr: 0.4030176773688236\n",
      "Test Hits \t @10: 0.66540 \t @5 : 0.54205 \t @1 : 0.23725\n",
      "Test ndcg \t @10: 0.43659 \t @5 : 0.39642 \t @1 : 0.23725\n",
      "Test mrr: 0.3754839029866852\n",
      "==================== Epoch 47 ====================\n"
     ]
    },
    {
     "name": "stderr",
     "output_type": "stream",
     "text": [
      "100%|██████████████████████████████████████████████████████████████████████████████████| 95/95 [03:09<00:00,  2.00s/it]\n",
      "  0%|                                                                                           | 0/95 [00:00<?, ?it/s]"
     ]
    },
    {
     "name": "stdout",
     "output_type": "stream",
     "text": [
      "Training Loss: 0.80097\n",
      "Train Hits \t @10: 0.89437 \t @5 : 0.76937 \t @1 : 0.35778\n",
      "Train ndcg \t @10: 0.61750 \t @5 : 0.57673 \t @1 : 0.35778\n",
      "Train mrr: 0.5360882885635693\n",
      "Valid Hits \t @10: 0.71854 \t @5 : 0.57682 \t @1 : 0.25364\n",
      "Valid ndcg \t @10: 0.47175 \t @5 : 0.42560 \t @1 : 0.25364\n",
      "Valid mrr: 0.4066514505461667\n",
      "Test Hits \t @10: 0.67715 \t @5 : 0.55232 \t @1 : 0.24719\n",
      "Test ndcg \t @10: 0.44624 \t @5 : 0.40581 \t @1 : 0.24719\n",
      "Test mrr: 0.38734003839002484\n",
      "==================== Epoch 48 ====================\n"
     ]
    },
    {
     "name": "stderr",
     "output_type": "stream",
     "text": [
      "100%|██████████████████████████████████████████████████████████████████████████████████| 95/95 [03:10<00:00,  2.00s/it]\n",
      "  0%|                                                                                           | 0/95 [00:00<?, ?it/s]"
     ]
    },
    {
     "name": "stdout",
     "output_type": "stream",
     "text": [
      "Training Loss: 0.79952\n",
      "Train Hits \t @10: 0.89338 \t @5 : 0.76755 \t @1 : 0.36523\n",
      "Train ndcg \t @10: 0.61958 \t @5 : 0.57862 \t @1 : 0.36523\n",
      "Train mrr: 0.5360882885635693\n",
      "Valid Hits \t @10: 0.71407 \t @5 : 0.58510 \t @1 : 0.25877\n",
      "Valid ndcg \t @10: 0.47038 \t @5 : 0.42853 \t @1 : 0.25877\n",
      "Valid mrr: 0.4066514505461667\n",
      "Test Hits \t @10: 0.67070 \t @5 : 0.54338 \t @1 : 0.23841\n",
      "Test ndcg \t @10: 0.43986 \t @5 : 0.39845 \t @1 : 0.23841\n",
      "Test mrr: 0.38734003839002484\n",
      "==================== Epoch 49 ====================\n"
     ]
    },
    {
     "name": "stderr",
     "output_type": "stream",
     "text": [
      "100%|██████████████████████████████████████████████████████████████████████████████████| 95/95 [03:08<00:00,  1.98s/it]\n",
      "  0%|                                                                                           | 0/95 [00:00<?, ?it/s]"
     ]
    },
    {
     "name": "stdout",
     "output_type": "stream",
     "text": [
      "Training Loss: 0.78427\n",
      "Train Hits \t @10: 0.89354 \t @5 : 0.76838 \t @1 : 0.37616\n",
      "Train ndcg \t @10: 0.62512 \t @5 : 0.58440 \t @1 : 0.37616\n",
      "Train mrr: 0.5360882885635693\n",
      "Valid Hits \t @10: 0.71788 \t @5 : 0.57715 \t @1 : 0.25712\n",
      "Valid ndcg \t @10: 0.47081 \t @5 : 0.42504 \t @1 : 0.25712\n",
      "Valid mrr: 0.4066514505461667\n",
      "Test Hits \t @10: 0.67152 \t @5 : 0.54801 \t @1 : 0.24288\n",
      "Test ndcg \t @10: 0.44312 \t @5 : 0.40300 \t @1 : 0.24288\n",
      "Test mrr: 0.38734003839002484\n",
      "==================== Epoch 50 ====================\n"
     ]
    },
    {
     "name": "stderr",
     "output_type": "stream",
     "text": [
      "100%|██████████████████████████████████████████████████████████████████████████████████| 95/95 [03:09<00:00,  1.99s/it]\n",
      "  0%|                                                                                           | 0/95 [00:00<?, ?it/s]"
     ]
    },
    {
     "name": "stdout",
     "output_type": "stream",
     "text": [
      "Training Loss: 0.79004\n",
      "Train Hits \t @10: 0.89371 \t @5 : 0.76904 \t @1 : 0.36258\n",
      "Train ndcg \t @10: 0.61821 \t @5 : 0.57743 \t @1 : 0.36258\n",
      "Train mrr: 0.5360882885635693\n",
      "Valid Hits \t @10: 0.71291 \t @5 : 0.58427 \t @1 : 0.25348\n",
      "Valid ndcg \t @10: 0.46741 \t @5 : 0.42543 \t @1 : 0.25348\n",
      "Valid mrr: 0.4066514505461667\n",
      "Test Hits \t @10: 0.67036 \t @5 : 0.54321 \t @1 : 0.23990\n",
      "Test ndcg \t @10: 0.44055 \t @5 : 0.39926 \t @1 : 0.23990\n",
      "Test mrr: 0.38734003839002484\n",
      "==================== Epoch 51 ====================\n"
     ]
    },
    {
     "name": "stderr",
     "output_type": "stream",
     "text": [
      "100%|██████████████████████████████████████████████████████████████████████████████████| 95/95 [03:07<00:00,  1.97s/it]\n",
      "  0%|                                                                                           | 0/95 [00:00<?, ?it/s]"
     ]
    },
    {
     "name": "stdout",
     "output_type": "stream",
     "text": [
      "Training Loss: 0.77766\n",
      "Train Hits \t @10: 0.89735 \t @5 : 0.77136 \t @1 : 0.37235\n",
      "Train ndcg \t @10: 0.62446 \t @5 : 0.58344 \t @1 : 0.37235\n",
      "Train mrr: 0.5360882885635693\n",
      "Valid Hits \t @10: 0.71623 \t @5 : 0.58427 \t @1 : 0.25613\n",
      "Valid ndcg \t @10: 0.47151 \t @5 : 0.42869 \t @1 : 0.25613\n",
      "Valid mrr: 0.4066514505461667\n",
      "Test Hits \t @10: 0.67268 \t @5 : 0.54305 \t @1 : 0.24834\n",
      "Test ndcg \t @10: 0.44596 \t @5 : 0.40383 \t @1 : 0.24834\n",
      "Test mrr: 0.38734003839002484\n",
      "==================== Epoch 52 ====================\n"
     ]
    },
    {
     "name": "stderr",
     "output_type": "stream",
     "text": [
      "100%|██████████████████████████████████████████████████████████████████████████████████| 95/95 [03:08<00:00,  1.98s/it]\n",
      "  0%|                                                                                           | 0/95 [00:00<?, ?it/s]"
     ]
    },
    {
     "name": "stdout",
     "output_type": "stream",
     "text": [
      "Training Loss: 0.77575\n",
      "Train Hits \t @10: 0.89752 \t @5 : 0.77036 \t @1 : 0.36126\n",
      "Train ndcg \t @10: 0.62073 \t @5 : 0.57907 \t @1 : 0.36126\n",
      "Train mrr: 0.5360882885635693\n",
      "Valid Hits \t @10: 0.71987 \t @5 : 0.58493 \t @1 : 0.24172\n",
      "Valid ndcg \t @10: 0.46490 \t @5 : 0.42120 \t @1 : 0.24172\n",
      "Valid mrr: 0.4066514505461667\n",
      "Test Hits \t @10: 0.67086 \t @5 : 0.55149 \t @1 : 0.23311\n",
      "Test ndcg \t @10: 0.43825 \t @5 : 0.39945 \t @1 : 0.23311\n",
      "Test mrr: 0.38734003839002484\n",
      "==================== Epoch 53 ====================\n"
     ]
    },
    {
     "name": "stderr",
     "output_type": "stream",
     "text": [
      "100%|██████████████████████████████████████████████████████████████████████████████████| 95/95 [03:06<00:00,  1.97s/it]\n",
      "  0%|                                                                                           | 0/95 [00:00<?, ?it/s]"
     ]
    },
    {
     "name": "stdout",
     "output_type": "stream",
     "text": [
      "Training Loss: 0.76698\n",
      "Train Hits \t @10: 0.90033 \t @5 : 0.77268 \t @1 : 0.36937\n",
      "Train ndcg \t @10: 0.62593 \t @5 : 0.58398 \t @1 : 0.36937\n",
      "Train mrr: 0.5360882885635693\n",
      "Valid Hits \t @10: 0.72003 \t @5 : 0.58775 \t @1 : 0.25530\n",
      "Valid ndcg \t @10: 0.47174 \t @5 : 0.42890 \t @1 : 0.25530\n",
      "Valid mrr: 0.4066514505461667\n",
      "Test Hits \t @10: 0.67699 \t @5 : 0.55480 \t @1 : 0.23858\n",
      "Test ndcg \t @10: 0.44421 \t @5 : 0.40457 \t @1 : 0.23858\n",
      "Test mrr: 0.38734003839002484\n",
      "==================== Epoch 54 ====================\n"
     ]
    },
    {
     "name": "stderr",
     "output_type": "stream",
     "text": [
      "100%|██████████████████████████████████████████████████████████████████████████████████| 95/95 [03:07<00:00,  1.97s/it]\n",
      "  0%|                                                                                           | 0/95 [00:00<?, ?it/s]"
     ]
    },
    {
     "name": "stdout",
     "output_type": "stream",
     "text": [
      "Training Loss: 0.76452\n",
      "Train Hits \t @10: 0.89636 \t @5 : 0.77235 \t @1 : 0.36209\n",
      "Train ndcg \t @10: 0.62028 \t @5 : 0.57955 \t @1 : 0.36209\n",
      "Train mrr: 0.5360882885635693\n",
      "Valid Hits \t @10: 0.71772 \t @5 : 0.58444 \t @1 : 0.25381\n",
      "Valid ndcg \t @10: 0.46942 \t @5 : 0.42598 \t @1 : 0.25381\n",
      "Valid mrr: 0.4066514505461667\n",
      "Test Hits \t @10: 0.67301 \t @5 : 0.54470 \t @1 : 0.23775\n",
      "Test ndcg \t @10: 0.43973 \t @5 : 0.39840 \t @1 : 0.23775\n",
      "Test mrr: 0.38734003839002484\n",
      "==================== Epoch 55 ====================\n"
     ]
    },
    {
     "name": "stderr",
     "output_type": "stream",
     "text": [
      "100%|██████████████████████████████████████████████████████████████████████████████████| 95/95 [03:06<00:00,  1.97s/it]\n",
      "  0%|                                                                                           | 0/95 [00:00<?, ?it/s]"
     ]
    },
    {
     "name": "stdout",
     "output_type": "stream",
     "text": [
      "Training Loss: 0.75597\n",
      "Train Hits \t @10: 0.90248 \t @5 : 0.77765 \t @1 : 0.36291\n",
      "Train ndcg \t @10: 0.62303 \t @5 : 0.58222 \t @1 : 0.36291\n",
      "Train mrr: 0.5360882885635693\n",
      "Valid Hits \t @10: 0.71242 \t @5 : 0.58493 \t @1 : 0.25348\n",
      "Valid ndcg \t @10: 0.46708 \t @5 : 0.42578 \t @1 : 0.25348\n",
      "Valid mrr: 0.4066514505461667\n",
      "Test Hits \t @10: 0.67666 \t @5 : 0.54503 \t @1 : 0.24073\n",
      "Test ndcg \t @10: 0.44214 \t @5 : 0.39960 \t @1 : 0.24073\n",
      "Test mrr: 0.38734003839002484\n",
      "==================== Epoch 56 ====================\n"
     ]
    },
    {
     "name": "stderr",
     "output_type": "stream",
     "text": [
      "100%|██████████████████████████████████████████████████████████████████████████████████| 95/95 [03:06<00:00,  1.97s/it]\n",
      "  0%|                                                                                           | 0/95 [00:00<?, ?it/s]"
     ]
    },
    {
     "name": "stdout",
     "output_type": "stream",
     "text": [
      "Training Loss: 0.75566\n",
      "Train Hits \t @10: 0.90050 \t @5 : 0.77765 \t @1 : 0.36589\n",
      "Train ndcg \t @10: 0.62373 \t @5 : 0.58359 \t @1 : 0.36589\n",
      "Train mrr: 0.5360882885635693\n",
      "Valid Hits \t @10: 0.71258 \t @5 : 0.57699 \t @1 : 0.25033\n",
      "Valid ndcg \t @10: 0.46627 \t @5 : 0.42222 \t @1 : 0.25033\n",
      "Valid mrr: 0.4066514505461667\n",
      "Test Hits \t @10: 0.67185 \t @5 : 0.54801 \t @1 : 0.23957\n",
      "Test ndcg \t @10: 0.44061 \t @5 : 0.40038 \t @1 : 0.23957\n",
      "Test mrr: 0.38734003839002484\n",
      "==================== Epoch 57 ====================\n"
     ]
    },
    {
     "name": "stderr",
     "output_type": "stream",
     "text": [
      "100%|██████████████████████████████████████████████████████████████████████████████████| 95/95 [03:07<00:00,  1.97s/it]\n",
      "  0%|                                                                                           | 0/95 [00:00<?, ?it/s]"
     ]
    },
    {
     "name": "stdout",
     "output_type": "stream",
     "text": [
      "Training Loss: 0.74587\n",
      "Train Hits \t @10: 0.90546 \t @5 : 0.78245 \t @1 : 0.36788\n",
      "Train ndcg \t @10: 0.62992 \t @5 : 0.58978 \t @1 : 0.36788\n",
      "Train mrr: 0.5481461867207472\n",
      "Valid Hits \t @10: 0.72301 \t @5 : 0.58245 \t @1 : 0.26142\n",
      "Valid ndcg \t @10: 0.47615 \t @5 : 0.43032 \t @1 : 0.26142\n",
      "Valid mrr: 0.4106030310655125\n",
      "Test Hits \t @10: 0.67401 \t @5 : 0.54851 \t @1 : 0.24023\n",
      "Test ndcg \t @10: 0.44200 \t @5 : 0.40124 \t @1 : 0.24023\n",
      "Test mrr: 0.3830994487641841\n",
      "==================== Epoch 58 ====================\n"
     ]
    },
    {
     "name": "stderr",
     "output_type": "stream",
     "text": [
      "100%|██████████████████████████████████████████████████████████████████████████████████| 95/95 [03:07<00:00,  1.97s/it]\n",
      "  0%|                                                                                           | 0/95 [00:00<?, ?it/s]"
     ]
    },
    {
     "name": "stdout",
     "output_type": "stream",
     "text": [
      "Training Loss: 0.74531\n",
      "Train Hits \t @10: 0.90447 \t @5 : 0.77831 \t @1 : 0.36325\n",
      "Train ndcg \t @10: 0.62520 \t @5 : 0.58393 \t @1 : 0.36325\n",
      "Train mrr: 0.5481461867207472\n",
      "Valid Hits \t @10: 0.71374 \t @5 : 0.58295 \t @1 : 0.26060\n",
      "Valid ndcg \t @10: 0.47234 \t @5 : 0.42986 \t @1 : 0.26060\n",
      "Valid mrr: 0.4106030310655125\n",
      "Test Hits \t @10: 0.67185 \t @5 : 0.54586 \t @1 : 0.24139\n",
      "Test ndcg \t @10: 0.44014 \t @5 : 0.39939 \t @1 : 0.24139\n",
      "Test mrr: 0.3830994487641841\n",
      "==================== Epoch 59 ====================\n"
     ]
    },
    {
     "name": "stderr",
     "output_type": "stream",
     "text": [
      "100%|██████████████████████████████████████████████████████████████████████████████████| 95/95 [03:08<00:00,  1.98s/it]\n",
      "  0%|                                                                                           | 0/95 [00:00<?, ?it/s]"
     ]
    },
    {
     "name": "stdout",
     "output_type": "stream",
     "text": [
      "Training Loss: 0.74016\n",
      "Train Hits \t @10: 0.90281 \t @5 : 0.77632 \t @1 : 0.36821\n",
      "Train ndcg \t @10: 0.62776 \t @5 : 0.58634 \t @1 : 0.36821\n",
      "Train mrr: 0.5481461867207472\n",
      "Valid Hits \t @10: 0.71391 \t @5 : 0.58063 \t @1 : 0.25513\n",
      "Valid ndcg \t @10: 0.46829 \t @5 : 0.42488 \t @1 : 0.25513\n",
      "Valid mrr: 0.4106030310655125\n",
      "Test Hits \t @10: 0.67450 \t @5 : 0.54801 \t @1 : 0.23659\n",
      "Test ndcg \t @10: 0.44016 \t @5 : 0.39921 \t @1 : 0.23659\n",
      "Test mrr: 0.3830994487641841\n",
      "==================== Epoch 60 ====================\n"
     ]
    },
    {
     "name": "stderr",
     "output_type": "stream",
     "text": [
      "100%|██████████████████████████████████████████████████████████████████████████████████| 95/95 [03:07<00:00,  1.97s/it]\n",
      "  0%|                                                                                           | 0/95 [00:00<?, ?it/s]"
     ]
    },
    {
     "name": "stdout",
     "output_type": "stream",
     "text": [
      "Training Loss: 0.74066\n",
      "Train Hits \t @10: 0.90083 \t @5 : 0.77781 \t @1 : 0.37318\n",
      "Train ndcg \t @10: 0.62866 \t @5 : 0.58863 \t @1 : 0.37318\n",
      "Train mrr: 0.5481461867207472\n",
      "Valid Hits \t @10: 0.71440 \t @5 : 0.58179 \t @1 : 0.25646\n",
      "Valid ndcg \t @10: 0.46958 \t @5 : 0.42648 \t @1 : 0.25646\n",
      "Valid mrr: 0.4106030310655125\n",
      "Test Hits \t @10: 0.66970 \t @5 : 0.54669 \t @1 : 0.24421\n",
      "Test ndcg \t @10: 0.44260 \t @5 : 0.40274 \t @1 : 0.24421\n",
      "Test mrr: 0.3830994487641841\n",
      "==================== Epoch 61 ====================\n"
     ]
    },
    {
     "name": "stderr",
     "output_type": "stream",
     "text": [
      "100%|██████████████████████████████████████████████████████████████████████████████████| 95/95 [03:06<00:00,  1.97s/it]\n",
      "  0%|                                                                                           | 0/95 [00:00<?, ?it/s]"
     ]
    },
    {
     "name": "stdout",
     "output_type": "stream",
     "text": [
      "Training Loss: 0.72973\n",
      "Train Hits \t @10: 0.90695 \t @5 : 0.78725 \t @1 : 0.38113\n",
      "Train ndcg \t @10: 0.63578 \t @5 : 0.59644 \t @1 : 0.38113\n",
      "Train mrr: 0.5481461867207472\n",
      "Valid Hits \t @10: 0.71391 \t @5 : 0.58079 \t @1 : 0.25944\n",
      "Valid ndcg \t @10: 0.47078 \t @5 : 0.42746 \t @1 : 0.25944\n",
      "Valid mrr: 0.4106030310655125\n",
      "Test Hits \t @10: 0.67368 \t @5 : 0.54570 \t @1 : 0.24421\n",
      "Test ndcg \t @10: 0.44415 \t @5 : 0.40271 \t @1 : 0.24421\n",
      "Test mrr: 0.3830994487641841\n",
      "==================== Epoch 62 ====================\n"
     ]
    },
    {
     "name": "stderr",
     "output_type": "stream",
     "text": [
      "100%|██████████████████████████████████████████████████████████████████████████████████| 95/95 [03:07<00:00,  1.97s/it]\n",
      "  0%|                                                                                           | 0/95 [00:00<?, ?it/s]"
     ]
    },
    {
     "name": "stdout",
     "output_type": "stream",
     "text": [
      "Training Loss: 0.72590\n",
      "Train Hits \t @10: 0.90265 \t @5 : 0.78642 \t @1 : 0.37219\n",
      "Train ndcg \t @10: 0.63086 \t @5 : 0.59291 \t @1 : 0.37219\n",
      "Train mrr: 0.5481461867207472\n",
      "Valid Hits \t @10: 0.71358 \t @5 : 0.58593 \t @1 : 0.25381\n",
      "Valid ndcg \t @10: 0.46984 \t @5 : 0.42815 \t @1 : 0.25381\n",
      "Valid mrr: 0.4106030310655125\n",
      "Test Hits \t @10: 0.67467 \t @5 : 0.55132 \t @1 : 0.24272\n",
      "Test ndcg \t @10: 0.44427 \t @5 : 0.40435 \t @1 : 0.24272\n",
      "Test mrr: 0.3830994487641841\n",
      "==================== Epoch 63 ====================\n"
     ]
    },
    {
     "name": "stderr",
     "output_type": "stream",
     "text": [
      "100%|██████████████████████████████████████████████████████████████████████████████████| 95/95 [03:07<00:00,  1.98s/it]\n",
      "  0%|                                                                                           | 0/95 [00:00<?, ?it/s]"
     ]
    },
    {
     "name": "stdout",
     "output_type": "stream",
     "text": [
      "Training Loss: 0.71794\n",
      "Train Hits \t @10: 0.90778 \t @5 : 0.78477 \t @1 : 0.37285\n",
      "Train ndcg \t @10: 0.63259 \t @5 : 0.59249 \t @1 : 0.37285\n",
      "Train mrr: 0.5481461867207472\n",
      "Valid Hits \t @10: 0.71672 \t @5 : 0.58262 \t @1 : 0.26606\n",
      "Valid ndcg \t @10: 0.47561 \t @5 : 0.43192 \t @1 : 0.26606\n",
      "Valid mrr: 0.4106030310655125\n",
      "Test Hits \t @10: 0.67566 \t @5 : 0.54669 \t @1 : 0.24040\n",
      "Test ndcg \t @10: 0.44278 \t @5 : 0.40104 \t @1 : 0.24040\n",
      "Test mrr: 0.3830994487641841\n",
      "==================== Epoch 64 ====================\n"
     ]
    },
    {
     "name": "stderr",
     "output_type": "stream",
     "text": [
      "100%|██████████████████████████████████████████████████████████████████████████████████| 95/95 [03:07<00:00,  1.97s/it]\n",
      "  0%|                                                                                           | 0/95 [00:00<?, ?it/s]"
     ]
    },
    {
     "name": "stdout",
     "output_type": "stream",
     "text": [
      "Training Loss: 0.71748\n",
      "Train Hits \t @10: 0.90629 \t @5 : 0.78046 \t @1 : 0.37517\n",
      "Train ndcg \t @10: 0.63339 \t @5 : 0.59209 \t @1 : 0.37517\n",
      "Train mrr: 0.5481461867207472\n",
      "Valid Hits \t @10: 0.71159 \t @5 : 0.57599 \t @1 : 0.25298\n",
      "Valid ndcg \t @10: 0.46690 \t @5 : 0.42272 \t @1 : 0.25298\n",
      "Valid mrr: 0.4106030310655125\n",
      "Test Hits \t @10: 0.67318 \t @5 : 0.54917 \t @1 : 0.24321\n",
      "Test ndcg \t @10: 0.44265 \t @5 : 0.40249 \t @1 : 0.24321\n",
      "Test mrr: 0.3830994487641841\n",
      "==================== Epoch 65 ====================\n"
     ]
    },
    {
     "name": "stderr",
     "output_type": "stream",
     "text": [
      "100%|██████████████████████████████████████████████████████████████████████████████████| 95/95 [03:06<00:00,  1.97s/it]\n",
      "  0%|                                                                                           | 0/95 [00:00<?, ?it/s]"
     ]
    },
    {
     "name": "stdout",
     "output_type": "stream",
     "text": [
      "Training Loss: 0.71175\n",
      "Train Hits \t @10: 0.91291 \t @5 : 0.79421 \t @1 : 0.37036\n",
      "Train ndcg \t @10: 0.63484 \t @5 : 0.59608 \t @1 : 0.37036\n",
      "Train mrr: 0.5481461867207472\n",
      "Valid Hits \t @10: 0.71854 \t @5 : 0.58477 \t @1 : 0.25232\n",
      "Valid ndcg \t @10: 0.47073 \t @5 : 0.42719 \t @1 : 0.25232\n",
      "Valid mrr: 0.4106030310655125\n",
      "Test Hits \t @10: 0.68079 \t @5 : 0.55381 \t @1 : 0.24189\n",
      "Test ndcg \t @10: 0.44517 \t @5 : 0.40410 \t @1 : 0.24189\n",
      "Test mrr: 0.3830994487641841\n",
      "==================== Epoch 66 ====================\n"
     ]
    },
    {
     "name": "stderr",
     "output_type": "stream",
     "text": [
      "100%|██████████████████████████████████████████████████████████████████████████████████| 95/95 [03:07<00:00,  1.97s/it]\n",
      "  0%|                                                                                           | 0/95 [00:00<?, ?it/s]"
     ]
    },
    {
     "name": "stdout",
     "output_type": "stream",
     "text": [
      "Training Loss: 0.71250\n",
      "Train Hits \t @10: 0.91325 \t @5 : 0.79652 \t @1 : 0.37964\n",
      "Train ndcg \t @10: 0.63989 \t @5 : 0.60170 \t @1 : 0.37964\n",
      "Train mrr: 0.5481461867207472\n",
      "Valid Hits \t @10: 0.71589 \t @5 : 0.58295 \t @1 : 0.25728\n",
      "Valid ndcg \t @10: 0.47179 \t @5 : 0.42864 \t @1 : 0.25728\n",
      "Valid mrr: 0.4106030310655125\n",
      "Test Hits \t @10: 0.67583 \t @5 : 0.54685 \t @1 : 0.24553\n",
      "Test ndcg \t @10: 0.44594 \t @5 : 0.40402 \t @1 : 0.24553\n",
      "Test mrr: 0.3830994487641841\n",
      "==================== Epoch 67 ====================\n"
     ]
    },
    {
     "name": "stderr",
     "output_type": "stream",
     "text": [
      "100%|██████████████████████████████████████████████████████████████████████████████████| 95/95 [03:06<00:00,  1.97s/it]\n",
      "  0%|                                                                                           | 0/95 [00:00<?, ?it/s]"
     ]
    },
    {
     "name": "stdout",
     "output_type": "stream",
     "text": [
      "Training Loss: 0.70223\n",
      "Train Hits \t @10: 0.91060 \t @5 : 0.79288 \t @1 : 0.37997\n",
      "Train ndcg \t @10: 0.63858 \t @5 : 0.59989 \t @1 : 0.37997\n",
      "Train mrr: 0.5481461867207472\n",
      "Valid Hits \t @10: 0.71142 \t @5 : 0.58311 \t @1 : 0.25265\n",
      "Valid ndcg \t @10: 0.46850 \t @5 : 0.42682 \t @1 : 0.25265\n",
      "Valid mrr: 0.4106030310655125\n",
      "Test Hits \t @10: 0.67086 \t @5 : 0.55265 \t @1 : 0.24354\n",
      "Test ndcg \t @10: 0.44394 \t @5 : 0.40557 \t @1 : 0.24354\n",
      "Test mrr: 0.3830994487641841\n",
      "==================== Epoch 68 ====================\n"
     ]
    },
    {
     "name": "stderr",
     "output_type": "stream",
     "text": [
      "100%|██████████████████████████████████████████████████████████████████████████████████| 95/95 [03:06<00:00,  1.96s/it]\n",
      "  0%|                                                                                           | 0/95 [00:00<?, ?it/s]"
     ]
    },
    {
     "name": "stdout",
     "output_type": "stream",
     "text": [
      "Training Loss: 0.70420\n",
      "Train Hits \t @10: 0.90844 \t @5 : 0.78808 \t @1 : 0.36904\n",
      "Train ndcg \t @10: 0.63173 \t @5 : 0.59248 \t @1 : 0.36904\n",
      "Train mrr: 0.5481461867207472\n",
      "Valid Hits \t @10: 0.71391 \t @5 : 0.58891 \t @1 : 0.24818\n",
      "Valid ndcg \t @10: 0.46660 \t @5 : 0.42576 \t @1 : 0.24818\n",
      "Valid mrr: 0.4106030310655125\n",
      "Test Hits \t @10: 0.67467 \t @5 : 0.54470 \t @1 : 0.24586\n",
      "Test ndcg \t @10: 0.44548 \t @5 : 0.40340 \t @1 : 0.24586\n",
      "Test mrr: 0.3830994487641841\n",
      "==================== Epoch 69 ====================\n"
     ]
    },
    {
     "name": "stderr",
     "output_type": "stream",
     "text": [
      "100%|██████████████████████████████████████████████████████████████████████████████████| 95/95 [03:10<00:00,  2.00s/it]\n",
      "  0%|                                                                                           | 0/95 [00:00<?, ?it/s]"
     ]
    },
    {
     "name": "stdout",
     "output_type": "stream",
     "text": [
      "Training Loss: 0.69296\n",
      "Train Hits \t @10: 0.91507 \t @5 : 0.79834 \t @1 : 0.38725\n",
      "Train ndcg \t @10: 0.64423 \t @5 : 0.60617 \t @1 : 0.38725\n",
      "Train mrr: 0.5481461867207472\n",
      "Valid Hits \t @10: 0.71772 \t @5 : 0.58526 \t @1 : 0.25828\n",
      "Valid ndcg \t @10: 0.47167 \t @5 : 0.42882 \t @1 : 0.25828\n",
      "Valid mrr: 0.4106030310655125\n",
      "Test Hits \t @10: 0.67666 \t @5 : 0.54702 \t @1 : 0.24023\n",
      "Test ndcg \t @10: 0.44201 \t @5 : 0.39999 \t @1 : 0.24023\n",
      "Test mrr: 0.3830994487641841\n",
      "==================== Epoch 70 ====================\n"
     ]
    },
    {
     "name": "stderr",
     "output_type": "stream",
     "text": [
      "100%|██████████████████████████████████████████████████████████████████████████████████| 95/95 [03:11<00:00,  2.01s/it]\n",
      "  0%|                                                                                           | 0/95 [00:00<?, ?it/s]"
     ]
    },
    {
     "name": "stdout",
     "output_type": "stream",
     "text": [
      "Training Loss: 0.70017\n",
      "Train Hits \t @10: 0.91440 \t @5 : 0.79834 \t @1 : 0.38344\n",
      "Train ndcg \t @10: 0.64218 \t @5 : 0.60416 \t @1 : 0.38344\n",
      "Train mrr: 0.5481461867207472\n",
      "Valid Hits \t @10: 0.71523 \t @5 : 0.58808 \t @1 : 0.26093\n",
      "Valid ndcg \t @10: 0.47329 \t @5 : 0.43214 \t @1 : 0.26093\n",
      "Valid mrr: 0.4106030310655125\n",
      "Test Hits \t @10: 0.67136 \t @5 : 0.54586 \t @1 : 0.23543\n",
      "Test ndcg \t @10: 0.44046 \t @5 : 0.39967 \t @1 : 0.23543\n",
      "Test mrr: 0.3830994487641841\n",
      "==================== Epoch 71 ====================\n"
     ]
    },
    {
     "name": "stderr",
     "output_type": "stream",
     "text": [
      "100%|██████████████████████████████████████████████████████████████████████████████████| 95/95 [03:12<00:00,  2.02s/it]\n",
      "  0%|                                                                                           | 0/95 [00:00<?, ?it/s]"
     ]
    },
    {
     "name": "stdout",
     "output_type": "stream",
     "text": [
      "Training Loss: 0.68697\n",
      "Train Hits \t @10: 0.91738 \t @5 : 0.79487 \t @1 : 0.37848\n",
      "Train ndcg \t @10: 0.64085 \t @5 : 0.60093 \t @1 : 0.37848\n",
      "Train mrr: 0.5481461867207472\n",
      "Valid Hits \t @10: 0.71457 \t @5 : 0.58742 \t @1 : 0.25944\n",
      "Valid ndcg \t @10: 0.47309 \t @5 : 0.43179 \t @1 : 0.25944\n",
      "Valid mrr: 0.4106030310655125\n",
      "Test Hits \t @10: 0.67748 \t @5 : 0.54652 \t @1 : 0.23891\n",
      "Test ndcg \t @10: 0.44406 \t @5 : 0.40162 \t @1 : 0.23891\n",
      "Test mrr: 0.3830994487641841\n",
      "==================== Epoch 72 ====================\n"
     ]
    },
    {
     "name": "stderr",
     "output_type": "stream",
     "text": [
      "100%|██████████████████████████████████████████████████████████████████████████████████| 95/95 [03:36<00:00,  2.28s/it]\n",
      "  0%|                                                                                           | 0/95 [00:00<?, ?it/s]"
     ]
    },
    {
     "name": "stdout",
     "output_type": "stream",
     "text": [
      "Training Loss: 0.68866\n",
      "Train Hits \t @10: 0.91523 \t @5 : 0.79934 \t @1 : 0.38560\n",
      "Train ndcg \t @10: 0.64478 \t @5 : 0.60693 \t @1 : 0.38560\n",
      "Train mrr: 0.5481461867207472\n",
      "Valid Hits \t @10: 0.71921 \t @5 : 0.59056 \t @1 : 0.25497\n",
      "Valid ndcg \t @10: 0.47367 \t @5 : 0.43206 \t @1 : 0.25497\n",
      "Valid mrr: 0.4106030310655125\n",
      "Test Hits \t @10: 0.67864 \t @5 : 0.54950 \t @1 : 0.24056\n",
      "Test ndcg \t @10: 0.44496 \t @5 : 0.40294 \t @1 : 0.24056\n",
      "Test mrr: 0.3830994487641841\n",
      "==================== Epoch 73 ====================\n"
     ]
    },
    {
     "name": "stderr",
     "output_type": "stream",
     "text": [
      "100%|██████████████████████████████████████████████████████████████████████████████████| 95/95 [03:40<00:00,  2.33s/it]\n",
      "  0%|                                                                                           | 0/95 [00:00<?, ?it/s]"
     ]
    },
    {
     "name": "stdout",
     "output_type": "stream",
     "text": [
      "Training Loss: 0.67720\n",
      "Train Hits \t @10: 0.91672 \t @5 : 0.80215 \t @1 : 0.37268\n",
      "Train ndcg \t @10: 0.63894 \t @5 : 0.60153 \t @1 : 0.37268\n",
      "Train mrr: 0.5481461867207472\n",
      "Valid Hits \t @10: 0.71440 \t @5 : 0.58642 \t @1 : 0.25613\n",
      "Valid ndcg \t @10: 0.47165 \t @5 : 0.42987 \t @1 : 0.25613\n",
      "Valid mrr: 0.4106030310655125\n",
      "Test Hits \t @10: 0.68129 \t @5 : 0.54983 \t @1 : 0.23560\n",
      "Test ndcg \t @10: 0.44252 \t @5 : 0.39975 \t @1 : 0.23560\n",
      "Test mrr: 0.3830994487641841\n",
      "==================== Epoch 74 ====================\n"
     ]
    },
    {
     "name": "stderr",
     "output_type": "stream",
     "text": [
      "100%|██████████████████████████████████████████████████████████████████████████████████| 95/95 [03:33<00:00,  2.25s/it]\n",
      "  0%|                                                                                           | 0/95 [00:00<?, ?it/s]"
     ]
    },
    {
     "name": "stdout",
     "output_type": "stream",
     "text": [
      "Training Loss: 0.67972\n",
      "Train Hits \t @10: 0.91374 \t @5 : 0.79387 \t @1 : 0.37914\n",
      "Train ndcg \t @10: 0.64041 \t @5 : 0.60116 \t @1 : 0.37914\n",
      "Train mrr: 0.5481461867207472\n",
      "Valid Hits \t @10: 0.71474 \t @5 : 0.58411 \t @1 : 0.25381\n",
      "Valid ndcg \t @10: 0.46895 \t @5 : 0.42653 \t @1 : 0.25381\n",
      "Valid mrr: 0.4106030310655125\n",
      "Test Hits \t @10: 0.67815 \t @5 : 0.54603 \t @1 : 0.24205\n",
      "Test ndcg \t @10: 0.44474 \t @5 : 0.40174 \t @1 : 0.24205\n",
      "Test mrr: 0.3830994487641841\n",
      "==================== Epoch 75 ====================\n"
     ]
    },
    {
     "name": "stderr",
     "output_type": "stream",
     "text": [
      "100%|██████████████████████████████████████████████████████████████████████████████████| 95/95 [03:42<00:00,  2.34s/it]\n",
      "  0%|                                                                                           | 0/95 [00:00<?, ?it/s]"
     ]
    },
    {
     "name": "stdout",
     "output_type": "stream",
     "text": [
      "Training Loss: 0.67080\n",
      "Train Hits \t @10: 0.91656 \t @5 : 0.79868 \t @1 : 0.38063\n",
      "Train ndcg \t @10: 0.64227 \t @5 : 0.60387 \t @1 : 0.38063\n",
      "Train mrr: 0.5481461867207472\n",
      "Valid Hits \t @10: 0.71440 \t @5 : 0.58924 \t @1 : 0.25662\n",
      "Valid ndcg \t @10: 0.47086 \t @5 : 0.43028 \t @1 : 0.25662\n",
      "Valid mrr: 0.4106030310655125\n",
      "Test Hits \t @10: 0.67682 \t @5 : 0.54354 \t @1 : 0.23742\n",
      "Test ndcg \t @10: 0.44141 \t @5 : 0.39829 \t @1 : 0.23742\n",
      "Test mrr: 0.3830994487641841\n",
      "==================== Epoch 76 ====================\n"
     ]
    },
    {
     "name": "stderr",
     "output_type": "stream",
     "text": [
      "100%|██████████████████████████████████████████████████████████████████████████████████| 95/95 [03:43<00:00,  2.35s/it]\n",
      "  0%|                                                                                           | 0/95 [00:00<?, ?it/s]"
     ]
    },
    {
     "name": "stdout",
     "output_type": "stream",
     "text": [
      "Training Loss: 0.67059\n",
      "Train Hits \t @10: 0.91308 \t @5 : 0.79818 \t @1 : 0.38427\n",
      "Train ndcg \t @10: 0.64220 \t @5 : 0.60462 \t @1 : 0.38427\n",
      "Train mrr: 0.5481461867207472\n",
      "Valid Hits \t @10: 0.71192 \t @5 : 0.58858 \t @1 : 0.25646\n",
      "Valid ndcg \t @10: 0.47083 \t @5 : 0.43065 \t @1 : 0.25646\n",
      "Valid mrr: 0.4106030310655125\n",
      "Test Hits \t @10: 0.67467 \t @5 : 0.55348 \t @1 : 0.24189\n",
      "Test ndcg \t @10: 0.44319 \t @5 : 0.40379 \t @1 : 0.24189\n",
      "Test mrr: 0.3830994487641841\n",
      "==================== Epoch 77 ====================\n"
     ]
    },
    {
     "name": "stderr",
     "output_type": "stream",
     "text": [
      "100%|██████████████████████████████████████████████████████████████████████████████████| 95/95 [04:12<00:00,  2.66s/it]\n",
      "  0%|                                                                                           | 0/95 [00:00<?, ?it/s]"
     ]
    },
    {
     "name": "stdout",
     "output_type": "stream",
     "text": [
      "Training Loss: 0.66408\n",
      "Train Hits \t @10: 0.91838 \t @5 : 0.79801 \t @1 : 0.38990\n",
      "Train ndcg \t @10: 0.64804 \t @5 : 0.60865 \t @1 : 0.38990\n",
      "Train mrr: 0.5481461867207472\n",
      "Valid Hits \t @10: 0.71358 \t @5 : 0.58245 \t @1 : 0.25629\n",
      "Valid ndcg \t @10: 0.47047 \t @5 : 0.42784 \t @1 : 0.25629\n",
      "Valid mrr: 0.4106030310655125\n",
      "Test Hits \t @10: 0.67533 \t @5 : 0.55083 \t @1 : 0.23808\n",
      "Test ndcg \t @10: 0.44198 \t @5 : 0.40172 \t @1 : 0.23808\n",
      "Test mrr: 0.3830994487641841\n",
      "==================== Epoch 78 ====================\n"
     ]
    },
    {
     "name": "stderr",
     "output_type": "stream",
     "text": [
      "100%|██████████████████████████████████████████████████████████████████████████████████| 95/95 [04:07<00:00,  2.61s/it]\n",
      "  0%|                                                                                           | 0/95 [00:00<?, ?it/s]"
     ]
    },
    {
     "name": "stdout",
     "output_type": "stream",
     "text": [
      "Training Loss: 0.67015\n",
      "Train Hits \t @10: 0.91805 \t @5 : 0.79868 \t @1 : 0.39222\n",
      "Train ndcg \t @10: 0.64758 \t @5 : 0.60860 \t @1 : 0.39222\n",
      "Train mrr: 0.5481461867207472\n",
      "Valid Hits \t @10: 0.70927 \t @5 : 0.57930 \t @1 : 0.25695\n",
      "Valid ndcg \t @10: 0.46848 \t @5 : 0.42605 \t @1 : 0.25695\n",
      "Valid mrr: 0.4106030310655125\n",
      "Test Hits \t @10: 0.67715 \t @5 : 0.54934 \t @1 : 0.24321\n",
      "Test ndcg \t @10: 0.44443 \t @5 : 0.40285 \t @1 : 0.24321\n",
      "Test mrr: 0.3830994487641841\n",
      "==================== Epoch 79 ====================\n"
     ]
    },
    {
     "name": "stderr",
     "output_type": "stream",
     "text": [
      "100%|██████████████████████████████████████████████████████████████████████████████████| 95/95 [03:42<00:00,  2.34s/it]\n",
      "  0%|                                                                                           | 0/95 [00:00<?, ?it/s]"
     ]
    },
    {
     "name": "stdout",
     "output_type": "stream",
     "text": [
      "Training Loss: 0.66010\n",
      "Train Hits \t @10: 0.92169 \t @5 : 0.80530 \t @1 : 0.39321\n",
      "Train ndcg \t @10: 0.65080 \t @5 : 0.61278 \t @1 : 0.39321\n",
      "Train mrr: 0.5481461867207472\n",
      "Valid Hits \t @10: 0.71010 \t @5 : 0.58377 \t @1 : 0.25629\n",
      "Valid ndcg \t @10: 0.46926 \t @5 : 0.42830 \t @1 : 0.25629\n",
      "Valid mrr: 0.4106030310655125\n",
      "Test Hits \t @10: 0.67368 \t @5 : 0.54752 \t @1 : 0.24735\n",
      "Test ndcg \t @10: 0.44495 \t @5 : 0.40391 \t @1 : 0.24735\n",
      "Test mrr: 0.3830994487641841\n",
      "==================== Epoch 80 ====================\n"
     ]
    },
    {
     "name": "stderr",
     "output_type": "stream",
     "text": [
      "100%|██████████████████████████████████████████████████████████████████████████████████| 95/95 [03:31<00:00,  2.22s/it]\n",
      "  0%|                                                                                           | 0/95 [00:00<?, ?it/s]"
     ]
    },
    {
     "name": "stdout",
     "output_type": "stream",
     "text": [
      "Training Loss: 0.66197\n",
      "Train Hits \t @10: 0.92036 \t @5 : 0.80199 \t @1 : 0.38013\n",
      "Train ndcg \t @10: 0.64353 \t @5 : 0.60479 \t @1 : 0.38013\n",
      "Train mrr: 0.5481461867207472\n",
      "Valid Hits \t @10: 0.71507 \t @5 : 0.58775 \t @1 : 0.25795\n",
      "Valid ndcg \t @10: 0.47333 \t @5 : 0.43202 \t @1 : 0.25795\n",
      "Valid mrr: 0.4106030310655125\n",
      "Test Hits \t @10: 0.67434 \t @5 : 0.54917 \t @1 : 0.23990\n",
      "Test ndcg \t @10: 0.44412 \t @5 : 0.40338 \t @1 : 0.23990\n",
      "Test mrr: 0.3830994487641841\n",
      "==================== Epoch 81 ====================\n"
     ]
    },
    {
     "name": "stderr",
     "output_type": "stream",
     "text": [
      "100%|██████████████████████████████████████████████████████████████████████████████████| 95/95 [03:36<00:00,  2.28s/it]\n",
      "  0%|                                                                                           | 0/95 [00:00<?, ?it/s]"
     ]
    },
    {
     "name": "stdout",
     "output_type": "stream",
     "text": [
      "Training Loss: 0.65005\n",
      "Train Hits \t @10: 0.92285 \t @5 : 0.80480 \t @1 : 0.38030\n",
      "Train ndcg \t @10: 0.64624 \t @5 : 0.60775 \t @1 : 0.38030\n",
      "Train mrr: 0.5481461867207472\n",
      "Valid Hits \t @10: 0.71076 \t @5 : 0.57699 \t @1 : 0.25199\n",
      "Valid ndcg \t @10: 0.46600 \t @5 : 0.42257 \t @1 : 0.25199\n",
      "Valid mrr: 0.4106030310655125\n",
      "Test Hits \t @10: 0.67401 \t @5 : 0.54106 \t @1 : 0.24222\n",
      "Test ndcg \t @10: 0.44163 \t @5 : 0.39847 \t @1 : 0.24222\n",
      "Test mrr: 0.3830994487641841\n",
      "==================== Epoch 82 ====================\n"
     ]
    },
    {
     "name": "stderr",
     "output_type": "stream",
     "text": [
      "100%|██████████████████████████████████████████████████████████████████████████████████| 95/95 [03:15<00:00,  2.06s/it]\n",
      "  0%|                                                                                           | 0/95 [00:00<?, ?it/s]"
     ]
    },
    {
     "name": "stdout",
     "output_type": "stream",
     "text": [
      "Training Loss: 0.65249\n",
      "Train Hits \t @10: 0.92003 \t @5 : 0.80447 \t @1 : 0.38907\n",
      "Train ndcg \t @10: 0.64872 \t @5 : 0.61090 \t @1 : 0.38907\n",
      "Train mrr: 0.5481461867207472\n",
      "Valid Hits \t @10: 0.71291 \t @5 : 0.58278 \t @1 : 0.25265\n",
      "Valid ndcg \t @10: 0.46789 \t @5 : 0.42565 \t @1 : 0.25265\n",
      "Valid mrr: 0.4106030310655125\n",
      "Test Hits \t @10: 0.67864 \t @5 : 0.54454 \t @1 : 0.23460\n",
      "Test ndcg \t @10: 0.44105 \t @5 : 0.39756 \t @1 : 0.23460\n",
      "Test mrr: 0.3830994487641841\n",
      "==================== Epoch 83 ====================\n"
     ]
    },
    {
     "name": "stderr",
     "output_type": "stream",
     "text": [
      "100%|██████████████████████████████████████████████████████████████████████████████████| 95/95 [03:10<00:00,  2.00s/it]\n",
      "  0%|                                                                                           | 0/95 [00:00<?, ?it/s]"
     ]
    },
    {
     "name": "stdout",
     "output_type": "stream",
     "text": [
      "Training Loss: 0.64654\n",
      "Train Hits \t @10: 0.92566 \t @5 : 0.80695 \t @1 : 0.38791\n",
      "Train ndcg \t @10: 0.65098 \t @5 : 0.61213 \t @1 : 0.38791\n",
      "Train mrr: 0.5481461867207472\n",
      "Valid Hits \t @10: 0.71258 \t @5 : 0.58576 \t @1 : 0.25265\n",
      "Valid ndcg \t @10: 0.46949 \t @5 : 0.42822 \t @1 : 0.25265\n",
      "Valid mrr: 0.4106030310655125\n",
      "Test Hits \t @10: 0.67434 \t @5 : 0.55298 \t @1 : 0.23195\n",
      "Test ndcg \t @10: 0.44032 \t @5 : 0.40076 \t @1 : 0.23195\n",
      "Test mrr: 0.3830994487641841\n",
      "==================== Epoch 84 ====================\n"
     ]
    },
    {
     "name": "stderr",
     "output_type": "stream",
     "text": [
      "100%|██████████████████████████████████████████████████████████████████████████████████| 95/95 [03:15<00:00,  2.06s/it]\n",
      "  0%|                                                                                           | 0/95 [00:00<?, ?it/s]"
     ]
    },
    {
     "name": "stdout",
     "output_type": "stream",
     "text": [
      "Training Loss: 0.65244\n",
      "Train Hits \t @10: 0.92169 \t @5 : 0.80050 \t @1 : 0.38427\n",
      "Train ndcg \t @10: 0.64615 \t @5 : 0.60635 \t @1 : 0.38427\n",
      "Train mrr: 0.5481461867207472\n",
      "Valid Hits \t @10: 0.71374 \t @5 : 0.58295 \t @1 : 0.25679\n",
      "Valid ndcg \t @10: 0.47081 \t @5 : 0.42839 \t @1 : 0.25679\n",
      "Valid mrr: 0.4106030310655125\n",
      "Test Hits \t @10: 0.67881 \t @5 : 0.54768 \t @1 : 0.23808\n",
      "Test ndcg \t @10: 0.44326 \t @5 : 0.40074 \t @1 : 0.23808\n",
      "Test mrr: 0.3830994487641841\n",
      "==================== Epoch 85 ====================\n"
     ]
    },
    {
     "name": "stderr",
     "output_type": "stream",
     "text": [
      "100%|██████████████████████████████████████████████████████████████████████████████████| 95/95 [03:12<00:00,  2.03s/it]\n",
      "  0%|                                                                                           | 0/95 [00:00<?, ?it/s]"
     ]
    },
    {
     "name": "stdout",
     "output_type": "stream",
     "text": [
      "Training Loss: 0.63937\n",
      "Train Hits \t @10: 0.92980 \t @5 : 0.81391 \t @1 : 0.39123\n",
      "Train ndcg \t @10: 0.65390 \t @5 : 0.61602 \t @1 : 0.39123\n",
      "Train mrr: 0.5481461867207472\n",
      "Valid Hits \t @10: 0.70977 \t @5 : 0.58460 \t @1 : 0.25530\n",
      "Valid ndcg \t @10: 0.46864 \t @5 : 0.42799 \t @1 : 0.25530\n",
      "Valid mrr: 0.4106030310655125\n",
      "Test Hits \t @10: 0.67517 \t @5 : 0.54768 \t @1 : 0.23841\n",
      "Test ndcg \t @10: 0.44176 \t @5 : 0.40052 \t @1 : 0.23841\n",
      "Test mrr: 0.3830994487641841\n",
      "==================== Epoch 86 ====================\n"
     ]
    },
    {
     "name": "stderr",
     "output_type": "stream",
     "text": [
      "100%|██████████████████████████████████████████████████████████████████████████████████| 95/95 [03:17<00:00,  2.08s/it]\n",
      "  0%|                                                                                           | 0/95 [00:00<?, ?it/s]"
     ]
    },
    {
     "name": "stdout",
     "output_type": "stream",
     "text": [
      "Training Loss: 0.64462\n",
      "Train Hits \t @10: 0.92632 \t @5 : 0.80977 \t @1 : 0.39503\n",
      "Train ndcg \t @10: 0.65404 \t @5 : 0.61581 \t @1 : 0.39503\n",
      "Train mrr: 0.5481461867207472\n",
      "Valid Hits \t @10: 0.70745 \t @5 : 0.58427 \t @1 : 0.25513\n",
      "Valid ndcg \t @10: 0.46713 \t @5 : 0.42683 \t @1 : 0.25513\n",
      "Valid mrr: 0.4106030310655125\n",
      "Test Hits \t @10: 0.67467 \t @5 : 0.54255 \t @1 : 0.23493\n",
      "Test ndcg \t @10: 0.43850 \t @5 : 0.39545 \t @1 : 0.23493\n",
      "Test mrr: 0.3830994487641841\n",
      "==================== Epoch 87 ====================\n"
     ]
    },
    {
     "name": "stderr",
     "output_type": "stream",
     "text": [
      "100%|██████████████████████████████████████████████████████████████████████████████████| 95/95 [03:14<00:00,  2.05s/it]\n",
      "  0%|                                                                                           | 0/95 [00:00<?, ?it/s]"
     ]
    },
    {
     "name": "stdout",
     "output_type": "stream",
     "text": [
      "Training Loss: 0.63262\n",
      "Train Hits \t @10: 0.92947 \t @5 : 0.81937 \t @1 : 0.40265\n",
      "Train ndcg \t @10: 0.66228 \t @5 : 0.62615 \t @1 : 0.40265\n",
      "Train mrr: 0.5481461867207472\n",
      "Valid Hits \t @10: 0.71109 \t @5 : 0.59056 \t @1 : 0.26109\n",
      "Valid ndcg \t @10: 0.47357 \t @5 : 0.43442 \t @1 : 0.26109\n",
      "Valid mrr: 0.4106030310655125\n",
      "Test Hits \t @10: 0.67616 \t @5 : 0.55182 \t @1 : 0.24884\n",
      "Test ndcg \t @10: 0.44798 \t @5 : 0.40762 \t @1 : 0.24884\n",
      "Test mrr: 0.3830994487641841\n",
      "==================== Epoch 88 ====================\n"
     ]
    },
    {
     "name": "stderr",
     "output_type": "stream",
     "text": [
      "100%|██████████████████████████████████████████████████████████████████████████████████| 95/95 [03:16<00:00,  2.07s/it]\n",
      "  0%|                                                                                           | 0/95 [00:00<?, ?it/s]"
     ]
    },
    {
     "name": "stdout",
     "output_type": "stream",
     "text": [
      "Training Loss: 0.64883\n",
      "Train Hits \t @10: 0.93046 \t @5 : 0.81738 \t @1 : 0.39619\n",
      "Train ndcg \t @10: 0.65804 \t @5 : 0.62098 \t @1 : 0.39619\n",
      "Train mrr: 0.5481461867207472\n",
      "Valid Hits \t @10: 0.71142 \t @5 : 0.58957 \t @1 : 0.25579\n",
      "Valid ndcg \t @10: 0.47060 \t @5 : 0.43087 \t @1 : 0.25579\n",
      "Valid mrr: 0.4106030310655125\n",
      "Test Hits \t @10: 0.67533 \t @5 : 0.55430 \t @1 : 0.24023\n",
      "Test ndcg \t @10: 0.44490 \t @5 : 0.40578 \t @1 : 0.24023\n",
      "Test mrr: 0.3830994487641841\n",
      "==================== Epoch 89 ====================\n"
     ]
    },
    {
     "name": "stderr",
     "output_type": "stream",
     "text": [
      "100%|██████████████████████████████████████████████████████████████████████████████████| 95/95 [03:10<00:00,  2.00s/it]\n",
      "  0%|                                                                                           | 0/95 [00:00<?, ?it/s]"
     ]
    },
    {
     "name": "stdout",
     "output_type": "stream",
     "text": [
      "Training Loss: 0.62961\n",
      "Train Hits \t @10: 0.92566 \t @5 : 0.81175 \t @1 : 0.39255\n",
      "Train ndcg \t @10: 0.65370 \t @5 : 0.61645 \t @1 : 0.39255\n",
      "Train mrr: 0.5481461867207472\n",
      "Valid Hits \t @10: 0.71772 \t @5 : 0.58642 \t @1 : 0.26275\n",
      "Valid ndcg \t @10: 0.47374 \t @5 : 0.43103 \t @1 : 0.26275\n",
      "Valid mrr: 0.4106030310655125\n",
      "Test Hits \t @10: 0.67699 \t @5 : 0.54238 \t @1 : 0.22997\n",
      "Test ndcg \t @10: 0.43863 \t @5 : 0.39501 \t @1 : 0.22997\n",
      "Test mrr: 0.3830994487641841\n",
      "==================== Epoch 90 ====================\n"
     ]
    },
    {
     "name": "stderr",
     "output_type": "stream",
     "text": [
      "100%|██████████████████████████████████████████████████████████████████████████████████| 95/95 [03:12<00:00,  2.03s/it]\n",
      "  0%|                                                                                           | 0/95 [00:00<?, ?it/s]"
     ]
    },
    {
     "name": "stdout",
     "output_type": "stream",
     "text": [
      "Training Loss: 0.62964\n",
      "Train Hits \t @10: 0.92616 \t @5 : 0.81424 \t @1 : 0.39520\n",
      "Train ndcg \t @10: 0.65520 \t @5 : 0.61859 \t @1 : 0.39520\n",
      "Train mrr: 0.5481461867207472\n",
      "Valid Hits \t @10: 0.71639 \t @5 : 0.58675 \t @1 : 0.24123\n",
      "Valid ndcg \t @10: 0.46479 \t @5 : 0.42267 \t @1 : 0.24123\n",
      "Valid mrr: 0.4106030310655125\n",
      "Test Hits \t @10: 0.67285 \t @5 : 0.54884 \t @1 : 0.24007\n",
      "Test ndcg \t @10: 0.44153 \t @5 : 0.40124 \t @1 : 0.24007\n",
      "Test mrr: 0.3830994487641841\n",
      "==================== Epoch 91 ====================\n"
     ]
    },
    {
     "name": "stderr",
     "output_type": "stream",
     "text": [
      "100%|██████████████████████████████████████████████████████████████████████████████████| 95/95 [03:14<00:00,  2.05s/it]\n",
      "  0%|                                                                                           | 0/95 [00:00<?, ?it/s]"
     ]
    },
    {
     "name": "stdout",
     "output_type": "stream",
     "text": [
      "Training Loss: 0.62364\n",
      "Train Hits \t @10: 0.93146 \t @5 : 0.81606 \t @1 : 0.39934\n",
      "Train ndcg \t @10: 0.66038 \t @5 : 0.62267 \t @1 : 0.39934\n",
      "Train mrr: 0.5481461867207472\n",
      "Valid Hits \t @10: 0.71209 \t @5 : 0.57831 \t @1 : 0.25182\n",
      "Valid ndcg \t @10: 0.46697 \t @5 : 0.42352 \t @1 : 0.25182\n",
      "Valid mrr: 0.4106030310655125\n",
      "Test Hits \t @10: 0.67252 \t @5 : 0.54735 \t @1 : 0.23957\n",
      "Test ndcg \t @10: 0.43977 \t @5 : 0.39910 \t @1 : 0.23957\n",
      "Test mrr: 0.3830994487641841\n",
      "==================== Epoch 92 ====================\n"
     ]
    },
    {
     "name": "stderr",
     "output_type": "stream",
     "text": [
      "100%|██████████████████████████████████████████████████████████████████████████████████| 95/95 [03:19<00:00,  2.10s/it]\n",
      "  0%|                                                                                           | 0/95 [00:00<?, ?it/s]"
     ]
    },
    {
     "name": "stdout",
     "output_type": "stream",
     "text": [
      "Training Loss: 0.62884\n",
      "Train Hits \t @10: 0.92897 \t @5 : 0.81705 \t @1 : 0.39073\n",
      "Train ndcg \t @10: 0.65643 \t @5 : 0.61978 \t @1 : 0.39073\n",
      "Train mrr: 0.5481461867207472\n",
      "Valid Hits \t @10: 0.71639 \t @5 : 0.58642 \t @1 : 0.25977\n",
      "Valid ndcg \t @10: 0.47408 \t @5 : 0.43194 \t @1 : 0.25977\n",
      "Valid mrr: 0.4106030310655125\n",
      "Test Hits \t @10: 0.67765 \t @5 : 0.54189 \t @1 : 0.23609\n",
      "Test ndcg \t @10: 0.44136 \t @5 : 0.39725 \t @1 : 0.23609\n",
      "Test mrr: 0.3830994487641841\n",
      "==================== Epoch 93 ====================\n"
     ]
    },
    {
     "name": "stderr",
     "output_type": "stream",
     "text": [
      "100%|██████████████████████████████████████████████████████████████████████████████████| 95/95 [03:19<00:00,  2.10s/it]\n",
      "  0%|                                                                                           | 0/95 [00:00<?, ?it/s]"
     ]
    },
    {
     "name": "stdout",
     "output_type": "stream",
     "text": [
      "Training Loss: 0.61668\n",
      "Train Hits \t @10: 0.93775 \t @5 : 0.82450 \t @1 : 0.39553\n",
      "Train ndcg \t @10: 0.66211 \t @5 : 0.62499 \t @1 : 0.39553\n",
      "Train mrr: 0.5782206043656404\n",
      "Valid Hits \t @10: 0.71987 \t @5 : 0.59685 \t @1 : 0.25828\n",
      "Valid ndcg \t @10: 0.47628 \t @5 : 0.43623 \t @1 : 0.25828\n",
      "Valid mrr: 0.4115935361164153\n",
      "Test Hits \t @10: 0.67632 \t @5 : 0.54603 \t @1 : 0.23758\n",
      "Test ndcg \t @10: 0.44163 \t @5 : 0.39937 \t @1 : 0.23758\n",
      "Test mrr: 0.38151510715449266\n",
      "==================== Epoch 94 ====================\n"
     ]
    },
    {
     "name": "stderr",
     "output_type": "stream",
     "text": [
      "100%|██████████████████████████████████████████████████████████████████████████████████| 95/95 [03:21<00:00,  2.12s/it]\n",
      "  0%|                                                                                           | 0/95 [00:00<?, ?it/s]"
     ]
    },
    {
     "name": "stdout",
     "output_type": "stream",
     "text": [
      "Training Loss: 0.62372\n",
      "Train Hits \t @10: 0.92930 \t @5 : 0.81523 \t @1 : 0.39685\n",
      "Train ndcg \t @10: 0.65755 \t @5 : 0.62033 \t @1 : 0.39685\n",
      "Train mrr: 0.5782206043656404\n",
      "Valid Hits \t @10: 0.71507 \t @5 : 0.58079 \t @1 : 0.25397\n",
      "Valid ndcg \t @10: 0.46984 \t @5 : 0.42627 \t @1 : 0.25397\n",
      "Valid mrr: 0.4115935361164153\n",
      "Test Hits \t @10: 0.67003 \t @5 : 0.54967 \t @1 : 0.24023\n",
      "Test ndcg \t @10: 0.44023 \t @5 : 0.40117 \t @1 : 0.24023\n",
      "Test mrr: 0.38151510715449266\n",
      "==================== Epoch 95 ====================\n"
     ]
    },
    {
     "name": "stderr",
     "output_type": "stream",
     "text": [
      "100%|██████████████████████████████████████████████████████████████████████████████████| 95/95 [03:19<00:00,  2.10s/it]\n",
      "  0%|                                                                                           | 0/95 [00:00<?, ?it/s]"
     ]
    },
    {
     "name": "stdout",
     "output_type": "stream",
     "text": [
      "Training Loss: 0.61119\n",
      "Train Hits \t @10: 0.93146 \t @5 : 0.82169 \t @1 : 0.40166\n",
      "Train ndcg \t @10: 0.66329 \t @5 : 0.62738 \t @1 : 0.40166\n",
      "Train mrr: 0.5782206043656404\n",
      "Valid Hits \t @10: 0.71507 \t @5 : 0.58328 \t @1 : 0.25248\n",
      "Valid ndcg \t @10: 0.46893 \t @5 : 0.42599 \t @1 : 0.25248\n",
      "Valid mrr: 0.4115935361164153\n",
      "Test Hits \t @10: 0.67334 \t @5 : 0.55000 \t @1 : 0.24156\n",
      "Test ndcg \t @10: 0.44299 \t @5 : 0.40296 \t @1 : 0.24156\n",
      "Test mrr: 0.38151510715449266\n",
      "==================== Epoch 96 ====================\n"
     ]
    },
    {
     "name": "stderr",
     "output_type": "stream",
     "text": [
      "100%|██████████████████████████████████████████████████████████████████████████████████| 95/95 [03:21<00:00,  2.12s/it]\n",
      "  0%|                                                                                           | 0/95 [00:00<?, ?it/s]"
     ]
    },
    {
     "name": "stdout",
     "output_type": "stream",
     "text": [
      "Training Loss: 0.61849\n",
      "Train Hits \t @10: 0.92566 \t @5 : 0.81225 \t @1 : 0.40182\n",
      "Train ndcg \t @10: 0.65841 \t @5 : 0.62132 \t @1 : 0.40182\n",
      "Train mrr: 0.5782206043656404\n",
      "Valid Hits \t @10: 0.71407 \t @5 : 0.58311 \t @1 : 0.24801\n",
      "Valid ndcg \t @10: 0.46652 \t @5 : 0.42398 \t @1 : 0.24801\n",
      "Valid mrr: 0.4115935361164153\n",
      "Test Hits \t @10: 0.66523 \t @5 : 0.53576 \t @1 : 0.23675\n",
      "Test ndcg \t @10: 0.43569 \t @5 : 0.39382 \t @1 : 0.23675\n",
      "Test mrr: 0.38151510715449266\n",
      "==================== Epoch 97 ====================\n"
     ]
    },
    {
     "name": "stderr",
     "output_type": "stream",
     "text": [
      "100%|██████████████████████████████████████████████████████████████████████████████████| 95/95 [03:18<00:00,  2.09s/it]\n",
      "  0%|                                                                                           | 0/95 [00:00<?, ?it/s]"
     ]
    },
    {
     "name": "stdout",
     "output_type": "stream",
     "text": [
      "Training Loss: 0.60961\n",
      "Train Hits \t @10: 0.93295 \t @5 : 0.81672 \t @1 : 0.39089\n",
      "Train ndcg \t @10: 0.65508 \t @5 : 0.61709 \t @1 : 0.39089\n",
      "Train mrr: 0.5782206043656404\n",
      "Valid Hits \t @10: 0.71374 \t @5 : 0.58460 \t @1 : 0.24868\n",
      "Valid ndcg \t @10: 0.46666 \t @5 : 0.42475 \t @1 : 0.24868\n",
      "Valid mrr: 0.4115935361164153\n",
      "Test Hits \t @10: 0.67103 \t @5 : 0.54470 \t @1 : 0.23593\n",
      "Test ndcg \t @10: 0.43873 \t @5 : 0.39776 \t @1 : 0.23593\n",
      "Test mrr: 0.38151510715449266\n",
      "==================== Epoch 98 ====================\n"
     ]
    },
    {
     "name": "stderr",
     "output_type": "stream",
     "text": [
      "100%|██████████████████████████████████████████████████████████████████████████████████| 95/95 [03:27<00:00,  2.18s/it]\n",
      "  0%|                                                                                           | 0/95 [00:00<?, ?it/s]"
     ]
    },
    {
     "name": "stdout",
     "output_type": "stream",
     "text": [
      "Training Loss: 0.61060\n",
      "Train Hits \t @10: 0.93278 \t @5 : 0.81871 \t @1 : 0.39007\n",
      "Train ndcg \t @10: 0.65580 \t @5 : 0.61852 \t @1 : 0.39007\n",
      "Train mrr: 0.5782206043656404\n",
      "Valid Hits \t @10: 0.71672 \t @5 : 0.58675 \t @1 : 0.25513\n",
      "Valid ndcg \t @10: 0.47068 \t @5 : 0.42847 \t @1 : 0.25513\n",
      "Valid mrr: 0.4115935361164153\n",
      "Test Hits \t @10: 0.67185 \t @5 : 0.54785 \t @1 : 0.24073\n",
      "Test ndcg \t @10: 0.44155 \t @5 : 0.40131 \t @1 : 0.24073\n",
      "Test mrr: 0.38151510715449266\n",
      "==================== Epoch 99 ====================\n"
     ]
    },
    {
     "name": "stderr",
     "output_type": "stream",
     "text": [
      "100%|██████████████████████████████████████████████████████████████████████████████████| 95/95 [03:29<00:00,  2.20s/it]\n",
      "  0%|                                                                                           | 0/95 [00:00<?, ?it/s]"
     ]
    },
    {
     "name": "stdout",
     "output_type": "stream",
     "text": [
      "Training Loss: 0.60744\n",
      "Train Hits \t @10: 0.93510 \t @5 : 0.82368 \t @1 : 0.40017\n",
      "Train ndcg \t @10: 0.66154 \t @5 : 0.62527 \t @1 : 0.40017\n",
      "Train mrr: 0.5782206043656404\n",
      "Valid Hits \t @10: 0.70844 \t @5 : 0.58659 \t @1 : 0.25381\n",
      "Valid ndcg \t @10: 0.46851 \t @5 : 0.42893 \t @1 : 0.25381\n",
      "Valid mrr: 0.4115935361164153\n",
      "Test Hits \t @10: 0.67566 \t @5 : 0.54719 \t @1 : 0.23940\n",
      "Test ndcg \t @10: 0.44251 \t @5 : 0.40085 \t @1 : 0.23940\n",
      "Test mrr: 0.38151510715449266\n",
      "==================== Epoch 100 ====================\n"
     ]
    },
    {
     "name": "stderr",
     "output_type": "stream",
     "text": [
      "100%|██████████████████████████████████████████████████████████████████████████████████| 95/95 [03:26<00:00,  2.18s/it]\n"
     ]
    },
    {
     "name": "stdout",
     "output_type": "stream",
     "text": [
      "Training Loss: 0.60833\n",
      "Train Hits \t @10: 0.93179 \t @5 : 0.81755 \t @1 : 0.40281\n",
      "Train ndcg \t @10: 0.66284 \t @5 : 0.62549 \t @1 : 0.40281\n",
      "Train mrr: 0.5782206043656404\n",
      "Valid Hits \t @10: 0.71109 \t @5 : 0.58477 \t @1 : 0.25695\n",
      "Valid ndcg \t @10: 0.47007 \t @5 : 0.42910 \t @1 : 0.25695\n",
      "Valid mrr: 0.4115935361164153\n",
      "Test Hits \t @10: 0.67219 \t @5 : 0.54669 \t @1 : 0.23808\n",
      "Test ndcg \t @10: 0.43995 \t @5 : 0.39933 \t @1 : 0.23808\n",
      "Test mrr: 0.38151510715449266\n",
      "====================================================================================================\n",
      "Maximum Training Hit \t @10: 0.93775 \t @5 : 0.82450 \t @1 : 0.39553\n",
      "Maximum Validation Hit \t @10: 0.71987 \t @5 : 0.59685 \t @1 : 0.25828\n",
      "Maximum Testing Hit \t @10: 0.67632 \t @5 : 0.54603 \t @1 : 0.23758\n",
      "Maximum Training ndcg \t @10: 0.66211 \t @5 : 0.62499 \t @1 : 0.39553\n",
      "Maximum Validation ndcg \t @10: 0.47628 \t @5 : 0.43623 \t @1 : 0.25828\n",
      "Maximum Testing ndcg \t @10: 0.44163 \t @5 : 0.39937 \t @1 : 0.23758\n",
      "Maximum Training mrr: 0.5782206043656404\n",
      "Maximum Validation mrr: 0.4115935361164153\n",
      "Maximum Testing mrr: 0.38151510715449266\n"
     ]
    }
   ],
   "source": [
    "# ------------------Training Initialization----------------------#\n",
    "max_train_hit = (0,0,0)\n",
    "max_val_hit = (0,0,0)\n",
    "max_test_hit = (0,0,0)\n",
    "\n",
    "max_train_ndcg = (0,0,0)\n",
    "max_val_ndcg = (0,0,0)\n",
    "max_test_ndcg = (0,0,0)\n",
    "\n",
    "max_train_mrr = 0\n",
    "max_val_mrr = 0\n",
    "max_test_mrr = 0\n",
    "\n",
    "i = 0;\n",
    "for epoch in range(num_epochs):\n",
    "    print(\"=\"*20,\"Epoch {}\".format(epoch+1),\"=\"*20)\n",
    "    \n",
    "    model.train()  \n",
    "    \n",
    "    running_loss = 0\n",
    "\n",
    "    for j,data in enumerate(tqdm(train_dl,position=0,leave=True)):\n",
    "        \n",
    "        if train_method != \"normal\":\n",
    "            optimizer_features.zero_grad()\n",
    "            optimizer_ids.zero_grad()\n",
    "            \n",
    "        elif train_method == \"normal\": \n",
    "            optimizer.zero_grad()\n",
    "        \n",
    "        if genre_dim != 0:            \n",
    "            inputs,genre_inputs,labels,x_lens,uid = data\n",
    "            outputs = model(x=inputs.to(device),x_lens=x_lens.squeeze().tolist(),x_genre=genre_inputs.to(device))\n",
    "        \n",
    "        elif genre_dim == 0:\n",
    "            inputs,labels,x_lens,uid = data \n",
    "            outputs = model(x=inputs.to(device),x_lens=x_lens.squeeze().tolist())\n",
    "       \n",
    "        if tied:\n",
    "            outputs_ignore_pad = outputs[:,:,:-1]\n",
    "            if loss_type == \"XE\":\n",
    "                loss = loss_fn(outputs_ignore_pad.view(-1,outputs_ignore_pad.size(-1)),labels.view(-1).to(device))\n",
    "            elif loss_type == \"BPR\" or loss_type == \"BPR_MAX\":\n",
    "                loss = loss_fn(outputs,labels.to(device),x_lens,uid)\n",
    "\n",
    "            \n",
    "        else:\n",
    "            if loss_type == \"XE\":\n",
    "                loss = loss_fn(outputs.view(-1,outputs.size(-1)),labels.view(-1).to(device))\n",
    "            elif loss_type == \"BPR\" or loss_type == \"BPR_MAX\":   \n",
    "                loss = loss_fn(outputs,labels.to(device),x_lens,uid)\n",
    "\n",
    "        loss.backward()\n",
    "        \n",
    "        \n",
    "        if train_method != \"normal\":\n",
    "            if train_method == \"interleave\":\n",
    "                # interleave on the epochs\n",
    "                if (j+1) % 2 == 0:\n",
    "                    optimizer_features.step()\n",
    "                else:\n",
    "                    optimizer_ids.step()\n",
    "\n",
    "            elif train_method == \"alternate\":\n",
    "                if (epoch+1) % 2 == 0:\n",
    "                    optimizer_features.step()\n",
    "                else:\n",
    "                    optimizer_ids.step()\n",
    "        \n",
    "    \n",
    "                    \n",
    "        elif train_method == \"normal\":\n",
    "            optimizer.step()\n",
    "\n",
    "        running_loss += loss.detach().cpu().item()\n",
    "\n",
    "    del outputs\n",
    "    torch.cuda.empty_cache()\n",
    "    training_hit,training_ndcg,training_mrr = Recall_Object(model,train_dl,\"train\")\n",
    "    validation_hit,validation_ndcg,validation_mrr = Recall_Object(model,val_dl,\"validation\")\n",
    "    testing_hit,testing_ndcg,testing_mrr = Recall_Object(model,test_dl,\"test\")\n",
    "    \n",
    "    if max_val_ndcg[0] < validation_ndcg[0]:\n",
    "        max_val_hit = validation_hit\n",
    "        max_test_hit = testing_hit\n",
    "        max_train_hit = training_hit\n",
    "        \n",
    "        max_train_ndcg = training_ndcg\n",
    "        max_val_ndcg = validation_ndcg\n",
    "        max_test_ndcg = testing_ndcg\n",
    "        \n",
    "        max_train_mrr = training_mrr\n",
    "        max_val_mrr = validation_mrr\n",
    "        max_test_mrr = testing_mrr\n",
    "    \n",
    "    torch.cuda.empty_cache()\n",
    "    print(\"Training Loss: {:.5f}\".format(running_loss/len(train_dl)))\n",
    "    \n",
    "    print(\"Train Hits \\t @10: {:.5f} \\t @5 : {:.5f} \\t @1 : {:.5f}\".format(*training_hit))\n",
    "    print(\"Train ndcg \\t @10: {:.5f} \\t @5 : {:.5f} \\t @1 : {:.5f}\".format(*training_ndcg))\n",
    "    print(\"Train mrr: {}\".format(max_train_mrr))\n",
    "\n",
    "    print(\"Valid Hits \\t @10: {:.5f} \\t @5 : {:.5f} \\t @1 : {:.5f}\".format(*validation_hit))\n",
    "    print(\"Valid ndcg \\t @10: {:.5f} \\t @5 : {:.5f} \\t @1 : {:.5f}\".format(*validation_ndcg))\n",
    "    print(\"Valid mrr: {}\".format(max_val_mrr))\n",
    "\n",
    "    print(\"Test Hits \\t @10: {:.5f} \\t @5 : {:.5f} \\t @1 : {:.5f}\".format(*testing_hit))\n",
    "    print(\"Test ndcg \\t @10: {:.5f} \\t @5 : {:.5f} \\t @1 : {:.5f}\".format(*testing_ndcg))\n",
    "    print(\"Test mrr: {}\".format(max_test_mrr))\n",
    "\n",
    "print(\"=\"*100)\n",
    "print(\"Maximum Training Hit \\t @10: {:.5f} \\t @5 : {:.5f} \\t @1 : {:.5f}\".format(*max_train_hit))\n",
    "print(\"Maximum Validation Hit \\t @10: {:.5f} \\t @5 : {:.5f} \\t @1 : {:.5f}\".format(*max_val_hit))\n",
    "print(\"Maximum Testing Hit \\t @10: {:.5f} \\t @5 : {:.5f} \\t @1 : {:.5f}\".format(*max_test_hit))\n",
    "\n",
    "print(\"Maximum Training ndcg \\t @10: {:.5f} \\t @5 : {:.5f} \\t @1 : {:.5f}\".format(*max_train_ndcg))\n",
    "print(\"Maximum Validation ndcg \\t @10: {:.5f} \\t @5 : {:.5f} \\t @1 : {:.5f}\".format(*max_val_ndcg))\n",
    "print(\"Maximum Testing ndcg \\t @10: {:.5f} \\t @5 : {:.5f} \\t @1 : {:.5f}\".format(*max_test_ndcg))\n",
    "\n",
    "print(\"Maximum Training mrr: {}\".format(max_train_mrr))\n",
    "print(\"Maximum Validation mrr: {}\".format(max_val_mrr))\n",
    "print(\"Maximum Testing mrr: {}\".format(max_test_mrr))"
   ]
  },
  {
   "cell_type": "code",
   "execution_count": 41,
   "metadata": {},
   "outputs": [
    {
     "name": "stdout",
     "output_type": "stream",
     "text": [
      "====================================================================================================\n",
      "Maximum Training Hit \t @10: 0.89040 \t @5 : 0.75050 \t @1 : 0.35066\n",
      "Maximum Validation Hit \t @10: 0.71871 \t @5 : 0.58841 \t @1 : 0.26026\n",
      "Maximum Testing Hit \t @10: 0.68113 \t @5 : 0.54818 \t @1 : 0.23460\n",
      "Maximum Training ndcg \t @10: 0.60706 \t @5 : 0.56142 \t @1 : 0.35066\n",
      "Maximum Validation ndcg \t @10: 0.47425 \t @5 : 0.43199 \t @1 : 0.26026\n",
      "Maximum Testing ndcg \t @10: 0.44364 \t @5 : 0.40063 \t @1 : 0.23460\n",
      "Maximum Training mrr: 0.52428333881332\n",
      "Maximum Validation mrr: 0.4098393275852877\n",
      "Maximum Testing mrr: 0.38292142896445347\n"
     ]
    }
   ],
   "source": [
    "print(\"=\"*100)\n",
    "print(\"Maximum Training Hit \\t @10: {:.5f} \\t @5 : {:.5f} \\t @1 : {:.5f}\".format(*max_train_hit))\n",
    "print(\"Maximum Validation Hit \\t @10: {:.5f} \\t @5 : {:.5f} \\t @1 : {:.5f}\".format(*max_val_hit))\n",
    "print(\"Maximum Testing Hit \\t @10: {:.5f} \\t @5 : {:.5f} \\t @1 : {:.5f}\".format(*max_test_hit))\n",
    "\n",
    "print(\"Maximum Training ndcg \\t @10: {:.5f} \\t @5 : {:.5f} \\t @1 : {:.5f}\".format(*max_train_ndcg))\n",
    "print(\"Maximum Validation ndcg \\t @10: {:.5f} \\t @5 : {:.5f} \\t @1 : {:.5f}\".format(*max_val_ndcg))\n",
    "print(\"Maximum Testing ndcg \\t @10: {:.5f} \\t @5 : {:.5f} \\t @1 : {:.5f}\".format(*max_test_ndcg))\n",
    "\n",
    "print(\"Maximum Training mrr: {}\".format(max_train_mrr))\n",
    "print(\"Maximum Validation mrr: {}\".format(max_val_mrr))\n",
    "print(\"Maximum Testing mrr: {}\".format(max_test_mrr))"
   ]
  },
  {
   "cell_type": "code",
   "execution_count": null,
   "metadata": {},
   "outputs": [],
   "source": [
    "# input and label\n",
    "x = [5,3,10,11]\n",
    "y = [3,10,11,13]\n",
    "print(torch.cuda.is_available())\n",
    "print(y[0:5])\n",
    "# notes: gru layer stores hidden layer when using sequence input\n",
    "# use final hidden state from packed output\n",
    "# cross entropy loss used"
   ]
  },
  {
   "cell_type": "markdown",
   "metadata": {},
   "source": [
    "INTRO:\n",
    "add proposal of what we want to do\n",
    "\n",
    "EVAL:\n"
   ]
  }
 ],
 "metadata": {
  "kernelspec": {
   "display_name": "Python 3",
   "language": "python",
   "name": "python3"
  },
  "language_info": {
   "codemirror_mode": {
    "name": "ipython",
    "version": 3
   },
   "file_extension": ".py",
   "mimetype": "text/x-python",
   "name": "python",
   "nbconvert_exporter": "python",
   "pygments_lexer": "ipython3",
   "version": "3.9.5"
  }
 },
 "nbformat": 4,
 "nbformat_minor": 4
}
