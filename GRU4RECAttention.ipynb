{
 "cells": [
  {
   "cell_type": "code",
   "execution_count": 2,
   "metadata": {},
   "outputs": [],
   "source": [
    "import os\n",
    "os.environ['CUDA_LAUNCH_BLOCKING'] = '1'\n",
    "\n",
    "import torch\n",
    "import torch.nn as nn\n",
    "import torch.nn.functional as F\n",
    "\n",
    "import argparse\n",
    "from torch.utils.data import DataLoader\n",
    "import torch\n",
    "from tqdm import tqdm\n",
    "\n",
    "from preprocessing import *\n",
    "from dataset import *\n",
    "from metrics import *\n",
    "from model import *\n",
    "from utils import bert2dict"
   ]
  },
  {
   "cell_type": "code",
   "execution_count": 3,
   "metadata": {},
   "outputs": [],
   "source": [
    "MAX_LENGTH = 200\n",
    "# class gru4recFC_decoder(nn.Module):\n",
    "#     def __init__(self, hidden_size, output_size, dropout_p=0.1, max_length=MAX_LENGTH):\n",
    "#         super(gru4recFC_decoder, self).__init__()\n",
    "#         self.hidden_size = hidden_size\n",
    "#         self.output_size = output_size\n",
    "#         self.dropout_p = dropout_p\n",
    "#         self.max_length = max_length\n",
    "\n",
    "#         self.embedding = nn.Embedding(self.output_size, self.hidden_size)\n",
    "#         self.attn = nn.Linear(self.hidden_size * 2, self.max_length)\n",
    "#         self.attn_combine = nn.Linear(self.hidden_size * 2, self.hidden_size)\n",
    "#         self.dropout = nn.Dropout(self.dropout_p)\n",
    "#         self.gru = nn.GRU(self.hidden_size, self.hidden_size)\n",
    "#         self.out = nn.Linear(self.hidden_size, self.output_size)\n",
    "\n",
    "#     def forward(self, input, hidden, encoder_outputs):\n",
    "#         embedded = self.embedding(input).view(1, 1, -1)\n",
    "#         embedded = self.dropout(embedded)\n",
    "\n",
    "#         attn_weights = F.softmax(\n",
    "#             self.attn(torch.cat((embedded[0], hidden[0]), 1)), dim=1)\n",
    "#         attn_applied = torch.bmm(attn_weights.unsqueeze(0),\n",
    "#                                  encoder_outputs.unsqueeze(0))\n",
    "\n",
    "#         output = torch.cat((embedded[0], attn_applied[0]), 1)\n",
    "#         output = self.attn_combine(output).unsqueeze(0)\n",
    "\n",
    "#         output = F.relu(output)\n",
    "#         output, hidden = self.gru(output, hidden)\n",
    "\n",
    "#         output = F.log_softmax(self.out(output[0]), dim=1)\n",
    "#         return output, hidden, attn_weights\n",
    "\n",
    "#     def initHidden(self):\n",
    "#         return torch.zeros(1, 1, self.hidden_size, device=device)\n",
    "    \n",
    "# # class EncoderRNN(nn.Module):\n",
    "# #     def __init__(self, input_size, hidden_size):\n",
    "# #         super(EncoderRNN, self).__init__()\n",
    "# #         self.hidden_size = hidden_size\n",
    "\n",
    "# #         self.embedding = nn.Embedding(input_size, hidden_size)\n",
    "# #         self.gru = nn.GRU(hidden_size, hidden_size)\n",
    "\n",
    "# #     def forward(self, input, hidden):\n",
    "# #         embedded = self.embedding(input).view(1, 1, -1)\n",
    "# #         output = embedded\n",
    "# #         output, hidden = self.gru(output, hidden)\n",
    "# #         return output, hidden\n",
    "\n",
    "# #     def initHidden(self):\n",
    "# #         return torch.zeros(1, 1, self.hidden_size, device=device)\n",
    "\n",
    "class gru4recF_decoder(nn.Module):\n",
    "    def __init__(self, hidden_dim, output_dim, dropout=0, max_length=MAX_LENGTH):\n",
    "        super(gru4recF_decoder, self).__init__()\n",
    "        self.hidden_dim = hidden_dim\n",
    "        self.output_dim = output_dim\n",
    "        self.dropout = dropout\n",
    "        self.max_length = max_length\n",
    "\n",
    "        self.embedding = nn.Embedding(self.output_dim+1, self.hidden_dim)\n",
    "        self.attn = nn.Linear(self.hidden_dim * 2, self.max_length)\n",
    "        self.attn_combine = nn.Linear(self.hidden_dim * 2, self.hidden_dim)\n",
    "        self.dropout = nn.Dropout(self.dropout)\n",
    "        self.gru = nn.GRU(self.hidden_dim, self.hidden_dim)\n",
    "        self.out = nn.Linear(self.hidden_dim, self.output_dim)\n",
    "\n",
    "    def forward(self, input, hidden, encoder_outputs):\n",
    "        embedded = self.embedding(input).view(1, input.size()[1], -1)\n",
    "        embedded = self.dropout(embedded)\n",
    "        \n",
    "#         print(\"Pre-Embedded Tensor: \")\n",
    "#         print(input[0])\n",
    "        \n",
    "#         print(\"Embedded Dimension: \")\n",
    "#         print(embedded.size())\n",
    "        \n",
    "#         print(\"Hidden Dimension: \")\n",
    "#         print(hidden.size())\n",
    "\n",
    "#         print(\"Embedded Tensor: \")\n",
    "#         print(embedded[0])\n",
    "        \n",
    "#         print(\"Hidden Tensor: \")\n",
    "#         print(hidden[0])\n",
    "        \n",
    "        attn_weights = F.softmax(\n",
    "            self.attn(torch.cat((embedded[0], hidden[0]), 1)), dim=1)\n",
    "        \n",
    "#         print(\"Attention Dimension: \")\n",
    "#         print(attn_weights.size())\n",
    "        \n",
    "#         print(\"Encoder Outputs Dimension: \")\n",
    "#         print(encoder_outputs.size())\n",
    "        \n",
    "        attn_applied = torch.bmm(attn_weights.unsqueeze(1),\n",
    "                                 encoder_outputs).squeeze(1)\n",
    "        \n",
    "#         print(\"Attention Applied Dimension: \")\n",
    "#         print(attn_applied.size())\n",
    "\n",
    "        output = torch.cat((embedded[0], attn_applied), 1)\n",
    "        output = self.attn_combine(output).unsqueeze(0)\n",
    "\n",
    "        output = F.relu(output)\n",
    "        output, hidden = self.gru(output, hidden)\n",
    "\n",
    "        output = self.out(output[0])\n",
    "        \n",
    "#         print(\"Output Dimension: \")\n",
    "#         print(output.size())\n",
    "        \n",
    "#         print(\"New Hidden Dimension: \")\n",
    "#         print(hidden.size())\n",
    "        \n",
    "        return output, hidden, attn_weights\n",
    "\n",
    "    def initHidden(self):\n",
    "        return torch.zeros(1, 1, self.hidden_size, device=device)"
   ]
  },
  {
   "cell_type": "code",
   "execution_count": null,
   "metadata": {},
   "outputs": [],
   "source": [
    "# class gru4recF_attention(nn.Module):\n",
    "#         def __init__(self,embedding_dim,\n",
    "#                  hidden_dim,\n",
    "#                  output_dim,\n",
    "#                  genre_dim=0,\n",
    "#                  batch_first=True,\n",
    "#                  max_length=200,\n",
    "#                  pad_token=0,\n",
    "#                  pad_genre_token=0,\n",
    "#                  bert_dim=0,\n",
    "#                  dropout=0,\n",
    "#                  tied=False):\n",
    "#             self.bert_dim = bert_dim\n",
    "#             self.genre_dim = genre_dim\n",
    "            \n",
    "#             self.model = gru4recF_encoder(embedding_dim=embedding_dim,\n",
    "#              hidden_dim=hidden_dim,\n",
    "#              output_dim=output_dim,\n",
    "#              genre_dim=genre_dim,\n",
    "#              batch_first=True,\n",
    "#              max_length=max_length,\n",
    "#              bert_dim=bert_dim,\n",
    "#              tied = tied,\n",
    "#              dropout=dropout)\n",
    "\n",
    "#             self.modelD = gru4recF_decoder(hidden_dim=hidden_dim, output_dim=output_dim, dropout=0, max_length=max_length)\n",
    "            \n",
    "#         def forward(self,x,x_lens,labels,x_genre=None,pack=True):\n",
    "#             encoder_outputs, hidden_states = self.model(x=inputs.to(device),x_lens=x_lens.squeeze().tolist())\n",
    "#             decoder_inputs = inputs[:,0].view(1,-1).to(device)\n",
    "#             decoder_hidden = hidden_states\n",
    "            \n",
    "#             outputs = torch.zeros(inputs.size()[0],max_length,output_dim, device=device)\n",
    "            \n",
    "#             for i in range(max_length):\n",
    "#                 decoder_outputs, decoder_hidden, decoder_attention = self.modelD(decoder_inputs, decoder_hidden, encoder_outputs)\n",
    "#                 outputs[:,i,:] = decoder_outputs\n",
    "#                 decoder_inputs = labels[:,i].view(1,-1)"
   ]
  },
  {
   "cell_type": "code",
   "execution_count": 4,
   "metadata": {},
   "outputs": [],
   "source": [
    "class gru4recF_attention(nn.Module):\n",
    "    \"\"\"\n",
    "    embedding dim: the dimension of the item-embedding look-up table\n",
    "    hidden_dim: the dimension of the hidden state of the GRU-RNN\n",
    "    batch_first: whether the batch dimension should be the first dimension of input to GRU-RNN\n",
    "    output_dim: the output dimension of the last fully connected layer\n",
    "    max_length: the maximum session length for any user, used for packing/padding input to GRU-RNN\n",
    "    pad_token: the value that pad tokens should be set to for GRU-RNN and item embedding\n",
    "    bert_dim: the dimension of the feature-embedding look-up table\n",
    "    ... to do add all comments ... \n",
    "    \"\"\"\n",
    "    def __init__(self,embedding_dim,\n",
    "                 hidden_dim,\n",
    "                 output_dim,\n",
    "                 genre_dim=0,\n",
    "                 batch_first=True,\n",
    "                 max_length=200,\n",
    "                 pad_token=0,\n",
    "                 pad_genre_token=0,\n",
    "                 bert_dim=0,\n",
    "                 dropout=0,\n",
    "                 tied=False,\n",
    "                 cat=True):\n",
    "        \n",
    "        super(gru4recF_attention,self).__init__()\n",
    "        \n",
    "        self.batch_first =batch_first\n",
    "        \n",
    "        self.embedding_dim = embedding_dim\n",
    "        self.hidden_dim =hidden_dim\n",
    "        self.output_dim =output_dim\n",
    "        self.genre_dim = genre_dim\n",
    "        self.bert_dim = bert_dim\n",
    "\n",
    "        self.max_length = max_length\n",
    "        self.pad_token = pad_token\n",
    "        self.pad_genre_token = pad_genre_token\n",
    "        \n",
    "        self.tied = tied\n",
    "        self.dropout = dropout\n",
    "        self.cat = cat\n",
    "        \n",
    "        if self.tied:\n",
    "            self.hidden_dim = embedding_dim\n",
    "    \n",
    "        # initialize item-id lookup table\n",
    "        # add 1 to output dimension because we have to add a pad token\n",
    "        self.movie_embedding = nn.Embedding(output_dim+1,embedding_dim,padding_idx=pad_token)\n",
    "        \n",
    "        #  initialize plot lookup table\n",
    "        # add 1 to output dimensino because we have to add a pad token\n",
    "        if bert_dim != 0:\n",
    "            self.plot_embedding = nn.Embedding(output_dim+1,bert_dim,padding_idx=pad_token)\n",
    "            #self.plot_embedding.requires_grad_(requires_grad=False)\n",
    "            #self.plot_embedding = torch.ones(output_dim+1,bert_dim).cuda() #nn.Embedding(output_dim+1,bert_dim,padding_idx=pad_token)\n",
    "            #self.plot_embedding[pad_token,:] = 0\n",
    "            \n",
    "            # project plot embedding to same dimensionality as movie embedding\n",
    "            self.plot_projection = nn.Linear(bert_dim,embedding_dim)\n",
    "                    \n",
    "        if genre_dim != 0:\n",
    "            self.genre_embedding = nn.Embedding(genre_dim+1,embedding_dim,padding_idx=pad_genre_token)\n",
    "\n",
    "\n",
    "        self.encoder_layer = nn.GRU(embedding_dim,self.hidden_dim,batch_first=self.batch_first,dropout=self.dropout)\n",
    "\n",
    "        if cat:\n",
    "            hidden_dim = hidden_dim * 2\n",
    "        \n",
    "#         # add 1 to the output dimension because we have to add a pad token\n",
    "        if not self.tied:\n",
    "            self.output_layer = nn.Linear(hidden_dim,output_dim)\n",
    "        \n",
    "        if self.tied:\n",
    "            self.output_layer = nn.Linear(hidden_dim,output_dim+1)\n",
    "            self.output_layer.weight = self.movie_embedding.weight\n",
    "    \n",
    "    def forward(self,x,x_lens,x_genre=None,pack=True):\n",
    "        # add the plot embedding and movie embedding\n",
    "        # do I add non-linearity or not? ... \n",
    "        # concatenate or not? ...\n",
    "        # many questions ...\n",
    "        batch_size = x.size()[0]\n",
    "        if (self.bert_dim != 0) and (self.genre_dim != 0):\n",
    "            x = self.movie_embedding(x) + self.plot_projection(F.leaky_relu(self.plot_embedding(x))) + self.genre_embedding(x_genre).sum(2)\n",
    "        elif (self.bert_dim != 0) and (self.genre_dim == 0):\n",
    "            x = self.movie_embedding(x) + self.plot_projection(F.leaky_relu(self.plot_embedding(x)))\n",
    "        elif (self.bert_dim == 0) and (self.genre_dim != 0):\n",
    "            x = self.movie_embedding(x) + self.genre_embedding(x_genre).sum(2)\n",
    "        else:\n",
    "            x = self.movie_embedding(x)\n",
    "        \n",
    "#         print(\"Embedder Dimension: \")\n",
    "#         print(x.size())\n",
    "        \n",
    "        if pack:\n",
    "            x = pack_padded_sequence(x,x_lens,batch_first=True,enforce_sorted=False)\n",
    "        \n",
    "        output_packed,hidden_state = self.encoder_layer(x) \n",
    "        \n",
    "        if pack:\n",
    "            encoder_states, _ = pad_packed_sequence(output_packed, batch_first=self.batch_first,total_length=self.max_length,padding_value=self.pad_token)\n",
    "        \n",
    "        # CCs = BS x MS x 2HS\n",
    "        if self.cat:\n",
    "            combined_contexts = torch.zeros(batch_size,max_length,self.hidden_dim*2)\n",
    "        else:\n",
    "            combined_contexts = torch.zeros(batch_size,max_length,self.hidden_dim)\n",
    "        \n",
    "        for t in range(max_length):\n",
    "            # CF = BS x (t+1) x HS\n",
    "            context_frame = encoder_states[:,:t+1,:]\n",
    "            # CH = BS x HS x 1\n",
    "            current_hidden = encoder_states[:,t,:].squeeze(1).unsqueeze(2)\n",
    "            # AS = BS x (t+1) x 1\n",
    "            attention_score = torch.bmm(context_frame,current_hidden)\n",
    "            # CFT = BS x HS x (t+1)\n",
    "            context_frame_transposed = torch.transpose(context_frame,1,2)\n",
    "            # CV = BS x HS\n",
    "            context_vector = torch.bmm(context_frame_transposed,attention_score).squeeze(2)\n",
    "            # CH = BS x HS\n",
    "            current_hidden = current_hidden.squeeze(2)\n",
    "            # CC = BS x 1 x 2HS\n",
    "            combined_context = torch.cat((current_hidden,context_vector),1).unsqueeze(1)\n",
    "            if self.cat:\n",
    "                combined_contexts[:,t,:] = combined_context\n",
    "            else:\n",
    "                combined_contexts[:,t,:] = context_vector\n",
    "            \n",
    "        # CCs = BS x MS x 2HS\n",
    "        # O = BS x MS x V\n",
    "        x = self.output_layer(combined_contexts)\n",
    "        \n",
    "        return x"
   ]
  },
  {
   "cell_type": "code",
   "execution_count": 5,
   "metadata": {},
   "outputs": [],
   "source": [
    "import torch\n",
    "import torch.nn as nn\n",
    "import torch.nn.functional as F"
   ]
  },
  {
   "cell_type": "code",
   "execution_count": 6,
   "metadata": {},
   "outputs": [],
   "source": [
    "# -*- coding: utf-8 -*-\n",
    "\"\"\"\n",
    "Created on Tue Mar 23 08:39:11 2021\n",
    "\n",
    "@author: lpott\n",
    "\"\"\"\n",
    "import argparse\n",
    "from torch.utils.data import DataLoader\n",
    "import torch\n",
    "from tqdm import tqdm\n",
    "\n",
    "from preprocessing import *\n",
    "from dataset import *\n",
    "from metrics import *\n",
    "from model import *\n",
    "from utils import bert2dict\n"
   ]
  },
  {
   "cell_type": "code",
   "execution_count": 25,
   "metadata": {},
   "outputs": [],
   "source": [
    "# variables\n",
    "\n",
    "read_filename =\"ml-1m\\\\ratings.dat\"\n",
    "read_bert_filename = \"bert_sequence_20m.txt\"\n",
    "read_movie_filename = \"\"#\"movies-1m.csv\"\n",
    "size = \"1m\"\n",
    "\n",
    "num_epochs = 100\n",
    "lr = 1e-2\n",
    "batch_size = 64\n",
    "reg = 1e-5\n",
    "train_method = \"normal\"\n",
    "loss_type = \"BPR\"\n",
    "num_neg_samples = 10\n",
    "\n",
    "\n",
    "hidden_dim = 256\n",
    "embedding_dim = 256\n",
    "bert_dim= 768\n",
    "window = 0\n",
    "\n",
    "freeze_plot = False\n",
    "tied = False\n",
    "dropout= 0\n",
    "\n",
    "k = 10\n",
    "max_length = 200\n",
    "min_len = 10\n",
    "\n",
    "\n",
    "# nextitnet options...\n",
    "hidden_layers = 3\n",
    "dilations = [1,2,2,4]\n",
    "\n",
    "model_type = \"attention\"\n",
    "\n",
    "device = torch.device('cuda' if torch.cuda.is_available() else 'cpu')"
   ]
  },
  {
   "cell_type": "code",
   "execution_count": 26,
   "metadata": {},
   "outputs": [],
   "source": [
    "torch.cuda.empty_cache()"
   ]
  },
  {
   "cell_type": "code",
   "execution_count": 27,
   "metadata": {},
   "outputs": [
    {
     "name": "stdout",
     "output_type": "stream",
     "text": [
      "========== Creating DataFrame ==========\n",
      "user_id        6040\n",
      "item_id        3706\n",
      "rating            5\n",
      "timestamp    458455\n",
      "dtype: int64\n",
      "(1000209, 4)\n",
      "Minimum Session Length: 20\n",
      "Maximum Session Length: 2314\n",
      "Average Session Length: 165.60\n",
      "========== Filtering Sessions <= 10  DataFrame ==========\n",
      "user_id        6040\n",
      "item_id        3706\n",
      "rating            5\n",
      "timestamp    458455\n",
      "dtype: int64\n",
      "(1000209, 4)\n",
      "Minimum Session Length: 20\n",
      "Maximum Session Length: 2314\n",
      "Average Session Length: 165.60\n"
     ]
    }
   ],
   "source": [
    "# ------------------Data Initialization----------------------#\n",
    "\n",
    "# convert .dat file to time-sorted pandas dataframe\n",
    "ml_1m = create_df(read_filename,size=size)\n",
    "\n",
    "# remove users who have sessions lengths less than min_len\n",
    "ml_1m = filter_df(ml_1m,item_min=min_len)"
   ]
  },
  {
   "cell_type": "code",
   "execution_count": 28,
   "metadata": {},
   "outputs": [
    {
     "name": "stdout",
     "output_type": "stream",
     "text": [
      "========== Initialize Reset DataFrame Object ==========\n",
      "========== Resetting user ids and item ids in DataFrame ==========\n"
     ]
    }
   ],
   "source": [
    "# ------------------Data Initialization----------------------#\n",
    "if read_movie_filename != \"\":\n",
    "    ml_movie_df = create_movie_df(read_movie_filename,size=size)\n",
    "    ml_movie_df = convert_genres(ml_movie_df)\n",
    "    \n",
    "    # initialize reset object\n",
    "    reset_object = reset_df()\n",
    "    \n",
    "    # map all user ids, item ids, and genres to range 0 - number of users/items/genres\n",
    "    ml_1m,ml_movie_df = reset_object.fit_transform(ml_1m,ml_movie_df)\n",
    "    \n",
    "    # value that padded genre tokens shall take\n",
    "    pad_genre_token = reset_object.genre_enc.transform([\"NULL\"]).item()\n",
    "    \n",
    "    genre_dim = len(np.unique(np.concatenate(ml_movie_df.genre))) - 1\n",
    "\n",
    "else:\n",
    "    # initialize reset object\n",
    "    reset_object = reset_df()\n",
    "    \n",
    "    # map all user ids and item ids to range 0 - Number of Users/Items \n",
    "    # i.e. [1,7,5] -> [0,2,1]\n",
    "    ml_1m = reset_object.fit_transform(ml_1m)\n",
    "    \n",
    "    pad_genre_token = None\n",
    "    ml_movie_df = None\n",
    "    genre_dim = 0"
   ]
  },
  {
   "cell_type": "code",
   "execution_count": 29,
   "metadata": {},
   "outputs": [
    {
     "name": "stdout",
     "output_type": "stream",
     "text": [
      "========== Reading .txt file with all item id and embeddings ==========\n"
     ]
    }
   ],
   "source": [
    "# ------------------Data Initialization----------------------#\n",
    "# how many unique users, items, ratings and timestamps are there\n",
    "n_users,n_items,n_ratings,n_timestamp = ml_1m.nunique()\n",
    "\n",
    "# value that padded tokens shall take\n",
    "pad_token = n_items\n",
    "\n",
    "# the output dimension for softmax layer\n",
    "output_dim = n_items\n",
    "\n",
    "\n",
    "# get the item id : bert plot embedding dictionary\n",
    "if bert_dim != 0:\n",
    "    feature_embed = bert2dict(bert_filename=read_bert_filename)"
   ]
  },
  {
   "cell_type": "code",
   "execution_count": 30,
   "metadata": {},
   "outputs": [
    {
     "name": "stderr",
     "output_type": "stream",
     "text": [
      "  1%|▊                                                                              | 65/6040 [00:00<00:09, 643.57it/s]"
     ]
    },
    {
     "name": "stdout",
     "output_type": "stream",
     "text": [
      "========== Creating User Histories ==========\n"
     ]
    },
    {
     "name": "stderr",
     "output_type": "stream",
     "text": [
      "100%|█████████████████████████████████████████████████████████████████████████████| 6040/6040 [00:08<00:00, 689.73it/s]\n"
     ]
    }
   ],
   "source": [
    "# create a dictionary of every user's session (history)\n",
    "# i.e. {user: [user clicks]}\n",
    "if size == \"1m\":\n",
    "    user_history = create_user_history(ml_1m)\n",
    "\n",
    "elif size == \"20m\":\n",
    "    import pickle\n",
    "    with open('userhistory.pickle', 'rb') as handle:\n",
    "        user_history = pickle.load(handle)\n",
    "# create a dictionary of all items a user has not clicked\n",
    "# i.e. {user: [items not clicked by user]}\n",
    "# user_noclicks = create_user_noclick(user_history,ml_1m,n_items)"
   ]
  },
  {
   "cell_type": "code",
   "execution_count": 31,
   "metadata": {},
   "outputs": [
    {
     "name": "stderr",
     "output_type": "stream",
     "text": [
      "100%|██████████████████████████████████████████████████████████████████████████| 6040/6040 [00:00<00:00, 177646.23it/s]"
     ]
    },
    {
     "name": "stdout",
     "output_type": "stream",
     "text": [
      "========== Splitting User Histories into Train, Validation, and Test Splits ==========\n"
     ]
    },
    {
     "name": "stderr",
     "output_type": "stream",
     "text": [
      "\n"
     ]
    }
   ],
   "source": [
    "# split data by leave-one-out strategy\n",
    "# have train dictionary {user: [last 41 items prior to last 2 items in user session]}\n",
    "# have val dictionary {user: [last 41 items prior to last item in user session]}\n",
    "# have test dictionary {user: [last 41 items]}\n",
    "# i.e. if max_length = 4, [1,2,3,4,5,6] -> [1,2,3,4] , [2,3,4,5] , [3,4,5,6]\n",
    "train_history,val_history,test_history = train_val_test_split(user_history,max_length=max_length)\n",
    "\n",
    "# initialize the train,validation, and test pytorch dataset objects\n",
    "# eval pads all items except last token to predict\n",
    "train_dataset = GRUDataset(train_history,genre_df=ml_movie_df,mode='train',max_length=max_length,pad_token=pad_token,pad_genre_token=pad_genre_token)\n",
    "val_dataset = GRUDataset(val_history,genre_df=ml_movie_df,mode='eval',max_length=max_length,pad_token=pad_token,pad_genre_token=pad_genre_token)\n",
    "test_dataset = GRUDataset(test_history,genre_df=ml_movie_df,mode='eval',max_length=max_length,pad_token=pad_token,pad_genre_token=pad_genre_token)\n",
    "\n",
    "# create the train,validation, and test pytorch dataloader objects\n",
    "train_dl = DataLoader(train_dataset,batch_size = batch_size,shuffle=True)\n",
    "val_dl = DataLoader(val_dataset,batch_size=64)\n",
    "test_dl = DataLoader(test_dataset,batch_size=64)"
   ]
  },
  {
   "cell_type": "code",
   "execution_count": 32,
   "metadata": {},
   "outputs": [
    {
     "name": "stdout",
     "output_type": "stream",
     "text": [
      "Bert dim: 768\n",
      "Genre dim: 0\n",
      "Pad Token: 3706\n",
      "Pad Genre Token: None\n"
     ]
    }
   ],
   "source": [
    "print(\"Bert dim: {:d}\".format(bert_dim))\n",
    "print(\"Genre dim: {:d}\".format(genre_dim))\n",
    "print(\"Pad Token: {}\".format(pad_token))\n",
    "print(\"Pad Genre Token: {}\".format(pad_genre_token))"
   ]
  },
  {
   "cell_type": "code",
   "execution_count": 33,
   "metadata": {},
   "outputs": [],
   "source": [
    "# ------------------Model Initialization----------------------#\n",
    "\n",
    "# initialize gru4rec model with arguments specified earlier\n",
    "if model_type == \"feature_add\":\n",
    "    model = gru4recF(embedding_dim=embedding_dim,\n",
    "             hidden_dim=hidden_dim,\n",
    "             output_dim=output_dim,\n",
    "             genre_dim=genre_dim,\n",
    "             batch_first=True,\n",
    "             max_length=max_length,\n",
    "             pad_token=pad_token,\n",
    "             pad_genre_token=pad_genre_token,\n",
    "             bert_dim=bert_dim,\n",
    "             tied = tied,\n",
    "             dropout=dropout)\n",
    "\n",
    "\n",
    "if model_type == \"feature_concat\":\n",
    "    model = gru4recFC(embedding_dim=embedding_dim,\n",
    "             hidden_dim=hidden_dim,\n",
    "             output_dim=output_dim,\n",
    "             genre_dim=genre_dim,\n",
    "             batch_first=True,\n",
    "             max_length=max_length,\n",
    "             pad_token=pad_token,\n",
    "             pad_genre_token=pad_genre_token,\n",
    "             bert_dim=bert_dim,\n",
    "             tied = tied,\n",
    "             dropout=dropout)\n",
    "\n",
    "if model_type == \"vanilla\":\n",
    "    model = gru4rec_vanilla(hidden_dim=hidden_dim,\n",
    "                            output_dim=output_dim,\n",
    "                            batch_first=True,\n",
    "                            max_length=max_length,\n",
    "                            pad_token=pad_token,\n",
    "                            tied=tied,\n",
    "                            embedding_dim=embedding_dim)\n",
    "\n",
    "if model_type ==\"feature_only\":\n",
    "    model = gru4rec_feature(hidden_dim=hidden_dim,\n",
    "                            output_dim=output_dim,\n",
    "                            batch_first=True,\n",
    "                            max_length=max_length,\n",
    "                            pad_token=pad_token,\n",
    "                            bert_dim=bert_dim)\n",
    "\n",
    "if model_type == \"conv\":\n",
    "    model = gru4rec_conv(embedding_dim,\n",
    "                 hidden_dim,\n",
    "                 output_dim,\n",
    "                 batch_first=True,\n",
    "                 max_length=200,\n",
    "                 pad_token=0,\n",
    "                 dropout=0,\n",
    "                 window=3,\n",
    "                 tied=tied)\n",
    "    \n",
    "if model_type == \"nextitnet\":\n",
    "    model = NextItNet(embedding_dim=embedding_dim,\n",
    "                      output_dim=output_dim,\n",
    "                      hidden_layers=hidden_layers,\n",
    "                      dilations=dilations,\n",
    "                      pad_token=n_items,\n",
    "                      max_len=max_length)\n",
    "\n",
    "if model_type == \"attention\":\n",
    "    model = gru4recF_attention(embedding_dim=embedding_dim,\n",
    "             hidden_dim=hidden_dim,\n",
    "             output_dim=output_dim,\n",
    "             genre_dim=genre_dim,\n",
    "             batch_first=True,\n",
    "             max_length=max_length,\n",
    "             pad_token=pad_token,\n",
    "             pad_genre_token=pad_genre_token,\n",
    "             bert_dim=bert_dim,\n",
    "             tied = tied,\n",
    "             dropout=dropout)\n",
    "#     modelD = gru4recF_decoder(hidden_dim=hidden_dim, output_dim=output_dim, dropout=0, max_length=max_length)\n",
    "#     modelD = modelD.to(device)"
   ]
  },
  {
   "cell_type": "code",
   "execution_count": 34,
   "metadata": {},
   "outputs": [],
   "source": [
    "if bert_dim != 0:\n",
    "    model.init_weight(reset_object,feature_embed)\n",
    "    \n",
    "model = model.to(device)"
   ]
  },
  {
   "cell_type": "code",
   "execution_count": 35,
   "metadata": {},
   "outputs": [
    {
     "data": {
      "text/plain": [
       "['plot_embedding.weight',\n",
       " 'plot_projection.weight',\n",
       " 'plot_projection.bias',\n",
       " 'encoder_layer.weight_ih_l0',\n",
       " 'encoder_layer.weight_hh_l0',\n",
       " 'encoder_layer.bias_ih_l0',\n",
       " 'encoder_layer.bias_hh_l0',\n",
       " 'output_layer.weight',\n",
       " 'output_layer.bias']"
      ]
     },
     "execution_count": 35,
     "metadata": {},
     "output_type": "execute_result"
    }
   ],
   "source": [
    "[name for name,param in model.named_parameters() if ((\"movie\" not in name) or (\"plot_embedding\" in name) or (\"genre\" in name))]"
   ]
  },
  {
   "cell_type": "code",
   "execution_count": 36,
   "metadata": {},
   "outputs": [
    {
     "data": {
      "text/plain": [
       "['movie_embedding.weight',\n",
       " 'encoder_layer.weight_ih_l0',\n",
       " 'encoder_layer.weight_hh_l0',\n",
       " 'encoder_layer.bias_ih_l0',\n",
       " 'encoder_layer.bias_hh_l0',\n",
       " 'output_layer.weight',\n",
       " 'output_layer.bias']"
      ]
     },
     "execution_count": 36,
     "metadata": {},
     "output_type": "execute_result"
    }
   ],
   "source": [
    "[name for name,param in model.named_parameters() if (\"plot\" not in name) and (\"genre\" not in name)]"
   ]
  },
  {
   "cell_type": "code",
   "execution_count": 20,
   "metadata": {},
   "outputs": [],
   "source": [
    "# initialize Adam optimizer with gru4rec model parameters\n",
    "if train_method != \"normal\":\n",
    "    optimizer_features = torch.optim.Adam([param for name,param in model.named_parameters() if ((\"movie\" not in name) or (\"plot_embedding\" in name) or (\"genre\" in name)) ],\n",
    "                                          lr=lr/10,weight_decay=reg)\n",
    "    \n",
    "    optimizer_ids = torch.optim.Adam([param for name,param in model.named_parameters() if (\"plot\" not in name) and (\"genre\" not in name)],\n",
    "                                     lr=lr,weight_decay=reg)\n",
    "\n",
    "elif train_method == \"normal\":\n",
    "    optimizer = torch.optim.Adam(model.parameters(),lr=lr,weight_decay=reg)\n",
    "    decoder_optimizer = torch.optim.Adam(model.parameters(), lr=lr,weight_decay=reg)\n",
    "if freeze_plot and bert_dim !=0:\n",
    "    model.plot_embedding.weight.requires_grad = False"
   ]
  },
  {
   "cell_type": "code",
   "execution_count": 21,
   "metadata": {},
   "outputs": [],
   "source": [
    "loss_fn = nn.CrossEntropyLoss(ignore_index=n_items)\n",
    "#Recall_Object = Recall_E_prob(ml_1m,user_history,n_users,n_items,k=k)\n",
    "#Recall_Object = Recall_E_Noprob(ml_1m,user_history,n_users,n_items,k=k)"
   ]
  },
  {
   "cell_type": "code",
   "execution_count": 22,
   "metadata": {},
   "outputs": [
    {
     "name": "stdout",
     "output_type": "stream",
     "text": [
      "========== Creating Hit@10 Metric Object ==========\n"
     ]
    }
   ],
   "source": [
    "Recall_Object = Recall_E_prob(ml_1m,user_history,n_users,n_items,k=k,device=device)"
   ]
  },
  {
   "cell_type": "code",
   "execution_count": 24,
   "metadata": {},
   "outputs": [
    {
     "name": "stderr",
     "output_type": "stream",
     "text": [
      "  0%|                                                                                           | 0/95 [00:00<?, ?it/s]"
     ]
    },
    {
     "name": "stdout",
     "output_type": "stream",
     "text": [
      "==================== Epoch 1 ====================\n"
     ]
    },
    {
     "name": "stderr",
     "output_type": "stream",
     "text": [
      "\n"
     ]
    },
    {
     "ename": "NameError",
     "evalue": "name 'loss_type' is not defined",
     "output_type": "error",
     "traceback": [
      "\u001b[1;31m---------------------------------------------------------------------------\u001b[0m",
      "\u001b[1;31mNameError\u001b[0m                                 Traceback (most recent call last)",
      "\u001b[1;32m<ipython-input-24-568eb09a2ea7>\u001b[0m in \u001b[0;36m<module>\u001b[1;34m\u001b[0m\n\u001b[0;32m     42\u001b[0m \u001b[1;33m\u001b[0m\u001b[0m\n\u001b[0;32m     43\u001b[0m         \u001b[1;32melse\u001b[0m\u001b[1;33m:\u001b[0m\u001b[1;33m\u001b[0m\u001b[1;33m\u001b[0m\u001b[0m\n\u001b[1;32m---> 44\u001b[1;33m             \u001b[1;32mif\u001b[0m \u001b[0mloss_type\u001b[0m \u001b[1;33m==\u001b[0m \u001b[1;34m\"XE\"\u001b[0m\u001b[1;33m:\u001b[0m\u001b[1;33m\u001b[0m\u001b[1;33m\u001b[0m\u001b[0m\n\u001b[0m\u001b[0;32m     45\u001b[0m                 \u001b[0mloss\u001b[0m \u001b[1;33m=\u001b[0m \u001b[0mloss_fn\u001b[0m\u001b[1;33m(\u001b[0m\u001b[0moutputs\u001b[0m\u001b[1;33m.\u001b[0m\u001b[0mview\u001b[0m\u001b[1;33m(\u001b[0m\u001b[1;33m-\u001b[0m\u001b[1;36m1\u001b[0m\u001b[1;33m,\u001b[0m\u001b[0moutputs\u001b[0m\u001b[1;33m.\u001b[0m\u001b[0msize\u001b[0m\u001b[1;33m(\u001b[0m\u001b[1;33m-\u001b[0m\u001b[1;36m1\u001b[0m\u001b[1;33m)\u001b[0m\u001b[1;33m)\u001b[0m\u001b[1;33m,\u001b[0m\u001b[0mlabels\u001b[0m\u001b[1;33m.\u001b[0m\u001b[0mview\u001b[0m\u001b[1;33m(\u001b[0m\u001b[1;33m-\u001b[0m\u001b[1;36m1\u001b[0m\u001b[1;33m)\u001b[0m\u001b[1;33m.\u001b[0m\u001b[0mto\u001b[0m\u001b[1;33m(\u001b[0m\u001b[0mdevice\u001b[0m\u001b[1;33m)\u001b[0m\u001b[1;33m)\u001b[0m\u001b[1;33m\u001b[0m\u001b[1;33m\u001b[0m\u001b[0m\n\u001b[0;32m     46\u001b[0m             \u001b[1;32melif\u001b[0m \u001b[0mloss_type\u001b[0m \u001b[1;33m==\u001b[0m \u001b[1;34m\"BPR\"\u001b[0m \u001b[1;32mor\u001b[0m \u001b[0mloss_type\u001b[0m \u001b[1;33m==\u001b[0m \u001b[1;34m\"BPR_MAX\"\u001b[0m\u001b[1;33m:\u001b[0m\u001b[1;33m\u001b[0m\u001b[1;33m\u001b[0m\u001b[0m\n",
      "\u001b[1;31mNameError\u001b[0m: name 'loss_type' is not defined"
     ]
    }
   ],
   "source": [
    "# ------------------Training Initialization----------------------#\n",
    "max_train_hit = (0,0,0)\n",
    "max_val_hit = (0,0,0)\n",
    "max_test_hit = (0,0,0)\n",
    "\n",
    "max_train_ndcg = (0,0,0)\n",
    "max_val_ndcg = (0,0,0)\n",
    "max_test_ndcg = (0,0,0)\n",
    "\n",
    "i = 0;\n",
    "for epoch in range(num_epochs):\n",
    "    print(\"=\"*20,\"Epoch {}\".format(epoch+1),\"=\"*20)\n",
    "    \n",
    "    model.train()  \n",
    "    \n",
    "    running_loss = 0\n",
    "\n",
    "    for j,data in enumerate(tqdm(train_dl,position=0,leave=True)):\n",
    "        \n",
    "        if train_method != \"normal\":\n",
    "            optimizer_features.zero_grad()\n",
    "            optimizer_ids.zero_grad()\n",
    "            \n",
    "        elif train_method == \"normal\": \n",
    "            optimizer.zero_grad()\n",
    "        \n",
    "        if genre_dim != 0:            \n",
    "            inputs,genre_inputs,labels,x_lens,uid = data\n",
    "            outputs = model(x=inputs.to(device),x_lens=x_lens.squeeze().tolist(),x_genre=genre_inputs.to(device))\n",
    "        \n",
    "        elif genre_dim == 0:\n",
    "            inputs,labels,x_lens,uid = data \n",
    "            outputs = model(x=inputs.to(device),x_lens=x_lens.squeeze().tolist())\n",
    "       \n",
    "        if tied:\n",
    "            outputs_ignore_pad = outputs[:,:,:-1]\n",
    "            if loss_type == \"XE\":\n",
    "                loss = loss_fn(outputs_ignore_pad.view(-1,outputs_ignore_pad.size(-1)),labels.view(-1).to(device))\n",
    "            elif loss_type == \"BPR\" or loss_type == \"BPR_MAX\":\n",
    "                loss = loss_fn(outputs,labels.to(device),x_lens,uid)\n",
    "\n",
    "            \n",
    "        else:\n",
    "            if loss_type == \"XE\":\n",
    "                loss = loss_fn(outputs.view(-1,outputs.size(-1)),labels.view(-1).to(device))\n",
    "            elif loss_type == \"BPR\" or loss_type == \"BPR_MAX\":   \n",
    "                loss = loss_fn(outputs,labels.to(device),x_lens,uid)\n",
    "\n",
    "        loss.backward()\n",
    "        \n",
    "        \n",
    "        if train_method != \"normal\":\n",
    "            if train_method == \"interleave\":\n",
    "                # interleave on the epochs\n",
    "                if (j+1) % 2 == 0:\n",
    "                    optimizer_features.step()\n",
    "                else:\n",
    "                    optimizer_ids.step()\n",
    "\n",
    "            elif train_method == \"alternate\":\n",
    "                if (epoch+1) % 2 == 0:\n",
    "                    optimizer_features.step()\n",
    "                else:\n",
    "                    optimizer_ids.step()\n",
    "        \n",
    "    \n",
    "                    \n",
    "        elif train_method == \"normal\":\n",
    "            optimizer.step()\n",
    "\n",
    "        running_loss += loss.detach().cpu().item()\n",
    "\n",
    "    del outputs\n",
    "    torch.cuda.empty_cache()\n",
    "    training_hit,training_ndcg = Recall_Object(model,train_dl,\"train\")\n",
    "    validation_hit,validation_ndcg = Recall_Object(model,val_dl,\"validation\")\n",
    "    testing_hit,testing_ndcg = Recall_Object(model,test_dl,\"test\")\n",
    "    \n",
    "    if max_val_ndcg[0] < validation_ndcg[0]:\n",
    "        max_val_hit = validation_hit\n",
    "        max_test_hit = testing_hit\n",
    "        max_train_hit = training_hit\n",
    "        \n",
    "        max_train_ndcg = training_ndcg\n",
    "        max_val_ndcg = validation_ndcg\n",
    "        max_test_ndcg = testing_ndcg\n",
    "    \n",
    "    torch.cuda.empty_cache()\n",
    "    print(\"Training Loss: {:.5f}\".format(running_loss/len(train_dl)))\n",
    "    \n",
    "    print(\"Train Hits \\t @10: {:.5f} \\t @5 : {:.5f} \\t @1 : {:.5f}\".format(*training_hit))\n",
    "    print(\"Train ndcg \\t @10: {:.5f} \\t @5 : {:.5f} \\t @1 : {:.5f}\".format(*training_ndcg))\n",
    "\n",
    "    print(\"Valid Hits \\t @10: {:.5f} \\t @5 : {:.5f} \\t @1 : {:.5f}\".format(*validation_hit))\n",
    "    print(\"Valid ndcg \\t @10: {:.5f} \\t @5 : {:.5f} \\t @1 : {:.5f}\".format(*validation_ndcg))\n",
    "\n",
    "    print(\"Test Hits \\t @10: {:.5f} \\t @5 : {:.5f} \\t @1 : {:.5f}\".format(*testing_hit))\n",
    "    print(\"Test ndcg \\t @10: {:.5f} \\t @5 : {:.5f} \\t @1 : {:.5f}\".format(*testing_ndcg))\n",
    "\n",
    "print(\"=\"*100)\n",
    "print(\"Maximum Training Hit \\t @10: {:.5f} \\t @5 : {:.5f} \\t @1 : {:.5f}\".format(*max_train_hit))\n",
    "print(\"Maximum Validation Hit \\t @10: {:.5f} \\t @5 : {:.5f} \\t @1 : {:.5f}\".format(*max_val_hit))\n",
    "print(\"Maximum Testing Hit \\t @10: {:.5f} \\t @5 : {:.5f} \\t @1 : {:.5f}\".format(*max_test_hit))"
   ]
  },
  {
   "cell_type": "code",
   "execution_count": 1,
   "metadata": {},
   "outputs": [
    {
     "name": "stdout",
     "output_type": "stream",
     "text": [
      "====================================================================================================\n"
     ]
    },
    {
     "ename": "NameError",
     "evalue": "name 'k' is not defined",
     "output_type": "error",
     "traceback": [
      "\u001b[1;31m---------------------------------------------------------------------------\u001b[0m",
      "\u001b[1;31mNameError\u001b[0m                                 Traceback (most recent call last)",
      "\u001b[1;32m<ipython-input-1-de2f18f2a231>\u001b[0m in \u001b[0;36m<module>\u001b[1;34m\u001b[0m\n\u001b[0;32m      1\u001b[0m \u001b[0mprint\u001b[0m\u001b[1;33m(\u001b[0m\u001b[1;34m\"=\"\u001b[0m\u001b[1;33m*\u001b[0m\u001b[1;36m100\u001b[0m\u001b[1;33m)\u001b[0m\u001b[1;33m\u001b[0m\u001b[1;33m\u001b[0m\u001b[0m\n\u001b[1;32m----> 2\u001b[1;33m \u001b[0mprint\u001b[0m\u001b[1;33m(\u001b[0m\u001b[1;34m\"Maximum Training Hit@{:d}: {:.2f}\"\u001b[0m\u001b[1;33m.\u001b[0m\u001b[0mformat\u001b[0m\u001b[1;33m(\u001b[0m\u001b[0mk\u001b[0m\u001b[1;33m,\u001b[0m\u001b[0mmax_train_hit\u001b[0m\u001b[1;33m)\u001b[0m\u001b[1;33m)\u001b[0m\u001b[1;33m\u001b[0m\u001b[1;33m\u001b[0m\u001b[0m\n\u001b[0m\u001b[0;32m      3\u001b[0m \u001b[0mprint\u001b[0m\u001b[1;33m(\u001b[0m\u001b[1;34m\"Maximum Validation Hit@{:d}: {:.2f}\"\u001b[0m\u001b[1;33m.\u001b[0m\u001b[0mformat\u001b[0m\u001b[1;33m(\u001b[0m\u001b[0mk\u001b[0m\u001b[1;33m,\u001b[0m\u001b[0mmax_val_hit\u001b[0m\u001b[1;33m)\u001b[0m\u001b[1;33m)\u001b[0m\u001b[1;33m\u001b[0m\u001b[1;33m\u001b[0m\u001b[0m\n\u001b[0;32m      4\u001b[0m \u001b[0mprint\u001b[0m\u001b[1;33m(\u001b[0m\u001b[1;34m\"Maximum Testing Hit@{:d}: {:.2f}\"\u001b[0m\u001b[1;33m.\u001b[0m\u001b[0mformat\u001b[0m\u001b[1;33m(\u001b[0m\u001b[0mk\u001b[0m\u001b[1;33m,\u001b[0m\u001b[0mmax_test_hit\u001b[0m\u001b[1;33m)\u001b[0m\u001b[1;33m)\u001b[0m\u001b[1;33m\u001b[0m\u001b[1;33m\u001b[0m\u001b[0m\n",
      "\u001b[1;31mNameError\u001b[0m: name 'k' is not defined"
     ]
    }
   ],
   "source": [
    "print(\"=\"*100)\n",
    "print(\"Maximum Training Hit@{:d}: {:.2f}\".format(k,max_train_hit))\n",
    "print(\"Maximum Validation Hit@{:d}: {:.2f}\".format(k,max_val_hit))\n",
    "print(\"Maximum Testing Hit@{:d}: {:.2f}\".format(k,max_test_hit))"
   ]
  },
  {
   "cell_type": "code",
   "execution_count": 30,
   "metadata": {},
   "outputs": [
    {
     "name": "stdout",
     "output_type": "stream",
     "text": [
      "True\n",
      "[3, 10, 11, 13]\n"
     ]
    }
   ],
   "source": [
    "# input and label\n",
    "x = [5,3,10,11]\n",
    "y = [3,10,11,13]\n",
    "print(torch.cuda.is_available())\n",
    "print(y[0:5])\n",
    "# notes: gru layer stores hidden layer when using sequence input\n",
    "# use final hidden state from packed output\n",
    "# cross entropy loss used\n"
   ]
  },
  {
   "cell_type": "code",
   "execution_count": null,
   "metadata": {},
   "outputs": [],
   "source": []
  }
 ],
 "metadata": {
  "kernelspec": {
   "display_name": "Python 3",
   "language": "python",
   "name": "python3"
  },
  "language_info": {
   "codemirror_mode": {
    "name": "ipython",
    "version": 3
   },
   "file_extension": ".py",
   "mimetype": "text/x-python",
   "name": "python",
   "nbconvert_exporter": "python",
   "pygments_lexer": "ipython3",
   "version": "3.8.3"
  }
 },
 "nbformat": 4,
 "nbformat_minor": 4
}
