{
 "cells": [
  {
   "cell_type": "code",
   "execution_count": 96,
   "metadata": {},
   "outputs": [],
   "source": [
    "import os\n",
    "os.environ['CUDA_LAUNCH_BLOCKING'] = '1'\n",
    "\n",
    "import torch\n",
    "import torch.nn as nn\n",
    "import torch.nn.functional as F\n",
    "\n",
    "import argparse\n",
    "from torch.utils.data import DataLoader\n",
    "import torch\n",
    "from tqdm import tqdm\n",
    "\n",
    "from preprocessing import *\n",
    "from dataset import *\n",
    "from metrics import *\n",
    "from model import *\n",
    "from utils import bert2dict"
   ]
  },
  {
   "cell_type": "code",
   "execution_count": 97,
   "metadata": {},
   "outputs": [],
   "source": [
    "MAX_LENGTH = 200\n",
    "# class gru4recFC_decoder(nn.Module):\n",
    "#     def __init__(self, hidden_size, output_size, dropout_p=0.1, max_length=MAX_LENGTH):\n",
    "#         super(gru4recFC_decoder, self).__init__()\n",
    "#         self.hidden_size = hidden_size\n",
    "#         self.output_size = output_size\n",
    "#         self.dropout_p = dropout_p\n",
    "#         self.max_length = max_length\n",
    "\n",
    "#         self.embedding = nn.Embedding(self.output_size, self.hidden_size)\n",
    "#         self.attn = nn.Linear(self.hidden_size * 2, self.max_length)\n",
    "#         self.attn_combine = nn.Linear(self.hidden_size * 2, self.hidden_size)\n",
    "#         self.dropout = nn.Dropout(self.dropout_p)\n",
    "#         self.gru = nn.GRU(self.hidden_size, self.hidden_size)\n",
    "#         self.out = nn.Linear(self.hidden_size, self.output_size)\n",
    "\n",
    "#     def forward(self, input, hidden, encoder_outputs):\n",
    "#         embedded = self.embedding(input).view(1, 1, -1)\n",
    "#         embedded = self.dropout(embedded)\n",
    "\n",
    "#         attn_weights = F.softmax(\n",
    "#             self.attn(torch.cat((embedded[0], hidden[0]), 1)), dim=1)\n",
    "#         attn_applied = torch.bmm(attn_weights.unsqueeze(0),\n",
    "#                                  encoder_outputs.unsqueeze(0))\n",
    "\n",
    "#         output = torch.cat((embedded[0], attn_applied[0]), 1)\n",
    "#         output = self.attn_combine(output).unsqueeze(0)\n",
    "\n",
    "#         output = F.relu(output)\n",
    "#         output, hidden = self.gru(output, hidden)\n",
    "\n",
    "#         output = F.log_softmax(self.out(output[0]), dim=1)\n",
    "#         return output, hidden, attn_weights\n",
    "\n",
    "#     def initHidden(self):\n",
    "#         return torch.zeros(1, 1, self.hidden_size, device=device)\n",
    "    \n",
    "# # class EncoderRNN(nn.Module):\n",
    "# #     def __init__(self, input_size, hidden_size):\n",
    "# #         super(EncoderRNN, self).__init__()\n",
    "# #         self.hidden_size = hidden_size\n",
    "\n",
    "# #         self.embedding = nn.Embedding(input_size, hidden_size)\n",
    "# #         self.gru = nn.GRU(hidden_size, hidden_size)\n",
    "\n",
    "# #     def forward(self, input, hidden):\n",
    "# #         embedded = self.embedding(input).view(1, 1, -1)\n",
    "# #         output = embedded\n",
    "# #         output, hidden = self.gru(output, hidden)\n",
    "# #         return output, hidden\n",
    "\n",
    "# #     def initHidden(self):\n",
    "# #         return torch.zeros(1, 1, self.hidden_size, device=device)\n",
    "\n",
    "class gru4recF_decoder(nn.Module):\n",
    "    def __init__(self, hidden_dim, output_dim, dropout=0, max_length=MAX_LENGTH):\n",
    "        super(gru4recF_decoder, self).__init__()\n",
    "        self.hidden_dim = hidden_dim\n",
    "        self.output_dim = output_dim\n",
    "        self.dropout = dropout\n",
    "        self.max_length = max_length\n",
    "\n",
    "        self.embedding = nn.Embedding(self.output_dim+1, self.hidden_dim)\n",
    "        self.attn = nn.Linear(self.hidden_dim * 2, self.max_length)\n",
    "        self.attn_combine = nn.Linear(self.hidden_dim * 2, self.hidden_dim)\n",
    "        self.dropout = nn.Dropout(self.dropout)\n",
    "        self.gru = nn.GRU(self.hidden_dim, self.hidden_dim)\n",
    "        self.out = nn.Linear(self.hidden_dim, self.output_dim)\n",
    "\n",
    "    def forward(self, input, hidden, encoder_outputs):\n",
    "        embedded = self.embedding(input).view(1, input.size()[1], -1)\n",
    "        embedded = self.dropout(embedded)\n",
    "        \n",
    "#         print(\"Pre-Embedded Tensor: \")\n",
    "#         print(input[0])\n",
    "        \n",
    "#         print(\"Embedded Dimension: \")\n",
    "#         print(embedded.size())\n",
    "        \n",
    "#         print(\"Hidden Dimension: \")\n",
    "#         print(hidden.size())\n",
    "\n",
    "#         print(\"Embedded Tensor: \")\n",
    "#         print(embedded[0])\n",
    "        \n",
    "#         print(\"Hidden Tensor: \")\n",
    "#         print(hidden[0])\n",
    "        \n",
    "        attn_weights = F.softmax(\n",
    "            self.attn(torch.cat((embedded[0], hidden[0]), 1)), dim=1)\n",
    "        \n",
    "#         print(\"Attention Dimension: \")\n",
    "#         print(attn_weights.size())\n",
    "        \n",
    "#         print(\"Encoder Outputs Dimension: \")\n",
    "#         print(encoder_outputs.size())\n",
    "        \n",
    "        attn_applied = torch.bmm(attn_weights.unsqueeze(1),\n",
    "                                 encoder_outputs).squeeze(1)\n",
    "        \n",
    "#         print(\"Attention Applied Dimension: \")\n",
    "#         print(attn_applied.size())\n",
    "\n",
    "        output = torch.cat((embedded[0], attn_applied), 1)\n",
    "        output = self.attn_combine(output).unsqueeze(0)\n",
    "\n",
    "        output = F.relu(output)\n",
    "        output, hidden = self.gru(output, hidden)\n",
    "\n",
    "        output = self.out(output[0])\n",
    "        \n",
    "#         print(\"Output Dimension: \")\n",
    "#         print(output.size())\n",
    "        \n",
    "#         print(\"New Hidden Dimension: \")\n",
    "#         print(hidden.size())\n",
    "        \n",
    "        return output, hidden, attn_weights\n",
    "\n",
    "    def initHidden(self):\n",
    "        return torch.zeros(1, 1, self.hidden_size, device=device)"
   ]
  },
  {
   "cell_type": "code",
   "execution_count": 98,
   "metadata": {},
   "outputs": [],
   "source": [
    "# class gru4recF_attention(nn.Module):\n",
    "#         def __init__(self,embedding_dim,\n",
    "#                  hidden_dim,\n",
    "#                  output_dim,\n",
    "#                  genre_dim=0,\n",
    "#                  batch_first=True,\n",
    "#                  max_length=200,\n",
    "#                  pad_token=0,\n",
    "#                  pad_genre_token=0,\n",
    "#                  bert_dim=0,\n",
    "#                  dropout=0,\n",
    "#                  tied=False):\n",
    "#             self.bert_dim = bert_dim\n",
    "#             self.genre_dim = genre_dim\n",
    "            \n",
    "#             self.model = gru4recF_encoder(embedding_dim=embedding_dim,\n",
    "#              hidden_dim=hidden_dim,\n",
    "#              output_dim=output_dim,\n",
    "#              genre_dim=genre_dim,\n",
    "#              batch_first=True,\n",
    "#              max_length=max_length,\n",
    "#              bert_dim=bert_dim,\n",
    "#              tied = tied,\n",
    "#              dropout=dropout)\n",
    "\n",
    "#             self.modelD = gru4recF_decoder(hidden_dim=hidden_dim, output_dim=output_dim, dropout=0, max_length=max_length)\n",
    "            \n",
    "#         def forward(self,x,x_lens,labels,x_genre=None,pack=True):\n",
    "#             encoder_outputs, hidden_states = self.model(x=inputs.to(device),x_lens=x_lens.squeeze().tolist())\n",
    "#             decoder_inputs = inputs[:,0].view(1,-1).to(device)\n",
    "#             decoder_hidden = hidden_states\n",
    "            \n",
    "#             outputs = torch.zeros(inputs.size()[0],max_length,output_dim, device=device)\n",
    "            \n",
    "#             for i in range(max_length):\n",
    "#                 decoder_outputs, decoder_hidden, decoder_attention = self.modelD(decoder_inputs, decoder_hidden, encoder_outputs)\n",
    "#                 outputs[:,i,:] = decoder_outputs\n",
    "#                 decoder_inputs = labels[:,i].view(1,-1)"
   ]
  },
  {
   "cell_type": "code",
   "execution_count": 99,
   "metadata": {},
   "outputs": [],
   "source": [
    "class gru4recF_attention(nn.Module):\n",
    "    \"\"\"\n",
    "    embedding dim: the dimension of the item-embedding look-up table\n",
    "    hidden_dim: the dimension of the hidden state of the GRU-RNN\n",
    "    batch_first: whether the batch dimension should be the first dimension of input to GRU-RNN\n",
    "    output_dim: the output dimension of the last fully connected layer\n",
    "    max_length: the maximum session length for any user, used for packing/padding input to GRU-RNN\n",
    "    pad_token: the value that pad tokens should be set to for GRU-RNN and item embedding\n",
    "    bert_dim: the dimension of the feature-embedding look-up table\n",
    "    ... to do add all comments ... \n",
    "    \"\"\"\n",
    "    def __init__(self,embedding_dim,\n",
    "                 hidden_dim,\n",
    "                 output_dim,\n",
    "                 attn_dim,\n",
    "                 genre_dim=0,\n",
    "                 batch_first=True,\n",
    "                 max_length=200,\n",
    "                 pad_token=0,\n",
    "                 pad_genre_token=0,\n",
    "                 bert_dim=0,\n",
    "                 dropout=0,\n",
    "                 tied=False,\n",
    "                 cat=True,\n",
    "                 attn=True):\n",
    "        \n",
    "        super(gru4recF_attention,self).__init__()\n",
    "        \n",
    "        self.batch_first =batch_first\n",
    "        \n",
    "        self.embedding_dim = embedding_dim\n",
    "        self.hidden_dim =hidden_dim\n",
    "        self.output_dim =output_dim\n",
    "        self.genre_dim = genre_dim\n",
    "        self.bert_dim = bert_dim\n",
    "        self.attn_dim = attn_dim\n",
    "\n",
    "        self.max_length = max_length\n",
    "        self.pad_token = pad_token\n",
    "        self.pad_genre_token = pad_genre_token\n",
    "        \n",
    "        self.tied = tied\n",
    "        self.dropout = dropout\n",
    "        self.cat = cat\n",
    "        self.attn = attn\n",
    "        \n",
    "        if self.tied:\n",
    "            self.hidden_dim = embedding_dim\n",
    "    \n",
    "        # initialize item-id lookup table\n",
    "        # add 1 to output dimension because we have to add a pad token\n",
    "        self.movie_embedding = nn.Embedding(output_dim+1,embedding_dim,padding_idx=pad_token)\n",
    "        \n",
    "        #  initialize plot lookup table\n",
    "        # add 1 to output dimensino because we have to add a pad token\n",
    "        if bert_dim != 0:\n",
    "            self.plot_embedding = nn.Embedding(output_dim+1,bert_dim,padding_idx=pad_token)\n",
    "            #self.plot_embedding.requires_grad_(requires_grad=False)\n",
    "            #self.plot_embedding = torch.ones(output_dim+1,bert_dim).cuda() #nn.Embedding(output_dim+1,bert_dim,padding_idx=pad_token)\n",
    "            #self.plot_embedding[pad_token,:] = 0\n",
    "            \n",
    "            # project plot embedding to same dimensionality as movie embedding\n",
    "            self.plot_projection = nn.Linear(bert_dim,embedding_dim)\n",
    "                    \n",
    "        if genre_dim != 0:\n",
    "            self.genre_embedding = nn.Embedding(genre_dim+1,embedding_dim,padding_idx=pad_genre_token)\n",
    "\n",
    "\n",
    "        self.encoder_layer = nn.GRU(embedding_dim,self.hidden_dim,batch_first=self.batch_first,dropout=self.dropout)\n",
    "        \n",
    "        if attn:\n",
    "            self.attention_layer = nn.Linear(self.hidden_dim,self.attn_dim)\n",
    "\n",
    "        if cat:\n",
    "            attn_dim = attn_dim + hidden_dim # ht cat weightedSum\n",
    "        \n",
    "#         # add 1 to the output dimension because we have to add a pad token\n",
    "        if not self.tied:\n",
    "            self.output_layer = nn.Linear(attn_dim,output_dim)\n",
    "        \n",
    "        if self.tied:\n",
    "            self.output_layer = nn.Linear(attn_dim,output_dim+1)\n",
    "            self.output_layer.weight = self.movie_embedding.weight\n",
    "    \n",
    "    def forward(self,x,x_lens,x_genre=None,pack=True,**kwargs):\n",
    "        # add the plot embedding and movie embedding\n",
    "        # do I add non-linearity or not? ... \n",
    "        # concatenate or not? ...\n",
    "        # many questions ...\n",
    "        batch_size = x.size()[0]\n",
    "        if (self.bert_dim != 0) and (self.genre_dim != 0):\n",
    "            x = self.movie_embedding(x) + self.plot_projection(F.leaky_relu(self.plot_embedding(x))) + self.genre_embedding(x_genre).sum(2)\n",
    "        elif (self.bert_dim != 0) and (self.genre_dim == 0):\n",
    "            x = self.movie_embedding(x) + self.plot_projection(F.leaky_relu(self.plot_embedding(x)))\n",
    "        elif (self.bert_dim == 0) and (self.genre_dim != 0):\n",
    "            x = self.movie_embedding(x) + self.genre_embedding(x_genre).sum(2)\n",
    "        else:\n",
    "            x = self.movie_embedding(x)\n",
    "        \n",
    "#         print(\"Embedder Dimension: \")\n",
    "#         print(x.size())\n",
    "        \n",
    "        if pack:\n",
    "            x = pack_padded_sequence(x,x_lens,batch_first=True,enforce_sorted=False)\n",
    "        \n",
    "        encoder_states, _ = self.encoder_layer(x) \n",
    "        \n",
    "        if pack:\n",
    "            encoder_states, _ = pad_packed_sequence(encoder_states, batch_first=self.batch_first,total_length=self.max_length,padding_value=self.pad_token)\n",
    "        \n",
    "        if self.attn:\n",
    "            attn_states = self.attention_layer(encoder_states)\n",
    "#             hidden_state = self.attention_layer(hidden_state)\n",
    "        \n",
    "        # CCs = BS x MS x 2HS\n",
    "        combined_contexts = torch.zeros(batch_size,max_length,self.attn_dim)\n",
    "        combined_contexts = combined_contexts.cuda()\n",
    "        \n",
    "        for t in range(max_length):\n",
    "            # CF = BS x (t+1) x HS\n",
    "            context_frame = attn_states[:,:t+1,:]\n",
    "            # CH = BS x HS x 1\n",
    "            current_hidden = attn_states[:,t,:].squeeze(1).unsqueeze(2)\n",
    "            # AS = BS x (t+1) x 1\n",
    "            attention_score = torch.bmm(context_frame,current_hidden).squeeze(2) / self.attn_dim\n",
    "            attention_score = torch.nn.functional.softmax(attention_score,1).unsqueeze(2)\n",
    "            # CFT = BS x HS x (t+1)\n",
    "            context_frame_transposed = torch.transpose(context_frame,1,2)\n",
    "            # CV = BS x HS\n",
    "            context_vector = torch.bmm(context_frame_transposed,attention_score).squeeze(2)\n",
    "            # CH = BS x HS\n",
    "#             current_hidden = current_hidden.squeeze(2)\n",
    "            # CC = BS x AS\n",
    "            combined_contexts[:,t,:] = context_vector\n",
    "\n",
    "        if self.cat:\n",
    "            ## CCs = BS x MS x AS, ES = BS x MS x HS\n",
    "            combined_contexts_cat = torch.cat((combined_contexts,encoder_states),2)\n",
    "                \n",
    "        # print(combined_contexts_cat)\n",
    "            \n",
    "        # CCC = BS x MS x (AS + HS)\n",
    "        # O = BS x MS x V\n",
    "        if self.cat:\n",
    "            x = self.output_layer(combined_contexts_cat)\n",
    "        else:\n",
    "            x = self.output_layer(combined_contexts)\n",
    "            \n",
    "#         print(\"Encoder States: \")\n",
    "#         print(encoder_states)\n",
    "#         print(encoder_states.size())\n",
    "#         print(\"Combined Contexts: \")\n",
    "#         print(combined_contexts.size())\n",
    "#         print(\"Combined Contexts Cat.: \")\n",
    "#         print(combined_contexts_cat.size())\n",
    "        \n",
    "        return x\n",
    "    def initHidden(self):\n",
    "        return torch.zeros(1, 1, self.hidden_size, device=device)\n",
    "    def init_weight(self,reset_object,feature_embed):\n",
    "        for (item_id,embedding) in feature_embed.items():\n",
    "            if item_id not in reset_object.item_enc.classes_:\n",
    "                continue\n",
    "            item_id = reset_object.item_enc.transform([item_id]).item()\n",
    "            self.plot_embedding.weight.data[item_id,:] = torch.DoubleTensor(embedding)"
   ]
  },
  {
   "cell_type": "code",
   "execution_count": 100,
   "metadata": {},
   "outputs": [],
   "source": [
    "import torch\n",
    "import torch.nn as nn\n",
    "import torch.nn.functional as F"
   ]
  },
  {
   "cell_type": "code",
   "execution_count": 101,
   "metadata": {},
   "outputs": [],
   "source": [
    "# -*- coding: utf-8 -*-\n",
    "\"\"\"\n",
    "Created on Tue Mar 23 08:39:11 2021\n",
    "\n",
    "@author: lpott\n",
    "\"\"\"\n",
    "import argparse\n",
    "from torch.utils.data import DataLoader\n",
    "import torch\n",
    "from tqdm import tqdm\n",
    "\n",
    "from preprocessing import *\n",
    "from dataset import *\n",
    "from metrics import *\n",
    "from model import *\n",
    "from utils import bert2dict\n"
   ]
  },
  {
   "cell_type": "code",
   "execution_count": 170,
   "metadata": {},
   "outputs": [],
   "source": [
    "# variables\n",
    "\n",
    "read_filename =\"ml-1m\\\\ratings.dat\"\n",
    "read_bert_filename = \"bert_sequence_20m.txt\"\n",
    "read_movie_filename = \"\"#\"movies-1m.csv\"\n",
    "size = \"1m\"\n",
    "\n",
    "num_epochs = 100\n",
    "lr = 1e-3\n",
    "batch_size = 64\n",
    "reg = 2e-4\n",
    "train_method = \"alternate\"\n",
    "loss_type = \"BPR\"\n",
    "num_neg_samples = 10\n",
    "\n",
    "\n",
    "hidden_dim = 256\n",
    "attn_dim = 64\n",
    "embedding_dim = 256\n",
    "bert_dim= 768\n",
    "window = 0\n",
    "\n",
    "freeze_plot = False\n",
    "tied = False\n",
    "dropout= 0\n",
    "\n",
    "k = 10\n",
    "max_length = 200\n",
    "min_len = 10\n",
    "\n",
    "\n",
    "# nextitnet options...\n",
    "hidden_layers = 3\n",
    "dilations = [1,2,2,4]\n",
    "\n",
    "model_type = \"attention\"\n",
    "\n",
    "device = torch.device('cuda' if torch.cuda.is_available() else 'cpu')"
   ]
  },
  {
   "cell_type": "code",
   "execution_count": 171,
   "metadata": {},
   "outputs": [],
   "source": [
    "torch.cuda.empty_cache()"
   ]
  },
  {
   "cell_type": "code",
   "execution_count": 122,
   "metadata": {},
   "outputs": [
    {
     "name": "stdout",
     "output_type": "stream",
     "text": [
      "========== Creating DataFrame ==========\n",
      "user_id        6040\n",
      "item_id        3706\n",
      "rating            5\n",
      "timestamp    458455\n",
      "dtype: int64\n",
      "(1000209, 4)\n",
      "Minimum Session Length: 20\n",
      "Maximum Session Length: 2314\n",
      "Average Session Length: 165.60\n",
      "========== Filtering Sessions <= 10  DataFrame ==========\n",
      "user_id        6040\n",
      "item_id        3706\n",
      "rating            5\n",
      "timestamp    458455\n",
      "dtype: int64\n",
      "(1000209, 4)\n",
      "Minimum Session Length: 20\n",
      "Maximum Session Length: 2314\n",
      "Average Session Length: 165.60\n"
     ]
    }
   ],
   "source": [
    "# ------------------Data Initialization----------------------#\n",
    "\n",
    "# convert .dat file to time-sorted pandas dataframe\n",
    "ml_1m = create_df(read_filename,size=size)\n",
    "\n",
    "# remove users who have sessions lengths less than min_len\n",
    "ml_1m = filter_df(ml_1m,item_min=min_len)"
   ]
  },
  {
   "cell_type": "code",
   "execution_count": 123,
   "metadata": {},
   "outputs": [
    {
     "name": "stdout",
     "output_type": "stream",
     "text": [
      "========== Initialize Reset DataFrame Object ==========\n",
      "========== Resetting user ids and item ids in DataFrame ==========\n"
     ]
    }
   ],
   "source": [
    "# ------------------Data Initialization----------------------#\n",
    "if read_movie_filename != \"\":\n",
    "    ml_movie_df = create_movie_df(read_movie_filename,size=size)\n",
    "    ml_movie_df = convert_genres(ml_movie_df)\n",
    "    \n",
    "    # initialize reset object\n",
    "    reset_object = reset_df()\n",
    "    \n",
    "    # map all user ids, item ids, and genres to range 0 - number of users/items/genres\n",
    "    ml_1m,ml_movie_df = reset_object.fit_transform(ml_1m,ml_movie_df)\n",
    "    \n",
    "    # value that padded genre tokens shall take\n",
    "    pad_genre_token = reset_object.genre_enc.transform([\"NULL\"]).item()\n",
    "    \n",
    "    genre_dim = len(np.unique(np.concatenate(ml_movie_df.genre))) - 1\n",
    "\n",
    "else:\n",
    "    # initialize reset object\n",
    "    reset_object = reset_df()\n",
    "    \n",
    "    # map all user ids and item ids to range 0 - Number of Users/Items \n",
    "    # i.e. [1,7,5] -> [0,2,1]\n",
    "    ml_1m = reset_object.fit_transform(ml_1m)\n",
    "    \n",
    "    pad_genre_token = None\n",
    "    ml_movie_df = None\n",
    "    genre_dim = 0"
   ]
  },
  {
   "cell_type": "code",
   "execution_count": 124,
   "metadata": {},
   "outputs": [
    {
     "name": "stdout",
     "output_type": "stream",
     "text": [
      "========== Reading .txt file with all item id and embeddings ==========\n"
     ]
    }
   ],
   "source": [
    "# ------------------Data Initialization----------------------#\n",
    "# how many unique users, items, ratings and timestamps are there\n",
    "n_users,n_items,n_ratings,n_timestamp = ml_1m.nunique()\n",
    "\n",
    "# value that padded tokens shall take\n",
    "pad_token = n_items\n",
    "\n",
    "# the output dimension for softmax layer\n",
    "output_dim = n_items\n",
    "\n",
    "\n",
    "# get the item id : bert plot embedding dictionary\n",
    "if bert_dim != 0:\n",
    "    feature_embed = bert2dict(bert_filename=read_bert_filename)"
   ]
  },
  {
   "cell_type": "code",
   "execution_count": 125,
   "metadata": {},
   "outputs": [
    {
     "name": "stderr",
     "output_type": "stream",
     "text": [
      "  1%|▌                                                                              | 46/6040 [00:00<00:13, 460.00it/s]"
     ]
    },
    {
     "name": "stdout",
     "output_type": "stream",
     "text": [
      "========== Creating User Histories ==========\n"
     ]
    },
    {
     "name": "stderr",
     "output_type": "stream",
     "text": [
      "100%|█████████████████████████████████████████████████████████████████████████████| 6040/6040 [00:10<00:00, 555.44it/s]\n"
     ]
    }
   ],
   "source": [
    "# create a dictionary of every user's session (history)\n",
    "# i.e. {user: [user clicks]}\n",
    "if size == \"1m\":\n",
    "    user_history = create_user_history(ml_1m)\n",
    "\n",
    "elif size == \"20m\":\n",
    "    import pickle\n",
    "    with open('userhistory.pickle', 'rb') as handle:\n",
    "        user_history = pickle.load(handle)\n",
    "# create a dictionary of all items a user has not clicked\n",
    "# i.e. {user: [items not clicked by user]}\n",
    "# user_noclicks = create_user_noclick(user_history,ml_1m,n_items)"
   ]
  },
  {
   "cell_type": "code",
   "execution_count": 126,
   "metadata": {},
   "outputs": [
    {
     "name": "stderr",
     "output_type": "stream",
     "text": [
      "100%|██████████████████████████████████████████████████████████████████████████| 6040/6040 [00:00<00:00, 120801.27it/s]"
     ]
    },
    {
     "name": "stdout",
     "output_type": "stream",
     "text": [
      "========== Splitting User Histories into Train, Validation, and Test Splits ==========\n"
     ]
    },
    {
     "name": "stderr",
     "output_type": "stream",
     "text": [
      "\n"
     ]
    }
   ],
   "source": [
    "# split data by leave-one-out strategy\n",
    "# have train dictionary {user: [last 41 items prior to last 2 items in user session]}\n",
    "# have val dictionary {user: [last 41 items prior to last item in user session]}\n",
    "# have test dictionary {user: [last 41 items]}\n",
    "# i.e. if max_length = 4, [1,2,3,4,5,6] -> [1,2,3,4] , [2,3,4,5] , [3,4,5,6]\n",
    "train_history,val_history,test_history = train_val_test_split(user_history,max_length=max_length)\n",
    "\n",
    "# initialize the train,validation, and test pytorch dataset objects\n",
    "# eval pads all items except last token to predict\n",
    "train_dataset = GRUDataset(train_history,genre_df=ml_movie_df,mode='train',max_length=max_length,pad_token=pad_token,pad_genre_token=pad_genre_token)\n",
    "val_dataset = GRUDataset(val_history,genre_df=ml_movie_df,mode='eval',max_length=max_length,pad_token=pad_token,pad_genre_token=pad_genre_token)\n",
    "test_dataset = GRUDataset(test_history,genre_df=ml_movie_df,mode='eval',max_length=max_length,pad_token=pad_token,pad_genre_token=pad_genre_token)\n",
    "\n",
    "# create the train,validation, and test pytorch dataloader objects\n",
    "train_dl = DataLoader(train_dataset,batch_size = batch_size,shuffle=True)\n",
    "val_dl = DataLoader(val_dataset,batch_size=64)\n",
    "test_dl = DataLoader(test_dataset,batch_size=64)"
   ]
  },
  {
   "cell_type": "code",
   "execution_count": 127,
   "metadata": {},
   "outputs": [
    {
     "name": "stdout",
     "output_type": "stream",
     "text": [
      "Bert dim: 768\n",
      "Genre dim: 0\n",
      "Pad Token: 3706\n",
      "Pad Genre Token: None\n"
     ]
    }
   ],
   "source": [
    "print(\"Bert dim: {:d}\".format(bert_dim))\n",
    "print(\"Genre dim: {:d}\".format(genre_dim))\n",
    "print(\"Pad Token: {}\".format(pad_token))\n",
    "print(\"Pad Genre Token: {}\".format(pad_genre_token))"
   ]
  },
  {
   "cell_type": "code",
   "execution_count": 172,
   "metadata": {},
   "outputs": [],
   "source": [
    "# ------------------Model Initialization----------------------#\n",
    "\n",
    "# initialize gru4rec model with arguments specified earlier\n",
    "if model_type == \"feature_add\":\n",
    "    model = gru4recF(embedding_dim=embedding_dim,\n",
    "             hidden_dim=hidden_dim,\n",
    "             output_dim=output_dim,\n",
    "             genre_dim=genre_dim,\n",
    "             batch_first=True,\n",
    "             max_length=max_length,\n",
    "             pad_token=pad_token,\n",
    "             pad_genre_token=pad_genre_token,\n",
    "             bert_dim=bert_dim,\n",
    "             tied = tied,\n",
    "             dropout=dropout)\n",
    "\n",
    "\n",
    "if model_type == \"feature_concat\":\n",
    "    model = gru4recFC(embedding_dim=embedding_dim,\n",
    "             hidden_dim=hidden_dim,\n",
    "             output_dim=output_dim,\n",
    "             genre_dim=genre_dim,\n",
    "             batch_first=True,\n",
    "             max_length=max_length,\n",
    "             pad_token=pad_token,\n",
    "             pad_genre_token=pad_genre_token,\n",
    "             bert_dim=bert_dim,\n",
    "             tied = tied,\n",
    "             dropout=dropout)\n",
    "\n",
    "if model_type == \"vanilla\":\n",
    "    model = gru4rec_vanilla(hidden_dim=hidden_dim,\n",
    "                            output_dim=output_dim,\n",
    "                            batch_first=True,\n",
    "                            max_length=max_length,\n",
    "                            pad_token=pad_token,\n",
    "                            tied=tied,\n",
    "                            embedding_dim=embedding_dim)\n",
    "\n",
    "if model_type ==\"feature_only\":\n",
    "    model = gru4rec_feature(hidden_dim=hidden_dim,\n",
    "                            output_dim=output_dim,\n",
    "                            batch_first=True,\n",
    "                            max_length=max_length,\n",
    "                            pad_token=pad_token,\n",
    "                            bert_dim=bert_dim)\n",
    "\n",
    "if model_type == \"conv\":\n",
    "    model = gru4rec_conv(embedding_dim,\n",
    "                 hidden_dim,\n",
    "                 output_dim,\n",
    "                 batch_first=True,\n",
    "                 max_length=200,\n",
    "                 pad_token=0,\n",
    "                 dropout=0,\n",
    "                 window=3,\n",
    "                 tied=tied)\n",
    "    \n",
    "if model_type == \"nextitnet\":\n",
    "    model = NextItNet(embedding_dim=embedding_dim,\n",
    "                      output_dim=output_dim,\n",
    "                      hidden_layers=hidden_layers,\n",
    "                      dilations=dilations,\n",
    "                      pad_token=n_items,\n",
    "                      max_len=max_length)\n",
    "\n",
    "if model_type == \"attention\":\n",
    "    model = gru4recF_attention(embedding_dim=embedding_dim,\n",
    "             hidden_dim=hidden_dim,\n",
    "             output_dim=output_dim,\n",
    "             genre_dim=genre_dim,\n",
    "             attn_dim=attn_dim,\n",
    "             batch_first=True,\n",
    "             max_length=max_length,\n",
    "             pad_token=pad_token,\n",
    "             pad_genre_token=pad_genre_token,\n",
    "             bert_dim=bert_dim,\n",
    "             tied = tied,\n",
    "             dropout=dropout, cat=True)\n",
    "#     modelD = gru4recF_decoder(hidden_dim=hidden_dim, output_dim=output_dim, dropout=0, max_length=max_length)\n",
    "#     modelD = modelD.to(device)"
   ]
  },
  {
   "cell_type": "code",
   "execution_count": 173,
   "metadata": {},
   "outputs": [],
   "source": [
    "if bert_dim != 0:\n",
    "    model.init_weight(reset_object,feature_embed)\n",
    "    \n",
    "model = model.to(device)"
   ]
  },
  {
   "cell_type": "code",
   "execution_count": 174,
   "metadata": {},
   "outputs": [
    {
     "data": {
      "text/plain": [
       "['plot_embedding.weight',\n",
       " 'plot_projection.weight',\n",
       " 'plot_projection.bias',\n",
       " 'encoder_layer.weight_ih_l0',\n",
       " 'encoder_layer.weight_hh_l0',\n",
       " 'encoder_layer.bias_ih_l0',\n",
       " 'encoder_layer.bias_hh_l0',\n",
       " 'attention_layer.weight',\n",
       " 'attention_layer.bias',\n",
       " 'output_layer.weight',\n",
       " 'output_layer.bias']"
      ]
     },
     "execution_count": 174,
     "metadata": {},
     "output_type": "execute_result"
    }
   ],
   "source": [
    "[name for name,param in model.named_parameters() if ((\"movie\" not in name) or (\"plot_embedding\" in name) or (\"genre\" in name))]"
   ]
  },
  {
   "cell_type": "code",
   "execution_count": 175,
   "metadata": {},
   "outputs": [
    {
     "data": {
      "text/plain": [
       "['movie_embedding.weight',\n",
       " 'encoder_layer.weight_ih_l0',\n",
       " 'encoder_layer.weight_hh_l0',\n",
       " 'encoder_layer.bias_ih_l0',\n",
       " 'encoder_layer.bias_hh_l0',\n",
       " 'attention_layer.weight',\n",
       " 'attention_layer.bias',\n",
       " 'output_layer.weight',\n",
       " 'output_layer.bias']"
      ]
     },
     "execution_count": 175,
     "metadata": {},
     "output_type": "execute_result"
    }
   ],
   "source": [
    "[name for name,param in model.named_parameters() if (\"plot\" not in name) and (\"genre\" not in name)]"
   ]
  },
  {
   "cell_type": "code",
   "execution_count": 176,
   "metadata": {},
   "outputs": [],
   "source": [
    "# initialize Adam optimizer with gru4rec model parameters\n",
    "if train_method != \"normal\":\n",
    "    optimizer_features = torch.optim.Adam([param for name,param in model.named_parameters() if ((\"movie\" not in name) or (\"plot_embedding\" in name) or (\"genre\" in name)) ],\n",
    "                                          lr=lr,weight_decay=reg) # can change\n",
    "    \n",
    "    optimizer_ids = torch.optim.Adam([param for name,param in model.named_parameters() if (\"plot\" not in name) and (\"genre\" not in name)],\n",
    "                                     lr=lr,weight_decay=reg)\n",
    "\n",
    "elif train_method == \"normal\":\n",
    "    optimizer = torch.optim.Adam(model.parameters(),lr=lr,weight_decay=reg)\n",
    "    decoder_optimizer = torch.optim.Adam(model.parameters(), lr=lr,weight_decay=reg)\n",
    "if freeze_plot and bert_dim !=0:\n",
    "    model.plot_embedding.weight.requires_grad = False"
   ]
  },
  {
   "cell_type": "code",
   "execution_count": 177,
   "metadata": {},
   "outputs": [
    {
     "name": "stdout",
     "output_type": "stream",
     "text": [
      "3706\n"
     ]
    }
   ],
   "source": [
    "if loss_type == \"XE\":\n",
    "    loss_fn = nn.CrossEntropyLoss(ignore_index=n_items)\n",
    "    \n",
    "elif loss_type == \"BPR\":\n",
    "    loss_fn = BPRLoss(user_history = user_history,\n",
    "                      n_items = n_items, \n",
    "                      df = ml_1m,\n",
    "                      device = device, \n",
    "                      samples=num_neg_samples)\n",
    "\n",
    "elif loss_type == \"BPR_MAX\":\n",
    "    loss_fn = BPRMaxLoss(user_history = user_history,\n",
    "                      n_items = n_items, \n",
    "                      df = ml_1m,\n",
    "                      device = device,\n",
    "                      reg = 2,\n",
    "                      samples=num_neg_samples)"
   ]
  },
  {
   "cell_type": "code",
   "execution_count": 178,
   "metadata": {},
   "outputs": [
    {
     "name": "stdout",
     "output_type": "stream",
     "text": [
      "========== Creating Hit@10 Metric Object ==========\n"
     ]
    }
   ],
   "source": [
    "Recall_Object = Recall_E_prob(ml_1m,user_history,n_users,n_items,k=k,device=device)"
   ]
  },
  {
   "cell_type": "code",
   "execution_count": 179,
   "metadata": {},
   "outputs": [
    {
     "name": "stderr",
     "output_type": "stream",
     "text": [
      "\r",
      "  0%|                                                                                           | 0/95 [00:00<?, ?it/s]"
     ]
    },
    {
     "name": "stdout",
     "output_type": "stream",
     "text": [
      "==================== Epoch 1 ====================\n"
     ]
    },
    {
     "name": "stderr",
     "output_type": "stream",
     "text": [
      "100%|██████████████████████████████████████████████████████████████████████████████████| 95/95 [03:52<00:00,  2.44s/it]\n",
      "  0%|                                                                                           | 0/95 [00:00<?, ?it/s]"
     ]
    },
    {
     "name": "stdout",
     "output_type": "stream",
     "text": [
      "Training Loss: 5.44575\n",
      "Train Hits \t @10: 0.49205 \t @5 : 0.34917 \t @1 : 0.11374\n",
      "Train ndcg \t @10: 0.27975 \t @5 : 0.23365 \t @1 : 0.11374\n",
      "Train mrr: 1423.1976649068229\n",
      "Valid Hits \t @10: 0.45099 \t @5 : 0.31424 \t @1 : 0.10050\n",
      "Valid ndcg \t @10: 0.25333 \t @5 : 0.20928 \t @1 : 0.10050\n",
      "Valid mrr: 1295.2037463195998\n",
      "Test Hits \t @10: 0.43146 \t @5 : 0.29321 \t @1 : 0.09321\n",
      "Test ndcg \t @10: 0.23833 \t @5 : 0.19359 \t @1 : 0.09321\n",
      "Test mrr: 1214.1006297326219\n",
      "==================== Epoch 2 ====================\n"
     ]
    },
    {
     "name": "stderr",
     "output_type": "stream",
     "text": [
      "100%|██████████████████████████████████████████████████████████████████████████████████| 95/95 [03:48<00:00,  2.41s/it]\n",
      "  0%|                                                                                           | 0/95 [00:00<?, ?it/s]"
     ]
    },
    {
     "name": "stdout",
     "output_type": "stream",
     "text": [
      "Training Loss: 3.61275\n",
      "Train Hits \t @10: 0.60298 \t @5 : 0.45464 \t @1 : 0.16755\n",
      "Train ndcg \t @10: 0.36283 \t @5 : 0.31507 \t @1 : 0.16755\n",
      "Train mrr: 1848.7905057944877\n",
      "Valid Hits \t @10: 0.54934 \t @5 : 0.40497 \t @1 : 0.14801\n",
      "Valid ndcg \t @10: 0.32621 \t @5 : 0.27963 \t @1 : 0.14801\n",
      "Valid mrr: 1668.1805967969617\n",
      "Test Hits \t @10: 0.52550 \t @5 : 0.38377 \t @1 : 0.13444\n",
      "Test ndcg \t @10: 0.30676 \t @5 : 0.26097 \t @1 : 0.13444\n",
      "Test mrr: 1560.3297228533415\n",
      "==================== Epoch 3 ====================\n"
     ]
    },
    {
     "name": "stderr",
     "output_type": "stream",
     "text": [
      "100%|██████████████████████████████████████████████████████████████████████████████████| 95/95 [03:59<00:00,  2.53s/it]\n",
      "  0%|                                                                                           | 0/95 [00:00<?, ?it/s]"
     ]
    },
    {
     "name": "stdout",
     "output_type": "stream",
     "text": [
      "Training Loss: 2.74868\n",
      "Train Hits \t @10: 0.66854 \t @5 : 0.52169 \t @1 : 0.20265\n",
      "Train ndcg \t @10: 0.41648 \t @5 : 0.36865 \t @1 : 0.20265\n",
      "Train mrr: 2131.1017822422664\n",
      "Valid Hits \t @10: 0.60579 \t @5 : 0.46523 \t @1 : 0.16672\n",
      "Valid ndcg \t @10: 0.36616 \t @5 : 0.32076 \t @1 : 0.16672\n",
      "Valid mrr: 1863.2546054766938\n",
      "Test Hits \t @10: 0.57699 \t @5 : 0.43526 \t @1 : 0.16672\n",
      "Test ndcg \t @10: 0.34961 \t @5 : 0.30371 \t @1 : 0.16672\n",
      "Test mrr: 1791.4788697842362\n",
      "==================== Epoch 4 ====================\n"
     ]
    },
    {
     "name": "stderr",
     "output_type": "stream",
     "text": [
      "100%|██████████████████████████████████████████████████████████████████████████████████| 95/95 [03:44<00:00,  2.37s/it]\n",
      "  0%|                                                                                           | 0/95 [00:00<?, ?it/s]"
     ]
    },
    {
     "name": "stdout",
     "output_type": "stream",
     "text": [
      "Training Loss: 2.37554\n",
      "Train Hits \t @10: 0.69652 \t @5 : 0.55000 \t @1 : 0.23046\n",
      "Train ndcg \t @10: 0.44320 \t @5 : 0.39582 \t @1 : 0.23046\n",
      "Train mrr: 2288.066522604119\n",
      "Valid Hits \t @10: 0.63245 \t @5 : 0.48626 \t @1 : 0.18891\n",
      "Valid ndcg \t @10: 0.39062 \t @5 : 0.34319 \t @1 : 0.18891\n",
      "Valid mrr: 2001.6311075875917\n",
      "Test Hits \t @10: 0.60132 \t @5 : 0.46623 \t @1 : 0.17020\n",
      "Test ndcg \t @10: 0.36787 \t @5 : 0.32401 \t @1 : 0.17020\n",
      "Test mrr: 1880.7375211634892\n",
      "==================== Epoch 5 ====================\n"
     ]
    },
    {
     "name": "stderr",
     "output_type": "stream",
     "text": [
      "100%|██████████████████████████████████████████████████████████████████████████████████| 95/95 [03:41<00:00,  2.33s/it]\n",
      "  0%|                                                                                           | 0/95 [00:00<?, ?it/s]"
     ]
    },
    {
     "name": "stdout",
     "output_type": "stream",
     "text": [
      "Training Loss: 2.15840\n",
      "Train Hits \t @10: 0.71722 \t @5 : 0.57119 \t @1 : 0.23444\n",
      "Train ndcg \t @10: 0.45765 \t @5 : 0.41025 \t @1 : 0.23444\n",
      "Train mrr: 2355.559443239132\n",
      "Valid Hits \t @10: 0.64586 \t @5 : 0.50480 \t @1 : 0.19868\n",
      "Valid ndcg \t @10: 0.40286 \t @5 : 0.35701 \t @1 : 0.19868\n",
      "Valid mrr: 2068.251695430482\n",
      "Test Hits \t @10: 0.61424 \t @5 : 0.47649 \t @1 : 0.19305\n",
      "Test ndcg \t @10: 0.38277 \t @5 : 0.33812 \t @1 : 0.19305\n",
      "Test mrr: 1972.8494354465488\n",
      "==================== Epoch 6 ====================\n"
     ]
    },
    {
     "name": "stderr",
     "output_type": "stream",
     "text": [
      "100%|██████████████████████████████████████████████████████████████████████████████████| 95/95 [03:37<00:00,  2.29s/it]\n",
      "  0%|                                                                                           | 0/95 [00:00<?, ?it/s]"
     ]
    },
    {
     "name": "stdout",
     "output_type": "stream",
     "text": [
      "Training Loss: 1.98245\n",
      "Train Hits \t @10: 0.73791 \t @5 : 0.59586 \t @1 : 0.25464\n",
      "Train ndcg \t @10: 0.47797 \t @5 : 0.43195 \t @1 : 0.25464\n",
      "Train mrr: 2472.0715379185744\n",
      "Valid Hits \t @10: 0.65795 \t @5 : 0.52119 \t @1 : 0.20646\n",
      "Valid ndcg \t @10: 0.41524 \t @5 : 0.37081 \t @1 : 0.20646\n",
      "Valid mrr: 2138.669928190291\n",
      "Test Hits \t @10: 0.62649 \t @5 : 0.48825 \t @1 : 0.19768\n",
      "Test ndcg \t @10: 0.39336 \t @5 : 0.34850 \t @1 : 0.19768\n",
      "Test mrr: 2031.5151733899722\n",
      "==================== Epoch 7 ====================\n"
     ]
    },
    {
     "name": "stderr",
     "output_type": "stream",
     "text": [
      "100%|██████████████████████████████████████████████████████████████████████████████████| 95/95 [03:44<00:00,  2.36s/it]\n",
      "  0%|                                                                                           | 0/95 [00:00<?, ?it/s]"
     ]
    },
    {
     "name": "stdout",
     "output_type": "stream",
     "text": [
      "Training Loss: 1.85985\n",
      "Train Hits \t @10: 0.74520 \t @5 : 0.59586 \t @1 : 0.25480\n",
      "Train ndcg \t @10: 0.48100 \t @5 : 0.43251 \t @1 : 0.25480\n",
      "Train mrr: 2472.0715379185744\n",
      "Valid Hits \t @10: 0.66175 \t @5 : 0.52119 \t @1 : 0.20348\n",
      "Valid ndcg \t @10: 0.41307 \t @5 : 0.36735 \t @1 : 0.20348\n",
      "Valid mrr: 2138.669928190291\n",
      "Test Hits \t @10: 0.62583 \t @5 : 0.49288 \t @1 : 0.20232\n",
      "Test ndcg \t @10: 0.39595 \t @5 : 0.35288 \t @1 : 0.20232\n",
      "Test mrr: 2031.5151733899722\n",
      "==================== Epoch 8 ====================\n"
     ]
    },
    {
     "name": "stderr",
     "output_type": "stream",
     "text": [
      "100%|██████████████████████████████████████████████████████████████████████████████████| 95/95 [03:38<00:00,  2.30s/it]\n",
      "  0%|                                                                                           | 0/95 [00:00<?, ?it/s]"
     ]
    },
    {
     "name": "stdout",
     "output_type": "stream",
     "text": [
      "Training Loss: 1.75527\n",
      "Train Hits \t @10: 0.76026 \t @5 : 0.61921 \t @1 : 0.25579\n",
      "Train ndcg \t @10: 0.49237 \t @5 : 0.44649 \t @1 : 0.25579\n",
      "Train mrr: 2537.2036127333718\n",
      "Valid Hits \t @10: 0.67070 \t @5 : 0.53129 \t @1 : 0.21672\n",
      "Valid ndcg \t @10: 0.42511 \t @5 : 0.37983 \t @1 : 0.21672\n",
      "Valid mrr: 2191.003518396053\n",
      "Test Hits \t @10: 0.63675 \t @5 : 0.50480 \t @1 : 0.20464\n",
      "Test ndcg \t @10: 0.40389 \t @5 : 0.36101 \t @1 : 0.20464\n",
      "Test mrr: 2091.145414839583\n",
      "==================== Epoch 9 ====================\n"
     ]
    },
    {
     "name": "stderr",
     "output_type": "stream",
     "text": [
      "100%|██████████████████████████████████████████████████████████████████████████████████| 95/95 [03:29<00:00,  2.20s/it]\n",
      "  0%|                                                                                           | 0/95 [00:00<?, ?it/s]"
     ]
    },
    {
     "name": "stdout",
     "output_type": "stream",
     "text": [
      "Training Loss: 1.67362\n",
      "Train Hits \t @10: 0.76805 \t @5 : 0.61954 \t @1 : 0.26838\n",
      "Train ndcg \t @10: 0.50018 \t @5 : 0.45183 \t @1 : 0.26838\n",
      "Train mrr: 2585.284564563736\n",
      "Valid Hits \t @10: 0.67699 \t @5 : 0.53957 \t @1 : 0.21424\n",
      "Valid ndcg \t @10: 0.42700 \t @5 : 0.38250 \t @1 : 0.21424\n",
      "Valid mrr: 2192.738828481937\n",
      "Test Hits \t @10: 0.64454 \t @5 : 0.50977 \t @1 : 0.21440\n",
      "Test ndcg \t @10: 0.41069 \t @5 : 0.36719 \t @1 : 0.21440\n",
      "Test mrr: 2130.042662090902\n",
      "==================== Epoch 10 ====================\n"
     ]
    },
    {
     "name": "stderr",
     "output_type": "stream",
     "text": [
      "100%|██████████████████████████████████████████████████████████████████████████████████| 95/95 [03:26<00:00,  2.17s/it]\n",
      "  0%|                                                                                           | 0/95 [00:00<?, ?it/s]"
     ]
    },
    {
     "name": "stdout",
     "output_type": "stream",
     "text": [
      "Training Loss: 1.60097\n",
      "Train Hits \t @10: 0.77517 \t @5 : 0.63377 \t @1 : 0.27169\n",
      "Train ndcg \t @10: 0.50735 \t @5 : 0.46126 \t @1 : 0.27169\n",
      "Train mrr: 2624.4280259348543\n",
      "Valid Hits \t @10: 0.67533 \t @5 : 0.53609 \t @1 : 0.22235\n",
      "Valid ndcg \t @10: 0.43021 \t @5 : 0.38510 \t @1 : 0.22235\n",
      "Valid mrr: 2223.1944313221366\n",
      "Test Hits \t @10: 0.64156 \t @5 : 0.50281 \t @1 : 0.20762\n",
      "Test ndcg \t @10: 0.40685 \t @5 : 0.36169 \t @1 : 0.20762\n",
      "Test mrr: 2105.827784248866\n",
      "==================== Epoch 11 ====================\n"
     ]
    },
    {
     "name": "stderr",
     "output_type": "stream",
     "text": [
      "100%|██████████████████████████████████████████████████████████████████████████████████| 95/95 [03:25<00:00,  2.17s/it]\n",
      "  0%|                                                                                           | 0/95 [00:00<?, ?it/s]"
     ]
    },
    {
     "name": "stdout",
     "output_type": "stream",
     "text": [
      "Training Loss: 1.54721\n",
      "Train Hits \t @10: 0.77599 \t @5 : 0.63742 \t @1 : 0.27351\n",
      "Train ndcg \t @10: 0.50948 \t @5 : 0.46456 \t @1 : 0.27351\n",
      "Train mrr: 2641.510196405857\n",
      "Valid Hits \t @10: 0.68030 \t @5 : 0.54139 \t @1 : 0.22483\n",
      "Valid ndcg \t @10: 0.43551 \t @5 : 0.39031 \t @1 : 0.22483\n",
      "Valid mrr: 2252.924088391868\n",
      "Test Hits \t @10: 0.64470 \t @5 : 0.51589 \t @1 : 0.21341\n",
      "Test ndcg \t @10: 0.41149 \t @5 : 0.36982 \t @1 : 0.21341\n",
      "Test mrr: 2135.4483046163755\n",
      "==================== Epoch 12 ====================\n"
     ]
    },
    {
     "name": "stderr",
     "output_type": "stream",
     "text": [
      "100%|██████████████████████████████████████████████████████████████████████████████████| 95/95 [03:26<00:00,  2.18s/it]\n",
      "  0%|                                                                                           | 0/95 [00:00<?, ?it/s]"
     ]
    },
    {
     "name": "stdout",
     "output_type": "stream",
     "text": [
      "Training Loss: 1.48950\n",
      "Train Hits \t @10: 0.78742 \t @5 : 0.64338 \t @1 : 0.27848\n",
      "Train ndcg \t @10: 0.51692 \t @5 : 0.47016 \t @1 : 0.27848\n",
      "Train mrr: 2675.7796647299183\n",
      "Valid Hits \t @10: 0.67897 \t @5 : 0.54818 \t @1 : 0.22897\n",
      "Valid ndcg \t @10: 0.43755 \t @5 : 0.39508 \t @1 : 0.22897\n",
      "Valid mrr: 2272.510235251636\n",
      "Test Hits \t @10: 0.65215 \t @5 : 0.51407 \t @1 : 0.21623\n",
      "Test ndcg \t @10: 0.41541 \t @5 : 0.37065 \t @1 : 0.21623\n",
      "Test mrr: 2150.9197048822225\n",
      "==================== Epoch 13 ====================\n"
     ]
    },
    {
     "name": "stderr",
     "output_type": "stream",
     "text": [
      "100%|██████████████████████████████████████████████████████████████████████████████████| 95/95 [03:25<00:00,  2.16s/it]\n",
      "  0%|                                                                                           | 0/95 [00:00<?, ?it/s]"
     ]
    },
    {
     "name": "stdout",
     "output_type": "stream",
     "text": [
      "Training Loss: 1.45574\n",
      "Train Hits \t @10: 0.78858 \t @5 : 0.64421 \t @1 : 0.28460\n",
      "Train ndcg \t @10: 0.52019 \t @5 : 0.47331 \t @1 : 0.28460\n",
      "Train mrr: 2675.7796647299183\n",
      "Valid Hits \t @10: 0.68477 \t @5 : 0.54901 \t @1 : 0.22285\n",
      "Valid ndcg \t @10: 0.43672 \t @5 : 0.39287 \t @1 : 0.22285\n",
      "Valid mrr: 2272.510235251636\n",
      "Test Hits \t @10: 0.64719 \t @5 : 0.51854 \t @1 : 0.20993\n",
      "Test ndcg \t @10: 0.41240 \t @5 : 0.37074 \t @1 : 0.20993\n",
      "Test mrr: 2150.9197048822225\n",
      "==================== Epoch 14 ====================\n"
     ]
    },
    {
     "name": "stderr",
     "output_type": "stream",
     "text": [
      "100%|██████████████████████████████████████████████████████████████████████████████████| 95/95 [03:25<00:00,  2.16s/it]\n",
      "  0%|                                                                                           | 0/95 [00:00<?, ?it/s]"
     ]
    },
    {
     "name": "stdout",
     "output_type": "stream",
     "text": [
      "Training Loss: 1.40925\n",
      "Train Hits \t @10: 0.80000 \t @5 : 0.65828 \t @1 : 0.28228\n",
      "Train ndcg \t @10: 0.52628 \t @5 : 0.48017 \t @1 : 0.28228\n",
      "Train mrr: 2721.119172286579\n",
      "Valid Hits \t @10: 0.68825 \t @5 : 0.55248 \t @1 : 0.23096\n",
      "Valid ndcg \t @10: 0.44309 \t @5 : 0.39896 \t @1 : 0.23096\n",
      "Valid mrr: 2295.986183501334\n",
      "Test Hits \t @10: 0.65778 \t @5 : 0.52450 \t @1 : 0.21672\n",
      "Test ndcg \t @10: 0.42024 \t @5 : 0.37679 \t @1 : 0.21672\n",
      "Test mrr: 2175.8763947924535\n",
      "==================== Epoch 15 ====================\n"
     ]
    },
    {
     "name": "stderr",
     "output_type": "stream",
     "text": [
      "100%|██████████████████████████████████████████████████████████████████████████████████| 95/95 [03:29<00:00,  2.20s/it]\n",
      "  0%|                                                                                           | 0/95 [00:00<?, ?it/s]"
     ]
    },
    {
     "name": "stdout",
     "output_type": "stream",
     "text": [
      "Training Loss: 1.38057\n",
      "Train Hits \t @10: 0.80795 \t @5 : 0.66358 \t @1 : 0.29089\n",
      "Train ndcg \t @10: 0.53320 \t @5 : 0.48628 \t @1 : 0.29089\n",
      "Train mrr: 2758.1771287089864\n",
      "Valid Hits \t @10: 0.68808 \t @5 : 0.55348 \t @1 : 0.23394\n",
      "Valid ndcg \t @10: 0.44320 \t @5 : 0.39957 \t @1 : 0.23394\n",
      "Valid mrr: 2297.2585472984792\n",
      "Test Hits \t @10: 0.65613 \t @5 : 0.52649 \t @1 : 0.22268\n",
      "Test ndcg \t @10: 0.42382 \t @5 : 0.38159 \t @1 : 0.22268\n",
      "Test mrr: 2207.990035254306\n",
      "==================== Epoch 16 ====================\n"
     ]
    },
    {
     "name": "stderr",
     "output_type": "stream",
     "text": [
      "100%|██████████████████████████████████████████████████████████████████████████████████| 95/95 [03:28<00:00,  2.19s/it]\n",
      "  0%|                                                                                           | 0/95 [00:00<?, ?it/s]"
     ]
    },
    {
     "name": "stdout",
     "output_type": "stream",
     "text": [
      "Training Loss: 1.34594\n",
      "Train Hits \t @10: 0.80944 \t @5 : 0.67086 \t @1 : 0.29106\n",
      "Train ndcg \t @10: 0.53569 \t @5 : 0.49038 \t @1 : 0.29106\n",
      "Train mrr: 2758.1771287089864\n",
      "Valid Hits \t @10: 0.68825 \t @5 : 0.55281 \t @1 : 0.22748\n",
      "Valid ndcg \t @10: 0.44111 \t @5 : 0.39715 \t @1 : 0.22748\n",
      "Valid mrr: 2297.2585472984792\n",
      "Test Hits \t @10: 0.66010 \t @5 : 0.53427 \t @1 : 0.21937\n",
      "Test ndcg \t @10: 0.42508 \t @5 : 0.38447 \t @1 : 0.21937\n",
      "Test mrr: 2207.990035254306\n",
      "==================== Epoch 17 ====================\n"
     ]
    },
    {
     "name": "stderr",
     "output_type": "stream",
     "text": [
      "100%|██████████████████████████████████████████████████████████████████████████████████| 95/95 [03:27<00:00,  2.19s/it]\n",
      "  0%|                                                                                           | 0/95 [00:00<?, ?it/s]"
     ]
    },
    {
     "name": "stdout",
     "output_type": "stream",
     "text": [
      "Training Loss: 1.32091\n",
      "Train Hits \t @10: 0.80844 \t @5 : 0.65894 \t @1 : 0.28344\n",
      "Train ndcg \t @10: 0.52934 \t @5 : 0.48067 \t @1 : 0.28344\n",
      "Train mrr: 2758.1771287089864\n",
      "Valid Hits \t @10: 0.68990 \t @5 : 0.55497 \t @1 : 0.22997\n",
      "Valid ndcg \t @10: 0.44317 \t @5 : 0.39944 \t @1 : 0.22997\n",
      "Valid mrr: 2297.2585472984792\n",
      "Test Hits \t @10: 0.65977 \t @5 : 0.51705 \t @1 : 0.21871\n",
      "Test ndcg \t @10: 0.42064 \t @5 : 0.37432 \t @1 : 0.21871\n",
      "Test mrr: 2207.990035254306\n",
      "==================== Epoch 18 ====================\n"
     ]
    },
    {
     "name": "stderr",
     "output_type": "stream",
     "text": [
      "100%|██████████████████████████████████████████████████████████████████████████████████| 95/95 [03:24<00:00,  2.16s/it]\n",
      "  0%|                                                                                           | 0/95 [00:00<?, ?it/s]"
     ]
    },
    {
     "name": "stdout",
     "output_type": "stream",
     "text": [
      "Training Loss: 1.29992\n",
      "Train Hits \t @10: 0.80927 \t @5 : 0.67036 \t @1 : 0.28278\n",
      "Train ndcg \t @10: 0.53218 \t @5 : 0.48695 \t @1 : 0.28278\n",
      "Train mrr: 2758.1771287089864\n",
      "Valid Hits \t @10: 0.68510 \t @5 : 0.54404 \t @1 : 0.22235\n",
      "Valid ndcg \t @10: 0.43689 \t @5 : 0.39096 \t @1 : 0.22235\n",
      "Valid mrr: 2297.2585472984792\n",
      "Test Hits \t @10: 0.65017 \t @5 : 0.51440 \t @1 : 0.21987\n",
      "Test ndcg \t @10: 0.41781 \t @5 : 0.37354 \t @1 : 0.21987\n",
      "Test mrr: 2207.990035254306\n",
      "==================== Epoch 19 ====================\n"
     ]
    },
    {
     "name": "stderr",
     "output_type": "stream",
     "text": [
      "100%|██████████████████████████████████████████████████████████████████████████████████| 95/95 [03:27<00:00,  2.18s/it]\n",
      "  0%|                                                                                           | 0/95 [00:00<?, ?it/s]"
     ]
    },
    {
     "name": "stdout",
     "output_type": "stream",
     "text": [
      "Training Loss: 1.27422\n",
      "Train Hits \t @10: 0.81589 \t @5 : 0.66954 \t @1 : 0.27831\n",
      "Train ndcg \t @10: 0.53103 \t @5 : 0.48335 \t @1 : 0.27831\n",
      "Train mrr: 2725.1863294541604\n",
      "Valid Hits \t @10: 0.69834 \t @5 : 0.55232 \t @1 : 0.23129\n",
      "Valid ndcg \t @10: 0.44670 \t @5 : 0.39955 \t @1 : 0.23129\n",
      "Valid mrr: 2303.0353520930544\n",
      "Test Hits \t @10: 0.65348 \t @5 : 0.52450 \t @1 : 0.22202\n",
      "Test ndcg \t @10: 0.42140 \t @5 : 0.37957 \t @1 : 0.22202\n",
      "Test mrr: 2195.305504575499\n",
      "==================== Epoch 20 ====================\n"
     ]
    },
    {
     "name": "stderr",
     "output_type": "stream",
     "text": [
      "100%|██████████████████████████████████████████████████████████████████████████████████| 95/95 [03:27<00:00,  2.19s/it]\n",
      "  0%|                                                                                           | 0/95 [00:00<?, ?it/s]"
     ]
    },
    {
     "name": "stdout",
     "output_type": "stream",
     "text": [
      "Training Loss: 1.25440\n",
      "Train Hits \t @10: 0.82517 \t @5 : 0.67831 \t @1 : 0.29305\n",
      "Train ndcg \t @10: 0.54299 \t @5 : 0.49505 \t @1 : 0.29305\n",
      "Train mrr: 2725.1863294541604\n",
      "Valid Hits \t @10: 0.69023 \t @5 : 0.55215 \t @1 : 0.23096\n",
      "Valid ndcg \t @10: 0.44414 \t @5 : 0.39904 \t @1 : 0.23096\n",
      "Valid mrr: 2303.0353520930544\n",
      "Test Hits \t @10: 0.66291 \t @5 : 0.52450 \t @1 : 0.22003\n",
      "Test ndcg \t @10: 0.42457 \t @5 : 0.37949 \t @1 : 0.22003\n",
      "Test mrr: 2195.305504575499\n",
      "==================== Epoch 21 ====================\n"
     ]
    },
    {
     "name": "stderr",
     "output_type": "stream",
     "text": [
      "100%|██████████████████████████████████████████████████████████████████████████████████| 95/95 [03:27<00:00,  2.18s/it]\n",
      "  0%|                                                                                           | 0/95 [00:00<?, ?it/s]"
     ]
    },
    {
     "name": "stdout",
     "output_type": "stream",
     "text": [
      "Training Loss: 1.23633\n",
      "Train Hits \t @10: 0.81871 \t @5 : 0.68278 \t @1 : 0.29702\n",
      "Train ndcg \t @10: 0.54411 \t @5 : 0.49981 \t @1 : 0.29702\n",
      "Train mrr: 2822.0950674476953\n",
      "Valid Hits \t @10: 0.69719 \t @5 : 0.56093 \t @1 : 0.23940\n",
      "Valid ndcg \t @10: 0.45203 \t @5 : 0.40794 \t @1 : 0.23940\n",
      "Valid mrr: 2347.047441116953\n",
      "Test Hits \t @10: 0.65894 \t @5 : 0.52533 \t @1 : 0.23079\n",
      "Test ndcg \t @10: 0.42935 \t @5 : 0.38596 \t @1 : 0.23079\n",
      "Test mrr: 2245.825232331707\n",
      "==================== Epoch 22 ====================\n"
     ]
    },
    {
     "name": "stderr",
     "output_type": "stream",
     "text": [
      "100%|██████████████████████████████████████████████████████████████████████████████████| 95/95 [03:29<00:00,  2.21s/it]\n",
      "  0%|                                                                                           | 0/95 [00:00<?, ?it/s]"
     ]
    },
    {
     "name": "stdout",
     "output_type": "stream",
     "text": [
      "Training Loss: 1.22204\n",
      "Train Hits \t @10: 0.82517 \t @5 : 0.67831 \t @1 : 0.29272\n",
      "Train ndcg \t @10: 0.54265 \t @5 : 0.49499 \t @1 : 0.29272\n",
      "Train mrr: 2822.0950674476953\n",
      "Valid Hits \t @10: 0.69785 \t @5 : 0.56126 \t @1 : 0.23940\n",
      "Valid ndcg \t @10: 0.45120 \t @5 : 0.40705 \t @1 : 0.23940\n",
      "Valid mrr: 2347.047441116953\n",
      "Test Hits \t @10: 0.65530 \t @5 : 0.53129 \t @1 : 0.22649\n",
      "Test ndcg \t @10: 0.42618 \t @5 : 0.38584 \t @1 : 0.22649\n",
      "Test mrr: 2245.825232331707\n",
      "==================== Epoch 23 ====================\n"
     ]
    },
    {
     "name": "stderr",
     "output_type": "stream",
     "text": [
      "100%|██████████████████████████████████████████████████████████████████████████████████| 95/95 [03:25<00:00,  2.16s/it]\n",
      "  0%|                                                                                           | 0/95 [00:00<?, ?it/s]"
     ]
    },
    {
     "name": "stdout",
     "output_type": "stream",
     "text": [
      "Training Loss: 1.20466\n",
      "Train Hits \t @10: 0.82285 \t @5 : 0.68212 \t @1 : 0.29338\n",
      "Train ndcg \t @10: 0.54330 \t @5 : 0.49757 \t @1 : 0.29338\n",
      "Train mrr: 2822.0950674476953\n",
      "Valid Hits \t @10: 0.69685 \t @5 : 0.56407 \t @1 : 0.23046\n",
      "Valid ndcg \t @10: 0.44866 \t @5 : 0.40561 \t @1 : 0.23046\n",
      "Valid mrr: 2347.047441116953\n",
      "Test Hits \t @10: 0.65646 \t @5 : 0.52715 \t @1 : 0.22318\n",
      "Test ndcg \t @10: 0.42539 \t @5 : 0.38315 \t @1 : 0.22318\n",
      "Test mrr: 2245.825232331707\n",
      "==================== Epoch 24 ====================\n"
     ]
    },
    {
     "name": "stderr",
     "output_type": "stream",
     "text": [
      "100%|██████████████████████████████████████████████████████████████████████████████████| 95/95 [03:24<00:00,  2.16s/it]\n",
      "  0%|                                                                                           | 0/95 [00:00<?, ?it/s]"
     ]
    },
    {
     "name": "stdout",
     "output_type": "stream",
     "text": [
      "Training Loss: 1.19412\n",
      "Train Hits \t @10: 0.82732 \t @5 : 0.68096 \t @1 : 0.30149\n",
      "Train ndcg \t @10: 0.54828 \t @5 : 0.50048 \t @1 : 0.30149\n",
      "Train mrr: 2822.0950674476953\n",
      "Valid Hits \t @10: 0.69338 \t @5 : 0.56242 \t @1 : 0.23609\n",
      "Valid ndcg \t @10: 0.44959 \t @5 : 0.40701 \t @1 : 0.23609\n",
      "Valid mrr: 2347.047441116953\n",
      "Test Hits \t @10: 0.66010 \t @5 : 0.52649 \t @1 : 0.22550\n",
      "Test ndcg \t @10: 0.42661 \t @5 : 0.38324 \t @1 : 0.22550\n",
      "Test mrr: 2245.825232331707\n",
      "==================== Epoch 25 ====================\n"
     ]
    },
    {
     "name": "stderr",
     "output_type": "stream",
     "text": [
      "100%|██████████████████████████████████████████████████████████████████████████████████| 95/95 [03:24<00:00,  2.15s/it]\n",
      "  0%|                                                                                           | 0/95 [00:00<?, ?it/s]"
     ]
    },
    {
     "name": "stdout",
     "output_type": "stream",
     "text": [
      "Training Loss: 1.18050\n",
      "Train Hits \t @10: 0.82268 \t @5 : 0.69354 \t @1 : 0.29172\n",
      "Train ndcg \t @10: 0.54509 \t @5 : 0.50308 \t @1 : 0.29172\n",
      "Train mrr: 2822.0950674476953\n",
      "Valid Hits \t @10: 0.69652 \t @5 : 0.56325 \t @1 : 0.23642\n",
      "Valid ndcg \t @10: 0.44862 \t @5 : 0.40544 \t @1 : 0.23642\n",
      "Valid mrr: 2347.047441116953\n",
      "Test Hits \t @10: 0.66043 \t @5 : 0.53195 \t @1 : 0.22434\n",
      "Test ndcg \t @10: 0.42806 \t @5 : 0.38633 \t @1 : 0.22434\n",
      "Test mrr: 2245.825232331707\n",
      "==================== Epoch 26 ====================\n"
     ]
    },
    {
     "name": "stderr",
     "output_type": "stream",
     "text": [
      "100%|██████████████████████████████████████████████████████████████████████████████████| 95/95 [03:24<00:00,  2.16s/it]\n",
      "  0%|                                                                                           | 0/95 [00:00<?, ?it/s]"
     ]
    },
    {
     "name": "stdout",
     "output_type": "stream",
     "text": [
      "Training Loss: 1.16778\n",
      "Train Hits \t @10: 0.82980 \t @5 : 0.69437 \t @1 : 0.30066\n",
      "Train ndcg \t @10: 0.55189 \t @5 : 0.50793 \t @1 : 0.30066\n",
      "Train mrr: 2859.469143320628\n",
      "Valid Hits \t @10: 0.69983 \t @5 : 0.56225 \t @1 : 0.23825\n",
      "Valid ndcg \t @10: 0.45209 \t @5 : 0.40742 \t @1 : 0.23825\n",
      "Valid mrr: 2343.238443530506\n",
      "Test Hits \t @10: 0.66308 \t @5 : 0.53228 \t @1 : 0.22699\n",
      "Test ndcg \t @10: 0.42862 \t @5 : 0.38616 \t @1 : 0.22699\n",
      "Test mrr: 2230.6639269208254\n",
      "==================== Epoch 27 ====================\n"
     ]
    },
    {
     "name": "stderr",
     "output_type": "stream",
     "text": [
      "100%|██████████████████████████████████████████████████████████████████████████████████| 95/95 [03:24<00:00,  2.15s/it]\n",
      "  0%|                                                                                           | 0/95 [00:00<?, ?it/s]"
     ]
    },
    {
     "name": "stdout",
     "output_type": "stream",
     "text": [
      "Training Loss: 1.15458\n",
      "Train Hits \t @10: 0.82881 \t @5 : 0.69421 \t @1 : 0.30265\n",
      "Train ndcg \t @10: 0.55282 \t @5 : 0.50899 \t @1 : 0.30265\n",
      "Train mrr: 2869.7126792869526\n",
      "Valid Hits \t @10: 0.70215 \t @5 : 0.57020 \t @1 : 0.23626\n",
      "Valid ndcg \t @10: 0.45405 \t @5 : 0.41130 \t @1 : 0.23626\n",
      "Valid mrr: 2351.1125485366024\n",
      "Test Hits \t @10: 0.66606 \t @5 : 0.53808 \t @1 : 0.22781\n",
      "Test ndcg \t @10: 0.43170 \t @5 : 0.39019 \t @1 : 0.22781\n",
      "Test mrr: 2248.3846141429826\n",
      "==================== Epoch 28 ====================\n"
     ]
    },
    {
     "name": "stderr",
     "output_type": "stream",
     "text": [
      "100%|██████████████████████████████████████████████████████████████████████████████████| 95/95 [03:24<00:00,  2.15s/it]\n",
      "  0%|                                                                                           | 0/95 [00:00<?, ?it/s]"
     ]
    },
    {
     "name": "stdout",
     "output_type": "stream",
     "text": [
      "Training Loss: 1.15126\n",
      "Train Hits \t @10: 0.83046 \t @5 : 0.69503 \t @1 : 0.31391\n",
      "Train ndcg \t @10: 0.55917 \t @5 : 0.51494 \t @1 : 0.31391\n",
      "Train mrr: 2916.9656807942847\n",
      "Valid Hits \t @10: 0.70546 \t @5 : 0.56556 \t @1 : 0.24040\n",
      "Valid ndcg \t @10: 0.45591 \t @5 : 0.41047 \t @1 : 0.24040\n",
      "Valid mrr: 2360.7448177470856\n",
      "Test Hits \t @10: 0.67020 \t @5 : 0.53411 \t @1 : 0.23278\n",
      "Test ndcg \t @10: 0.43425 \t @5 : 0.39008 \t @1 : 0.23278\n",
      "Test mrr: 2260.235057893147\n",
      "==================== Epoch 29 ====================\n"
     ]
    },
    {
     "name": "stderr",
     "output_type": "stream",
     "text": [
      "100%|██████████████████████████████████████████████████████████████████████████████████| 95/95 [03:24<00:00,  2.15s/it]\n",
      "  0%|                                                                                           | 0/95 [00:00<?, ?it/s]"
     ]
    },
    {
     "name": "stdout",
     "output_type": "stream",
     "text": [
      "Training Loss: 1.14310\n",
      "Train Hits \t @10: 0.83791 \t @5 : 0.69454 \t @1 : 0.30447\n",
      "Train ndcg \t @10: 0.55635 \t @5 : 0.50949 \t @1 : 0.30447\n",
      "Train mrr: 2916.9656807942847\n",
      "Valid Hits \t @10: 0.70033 \t @5 : 0.57103 \t @1 : 0.23692\n",
      "Valid ndcg \t @10: 0.45438 \t @5 : 0.41238 \t @1 : 0.23692\n",
      "Valid mrr: 2360.7448177470856\n",
      "Test Hits \t @10: 0.66358 \t @5 : 0.53675 \t @1 : 0.22947\n",
      "Test ndcg \t @10: 0.43024 \t @5 : 0.38905 \t @1 : 0.22947\n",
      "Test mrr: 2260.235057893147\n",
      "==================== Epoch 30 ====================\n"
     ]
    },
    {
     "name": "stderr",
     "output_type": "stream",
     "text": [
      "100%|██████████████████████████████████████████████████████████████████████████████████| 95/95 [03:24<00:00,  2.15s/it]\n",
      "  0%|                                                                                           | 0/95 [00:00<?, ?it/s]"
     ]
    },
    {
     "name": "stdout",
     "output_type": "stream",
     "text": [
      "Training Loss: 1.13328\n",
      "Train Hits \t @10: 0.83709 \t @5 : 0.69619 \t @1 : 0.30728\n",
      "Train ndcg \t @10: 0.55952 \t @5 : 0.51354 \t @1 : 0.30728\n",
      "Train mrr: 2916.9656807942847\n",
      "Valid Hits \t @10: 0.69768 \t @5 : 0.56556 \t @1 : 0.23493\n",
      "Valid ndcg \t @10: 0.45230 \t @5 : 0.40913 \t @1 : 0.23493\n",
      "Valid mrr: 2360.7448177470856\n",
      "Test Hits \t @10: 0.66507 \t @5 : 0.53444 \t @1 : 0.23361\n",
      "Test ndcg \t @10: 0.43249 \t @5 : 0.39021 \t @1 : 0.23361\n",
      "Test mrr: 2260.235057893147\n",
      "==================== Epoch 31 ====================\n"
     ]
    },
    {
     "name": "stderr",
     "output_type": "stream",
     "text": [
      "100%|██████████████████████████████████████████████████████████████████████████████████| 95/95 [03:24<00:00,  2.15s/it]\n",
      "  0%|                                                                                           | 0/95 [00:00<?, ?it/s]"
     ]
    },
    {
     "name": "stdout",
     "output_type": "stream",
     "text": [
      "Training Loss: 1.12109\n",
      "Train Hits \t @10: 0.83626 \t @5 : 0.69487 \t @1 : 0.30447\n",
      "Train ndcg \t @10: 0.55612 \t @5 : 0.51018 \t @1 : 0.30447\n",
      "Train mrr: 2916.9656807942847\n",
      "Valid Hits \t @10: 0.70050 \t @5 : 0.56490 \t @1 : 0.23411\n",
      "Valid ndcg \t @10: 0.45155 \t @5 : 0.40750 \t @1 : 0.23411\n",
      "Valid mrr: 2360.7448177470856\n",
      "Test Hits \t @10: 0.67119 \t @5 : 0.53990 \t @1 : 0.22616\n",
      "Test ndcg \t @10: 0.43220 \t @5 : 0.38983 \t @1 : 0.22616\n",
      "Test mrr: 2260.235057893147\n",
      "==================== Epoch 32 ====================\n"
     ]
    },
    {
     "name": "stderr",
     "output_type": "stream",
     "text": [
      "100%|██████████████████████████████████████████████████████████████████████████████████| 95/95 [03:25<00:00,  2.16s/it]\n",
      "  0%|                                                                                           | 0/95 [00:00<?, ?it/s]"
     ]
    },
    {
     "name": "stdout",
     "output_type": "stream",
     "text": [
      "Training Loss: 1.11852\n",
      "Train Hits \t @10: 0.83808 \t @5 : 0.70348 \t @1 : 0.31026\n",
      "Train ndcg \t @10: 0.56151 \t @5 : 0.51771 \t @1 : 0.31026\n",
      "Train mrr: 2917.4342498922756\n",
      "Valid Hits \t @10: 0.70579 \t @5 : 0.56672 \t @1 : 0.24553\n",
      "Valid ndcg \t @10: 0.45825 \t @5 : 0.41309 \t @1 : 0.24553\n",
      "Valid mrr: 2377.937217527112\n",
      "Test Hits \t @10: 0.66606 \t @5 : 0.54553 \t @1 : 0.22997\n",
      "Test ndcg \t @10: 0.43425 \t @5 : 0.39511 \t @1 : 0.22997\n",
      "Test mrr: 2266.941934041116\n",
      "==================== Epoch 33 ====================\n"
     ]
    },
    {
     "name": "stderr",
     "output_type": "stream",
     "text": [
      "100%|██████████████████████████████████████████████████████████████████████████████████| 95/95 [03:24<00:00,  2.16s/it]\n",
      "  0%|                                                                                           | 0/95 [00:00<?, ?it/s]"
     ]
    },
    {
     "name": "stdout",
     "output_type": "stream",
     "text": [
      "Training Loss: 1.10549\n",
      "Train Hits \t @10: 0.83974 \t @5 : 0.69851 \t @1 : 0.30960\n",
      "Train ndcg \t @10: 0.55976 \t @5 : 0.51382 \t @1 : 0.30960\n",
      "Train mrr: 2917.4342498922756\n",
      "Valid Hits \t @10: 0.70762 \t @5 : 0.57467 \t @1 : 0.23974\n",
      "Valid ndcg \t @10: 0.45740 \t @5 : 0.41432 \t @1 : 0.23974\n",
      "Valid mrr: 2377.937217527112\n",
      "Test Hits \t @10: 0.66937 \t @5 : 0.53957 \t @1 : 0.23295\n",
      "Test ndcg \t @10: 0.43488 \t @5 : 0.39270 \t @1 : 0.23295\n",
      "Test mrr: 2266.941934041116\n",
      "==================== Epoch 34 ====================\n"
     ]
    },
    {
     "name": "stderr",
     "output_type": "stream",
     "text": [
      "100%|██████████████████████████████████████████████████████████████████████████████████| 95/95 [03:24<00:00,  2.16s/it]\n",
      "  0%|                                                                                           | 0/95 [00:00<?, ?it/s]"
     ]
    },
    {
     "name": "stdout",
     "output_type": "stream",
     "text": [
      "Training Loss: 1.10559\n",
      "Train Hits \t @10: 0.84156 \t @5 : 0.70530 \t @1 : 0.31474\n",
      "Train ndcg \t @10: 0.56441 \t @5 : 0.52016 \t @1 : 0.31474\n",
      "Train mrr: 2917.4342498922756\n",
      "Valid Hits \t @10: 0.70480 \t @5 : 0.57202 \t @1 : 0.23659\n",
      "Valid ndcg \t @10: 0.45623 \t @5 : 0.41315 \t @1 : 0.23659\n",
      "Valid mrr: 2377.937217527112\n",
      "Test Hits \t @10: 0.66755 \t @5 : 0.54404 \t @1 : 0.23460\n",
      "Test ndcg \t @10: 0.43692 \t @5 : 0.39688 \t @1 : 0.23460\n",
      "Test mrr: 2266.941934041116\n",
      "==================== Epoch 35 ====================\n"
     ]
    },
    {
     "name": "stderr",
     "output_type": "stream",
     "text": [
      "100%|██████████████████████████████████████████████████████████████████████████████████| 95/95 [03:24<00:00,  2.15s/it]\n",
      "  0%|                                                                                           | 0/95 [00:00<?, ?it/s]"
     ]
    },
    {
     "name": "stdout",
     "output_type": "stream",
     "text": [
      "Training Loss: 1.09208\n",
      "Train Hits \t @10: 0.84272 \t @5 : 0.70331 \t @1 : 0.30513\n",
      "Train ndcg \t @10: 0.56056 \t @5 : 0.51509 \t @1 : 0.30513\n",
      "Train mrr: 2917.4342498922756\n",
      "Valid Hits \t @10: 0.70679 \t @5 : 0.56672 \t @1 : 0.24073\n",
      "Valid ndcg \t @10: 0.45723 \t @5 : 0.41184 \t @1 : 0.24073\n",
      "Valid mrr: 2377.937217527112\n",
      "Test Hits \t @10: 0.66540 \t @5 : 0.54454 \t @1 : 0.22715\n",
      "Test ndcg \t @10: 0.43285 \t @5 : 0.39363 \t @1 : 0.22715\n",
      "Test mrr: 2266.941934041116\n",
      "==================== Epoch 36 ====================\n"
     ]
    },
    {
     "name": "stderr",
     "output_type": "stream",
     "text": [
      "100%|██████████████████████████████████████████████████████████████████████████████████| 95/95 [03:25<00:00,  2.16s/it]\n",
      "  0%|                                                                                           | 0/95 [00:00<?, ?it/s]"
     ]
    },
    {
     "name": "stdout",
     "output_type": "stream",
     "text": [
      "Training Loss: 1.08605\n",
      "Train Hits \t @10: 0.84719 \t @5 : 0.70166 \t @1 : 0.31374\n",
      "Train ndcg \t @10: 0.56600 \t @5 : 0.51862 \t @1 : 0.31374\n",
      "Train mrr: 2934.6591400265143\n",
      "Valid Hits \t @10: 0.70281 \t @5 : 0.57748 \t @1 : 0.24205\n",
      "Valid ndcg \t @10: 0.45952 \t @5 : 0.41862 \t @1 : 0.24205\n",
      "Valid mrr: 2392.364401916767\n",
      "Test Hits \t @10: 0.67185 \t @5 : 0.54470 \t @1 : 0.23907\n",
      "Test ndcg \t @10: 0.44051 \t @5 : 0.39924 \t @1 : 0.23907\n",
      "Test mrr: 2304.6800837833\n",
      "==================== Epoch 37 ====================\n"
     ]
    },
    {
     "name": "stderr",
     "output_type": "stream",
     "text": [
      "100%|██████████████████████████████████████████████████████████████████████████████████| 95/95 [03:24<00:00,  2.16s/it]\n",
      "  0%|                                                                                           | 0/95 [00:00<?, ?it/s]"
     ]
    },
    {
     "name": "stdout",
     "output_type": "stream",
     "text": [
      "Training Loss: 1.07170\n",
      "Train Hits \t @10: 0.84536 \t @5 : 0.71159 \t @1 : 0.31589\n",
      "Train ndcg \t @10: 0.56788 \t @5 : 0.52428 \t @1 : 0.31589\n",
      "Train mrr: 2951.7704616788856\n",
      "Valid Hits \t @10: 0.70745 \t @5 : 0.57334 \t @1 : 0.24288\n",
      "Valid ndcg \t @10: 0.45971 \t @5 : 0.41635 \t @1 : 0.24288\n",
      "Valid mrr: 2386.043363844713\n",
      "Test Hits \t @10: 0.67036 \t @5 : 0.54470 \t @1 : 0.23262\n",
      "Test ndcg \t @10: 0.43648 \t @5 : 0.39586 \t @1 : 0.23262\n",
      "Test mrr: 2276.8727549605924\n",
      "==================== Epoch 38 ====================\n"
     ]
    },
    {
     "name": "stderr",
     "output_type": "stream",
     "text": [
      "100%|██████████████████████████████████████████████████████████████████████████████████| 95/95 [03:24<00:00,  2.16s/it]\n",
      "  0%|                                                                                           | 0/95 [00:00<?, ?it/s]"
     ]
    },
    {
     "name": "stdout",
     "output_type": "stream",
     "text": [
      "Training Loss: 1.07600\n",
      "Train Hits \t @10: 0.84404 \t @5 : 0.71126 \t @1 : 0.31308\n",
      "Train ndcg \t @10: 0.56550 \t @5 : 0.52218 \t @1 : 0.31308\n",
      "Train mrr: 2936.5681533177512\n",
      "Valid Hits \t @10: 0.70944 \t @5 : 0.57169 \t @1 : 0.24818\n",
      "Valid ndcg \t @10: 0.46322 \t @5 : 0.41831 \t @1 : 0.24818\n",
      "Valid mrr: 2408.9474872319342\n",
      "Test Hits \t @10: 0.67185 \t @5 : 0.54255 \t @1 : 0.23907\n",
      "Test ndcg \t @10: 0.43990 \t @5 : 0.39795 \t @1 : 0.23907\n",
      "Test mrr: 2300.413881278532\n",
      "==================== Epoch 39 ====================\n"
     ]
    },
    {
     "name": "stderr",
     "output_type": "stream",
     "text": [
      "100%|██████████████████████████████████████████████████████████████████████████████████| 95/95 [03:24<00:00,  2.16s/it]\n",
      "  0%|                                                                                           | 0/95 [00:00<?, ?it/s]"
     ]
    },
    {
     "name": "stdout",
     "output_type": "stream",
     "text": [
      "Training Loss: 1.07099\n",
      "Train Hits \t @10: 0.84189 \t @5 : 0.70861 \t @1 : 0.31159\n",
      "Train ndcg \t @10: 0.56409 \t @5 : 0.52052 \t @1 : 0.31159\n",
      "Train mrr: 2936.5681533177512\n",
      "Valid Hits \t @10: 0.70546 \t @5 : 0.57185 \t @1 : 0.24785\n",
      "Valid ndcg \t @10: 0.46055 \t @5 : 0.41718 \t @1 : 0.24785\n",
      "Valid mrr: 2408.9474872319342\n",
      "Test Hits \t @10: 0.67252 \t @5 : 0.54834 \t @1 : 0.23791\n",
      "Test ndcg \t @10: 0.44044 \t @5 : 0.40006 \t @1 : 0.23791\n",
      "Test mrr: 2300.413881278532\n",
      "==================== Epoch 40 ====================\n"
     ]
    },
    {
     "name": "stderr",
     "output_type": "stream",
     "text": [
      "100%|██████████████████████████████████████████████████████████████████████████████████| 95/95 [03:25<00:00,  2.16s/it]\n",
      "  0%|                                                                                           | 0/95 [00:00<?, ?it/s]"
     ]
    },
    {
     "name": "stdout",
     "output_type": "stream",
     "text": [
      "Training Loss: 1.06548\n",
      "Train Hits \t @10: 0.84702 \t @5 : 0.71175 \t @1 : 0.32119\n",
      "Train ndcg \t @10: 0.57072 \t @5 : 0.52645 \t @1 : 0.32119\n",
      "Train mrr: 2936.5681533177512\n",
      "Valid Hits \t @10: 0.70811 \t @5 : 0.57202 \t @1 : 0.24818\n",
      "Valid ndcg \t @10: 0.46203 \t @5 : 0.41767 \t @1 : 0.24818\n",
      "Valid mrr: 2408.9474872319342\n",
      "Test Hits \t @10: 0.67417 \t @5 : 0.54586 \t @1 : 0.23907\n",
      "Test ndcg \t @10: 0.44075 \t @5 : 0.39915 \t @1 : 0.23907\n",
      "Test mrr: 2300.413881278532\n",
      "==================== Epoch 41 ====================\n"
     ]
    },
    {
     "name": "stderr",
     "output_type": "stream",
     "text": [
      "100%|██████████████████████████████████████████████████████████████████████████████████| 95/95 [03:27<00:00,  2.18s/it]\n",
      "  0%|                                                                                           | 0/95 [00:00<?, ?it/s]"
     ]
    },
    {
     "name": "stdout",
     "output_type": "stream",
     "text": [
      "Training Loss: 1.05800\n",
      "Train Hits \t @10: 0.85017 \t @5 : 0.71440 \t @1 : 0.30579\n",
      "Train ndcg \t @10: 0.56568 \t @5 : 0.52141 \t @1 : 0.30579\n",
      "Train mrr: 2923.4557722894756\n",
      "Valid Hits \t @10: 0.71474 \t @5 : 0.57649 \t @1 : 0.24520\n",
      "Valid ndcg \t @10: 0.46349 \t @5 : 0.41862 \t @1 : 0.24520\n",
      "Valid mrr: 2399.596905621532\n",
      "Test Hits \t @10: 0.66904 \t @5 : 0.54437 \t @1 : 0.23725\n",
      "Test ndcg \t @10: 0.43972 \t @5 : 0.39916 \t @1 : 0.23725\n",
      "Test mrr: 2305.2330296543296\n",
      "==================== Epoch 42 ====================\n"
     ]
    },
    {
     "name": "stderr",
     "output_type": "stream",
     "text": [
      "100%|██████████████████████████████████████████████████████████████████████████████████| 95/95 [03:24<00:00,  2.15s/it]\n",
      "  0%|                                                                                           | 0/95 [00:00<?, ?it/s]"
     ]
    },
    {
     "name": "stdout",
     "output_type": "stream",
     "text": [
      "Training Loss: 1.05823\n",
      "Train Hits \t @10: 0.85182 \t @5 : 0.71192 \t @1 : 0.30679\n",
      "Train ndcg \t @10: 0.56573 \t @5 : 0.52005 \t @1 : 0.30679\n",
      "Train mrr: 2920.2993310180723\n",
      "Valid Hits \t @10: 0.71192 \t @5 : 0.57699 \t @1 : 0.25050\n",
      "Valid ndcg \t @10: 0.46567 \t @5 : 0.42179 \t @1 : 0.25050\n",
      "Valid mrr: 2422.111809428707\n",
      "Test Hits \t @10: 0.66623 \t @5 : 0.54089 \t @1 : 0.23775\n",
      "Test ndcg \t @10: 0.43721 \t @5 : 0.39651 \t @1 : 0.23775\n",
      "Test mrr: 2291.36537328858\n",
      "==================== Epoch 43 ====================\n"
     ]
    },
    {
     "name": "stderr",
     "output_type": "stream",
     "text": [
      "100%|██████████████████████████████████████████████████████████████████████████████████| 95/95 [03:24<00:00,  2.15s/it]\n",
      "  0%|                                                                                           | 0/95 [00:00<?, ?it/s]"
     ]
    },
    {
     "name": "stdout",
     "output_type": "stream",
     "text": [
      "Training Loss: 1.04393\n",
      "Train Hits \t @10: 0.84702 \t @5 : 0.71225 \t @1 : 0.31954\n",
      "Train ndcg \t @10: 0.57015 \t @5 : 0.52618 \t @1 : 0.31954\n",
      "Train mrr: 2920.2993310180723\n",
      "Valid Hits \t @10: 0.71076 \t @5 : 0.58262 \t @1 : 0.24437\n",
      "Valid ndcg \t @10: 0.46402 \t @5 : 0.42262 \t @1 : 0.24437\n",
      "Valid mrr: 2422.111809428707\n",
      "Test Hits \t @10: 0.67318 \t @5 : 0.54834 \t @1 : 0.23725\n",
      "Test ndcg \t @10: 0.44197 \t @5 : 0.40151 \t @1 : 0.23725\n",
      "Test mrr: 2291.36537328858\n",
      "==================== Epoch 44 ====================\n"
     ]
    },
    {
     "name": "stderr",
     "output_type": "stream",
     "text": [
      "100%|██████████████████████████████████████████████████████████████████████████████████| 95/95 [03:24<00:00,  2.16s/it]\n",
      "  0%|                                                                                           | 0/95 [00:00<?, ?it/s]"
     ]
    },
    {
     "name": "stdout",
     "output_type": "stream",
     "text": [
      "Training Loss: 1.04871\n",
      "Train Hits \t @10: 0.85099 \t @5 : 0.71407 \t @1 : 0.32533\n",
      "Train ndcg \t @10: 0.57481 \t @5 : 0.52996 \t @1 : 0.32533\n",
      "Train mrr: 2920.2993310180723\n",
      "Valid Hits \t @10: 0.71010 \t @5 : 0.57765 \t @1 : 0.25182\n",
      "Valid ndcg \t @10: 0.46534 \t @5 : 0.42238 \t @1 : 0.25182\n",
      "Valid mrr: 2422.111809428707\n",
      "Test Hits \t @10: 0.67815 \t @5 : 0.54785 \t @1 : 0.24156\n",
      "Test ndcg \t @10: 0.44417 \t @5 : 0.40193 \t @1 : 0.24156\n",
      "Test mrr: 2291.36537328858\n",
      "==================== Epoch 45 ====================\n"
     ]
    },
    {
     "name": "stderr",
     "output_type": "stream",
     "text": [
      "100%|██████████████████████████████████████████████████████████████████████████████████| 95/95 [03:24<00:00,  2.15s/it]\n",
      "  0%|                                                                                           | 0/95 [00:00<?, ?it/s]"
     ]
    },
    {
     "name": "stdout",
     "output_type": "stream",
     "text": [
      "Training Loss: 1.02975\n",
      "Train Hits \t @10: 0.84868 \t @5 : 0.71209 \t @1 : 0.31689\n",
      "Train ndcg \t @10: 0.57091 \t @5 : 0.52636 \t @1 : 0.31689\n",
      "Train mrr: 2920.2993310180723\n",
      "Valid Hits \t @10: 0.70728 \t @5 : 0.57185 \t @1 : 0.24321\n",
      "Valid ndcg \t @10: 0.46007 \t @5 : 0.41599 \t @1 : 0.24321\n",
      "Valid mrr: 2422.111809428707\n",
      "Test Hits \t @10: 0.67781 \t @5 : 0.55000 \t @1 : 0.23493\n",
      "Test ndcg \t @10: 0.44212 \t @5 : 0.40074 \t @1 : 0.23493\n",
      "Test mrr: 2291.36537328858\n",
      "==================== Epoch 46 ====================\n"
     ]
    },
    {
     "name": "stderr",
     "output_type": "stream",
     "text": [
      "100%|██████████████████████████████████████████████████████████████████████████████████| 95/95 [03:24<00:00,  2.15s/it]\n",
      "  0%|                                                                                           | 0/95 [00:00<?, ?it/s]"
     ]
    },
    {
     "name": "stdout",
     "output_type": "stream",
     "text": [
      "Training Loss: 1.03876\n",
      "Train Hits \t @10: 0.85000 \t @5 : 0.71738 \t @1 : 0.31871\n",
      "Train ndcg \t @10: 0.57300 \t @5 : 0.52984 \t @1 : 0.31871\n",
      "Train mrr: 2981.3748040179476\n",
      "Valid Hits \t @10: 0.71126 \t @5 : 0.57815 \t @1 : 0.25414\n",
      "Valid ndcg \t @10: 0.46593 \t @5 : 0.42276 \t @1 : 0.25414\n",
      "Valid mrr: 2427.0658904636334\n",
      "Test Hits \t @10: 0.67334 \t @5 : 0.54768 \t @1 : 0.23808\n",
      "Test ndcg \t @10: 0.44199 \t @5 : 0.40101 \t @1 : 0.23808\n",
      "Test mrr: 2313.6944330225297\n",
      "==================== Epoch 47 ====================\n"
     ]
    },
    {
     "name": "stderr",
     "output_type": "stream",
     "text": [
      "100%|██████████████████████████████████████████████████████████████████████████████████| 95/95 [03:24<00:00,  2.15s/it]\n",
      "  0%|                                                                                           | 0/95 [00:00<?, ?it/s]"
     ]
    },
    {
     "name": "stdout",
     "output_type": "stream",
     "text": [
      "Training Loss: 1.02729\n",
      "Train Hits \t @10: 0.85364 \t @5 : 0.71639 \t @1 : 0.32616\n",
      "Train ndcg \t @10: 0.57744 \t @5 : 0.53269 \t @1 : 0.32616\n",
      "Train mrr: 3011.3202413020754\n",
      "Valid Hits \t @10: 0.71639 \t @5 : 0.58311 \t @1 : 0.25281\n",
      "Valid ndcg \t @10: 0.46851 \t @5 : 0.42533 \t @1 : 0.25281\n",
      "Valid mrr: 2436.3266004073503\n",
      "Test Hits \t @10: 0.67550 \t @5 : 0.54636 \t @1 : 0.24139\n",
      "Test ndcg \t @10: 0.44378 \t @5 : 0.40173 \t @1 : 0.24139\n",
      "Test mrr: 2322.7817950972712\n",
      "==================== Epoch 48 ====================\n"
     ]
    },
    {
     "name": "stderr",
     "output_type": "stream",
     "text": [
      "100%|██████████████████████████████████████████████████████████████████████████████████| 95/95 [03:24<00:00,  2.15s/it]\n",
      "  0%|                                                                                           | 0/95 [00:00<?, ?it/s]"
     ]
    },
    {
     "name": "stdout",
     "output_type": "stream",
     "text": [
      "Training Loss: 1.02611\n",
      "Train Hits \t @10: 0.85116 \t @5 : 0.71159 \t @1 : 0.31407\n",
      "Train ndcg \t @10: 0.56887 \t @5 : 0.52338 \t @1 : 0.31407\n",
      "Train mrr: 3011.3202413020754\n",
      "Valid Hits \t @10: 0.71391 \t @5 : 0.58129 \t @1 : 0.24785\n",
      "Valid ndcg \t @10: 0.46565 \t @5 : 0.42282 \t @1 : 0.24785\n",
      "Valid mrr: 2436.3266004073503\n",
      "Test Hits \t @10: 0.67417 \t @5 : 0.54785 \t @1 : 0.24619\n",
      "Test ndcg \t @10: 0.44510 \t @5 : 0.40428 \t @1 : 0.24619\n",
      "Test mrr: 2322.7817950972712\n",
      "==================== Epoch 49 ====================\n"
     ]
    },
    {
     "name": "stderr",
     "output_type": "stream",
     "text": [
      "100%|██████████████████████████████████████████████████████████████████████████████████| 95/95 [03:24<00:00,  2.15s/it]\n",
      "  0%|                                                                                           | 0/95 [00:00<?, ?it/s]"
     ]
    },
    {
     "name": "stdout",
     "output_type": "stream",
     "text": [
      "Training Loss: 1.01661\n",
      "Train Hits \t @10: 0.85083 \t @5 : 0.72268 \t @1 : 0.31722\n",
      "Train ndcg \t @10: 0.57361 \t @5 : 0.53182 \t @1 : 0.31722\n",
      "Train mrr: 3011.3202413020754\n",
      "Valid Hits \t @10: 0.71540 \t @5 : 0.58411 \t @1 : 0.24834\n",
      "Valid ndcg \t @10: 0.46622 \t @5 : 0.42343 \t @1 : 0.24834\n",
      "Valid mrr: 2436.3266004073503\n",
      "Test Hits \t @10: 0.67550 \t @5 : 0.54801 \t @1 : 0.24189\n",
      "Test ndcg \t @10: 0.44348 \t @5 : 0.40220 \t @1 : 0.24189\n",
      "Test mrr: 2322.7817950972712\n",
      "==================== Epoch 50 ====================\n"
     ]
    },
    {
     "name": "stderr",
     "output_type": "stream",
     "text": [
      "100%|██████████████████████████████████████████████████████████████████████████████████| 95/95 [03:24<00:00,  2.16s/it]\n",
      "  0%|                                                                                           | 0/95 [00:00<?, ?it/s]"
     ]
    },
    {
     "name": "stdout",
     "output_type": "stream",
     "text": [
      "Training Loss: 1.01712\n",
      "Train Hits \t @10: 0.85629 \t @5 : 0.72268 \t @1 : 0.31507\n",
      "Train ndcg \t @10: 0.57208 \t @5 : 0.52851 \t @1 : 0.31507\n",
      "Train mrr: 3011.3202413020754\n",
      "Valid Hits \t @10: 0.71275 \t @5 : 0.57599 \t @1 : 0.24619\n",
      "Valid ndcg \t @10: 0.46279 \t @5 : 0.41848 \t @1 : 0.24619\n",
      "Valid mrr: 2436.3266004073503\n",
      "Test Hits \t @10: 0.67450 \t @5 : 0.54768 \t @1 : 0.23675\n",
      "Test ndcg \t @10: 0.44050 \t @5 : 0.39930 \t @1 : 0.23675\n",
      "Test mrr: 2322.7817950972712\n",
      "==================== Epoch 51 ====================\n"
     ]
    },
    {
     "name": "stderr",
     "output_type": "stream",
     "text": [
      "100%|██████████████████████████████████████████████████████████████████████████████████| 95/95 [03:24<00:00,  2.15s/it]\n",
      "  0%|                                                                                           | 0/95 [00:00<?, ?it/s]"
     ]
    },
    {
     "name": "stdout",
     "output_type": "stream",
     "text": [
      "Training Loss: 1.00890\n",
      "Train Hits \t @10: 0.85116 \t @5 : 0.72036 \t @1 : 0.31672\n",
      "Train ndcg \t @10: 0.57326 \t @5 : 0.53078 \t @1 : 0.31672\n",
      "Train mrr: 3011.3202413020754\n",
      "Valid Hits \t @10: 0.71474 \t @5 : 0.58725 \t @1 : 0.24636\n",
      "Valid ndcg \t @10: 0.46570 \t @5 : 0.42434 \t @1 : 0.24636\n",
      "Valid mrr: 2436.3266004073503\n",
      "Test Hits \t @10: 0.67649 \t @5 : 0.55513 \t @1 : 0.23096\n",
      "Test ndcg \t @10: 0.44093 \t @5 : 0.40154 \t @1 : 0.23096\n",
      "Test mrr: 2322.7817950972712\n",
      "==================== Epoch 52 ====================\n"
     ]
    },
    {
     "name": "stderr",
     "output_type": "stream",
     "text": [
      "100%|██████████████████████████████████████████████████████████████████████████████████| 95/95 [03:24<00:00,  2.15s/it]\n",
      "  0%|                                                                                           | 0/95 [00:00<?, ?it/s]"
     ]
    },
    {
     "name": "stdout",
     "output_type": "stream",
     "text": [
      "Training Loss: 1.00839\n",
      "Train Hits \t @10: 0.85778 \t @5 : 0.71738 \t @1 : 0.32318\n",
      "Train ndcg \t @10: 0.57818 \t @5 : 0.53247 \t @1 : 0.32318\n",
      "Train mrr: 3011.3202413020754\n",
      "Valid Hits \t @10: 0.71440 \t @5 : 0.58609 \t @1 : 0.24702\n",
      "Valid ndcg \t @10: 0.46705 \t @5 : 0.42532 \t @1 : 0.24702\n",
      "Valid mrr: 2436.3266004073503\n",
      "Test Hits \t @10: 0.67616 \t @5 : 0.54934 \t @1 : 0.24288\n",
      "Test ndcg \t @10: 0.44499 \t @5 : 0.40383 \t @1 : 0.24288\n",
      "Test mrr: 2322.7817950972712\n",
      "==================== Epoch 53 ====================\n"
     ]
    },
    {
     "name": "stderr",
     "output_type": "stream",
     "text": [
      "100%|██████████████████████████████████████████████████████████████████████████████████| 95/95 [03:24<00:00,  2.15s/it]\n",
      "  0%|                                                                                           | 0/95 [00:00<?, ?it/s]"
     ]
    },
    {
     "name": "stdout",
     "output_type": "stream",
     "text": [
      "Training Loss: 1.00063\n",
      "Train Hits \t @10: 0.85464 \t @5 : 0.72368 \t @1 : 0.32417\n",
      "Train ndcg \t @10: 0.57883 \t @5 : 0.53612 \t @1 : 0.32417\n",
      "Train mrr: 3017.887331598921\n",
      "Valid Hits \t @10: 0.70944 \t @5 : 0.58675 \t @1 : 0.26291\n",
      "Valid ndcg \t @10: 0.47315 \t @5 : 0.43332 \t @1 : 0.26291\n",
      "Valid mrr: 2486.9833880386745\n",
      "Test Hits \t @10: 0.67897 \t @5 : 0.55149 \t @1 : 0.23974\n",
      "Test ndcg \t @10: 0.44408 \t @5 : 0.40295 \t @1 : 0.23974\n",
      "Test mrr: 2318.79820061555\n",
      "==================== Epoch 54 ====================\n"
     ]
    },
    {
     "name": "stderr",
     "output_type": "stream",
     "text": [
      "100%|██████████████████████████████████████████████████████████████████████████████████| 95/95 [03:24<00:00,  2.16s/it]\n",
      "  0%|                                                                                           | 0/95 [00:00<?, ?it/s]"
     ]
    },
    {
     "name": "stdout",
     "output_type": "stream",
     "text": [
      "Training Loss: 1.00000\n",
      "Train Hits \t @10: 0.85877 \t @5 : 0.72252 \t @1 : 0.32020\n",
      "Train ndcg \t @10: 0.57542 \t @5 : 0.53113 \t @1 : 0.32020\n",
      "Train mrr: 3017.887331598921\n",
      "Valid Hits \t @10: 0.71275 \t @5 : 0.57732 \t @1 : 0.24536\n",
      "Valid ndcg \t @10: 0.46306 \t @5 : 0.41902 \t @1 : 0.24536\n",
      "Valid mrr: 2486.9833880386745\n",
      "Test Hits \t @10: 0.67864 \t @5 : 0.55215 \t @1 : 0.23709\n",
      "Test ndcg \t @10: 0.44342 \t @5 : 0.40234 \t @1 : 0.23709\n",
      "Test mrr: 2318.79820061555\n",
      "==================== Epoch 55 ====================\n"
     ]
    },
    {
     "name": "stderr",
     "output_type": "stream",
     "text": [
      "100%|██████████████████████████████████████████████████████████████████████████████████| 95/95 [03:24<00:00,  2.15s/it]\n",
      "  0%|                                                                                           | 0/95 [00:00<?, ?it/s]"
     ]
    },
    {
     "name": "stdout",
     "output_type": "stream",
     "text": [
      "Training Loss: 0.98988\n",
      "Train Hits \t @10: 0.85977 \t @5 : 0.72964 \t @1 : 0.32831\n",
      "Train ndcg \t @10: 0.58342 \t @5 : 0.54091 \t @1 : 0.32831\n",
      "Train mrr: 3017.887331598921\n",
      "Valid Hits \t @10: 0.71142 \t @5 : 0.58262 \t @1 : 0.25099\n",
      "Valid ndcg \t @10: 0.46765 \t @5 : 0.42548 \t @1 : 0.25099\n",
      "Valid mrr: 2486.9833880386745\n",
      "Test Hits \t @10: 0.67599 \t @5 : 0.55646 \t @1 : 0.24139\n",
      "Test ndcg \t @10: 0.44491 \t @5 : 0.40614 \t @1 : 0.24139\n",
      "Test mrr: 2318.79820061555\n",
      "==================== Epoch 56 ====================\n"
     ]
    },
    {
     "name": "stderr",
     "output_type": "stream",
     "text": [
      "100%|██████████████████████████████████████████████████████████████████████████████████| 95/95 [03:24<00:00,  2.15s/it]\n",
      "  0%|                                                                                           | 0/95 [00:00<?, ?it/s]"
     ]
    },
    {
     "name": "stdout",
     "output_type": "stream",
     "text": [
      "Training Loss: 0.99765\n",
      "Train Hits \t @10: 0.85132 \t @5 : 0.71358 \t @1 : 0.32152\n",
      "Train ndcg \t @10: 0.57346 \t @5 : 0.52862 \t @1 : 0.32152\n",
      "Train mrr: 3017.887331598921\n",
      "Valid Hits \t @10: 0.71142 \t @5 : 0.57831 \t @1 : 0.25000\n",
      "Valid ndcg \t @10: 0.46444 \t @5 : 0.42127 \t @1 : 0.25000\n",
      "Valid mrr: 2486.9833880386745\n",
      "Test Hits \t @10: 0.67136 \t @5 : 0.54652 \t @1 : 0.23709\n",
      "Test ndcg \t @10: 0.43998 \t @5 : 0.39935 \t @1 : 0.23709\n",
      "Test mrr: 2318.79820061555\n",
      "==================== Epoch 57 ====================\n"
     ]
    },
    {
     "name": "stderr",
     "output_type": "stream",
     "text": [
      "100%|██████████████████████████████████████████████████████████████████████████████████| 95/95 [03:23<00:00,  2.15s/it]\n",
      "  0%|                                                                                           | 0/95 [00:00<?, ?it/s]"
     ]
    },
    {
     "name": "stdout",
     "output_type": "stream",
     "text": [
      "Training Loss: 0.98047\n",
      "Train Hits \t @10: 0.86010 \t @5 : 0.72020 \t @1 : 0.32715\n",
      "Train ndcg \t @10: 0.58031 \t @5 : 0.53475 \t @1 : 0.32715\n",
      "Train mrr: 3017.887331598921\n",
      "Valid Hits \t @10: 0.71308 \t @5 : 0.57947 \t @1 : 0.25563\n",
      "Valid ndcg \t @10: 0.46832 \t @5 : 0.42493 \t @1 : 0.25563\n",
      "Valid mrr: 2486.9833880386745\n",
      "Test Hits \t @10: 0.67483 \t @5 : 0.55381 \t @1 : 0.24321\n",
      "Test ndcg \t @10: 0.44559 \t @5 : 0.40631 \t @1 : 0.24321\n",
      "Test mrr: 2318.79820061555\n",
      "==================== Epoch 58 ====================\n"
     ]
    },
    {
     "name": "stderr",
     "output_type": "stream",
     "text": [
      "100%|██████████████████████████████████████████████████████████████████████████████████| 95/95 [03:24<00:00,  2.16s/it]\n",
      "  0%|                                                                                           | 0/95 [00:00<?, ?it/s]"
     ]
    },
    {
     "name": "stdout",
     "output_type": "stream",
     "text": [
      "Training Loss: 0.98611\n",
      "Train Hits \t @10: 0.85579 \t @5 : 0.72517 \t @1 : 0.33228\n",
      "Train ndcg \t @10: 0.58102 \t @5 : 0.53837 \t @1 : 0.33228\n",
      "Train mrr: 3017.887331598921\n",
      "Valid Hits \t @10: 0.71556 \t @5 : 0.58576 \t @1 : 0.24768\n",
      "Valid ndcg \t @10: 0.46639 \t @5 : 0.42415 \t @1 : 0.24768\n",
      "Valid mrr: 2486.9833880386745\n",
      "Test Hits \t @10: 0.67815 \t @5 : 0.55530 \t @1 : 0.24305\n",
      "Test ndcg \t @10: 0.44628 \t @5 : 0.40649 \t @1 : 0.24305\n",
      "Test mrr: 2318.79820061555\n",
      "==================== Epoch 59 ====================\n"
     ]
    },
    {
     "name": "stderr",
     "output_type": "stream",
     "text": [
      "100%|██████████████████████████████████████████████████████████████████████████████████| 95/95 [03:24<00:00,  2.15s/it]\n",
      "  0%|                                                                                           | 0/95 [00:00<?, ?it/s]"
     ]
    },
    {
     "name": "stdout",
     "output_type": "stream",
     "text": [
      "Training Loss: 0.97359\n",
      "Train Hits \t @10: 0.85977 \t @5 : 0.72682 \t @1 : 0.32185\n",
      "Train ndcg \t @10: 0.57962 \t @5 : 0.53632 \t @1 : 0.32185\n",
      "Train mrr: 3013.413988375211\n",
      "Valid Hits \t @10: 0.71689 \t @5 : 0.59007 \t @1 : 0.26126\n",
      "Valid ndcg \t @10: 0.47382 \t @5 : 0.43257 \t @1 : 0.26126\n",
      "Valid mrr: 2476.105549359503\n",
      "Test Hits \t @10: 0.67384 \t @5 : 0.55281 \t @1 : 0.24437\n",
      "Test ndcg \t @10: 0.44562 \t @5 : 0.40636 \t @1 : 0.24437\n",
      "Test mrr: 2342.5717333181724\n",
      "==================== Epoch 60 ====================\n"
     ]
    },
    {
     "name": "stderr",
     "output_type": "stream",
     "text": [
      "100%|██████████████████████████████████████████████████████████████████████████████████| 95/95 [03:24<00:00,  2.15s/it]\n",
      "  0%|                                                                                           | 0/95 [00:00<?, ?it/s]"
     ]
    },
    {
     "name": "stdout",
     "output_type": "stream",
     "text": [
      "Training Loss: 0.97998\n",
      "Train Hits \t @10: 0.85778 \t @5 : 0.72666 \t @1 : 0.32980\n",
      "Train ndcg \t @10: 0.58158 \t @5 : 0.53868 \t @1 : 0.32980\n",
      "Train mrr: 3013.413988375211\n",
      "Valid Hits \t @10: 0.71109 \t @5 : 0.58311 \t @1 : 0.25348\n",
      "Valid ndcg \t @10: 0.46811 \t @5 : 0.42635 \t @1 : 0.25348\n",
      "Valid mrr: 2476.105549359503\n",
      "Test Hits \t @10: 0.67632 \t @5 : 0.55397 \t @1 : 0.24338\n",
      "Test ndcg \t @10: 0.44531 \t @5 : 0.40554 \t @1 : 0.24338\n",
      "Test mrr: 2342.5717333181724\n",
      "==================== Epoch 61 ====================\n"
     ]
    },
    {
     "name": "stderr",
     "output_type": "stream",
     "text": [
      "100%|██████████████████████████████████████████████████████████████████████████████████| 95/95 [03:24<00:00,  2.16s/it]\n",
      "  0%|                                                                                           | 0/95 [00:00<?, ?it/s]"
     ]
    },
    {
     "name": "stdout",
     "output_type": "stream",
     "text": [
      "Training Loss: 0.96311\n",
      "Train Hits \t @10: 0.85513 \t @5 : 0.72434 \t @1 : 0.31556\n",
      "Train ndcg \t @10: 0.57359 \t @5 : 0.53096 \t @1 : 0.31556\n",
      "Train mrr: 3013.413988375211\n",
      "Valid Hits \t @10: 0.72003 \t @5 : 0.58593 \t @1 : 0.25298\n",
      "Valid ndcg \t @10: 0.47185 \t @5 : 0.42837 \t @1 : 0.25298\n",
      "Valid mrr: 2476.105549359503\n",
      "Test Hits \t @10: 0.67483 \t @5 : 0.54669 \t @1 : 0.24520\n",
      "Test ndcg \t @10: 0.44647 \t @5 : 0.40484 \t @1 : 0.24520\n",
      "Test mrr: 2342.5717333181724\n",
      "==================== Epoch 62 ====================\n"
     ]
    },
    {
     "name": "stderr",
     "output_type": "stream",
     "text": [
      "100%|██████████████████████████████████████████████████████████████████████████████████| 95/95 [03:25<00:00,  2.16s/it]\n",
      "  0%|                                                                                           | 0/95 [00:00<?, ?it/s]"
     ]
    },
    {
     "name": "stdout",
     "output_type": "stream",
     "text": [
      "Training Loss: 0.96463\n",
      "Train Hits \t @10: 0.85927 \t @5 : 0.72666 \t @1 : 0.32583\n",
      "Train ndcg \t @10: 0.58076 \t @5 : 0.53753 \t @1 : 0.32583\n",
      "Train mrr: 3013.413988375211\n",
      "Valid Hits \t @10: 0.70894 \t @5 : 0.57417 \t @1 : 0.25579\n",
      "Valid ndcg \t @10: 0.46671 \t @5 : 0.42280 \t @1 : 0.25579\n",
      "Valid mrr: 2476.105549359503\n",
      "Test Hits \t @10: 0.67550 \t @5 : 0.55331 \t @1 : 0.23609\n",
      "Test ndcg \t @10: 0.44208 \t @5 : 0.40244 \t @1 : 0.23609\n",
      "Test mrr: 2342.5717333181724\n",
      "==================== Epoch 63 ====================\n"
     ]
    },
    {
     "name": "stderr",
     "output_type": "stream",
     "text": [
      "100%|██████████████████████████████████████████████████████████████████████████████████| 95/95 [03:24<00:00,  2.16s/it]\n",
      "  0%|                                                                                           | 0/95 [00:00<?, ?it/s]"
     ]
    },
    {
     "name": "stdout",
     "output_type": "stream",
     "text": [
      "Training Loss: 0.95617\n",
      "Train Hits \t @10: 0.85596 \t @5 : 0.72169 \t @1 : 0.32815\n",
      "Train ndcg \t @10: 0.57881 \t @5 : 0.53494 \t @1 : 0.32815\n",
      "Train mrr: 3013.413988375211\n",
      "Valid Hits \t @10: 0.71821 \t @5 : 0.58543 \t @1 : 0.25695\n",
      "Valid ndcg \t @10: 0.47234 \t @5 : 0.42913 \t @1 : 0.25695\n",
      "Valid mrr: 2476.105549359503\n",
      "Test Hits \t @10: 0.67434 \t @5 : 0.54685 \t @1 : 0.23460\n",
      "Test ndcg \t @10: 0.44001 \t @5 : 0.39848 \t @1 : 0.23460\n",
      "Test mrr: 2342.5717333181724\n",
      "==================== Epoch 64 ====================\n"
     ]
    },
    {
     "name": "stderr",
     "output_type": "stream",
     "text": [
      "100%|██████████████████████████████████████████████████████████████████████████████████| 95/95 [03:25<00:00,  2.16s/it]\n",
      "  0%|                                                                                           | 0/95 [00:00<?, ?it/s]"
     ]
    },
    {
     "name": "stdout",
     "output_type": "stream",
     "text": [
      "Training Loss: 0.96182\n",
      "Train Hits \t @10: 0.86010 \t @5 : 0.73311 \t @1 : 0.32980\n",
      "Train ndcg \t @10: 0.58470 \t @5 : 0.54321 \t @1 : 0.32980\n",
      "Train mrr: 3013.413988375211\n",
      "Valid Hits \t @10: 0.71325 \t @5 : 0.58742 \t @1 : 0.25116\n",
      "Valid ndcg \t @10: 0.46898 \t @5 : 0.42808 \t @1 : 0.25116\n",
      "Valid mrr: 2476.105549359503\n",
      "Test Hits \t @10: 0.67682 \t @5 : 0.55762 \t @1 : 0.24189\n",
      "Test ndcg \t @10: 0.44466 \t @5 : 0.40606 \t @1 : 0.24189\n",
      "Test mrr: 2342.5717333181724\n",
      "==================== Epoch 65 ====================\n"
     ]
    },
    {
     "name": "stderr",
     "output_type": "stream",
     "text": [
      "100%|██████████████████████████████████████████████████████████████████████████████████| 95/95 [03:24<00:00,  2.16s/it]\n",
      "  0%|                                                                                           | 0/95 [00:00<?, ?it/s]"
     ]
    },
    {
     "name": "stdout",
     "output_type": "stream",
     "text": [
      "Training Loss: 0.95137\n",
      "Train Hits \t @10: 0.85894 \t @5 : 0.72699 \t @1 : 0.31606\n",
      "Train ndcg \t @10: 0.57499 \t @5 : 0.53203 \t @1 : 0.31606\n",
      "Train mrr: 3013.413988375211\n",
      "Valid Hits \t @10: 0.71639 \t @5 : 0.57947 \t @1 : 0.25629\n",
      "Valid ndcg \t @10: 0.46917 \t @5 : 0.42473 \t @1 : 0.25629\n",
      "Valid mrr: 2476.105549359503\n",
      "Test Hits \t @10: 0.67334 \t @5 : 0.54685 \t @1 : 0.23493\n",
      "Test ndcg \t @10: 0.44043 \t @5 : 0.39930 \t @1 : 0.23493\n",
      "Test mrr: 2342.5717333181724\n",
      "==================== Epoch 66 ====================\n"
     ]
    },
    {
     "name": "stderr",
     "output_type": "stream",
     "text": [
      "100%|██████████████████████████████████████████████████████████████████████████████████| 95/95 [03:25<00:00,  2.16s/it]\n",
      "  0%|                                                                                           | 0/95 [00:00<?, ?it/s]"
     ]
    },
    {
     "name": "stdout",
     "output_type": "stream",
     "text": [
      "Training Loss: 0.95007\n",
      "Train Hits \t @10: 0.85728 \t @5 : 0.72500 \t @1 : 0.32583\n",
      "Train ndcg \t @10: 0.57996 \t @5 : 0.53673 \t @1 : 0.32583\n",
      "Train mrr: 3013.413988375211\n",
      "Valid Hits \t @10: 0.71970 \t @5 : 0.58228 \t @1 : 0.25199\n",
      "Valid ndcg \t @10: 0.46970 \t @5 : 0.42514 \t @1 : 0.25199\n",
      "Valid mrr: 2476.105549359503\n",
      "Test Hits \t @10: 0.67914 \t @5 : 0.55033 \t @1 : 0.23775\n",
      "Test ndcg \t @10: 0.44393 \t @5 : 0.40218 \t @1 : 0.23775\n",
      "Test mrr: 2342.5717333181724\n",
      "==================== Epoch 67 ====================\n"
     ]
    },
    {
     "name": "stderr",
     "output_type": "stream",
     "text": [
      "100%|██████████████████████████████████████████████████████████████████████████████████| 95/95 [03:24<00:00,  2.16s/it]\n",
      "  0%|                                                                                           | 0/95 [00:00<?, ?it/s]"
     ]
    },
    {
     "name": "stdout",
     "output_type": "stream",
     "text": [
      "Training Loss: 0.93862\n",
      "Train Hits \t @10: 0.86689 \t @5 : 0.73510 \t @1 : 0.33079\n",
      "Train ndcg \t @10: 0.58832 \t @5 : 0.54539 \t @1 : 0.33079\n",
      "Train mrr: 3013.413988375211\n",
      "Valid Hits \t @10: 0.71954 \t @5 : 0.58791 \t @1 : 0.24950\n",
      "Valid ndcg \t @10: 0.46923 \t @5 : 0.42667 \t @1 : 0.24950\n",
      "Valid mrr: 2476.105549359503\n",
      "Test Hits \t @10: 0.67219 \t @5 : 0.54636 \t @1 : 0.23129\n",
      "Test ndcg \t @10: 0.43720 \t @5 : 0.39622 \t @1 : 0.23129\n",
      "Test mrr: 2342.5717333181724\n",
      "==================== Epoch 68 ====================\n"
     ]
    },
    {
     "name": "stderr",
     "output_type": "stream",
     "text": [
      "100%|██████████████████████████████████████████████████████████████████████████████████| 95/95 [03:25<00:00,  2.16s/it]\n",
      "  0%|                                                                                           | 0/95 [00:00<?, ?it/s]"
     ]
    },
    {
     "name": "stdout",
     "output_type": "stream",
     "text": [
      "Training Loss: 0.94378\n",
      "Train Hits \t @10: 0.86159 \t @5 : 0.73311 \t @1 : 0.33278\n",
      "Train ndcg \t @10: 0.58748 \t @5 : 0.54541 \t @1 : 0.33278\n",
      "Train mrr: 3013.413988375211\n",
      "Valid Hits \t @10: 0.72003 \t @5 : 0.58444 \t @1 : 0.26010\n",
      "Valid ndcg \t @10: 0.47349 \t @5 : 0.42924 \t @1 : 0.26010\n",
      "Valid mrr: 2476.105549359503\n",
      "Test Hits \t @10: 0.67517 \t @5 : 0.55199 \t @1 : 0.23940\n",
      "Test ndcg \t @10: 0.44413 \t @5 : 0.40422 \t @1 : 0.23940\n",
      "Test mrr: 2342.5717333181724\n",
      "==================== Epoch 69 ====================\n"
     ]
    },
    {
     "name": "stderr",
     "output_type": "stream",
     "text": [
      "100%|██████████████████████████████████████████████████████████████████████████████████| 95/95 [03:24<00:00,  2.15s/it]\n",
      "  0%|                                                                                           | 0/95 [00:00<?, ?it/s]"
     ]
    },
    {
     "name": "stdout",
     "output_type": "stream",
     "text": [
      "Training Loss: 0.93520\n",
      "Train Hits \t @10: 0.86341 \t @5 : 0.73179 \t @1 : 0.33444\n",
      "Train ndcg \t @10: 0.58689 \t @5 : 0.54389 \t @1 : 0.33444\n",
      "Train mrr: 3013.413988375211\n",
      "Valid Hits \t @10: 0.71656 \t @5 : 0.59139 \t @1 : 0.25050\n",
      "Valid ndcg \t @10: 0.46757 \t @5 : 0.42701 \t @1 : 0.25050\n",
      "Valid mrr: 2476.105549359503\n",
      "Test Hits \t @10: 0.67517 \t @5 : 0.55298 \t @1 : 0.23825\n",
      "Test ndcg \t @10: 0.44269 \t @5 : 0.40306 \t @1 : 0.23825\n",
      "Test mrr: 2342.5717333181724\n",
      "==================== Epoch 70 ====================\n"
     ]
    },
    {
     "name": "stderr",
     "output_type": "stream",
     "text": [
      "100%|██████████████████████████████████████████████████████████████████████████████████| 95/95 [03:24<00:00,  2.16s/it]\n",
      "  0%|                                                                                           | 0/95 [00:00<?, ?it/s]"
     ]
    },
    {
     "name": "stdout",
     "output_type": "stream",
     "text": [
      "Training Loss: 0.94074\n",
      "Train Hits \t @10: 0.86656 \t @5 : 0.74023 \t @1 : 0.33891\n",
      "Train ndcg \t @10: 0.59192 \t @5 : 0.55070 \t @1 : 0.33891\n",
      "Train mrr: 3095.506245392848\n",
      "Valid Hits \t @10: 0.72020 \t @5 : 0.59272 \t @1 : 0.25861\n",
      "Valid ndcg \t @10: 0.47536 \t @5 : 0.43393 \t @1 : 0.25861\n",
      "Valid mrr: 2480.5029264920418\n",
      "Test Hits \t @10: 0.67599 \t @5 : 0.55281 \t @1 : 0.24603\n",
      "Test ndcg \t @10: 0.44695 \t @5 : 0.40704 \t @1 : 0.24603\n",
      "Test mrr: 2347.9110754818703\n",
      "==================== Epoch 71 ====================\n"
     ]
    },
    {
     "name": "stderr",
     "output_type": "stream",
     "text": [
      "100%|██████████████████████████████████████████████████████████████████████████████████| 95/95 [03:24<00:00,  2.16s/it]\n",
      "  0%|                                                                                           | 0/95 [00:00<?, ?it/s]"
     ]
    },
    {
     "name": "stdout",
     "output_type": "stream",
     "text": [
      "Training Loss: 0.92460\n",
      "Train Hits \t @10: 0.86308 \t @5 : 0.73179 \t @1 : 0.33096\n",
      "Train ndcg \t @10: 0.58519 \t @5 : 0.54224 \t @1 : 0.33096\n",
      "Train mrr: 3095.506245392848\n",
      "Valid Hits \t @10: 0.71871 \t @5 : 0.58146 \t @1 : 0.24884\n",
      "Valid ndcg \t @10: 0.46891 \t @5 : 0.42429 \t @1 : 0.24884\n",
      "Valid mrr: 2480.5029264920418\n",
      "Test Hits \t @10: 0.67384 \t @5 : 0.55364 \t @1 : 0.24454\n",
      "Test ndcg \t @10: 0.44492 \t @5 : 0.40588 \t @1 : 0.24454\n",
      "Test mrr: 2347.9110754818703\n",
      "==================== Epoch 72 ====================\n"
     ]
    },
    {
     "name": "stderr",
     "output_type": "stream",
     "text": [
      "100%|██████████████████████████████████████████████████████████████████████████████████| 95/95 [03:25<00:00,  2.16s/it]\n",
      "  0%|                                                                                           | 0/95 [00:00<?, ?it/s]"
     ]
    },
    {
     "name": "stdout",
     "output_type": "stream",
     "text": [
      "Training Loss: 0.93726\n",
      "Train Hits \t @10: 0.86358 \t @5 : 0.73295 \t @1 : 0.32334\n",
      "Train ndcg \t @10: 0.58228 \t @5 : 0.53954 \t @1 : 0.32334\n",
      "Train mrr: 3095.506245392848\n",
      "Valid Hits \t @10: 0.71854 \t @5 : 0.58162 \t @1 : 0.24834\n",
      "Valid ndcg \t @10: 0.46734 \t @5 : 0.42271 \t @1 : 0.24834\n",
      "Valid mrr: 2480.5029264920418\n",
      "Test Hits \t @10: 0.67964 \t @5 : 0.55646 \t @1 : 0.23907\n",
      "Test ndcg \t @10: 0.44514 \t @5 : 0.40513 \t @1 : 0.23907\n",
      "Test mrr: 2347.9110754818703\n",
      "==================== Epoch 73 ====================\n"
     ]
    },
    {
     "name": "stderr",
     "output_type": "stream",
     "text": [
      "100%|██████████████████████████████████████████████████████████████████████████████████| 95/95 [03:24<00:00,  2.15s/it]\n",
      "  0%|                                                                                           | 0/95 [00:00<?, ?it/s]"
     ]
    },
    {
     "name": "stdout",
     "output_type": "stream",
     "text": [
      "Training Loss: 0.91703\n",
      "Train Hits \t @10: 0.86540 \t @5 : 0.73858 \t @1 : 0.34222\n",
      "Train ndcg \t @10: 0.59316 \t @5 : 0.55156 \t @1 : 0.34222\n",
      "Train mrr: 3095.506245392848\n",
      "Valid Hits \t @10: 0.71772 \t @5 : 0.58510 \t @1 : 0.25397\n",
      "Valid ndcg \t @10: 0.47019 \t @5 : 0.42703 \t @1 : 0.25397\n",
      "Valid mrr: 2480.5029264920418\n",
      "Test Hits \t @10: 0.67566 \t @5 : 0.55530 \t @1 : 0.23692\n",
      "Test ndcg \t @10: 0.44322 \t @5 : 0.40411 \t @1 : 0.23692\n",
      "Test mrr: 2347.9110754818703\n",
      "==================== Epoch 74 ====================\n"
     ]
    },
    {
     "name": "stderr",
     "output_type": "stream",
     "text": [
      "100%|██████████████████████████████████████████████████████████████████████████████████| 95/95 [03:24<00:00,  2.16s/it]\n",
      "  0%|                                                                                           | 0/95 [00:00<?, ?it/s]"
     ]
    },
    {
     "name": "stdout",
     "output_type": "stream",
     "text": [
      "Training Loss: 0.92247\n",
      "Train Hits \t @10: 0.86507 \t @5 : 0.72815 \t @1 : 0.32649\n",
      "Train ndcg \t @10: 0.58274 \t @5 : 0.53800 \t @1 : 0.32649\n",
      "Train mrr: 3095.506245392848\n",
      "Valid Hits \t @10: 0.71921 \t @5 : 0.58311 \t @1 : 0.26142\n",
      "Valid ndcg \t @10: 0.47444 \t @5 : 0.43010 \t @1 : 0.26142\n",
      "Valid mrr: 2480.5029264920418\n",
      "Test Hits \t @10: 0.68046 \t @5 : 0.55099 \t @1 : 0.24520\n",
      "Test ndcg \t @10: 0.44807 \t @5 : 0.40595 \t @1 : 0.24520\n",
      "Test mrr: 2347.9110754818703\n",
      "==================== Epoch 75 ====================\n"
     ]
    },
    {
     "name": "stderr",
     "output_type": "stream",
     "text": [
      "100%|██████████████████████████████████████████████████████████████████████████████████| 95/95 [03:25<00:00,  2.16s/it]\n",
      "  0%|                                                                                           | 0/95 [00:00<?, ?it/s]"
     ]
    },
    {
     "name": "stdout",
     "output_type": "stream",
     "text": [
      "Training Loss: 0.90967\n",
      "Train Hits \t @10: 0.87053 \t @5 : 0.74156 \t @1 : 0.34023\n",
      "Train ndcg \t @10: 0.59479 \t @5 : 0.55281 \t @1 : 0.34023\n",
      "Train mrr: 3095.506245392848\n",
      "Valid Hits \t @10: 0.71507 \t @5 : 0.58195 \t @1 : 0.25844\n",
      "Valid ndcg \t @10: 0.47205 \t @5 : 0.42862 \t @1 : 0.25844\n",
      "Valid mrr: 2480.5029264920418\n",
      "Test Hits \t @10: 0.67732 \t @5 : 0.55381 \t @1 : 0.24586\n",
      "Test ndcg \t @10: 0.44678 \t @5 : 0.40675 \t @1 : 0.24586\n",
      "Test mrr: 2347.9110754818703\n",
      "==================== Epoch 76 ====================\n"
     ]
    },
    {
     "name": "stderr",
     "output_type": "stream",
     "text": [
      "100%|██████████████████████████████████████████████████████████████████████████████████| 95/95 [03:24<00:00,  2.15s/it]\n",
      "  0%|                                                                                           | 0/95 [00:00<?, ?it/s]"
     ]
    },
    {
     "name": "stdout",
     "output_type": "stream",
     "text": [
      "Training Loss: 0.91438\n",
      "Train Hits \t @10: 0.86672 \t @5 : 0.73675 \t @1 : 0.33013\n",
      "Train ndcg \t @10: 0.58943 \t @5 : 0.54697 \t @1 : 0.33013\n",
      "Train mrr: 3095.506245392848\n",
      "Valid Hits \t @10: 0.71987 \t @5 : 0.58377 \t @1 : 0.25679\n",
      "Valid ndcg \t @10: 0.47255 \t @5 : 0.42837 \t @1 : 0.25679\n",
      "Valid mrr: 2480.5029264920418\n",
      "Test Hits \t @10: 0.67964 \t @5 : 0.55132 \t @1 : 0.24321\n",
      "Test ndcg \t @10: 0.44586 \t @5 : 0.40415 \t @1 : 0.24321\n",
      "Test mrr: 2347.9110754818703\n",
      "==================== Epoch 77 ====================\n"
     ]
    },
    {
     "name": "stderr",
     "output_type": "stream",
     "text": [
      "100%|██████████████████████████████████████████████████████████████████████████████████| 95/95 [03:24<00:00,  2.15s/it]\n",
      "  0%|                                                                                           | 0/95 [00:00<?, ?it/s]"
     ]
    },
    {
     "name": "stdout",
     "output_type": "stream",
     "text": [
      "Training Loss: 0.90530\n",
      "Train Hits \t @10: 0.87202 \t @5 : 0.73808 \t @1 : 0.33427\n",
      "Train ndcg \t @10: 0.59141 \t @5 : 0.54772 \t @1 : 0.33427\n",
      "Train mrr: 3095.506245392848\n",
      "Valid Hits \t @10: 0.72003 \t @5 : 0.58974 \t @1 : 0.25480\n",
      "Valid ndcg \t @10: 0.47160 \t @5 : 0.42938 \t @1 : 0.25480\n",
      "Valid mrr: 2480.5029264920418\n",
      "Test Hits \t @10: 0.67666 \t @5 : 0.54868 \t @1 : 0.23626\n",
      "Test ndcg \t @10: 0.44217 \t @5 : 0.40072 \t @1 : 0.23626\n",
      "Test mrr: 2347.9110754818703\n",
      "==================== Epoch 78 ====================\n"
     ]
    },
    {
     "name": "stderr",
     "output_type": "stream",
     "text": [
      "100%|██████████████████████████████████████████████████████████████████████████████████| 95/95 [03:24<00:00,  2.15s/it]\n",
      "  0%|                                                                                           | 0/95 [00:00<?, ?it/s]"
     ]
    },
    {
     "name": "stdout",
     "output_type": "stream",
     "text": [
      "Training Loss: 0.90368\n",
      "Train Hits \t @10: 0.86556 \t @5 : 0.73974 \t @1 : 0.34570\n",
      "Train ndcg \t @10: 0.59481 \t @5 : 0.55360 \t @1 : 0.34570\n",
      "Train mrr: 3095.506245392848\n",
      "Valid Hits \t @10: 0.71871 \t @5 : 0.58593 \t @1 : 0.26076\n",
      "Valid ndcg \t @10: 0.47516 \t @5 : 0.43198 \t @1 : 0.26076\n",
      "Valid mrr: 2480.5029264920418\n",
      "Test Hits \t @10: 0.67864 \t @5 : 0.55066 \t @1 : 0.24305\n",
      "Test ndcg \t @10: 0.44568 \t @5 : 0.40414 \t @1 : 0.24305\n",
      "Test mrr: 2347.9110754818703\n",
      "==================== Epoch 79 ====================\n"
     ]
    },
    {
     "name": "stderr",
     "output_type": "stream",
     "text": [
      "100%|██████████████████████████████████████████████████████████████████████████████████| 95/95 [03:24<00:00,  2.15s/it]\n",
      "  0%|                                                                                           | 0/95 [00:00<?, ?it/s]"
     ]
    },
    {
     "name": "stdout",
     "output_type": "stream",
     "text": [
      "Training Loss: 0.90013\n",
      "Train Hits \t @10: 0.87384 \t @5 : 0.73841 \t @1 : 0.34156\n",
      "Train ndcg \t @10: 0.59615 \t @5 : 0.55208 \t @1 : 0.34156\n",
      "Train mrr: 3095.506245392848\n",
      "Valid Hits \t @10: 0.71805 \t @5 : 0.58195 \t @1 : 0.25745\n",
      "Valid ndcg \t @10: 0.47172 \t @5 : 0.42751 \t @1 : 0.25745\n",
      "Valid mrr: 2480.5029264920418\n",
      "Test Hits \t @10: 0.67781 \t @5 : 0.55149 \t @1 : 0.23907\n",
      "Test ndcg \t @10: 0.44484 \t @5 : 0.40379 \t @1 : 0.23907\n",
      "Test mrr: 2347.9110754818703\n",
      "==================== Epoch 80 ====================\n"
     ]
    },
    {
     "name": "stderr",
     "output_type": "stream",
     "text": [
      "100%|██████████████████████████████████████████████████████████████████████████████████| 95/95 [03:25<00:00,  2.16s/it]\n",
      "  0%|                                                                                           | 0/95 [00:00<?, ?it/s]"
     ]
    },
    {
     "name": "stdout",
     "output_type": "stream",
     "text": [
      "Training Loss: 0.90192\n",
      "Train Hits \t @10: 0.86954 \t @5 : 0.74503 \t @1 : 0.34255\n",
      "Train ndcg \t @10: 0.59455 \t @5 : 0.55397 \t @1 : 0.34255\n",
      "Train mrr: 3095.506245392848\n",
      "Valid Hits \t @10: 0.71639 \t @5 : 0.58212 \t @1 : 0.25149\n",
      "Valid ndcg \t @10: 0.46885 \t @5 : 0.42516 \t @1 : 0.25149\n",
      "Valid mrr: 2480.5029264920418\n",
      "Test Hits \t @10: 0.67450 \t @5 : 0.55099 \t @1 : 0.23990\n",
      "Test ndcg \t @10: 0.44338 \t @5 : 0.40325 \t @1 : 0.23990\n",
      "Test mrr: 2347.9110754818703\n",
      "==================== Epoch 81 ====================\n"
     ]
    },
    {
     "name": "stderr",
     "output_type": "stream",
     "text": [
      "100%|██████████████████████████████████████████████████████████████████████████████████| 95/95 [03:24<00:00,  2.15s/it]\n",
      "  0%|                                                                                           | 0/95 [00:00<?, ?it/s]"
     ]
    },
    {
     "name": "stdout",
     "output_type": "stream",
     "text": [
      "Training Loss: 0.89794\n",
      "Train Hits \t @10: 0.87301 \t @5 : 0.74636 \t @1 : 0.33709\n",
      "Train ndcg \t @10: 0.59512 \t @5 : 0.55376 \t @1 : 0.33709\n",
      "Train mrr: 3095.506245392848\n",
      "Valid Hits \t @10: 0.71887 \t @5 : 0.59255 \t @1 : 0.24917\n",
      "Valid ndcg \t @10: 0.47032 \t @5 : 0.42934 \t @1 : 0.24917\n",
      "Valid mrr: 2480.5029264920418\n",
      "Test Hits \t @10: 0.67666 \t @5 : 0.55497 \t @1 : 0.24735\n",
      "Test ndcg \t @10: 0.44833 \t @5 : 0.40882 \t @1 : 0.24735\n",
      "Test mrr: 2347.9110754818703\n",
      "==================== Epoch 82 ====================\n"
     ]
    },
    {
     "name": "stderr",
     "output_type": "stream",
     "text": [
      "100%|██████████████████████████████████████████████████████████████████████████████████| 95/95 [03:24<00:00,  2.15s/it]\n",
      "  0%|                                                                                           | 0/95 [00:00<?, ?it/s]"
     ]
    },
    {
     "name": "stdout",
     "output_type": "stream",
     "text": [
      "Training Loss: 0.89474\n",
      "Train Hits \t @10: 0.86987 \t @5 : 0.74156 \t @1 : 0.33675\n",
      "Train ndcg \t @10: 0.59372 \t @5 : 0.55186 \t @1 : 0.33675\n",
      "Train mrr: 3095.506245392848\n",
      "Valid Hits \t @10: 0.71788 \t @5 : 0.58791 \t @1 : 0.25348\n",
      "Valid ndcg \t @10: 0.47061 \t @5 : 0.42831 \t @1 : 0.25348\n",
      "Valid mrr: 2480.5029264920418\n",
      "Test Hits \t @10: 0.67434 \t @5 : 0.55182 \t @1 : 0.24669\n",
      "Test ndcg \t @10: 0.44631 \t @5 : 0.40648 \t @1 : 0.24669\n",
      "Test mrr: 2347.9110754818703\n",
      "==================== Epoch 83 ====================\n"
     ]
    },
    {
     "name": "stderr",
     "output_type": "stream",
     "text": [
      "100%|██████████████████████████████████████████████████████████████████████████████████| 95/95 [03:24<00:00,  2.15s/it]\n",
      "  0%|                                                                                           | 0/95 [00:00<?, ?it/s]"
     ]
    },
    {
     "name": "stdout",
     "output_type": "stream",
     "text": [
      "Training Loss: 0.88093\n",
      "Train Hits \t @10: 0.87649 \t @5 : 0.74421 \t @1 : 0.33758\n",
      "Train ndcg \t @10: 0.59571 \t @5 : 0.55216 \t @1 : 0.33758\n",
      "Train mrr: 3095.506245392848\n",
      "Valid Hits \t @10: 0.71871 \t @5 : 0.59007 \t @1 : 0.24983\n",
      "Valid ndcg \t @10: 0.47084 \t @5 : 0.42885 \t @1 : 0.24983\n",
      "Valid mrr: 2480.5029264920418\n",
      "Test Hits \t @10: 0.68096 \t @5 : 0.55447 \t @1 : 0.24404\n",
      "Test ndcg \t @10: 0.44750 \t @5 : 0.40631 \t @1 : 0.24404\n",
      "Test mrr: 2347.9110754818703\n",
      "==================== Epoch 84 ====================\n"
     ]
    },
    {
     "name": "stderr",
     "output_type": "stream",
     "text": [
      "100%|██████████████████████████████████████████████████████████████████████████████████| 95/95 [03:24<00:00,  2.15s/it]\n",
      "  0%|                                                                                           | 0/95 [00:00<?, ?it/s]"
     ]
    },
    {
     "name": "stdout",
     "output_type": "stream",
     "text": [
      "Training Loss: 0.88659\n",
      "Train Hits \t @10: 0.86987 \t @5 : 0.74238 \t @1 : 0.33228\n",
      "Train ndcg \t @10: 0.59154 \t @5 : 0.54985 \t @1 : 0.33228\n",
      "Train mrr: 3095.506245392848\n",
      "Valid Hits \t @10: 0.71921 \t @5 : 0.58858 \t @1 : 0.25513\n",
      "Valid ndcg \t @10: 0.47111 \t @5 : 0.42862 \t @1 : 0.25513\n",
      "Valid mrr: 2480.5029264920418\n",
      "Test Hits \t @10: 0.67831 \t @5 : 0.55364 \t @1 : 0.23924\n",
      "Test ndcg \t @10: 0.44457 \t @5 : 0.40406 \t @1 : 0.23924\n",
      "Test mrr: 2347.9110754818703\n",
      "==================== Epoch 85 ====================\n"
     ]
    },
    {
     "name": "stderr",
     "output_type": "stream",
     "text": [
      "100%|██████████████████████████████████████████████████████████████████████████████████| 95/95 [03:24<00:00,  2.15s/it]\n",
      "  0%|                                                                                           | 0/95 [00:00<?, ?it/s]"
     ]
    },
    {
     "name": "stdout",
     "output_type": "stream",
     "text": [
      "Training Loss: 0.87705\n",
      "Train Hits \t @10: 0.87351 \t @5 : 0.74404 \t @1 : 0.32947\n",
      "Train ndcg \t @10: 0.59112 \t @5 : 0.54890 \t @1 : 0.32947\n",
      "Train mrr: 3095.506245392848\n",
      "Valid Hits \t @10: 0.71821 \t @5 : 0.58692 \t @1 : 0.25613\n",
      "Valid ndcg \t @10: 0.47197 \t @5 : 0.42915 \t @1 : 0.25613\n",
      "Valid mrr: 2480.5029264920418\n",
      "Test Hits \t @10: 0.67831 \t @5 : 0.55414 \t @1 : 0.23576\n",
      "Test ndcg \t @10: 0.44227 \t @5 : 0.40208 \t @1 : 0.23576\n",
      "Test mrr: 2347.9110754818703\n",
      "==================== Epoch 86 ====================\n"
     ]
    },
    {
     "name": "stderr",
     "output_type": "stream",
     "text": [
      "100%|██████████████████████████████████████████████████████████████████████████████████| 95/95 [03:24<00:00,  2.15s/it]\n",
      "  0%|                                                                                           | 0/95 [00:00<?, ?it/s]"
     ]
    },
    {
     "name": "stdout",
     "output_type": "stream",
     "text": [
      "Training Loss: 0.87946\n",
      "Train Hits \t @10: 0.87070 \t @5 : 0.74222 \t @1 : 0.33493\n",
      "Train ndcg \t @10: 0.59277 \t @5 : 0.55078 \t @1 : 0.33493\n",
      "Train mrr: 3095.506245392848\n",
      "Valid Hits \t @10: 0.71738 \t @5 : 0.58477 \t @1 : 0.25795\n",
      "Valid ndcg \t @10: 0.47326 \t @5 : 0.43005 \t @1 : 0.25795\n",
      "Valid mrr: 2480.5029264920418\n",
      "Test Hits \t @10: 0.67765 \t @5 : 0.55265 \t @1 : 0.24305\n",
      "Test ndcg \t @10: 0.44575 \t @5 : 0.40512 \t @1 : 0.24305\n",
      "Test mrr: 2347.9110754818703\n",
      "==================== Epoch 87 ====================\n"
     ]
    },
    {
     "name": "stderr",
     "output_type": "stream",
     "text": [
      "100%|██████████████████████████████████████████████████████████████████████████████████| 95/95 [03:24<00:00,  2.16s/it]\n",
      "  0%|                                                                                           | 0/95 [00:00<?, ?it/s]"
     ]
    },
    {
     "name": "stdout",
     "output_type": "stream",
     "text": [
      "Training Loss: 0.87343\n",
      "Train Hits \t @10: 0.87434 \t @5 : 0.74834 \t @1 : 0.33974\n",
      "Train ndcg \t @10: 0.59687 \t @5 : 0.55595 \t @1 : 0.33974\n",
      "Train mrr: 3095.506245392848\n",
      "Valid Hits \t @10: 0.71755 \t @5 : 0.58460 \t @1 : 0.25414\n",
      "Valid ndcg \t @10: 0.47221 \t @5 : 0.42893 \t @1 : 0.25414\n",
      "Valid mrr: 2480.5029264920418\n",
      "Test Hits \t @10: 0.67798 \t @5 : 0.55215 \t @1 : 0.23593\n",
      "Test ndcg \t @10: 0.44246 \t @5 : 0.40163 \t @1 : 0.23593\n",
      "Test mrr: 2347.9110754818703\n",
      "==================== Epoch 88 ====================\n"
     ]
    },
    {
     "name": "stderr",
     "output_type": "stream",
     "text": [
      "100%|██████████████████████████████████████████████████████████████████████████████████| 95/95 [03:24<00:00,  2.15s/it]\n",
      "  0%|                                                                                           | 0/95 [00:00<?, ?it/s]"
     ]
    },
    {
     "name": "stdout",
     "output_type": "stream",
     "text": [
      "Training Loss: 0.87464\n",
      "Train Hits \t @10: 0.87550 \t @5 : 0.74387 \t @1 : 0.33791\n",
      "Train ndcg \t @10: 0.59345 \t @5 : 0.55026 \t @1 : 0.33791\n",
      "Train mrr: 3095.506245392848\n",
      "Valid Hits \t @10: 0.71705 \t @5 : 0.58560 \t @1 : 0.25861\n",
      "Valid ndcg \t @10: 0.47193 \t @5 : 0.42920 \t @1 : 0.25861\n",
      "Valid mrr: 2480.5029264920418\n",
      "Test Hits \t @10: 0.67781 \t @5 : 0.54752 \t @1 : 0.25348\n",
      "Test ndcg \t @10: 0.44975 \t @5 : 0.40737 \t @1 : 0.25348\n",
      "Test mrr: 2347.9110754818703\n",
      "==================== Epoch 89 ====================\n"
     ]
    },
    {
     "name": "stderr",
     "output_type": "stream",
     "text": [
      "100%|██████████████████████████████████████████████████████████████████████████████████| 95/95 [03:24<00:00,  2.15s/it]\n",
      "  0%|                                                                                           | 0/95 [00:00<?, ?it/s]"
     ]
    },
    {
     "name": "stdout",
     "output_type": "stream",
     "text": [
      "Training Loss: 0.87216\n",
      "Train Hits \t @10: 0.87864 \t @5 : 0.75364 \t @1 : 0.34570\n",
      "Train ndcg \t @10: 0.60164 \t @5 : 0.56091 \t @1 : 0.34570\n",
      "Train mrr: 3095.506245392848\n",
      "Valid Hits \t @10: 0.72103 \t @5 : 0.58460 \t @1 : 0.25613\n",
      "Valid ndcg \t @10: 0.47175 \t @5 : 0.42727 \t @1 : 0.25613\n",
      "Valid mrr: 2480.5029264920418\n",
      "Test Hits \t @10: 0.67897 \t @5 : 0.55050 \t @1 : 0.24238\n",
      "Test ndcg \t @10: 0.44568 \t @5 : 0.40389 \t @1 : 0.24238\n",
      "Test mrr: 2347.9110754818703\n",
      "==================== Epoch 90 ====================\n"
     ]
    },
    {
     "name": "stderr",
     "output_type": "stream",
     "text": [
      "100%|██████████████████████████████████████████████████████████████████████████████████| 95/95 [03:24<00:00,  2.15s/it]\n",
      "  0%|                                                                                           | 0/95 [00:00<?, ?it/s]"
     ]
    },
    {
     "name": "stdout",
     "output_type": "stream",
     "text": [
      "Training Loss: 0.87103\n",
      "Train Hits \t @10: 0.86821 \t @5 : 0.74189 \t @1 : 0.33543\n",
      "Train ndcg \t @10: 0.59209 \t @5 : 0.55071 \t @1 : 0.33543\n",
      "Train mrr: 3095.506245392848\n",
      "Valid Hits \t @10: 0.71490 \t @5 : 0.58129 \t @1 : 0.25182\n",
      "Valid ndcg \t @10: 0.46681 \t @5 : 0.42334 \t @1 : 0.25182\n",
      "Valid mrr: 2480.5029264920418\n",
      "Test Hits \t @10: 0.67781 \t @5 : 0.55083 \t @1 : 0.23460\n",
      "Test ndcg \t @10: 0.44091 \t @5 : 0.39965 \t @1 : 0.23460\n",
      "Test mrr: 2347.9110754818703\n",
      "==================== Epoch 91 ====================\n"
     ]
    },
    {
     "name": "stderr",
     "output_type": "stream",
     "text": [
      "100%|██████████████████████████████████████████████████████████████████████████████████| 95/95 [03:24<00:00,  2.15s/it]\n",
      "  0%|                                                                                           | 0/95 [00:00<?, ?it/s]"
     ]
    },
    {
     "name": "stdout",
     "output_type": "stream",
     "text": [
      "Training Loss: 0.86051\n",
      "Train Hits \t @10: 0.87500 \t @5 : 0.75265 \t @1 : 0.34536\n",
      "Train ndcg \t @10: 0.60078 \t @5 : 0.56091 \t @1 : 0.34536\n",
      "Train mrr: 3095.506245392848\n",
      "Valid Hits \t @10: 0.71639 \t @5 : 0.58725 \t @1 : 0.25000\n",
      "Valid ndcg \t @10: 0.46884 \t @5 : 0.42684 \t @1 : 0.25000\n",
      "Valid mrr: 2480.5029264920418\n",
      "Test Hits \t @10: 0.67616 \t @5 : 0.54735 \t @1 : 0.23974\n",
      "Test ndcg \t @10: 0.44263 \t @5 : 0.40059 \t @1 : 0.23974\n",
      "Test mrr: 2347.9110754818703\n",
      "==================== Epoch 92 ====================\n"
     ]
    },
    {
     "name": "stderr",
     "output_type": "stream",
     "text": [
      "100%|██████████████████████████████████████████████████████████████████████████████████| 95/95 [03:24<00:00,  2.15s/it]\n",
      "  0%|                                                                                           | 0/95 [00:00<?, ?it/s]"
     ]
    },
    {
     "name": "stdout",
     "output_type": "stream",
     "text": [
      "Training Loss: 0.86751\n",
      "Train Hits \t @10: 0.87566 \t @5 : 0.74685 \t @1 : 0.33808\n",
      "Train ndcg \t @10: 0.59720 \t @5 : 0.55507 \t @1 : 0.33808\n",
      "Train mrr: 3095.506245392848\n",
      "Valid Hits \t @10: 0.71987 \t @5 : 0.58444 \t @1 : 0.25298\n",
      "Valid ndcg \t @10: 0.47042 \t @5 : 0.42640 \t @1 : 0.25298\n",
      "Valid mrr: 2480.5029264920418\n",
      "Test Hits \t @10: 0.67550 \t @5 : 0.55116 \t @1 : 0.24603\n",
      "Test ndcg \t @10: 0.44576 \t @5 : 0.40541 \t @1 : 0.24603\n",
      "Test mrr: 2347.9110754818703\n",
      "==================== Epoch 93 ====================\n"
     ]
    },
    {
     "name": "stderr",
     "output_type": "stream",
     "text": [
      "100%|██████████████████████████████████████████████████████████████████████████████████| 95/95 [03:24<00:00,  2.15s/it]\n",
      "  0%|                                                                                           | 0/95 [00:00<?, ?it/s]"
     ]
    },
    {
     "name": "stdout",
     "output_type": "stream",
     "text": [
      "Training Loss: 0.85428\n",
      "Train Hits \t @10: 0.87682 \t @5 : 0.75397 \t @1 : 0.35083\n",
      "Train ndcg \t @10: 0.60372 \t @5 : 0.56374 \t @1 : 0.35083\n",
      "Train mrr: 3095.506245392848\n",
      "Valid Hits \t @10: 0.72318 \t @5 : 0.58642 \t @1 : 0.25315\n",
      "Valid ndcg \t @10: 0.47168 \t @5 : 0.42746 \t @1 : 0.25315\n",
      "Valid mrr: 2480.5029264920418\n",
      "Test Hits \t @10: 0.67748 \t @5 : 0.55132 \t @1 : 0.23543\n",
      "Test ndcg \t @10: 0.44203 \t @5 : 0.40092 \t @1 : 0.23543\n",
      "Test mrr: 2347.9110754818703\n",
      "==================== Epoch 94 ====================\n"
     ]
    },
    {
     "name": "stderr",
     "output_type": "stream",
     "text": [
      "100%|██████████████████████████████████████████████████████████████████████████████████| 95/95 [03:24<00:00,  2.15s/it]\n",
      "  0%|                                                                                           | 0/95 [00:00<?, ?it/s]"
     ]
    },
    {
     "name": "stdout",
     "output_type": "stream",
     "text": [
      "Training Loss: 0.89122\n",
      "Train Hits \t @10: 0.87649 \t @5 : 0.74801 \t @1 : 0.33460\n",
      "Train ndcg \t @10: 0.59620 \t @5 : 0.55426 \t @1 : 0.33460\n",
      "Train mrr: 3095.506245392848\n",
      "Valid Hits \t @10: 0.71457 \t @5 : 0.58311 \t @1 : 0.25695\n",
      "Valid ndcg \t @10: 0.47070 \t @5 : 0.42790 \t @1 : 0.25695\n",
      "Valid mrr: 2480.5029264920418\n",
      "Test Hits \t @10: 0.67914 \t @5 : 0.55712 \t @1 : 0.24387\n",
      "Test ndcg \t @10: 0.44766 \t @5 : 0.40793 \t @1 : 0.24387\n",
      "Test mrr: 2347.9110754818703\n",
      "==================== Epoch 95 ====================\n"
     ]
    },
    {
     "name": "stderr",
     "output_type": "stream",
     "text": [
      "100%|██████████████████████████████████████████████████████████████████████████████████| 95/95 [03:24<00:00,  2.16s/it]\n",
      "  0%|                                                                                           | 0/95 [00:00<?, ?it/s]"
     ]
    },
    {
     "name": "stdout",
     "output_type": "stream",
     "text": [
      "Training Loss: 0.85130\n",
      "Train Hits \t @10: 0.87881 \t @5 : 0.75232 \t @1 : 0.35066\n",
      "Train ndcg \t @10: 0.60441 \t @5 : 0.56293 \t @1 : 0.35066\n",
      "Train mrr: 3095.506245392848\n",
      "Valid Hits \t @10: 0.72053 \t @5 : 0.58825 \t @1 : 0.24570\n",
      "Valid ndcg \t @10: 0.46868 \t @5 : 0.42579 \t @1 : 0.24570\n",
      "Valid mrr: 2480.5029264920418\n",
      "Test Hits \t @10: 0.67748 \t @5 : 0.54983 \t @1 : 0.24106\n",
      "Test ndcg \t @10: 0.44419 \t @5 : 0.40267 \t @1 : 0.24106\n",
      "Test mrr: 2347.9110754818703\n",
      "==================== Epoch 96 ====================\n"
     ]
    },
    {
     "name": "stderr",
     "output_type": "stream",
     "text": [
      "100%|██████████████████████████████████████████████████████████████████████████████████| 95/95 [03:24<00:00,  2.15s/it]\n",
      "  0%|                                                                                           | 0/95 [00:00<?, ?it/s]"
     ]
    },
    {
     "name": "stdout",
     "output_type": "stream",
     "text": [
      "Training Loss: 0.85718\n",
      "Train Hits \t @10: 0.87897 \t @5 : 0.74967 \t @1 : 0.33841\n",
      "Train ndcg \t @10: 0.59932 \t @5 : 0.55706 \t @1 : 0.33841\n",
      "Train mrr: 3095.506245392848\n",
      "Valid Hits \t @10: 0.71391 \t @5 : 0.58262 \t @1 : 0.24619\n",
      "Valid ndcg \t @10: 0.46553 \t @5 : 0.42290 \t @1 : 0.24619\n",
      "Valid mrr: 2480.5029264920418\n",
      "Test Hits \t @10: 0.67781 \t @5 : 0.55182 \t @1 : 0.24354\n",
      "Test ndcg \t @10: 0.44527 \t @5 : 0.40432 \t @1 : 0.24354\n",
      "Test mrr: 2347.9110754818703\n",
      "==================== Epoch 97 ====================\n"
     ]
    },
    {
     "name": "stderr",
     "output_type": "stream",
     "text": [
      "100%|██████████████████████████████████████████████████████████████████████████████████| 95/95 [03:23<00:00,  2.15s/it]\n",
      "  0%|                                                                                           | 0/95 [00:00<?, ?it/s]"
     ]
    },
    {
     "name": "stdout",
     "output_type": "stream",
     "text": [
      "Training Loss: 0.84302\n",
      "Train Hits \t @10: 0.88278 \t @5 : 0.75778 \t @1 : 0.33808\n",
      "Train ndcg \t @10: 0.60183 \t @5 : 0.56098 \t @1 : 0.33808\n",
      "Train mrr: 3095.506245392848\n",
      "Valid Hits \t @10: 0.71523 \t @5 : 0.58593 \t @1 : 0.25613\n",
      "Valid ndcg \t @10: 0.47070 \t @5 : 0.42858 \t @1 : 0.25613\n",
      "Valid mrr: 2480.5029264920418\n",
      "Test Hits \t @10: 0.67119 \t @5 : 0.54934 \t @1 : 0.23791\n",
      "Test ndcg \t @10: 0.44136 \t @5 : 0.40171 \t @1 : 0.23791\n",
      "Test mrr: 2347.9110754818703\n",
      "==================== Epoch 98 ====================\n"
     ]
    },
    {
     "name": "stderr",
     "output_type": "stream",
     "text": [
      "100%|██████████████████████████████████████████████████████████████████████████████████| 95/95 [03:24<00:00,  2.15s/it]\n",
      "  0%|                                                                                           | 0/95 [00:00<?, ?it/s]"
     ]
    },
    {
     "name": "stdout",
     "output_type": "stream",
     "text": [
      "Training Loss: 0.84896\n",
      "Train Hits \t @10: 0.88046 \t @5 : 0.75497 \t @1 : 0.33907\n",
      "Train ndcg \t @10: 0.59998 \t @5 : 0.55914 \t @1 : 0.33907\n",
      "Train mrr: 3095.506245392848\n",
      "Valid Hits \t @10: 0.71523 \t @5 : 0.58394 \t @1 : 0.25464\n",
      "Valid ndcg \t @10: 0.47007 \t @5 : 0.42744 \t @1 : 0.25464\n",
      "Valid mrr: 2480.5029264920418\n",
      "Test Hits \t @10: 0.67748 \t @5 : 0.55232 \t @1 : 0.24139\n",
      "Test ndcg \t @10: 0.44544 \t @5 : 0.40480 \t @1 : 0.24139\n",
      "Test mrr: 2347.9110754818703\n",
      "==================== Epoch 99 ====================\n"
     ]
    },
    {
     "name": "stderr",
     "output_type": "stream",
     "text": [
      "100%|██████████████████████████████████████████████████████████████████████████████████| 95/95 [03:24<00:00,  2.15s/it]\n",
      "  0%|                                                                                           | 0/95 [00:00<?, ?it/s]"
     ]
    },
    {
     "name": "stdout",
     "output_type": "stream",
     "text": [
      "Training Loss: 0.83376\n",
      "Train Hits \t @10: 0.88278 \t @5 : 0.75281 \t @1 : 0.34735\n",
      "Train ndcg \t @10: 0.60434 \t @5 : 0.56192 \t @1 : 0.34735\n",
      "Train mrr: 3095.506245392848\n",
      "Valid Hits \t @10: 0.72368 \t @5 : 0.59040 \t @1 : 0.24305\n",
      "Valid ndcg \t @10: 0.46826 \t @5 : 0.42489 \t @1 : 0.24305\n",
      "Valid mrr: 2480.5029264920418\n",
      "Test Hits \t @10: 0.67483 \t @5 : 0.55149 \t @1 : 0.23411\n",
      "Test ndcg \t @10: 0.44069 \t @5 : 0.40055 \t @1 : 0.23411\n",
      "Test mrr: 2347.9110754818703\n",
      "==================== Epoch 100 ====================\n"
     ]
    },
    {
     "name": "stderr",
     "output_type": "stream",
     "text": [
      "100%|██████████████████████████████████████████████████████████████████████████████████| 95/95 [03:24<00:00,  2.15s/it]\n"
     ]
    },
    {
     "name": "stdout",
     "output_type": "stream",
     "text": [
      "Training Loss: 0.83901\n",
      "Train Hits \t @10: 0.88030 \t @5 : 0.75315 \t @1 : 0.34901\n",
      "Train ndcg \t @10: 0.60468 \t @5 : 0.56316 \t @1 : 0.34901\n",
      "Train mrr: 3095.506245392848\n",
      "Valid Hits \t @10: 0.71788 \t @5 : 0.58030 \t @1 : 0.26060\n",
      "Valid ndcg \t @10: 0.47276 \t @5 : 0.42798 \t @1 : 0.26060\n",
      "Valid mrr: 2480.5029264920418\n",
      "Test Hits \t @10: 0.68311 \t @5 : 0.55381 \t @1 : 0.24156\n",
      "Test ndcg \t @10: 0.44622 \t @5 : 0.40432 \t @1 : 0.24156\n",
      "Test mrr: 2347.9110754818703\n",
      "====================================================================================================\n",
      "Maximum Training Hit \t @10: 0.86656 \t @5 : 0.74023 \t @1 : 0.33891\n",
      "Maximum Validation Hit \t @10: 0.72020 \t @5 : 0.59272 \t @1 : 0.25861\n",
      "Maximum Testing Hit \t @10: 0.67599 \t @5 : 0.55281 \t @1 : 0.24603\n",
      "Maximum Training ndcg \t @10: 0.59192 \t @5 : 0.55070 \t @1 : 0.33891\n",
      "Maximum Validation ndcg \t @10: 0.47536 \t @5 : 0.43393 \t @1 : 0.25861\n",
      "Maximum Testing ndcg \t @10: 0.44695 \t @5 : 0.40704 \t @1 : 0.24603\n",
      "Maximum Training mrr: 3095.506245392848\n",
      "Maximum Validation mrr: 2480.5029264920418\n",
      "Maximum Testing mrr: 2347.9110754818703\n"
     ]
    }
   ],
   "source": [
    "# ------------------Training Initialization----------------------#\n",
    "max_train_hit = (0,0,0)\n",
    "max_val_hit = (0,0,0)\n",
    "max_test_hit = (0,0,0)\n",
    "\n",
    "max_train_ndcg = (0,0,0)\n",
    "max_val_ndcg = (0,0,0)\n",
    "max_test_ndcg = (0,0,0)\n",
    "\n",
    "max_train_mrr = 0\n",
    "max_val_mrr = 0\n",
    "max_test_mrr = 0\n",
    "\n",
    "i = 0;\n",
    "for epoch in range(num_epochs):\n",
    "    print(\"=\"*20,\"Epoch {}\".format(epoch+1),\"=\"*20)\n",
    "    \n",
    "    model.train()  \n",
    "    \n",
    "    running_loss = 0\n",
    "\n",
    "    for j,data in enumerate(tqdm(train_dl,position=0,leave=True)):\n",
    "        \n",
    "        if train_method != \"normal\":\n",
    "            optimizer_features.zero_grad()\n",
    "            optimizer_ids.zero_grad()\n",
    "            \n",
    "        elif train_method == \"normal\": \n",
    "            optimizer.zero_grad()\n",
    "        \n",
    "        if genre_dim != 0:            \n",
    "            inputs,genre_inputs,labels,x_lens,uid = data\n",
    "            outputs = model(x=inputs.to(device),x_lens=x_lens.squeeze().tolist(),x_genre=genre_inputs.to(device))\n",
    "        \n",
    "        elif genre_dim == 0:\n",
    "            inputs,labels,x_lens,uid = data \n",
    "            outputs = model(x=inputs.to(device),x_lens=x_lens.squeeze().tolist())\n",
    "       \n",
    "        if tied:\n",
    "            outputs_ignore_pad = outputs[:,:,:-1]\n",
    "            if loss_type == \"XE\":\n",
    "                loss = loss_fn(outputs_ignore_pad.view(-1,outputs_ignore_pad.size(-1)),labels.view(-1).to(device))\n",
    "            elif loss_type == \"BPR\" or loss_type == \"BPR_MAX\":\n",
    "                loss = loss_fn(outputs,labels.to(device),x_lens,uid)\n",
    "\n",
    "            \n",
    "        else:\n",
    "            if loss_type == \"XE\":\n",
    "                loss = loss_fn(outputs.view(-1,outputs.size(-1)),labels.view(-1).to(device))\n",
    "            elif loss_type == \"BPR\" or loss_type == \"BPR_MAX\":   \n",
    "                loss = loss_fn(outputs,labels.to(device),x_lens,uid)\n",
    "\n",
    "        loss.backward()\n",
    "        \n",
    "        \n",
    "        if train_method != \"normal\":\n",
    "            if train_method == \"interleave\":\n",
    "                # interleave on the epochs\n",
    "                if (j+1) % 2 == 0:\n",
    "                    optimizer_features.step()\n",
    "                else:\n",
    "                    optimizer_ids.step()\n",
    "\n",
    "            elif train_method == \"alternate\":\n",
    "                if (epoch+1) % 2 == 0:\n",
    "                    optimizer_features.step()\n",
    "                else:\n",
    "                    optimizer_ids.step()\n",
    "        \n",
    "    \n",
    "                    \n",
    "        elif train_method == \"normal\":\n",
    "            optimizer.step()\n",
    "\n",
    "        running_loss += loss.detach().cpu().item()\n",
    "\n",
    "    del outputs\n",
    "    torch.cuda.empty_cache()\n",
    "    training_hit,training_ndcg,training_mrr = Recall_Object(model,train_dl,\"train\")\n",
    "    validation_hit,validation_ndcg,validation_mrr = Recall_Object(model,val_dl,\"validation\")\n",
    "    testing_hit,testing_ndcg,testing_mrr = Recall_Object(model,test_dl,\"test\")\n",
    "    \n",
    "    if max_val_ndcg[0] < validation_ndcg[0]:\n",
    "        max_val_hit = validation_hit\n",
    "        max_test_hit = testing_hit\n",
    "        max_train_hit = training_hit\n",
    "        \n",
    "        max_train_ndcg = training_ndcg\n",
    "        max_val_ndcg = validation_ndcg\n",
    "        max_test_ndcg = testing_ndcg\n",
    "        \n",
    "        max_train_mrr = training_mrr\n",
    "        max_val_mrr = validation_mrr\n",
    "        max_test_mrr = testing_mrr\n",
    "    \n",
    "    torch.cuda.empty_cache()\n",
    "    print(\"Training Loss: {:.5f}\".format(running_loss/len(train_dl)))\n",
    "    \n",
    "    print(\"Train Hits \\t @10: {:.5f} \\t @5 : {:.5f} \\t @1 : {:.5f}\".format(*training_hit))\n",
    "    print(\"Train ndcg \\t @10: {:.5f} \\t @5 : {:.5f} \\t @1 : {:.5f}\".format(*training_ndcg))\n",
    "    print(\"Train mrr: {}\".format(max_train_mrr))\n",
    "\n",
    "    print(\"Valid Hits \\t @10: {:.5f} \\t @5 : {:.5f} \\t @1 : {:.5f}\".format(*validation_hit))\n",
    "    print(\"Valid ndcg \\t @10: {:.5f} \\t @5 : {:.5f} \\t @1 : {:.5f}\".format(*validation_ndcg))\n",
    "    print(\"Valid mrr: {}\".format(max_val_mrr))\n",
    "\n",
    "    print(\"Test Hits \\t @10: {:.5f} \\t @5 : {:.5f} \\t @1 : {:.5f}\".format(*testing_hit))\n",
    "    print(\"Test ndcg \\t @10: {:.5f} \\t @5 : {:.5f} \\t @1 : {:.5f}\".format(*testing_ndcg))\n",
    "    print(\"Test mrr: {}\".format(max_test_mrr))\n",
    "\n",
    "print(\"=\"*100)\n",
    "print(\"Maximum Training Hit \\t @10: {:.5f} \\t @5 : {:.5f} \\t @1 : {:.5f}\".format(*max_train_hit))\n",
    "print(\"Maximum Validation Hit \\t @10: {:.5f} \\t @5 : {:.5f} \\t @1 : {:.5f}\".format(*max_val_hit))\n",
    "print(\"Maximum Testing Hit \\t @10: {:.5f} \\t @5 : {:.5f} \\t @1 : {:.5f}\".format(*max_test_hit))\n",
    "\n",
    "print(\"Maximum Training ndcg \\t @10: {:.5f} \\t @5 : {:.5f} \\t @1 : {:.5f}\".format(*max_train_ndcg))\n",
    "print(\"Maximum Validation ndcg \\t @10: {:.5f} \\t @5 : {:.5f} \\t @1 : {:.5f}\".format(*max_val_ndcg))\n",
    "print(\"Maximum Testing ndcg \\t @10: {:.5f} \\t @5 : {:.5f} \\t @1 : {:.5f}\".format(*max_test_ndcg))\n",
    "\n",
    "print(\"Maximum Training mrr: {}\".format(max_train_mrr))\n",
    "print(\"Maximum Validation mrr: {}\".format(max_val_mrr))\n",
    "print(\"Maximum Testing mrr: {}\".format(max_test_mrr))"
   ]
  },
  {
   "cell_type": "code",
   "execution_count": 169,
   "metadata": {},
   "outputs": [
    {
     "name": "stdout",
     "output_type": "stream",
     "text": [
      "====================================================================================================\n",
      "Maximum Training Hit \t @10: 0.77119 \t @5 : 0.62765 \t @1 : 0.26076\n",
      "Maximum Validation Hit \t @10: 0.68593 \t @5 : 0.54255 \t @1 : 0.21921\n",
      "Maximum Testing Hit \t @10: 0.63510 \t @5 : 0.50629 \t @1 : 0.21192\n",
      "Maximum Training ndcg \t @10: 0.50054 \t @5 : 0.45378 \t @1 : 0.26076\n",
      "Maximum Validation ndcg \t @10: 0.43453 \t @5 : 0.38791 \t @1 : 0.21921\n",
      "Maximum Testing ndcg \t @10: 0.40589 \t @5 : 0.36389 \t @1 : 0.21192\n",
      "Maximum Training mrr: 2581.7297267863823\n",
      "Maximum Validation mrr: 2233.823392498437\n",
      "Maximum Testing mrr: 2113.1707215621664\n"
     ]
    }
   ],
   "source": [
    "print(\"=\"*100)\n",
    "print(\"Maximum Training Hit \\t @10: {:.5f} \\t @5 : {:.5f} \\t @1 : {:.5f}\".format(*max_train_hit))\n",
    "print(\"Maximum Validation Hit \\t @10: {:.5f} \\t @5 : {:.5f} \\t @1 : {:.5f}\".format(*max_val_hit))\n",
    "print(\"Maximum Testing Hit \\t @10: {:.5f} \\t @5 : {:.5f} \\t @1 : {:.5f}\".format(*max_test_hit))\n",
    "\n",
    "print(\"Maximum Training ndcg \\t @10: {:.5f} \\t @5 : {:.5f} \\t @1 : {:.5f}\".format(*max_train_ndcg))\n",
    "print(\"Maximum Validation ndcg \\t @10: {:.5f} \\t @5 : {:.5f} \\t @1 : {:.5f}\".format(*max_val_ndcg))\n",
    "print(\"Maximum Testing ndcg \\t @10: {:.5f} \\t @5 : {:.5f} \\t @1 : {:.5f}\".format(*max_test_ndcg))\n",
    "\n",
    "print(\"Maximum Training mrr: {}\".format(max_train_mrr))\n",
    "print(\"Maximum Validation mrr: {}\".format(max_val_mrr))\n",
    "print(\"Maximum Testing mrr: {}\".format(max_test_mrr))"
   ]
  },
  {
   "cell_type": "code",
   "execution_count": null,
   "metadata": {},
   "outputs": [],
   "source": [
    "# input and label\n",
    "x = [5,3,10,11]\n",
    "y = [3,10,11,13]\n",
    "print(torch.cuda.is_available())\n",
    "print(y[0:5])\n",
    "# notes: gru layer stores hidden layer when using sequence input\n",
    "# use final hidden state from packed output\n",
    "# cross entropy loss used\n"
   ]
  },
  {
   "cell_type": "code",
   "execution_count": null,
   "metadata": {},
   "outputs": [],
   "source": []
  }
 ],
 "metadata": {
  "kernelspec": {
   "display_name": "Python 3",
   "language": "python",
   "name": "python3"
  },
  "language_info": {
   "codemirror_mode": {
    "name": "ipython",
    "version": 3
   },
   "file_extension": ".py",
   "mimetype": "text/x-python",
   "name": "python",
   "nbconvert_exporter": "python",
   "pygments_lexer": "ipython3",
   "version": "3.8.3"
  }
 },
 "nbformat": 4,
 "nbformat_minor": 4
}
