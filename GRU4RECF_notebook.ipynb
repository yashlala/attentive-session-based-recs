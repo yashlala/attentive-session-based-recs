{
 "cells": [
  {
   "cell_type": "code",
   "execution_count": 1,
   "metadata": {},
   "outputs": [],
   "source": [
    "# -*- coding: utf-8 -*-\n",
    "\"\"\"\n",
    "Created on Tue Mar 23 08:39:11 2021\n",
    "\n",
    "@author: lpott\n",
    "\"\"\"\n",
    "import argparse\n",
    "from torch.utils.data import DataLoader\n",
    "import torch\n",
    "from tqdm import tqdm\n",
    "\n",
    "from preprocessing import *\n",
    "from dataset import *\n",
    "from metrics import *\n",
    "from model import *\n",
    "from utils import bert2dict\n"
   ]
  },
  {
   "cell_type": "code",
   "execution_count": 2,
   "metadata": {},
   "outputs": [],
   "source": [
    "torch.cuda.empty_cache()"
   ]
  },
  {
   "cell_type": "code",
   "execution_count": 3,
   "metadata": {},
   "outputs": [],
   "source": [
    "# variables\n",
    "\n",
    "read_filename =\"ml-1m\\\\ratings.dat\"\n",
    "read_bert_filename = \"bert_sequence_1m.txt\"\n",
    "read_movie_filename = \"\"#\"movies-1m.csv\"\n",
    "size = \"1m\"\n",
    "\n",
    "num_epochs = 50\n",
    "lr = 1e-3\n",
    "batch_size = 64\n",
    "reg = 1e-4\n",
    "train_method = \"normal\"\n",
    "\n",
    "\n",
    "hidden_dim = 256\n",
    "embedding_dim = 256\n",
    "bert_dim= 0\n",
    "\n",
    "k = 10\n",
    "max_length = 200\n",
    "min_len = 10"
   ]
  },
  {
   "cell_type": "code",
   "execution_count": 4,
   "metadata": {},
   "outputs": [
    {
     "name": "stdout",
     "output_type": "stream",
     "text": [
      "========== Creating DataFrame ==========\n"
     ]
    },
    {
     "name": "stderr",
     "output_type": "stream",
     "text": [
      "C:\\Users\\lpott\\Desktop\\UCLA\\COMSCI247-80\\attentive-session-based-recs\\preprocessing.py:32: ParserWarning: Falling back to the 'python' engine because the 'c' engine does not support regex separators (separators > 1 char and different from '\\s+' are interpreted as regex); you can avoid this warning by specifying engine='python'.\n",
      "  df = pd.read_csv(filename,sep='::',header=None)\n"
     ]
    },
    {
     "name": "stdout",
     "output_type": "stream",
     "text": [
      "user_id        6040\n",
      "item_id        3706\n",
      "rating            5\n",
      "timestamp    458455\n",
      "dtype: int64\n",
      "(1000209, 4)\n",
      "Minimum Session Length: 20\n",
      "Maximum Session Length: 2314\n",
      "Average Session Length: 165.60\n",
      "========== Filtering Sessions <= 10  DataFrame ==========\n",
      "user_id        6040\n",
      "item_id        3706\n",
      "rating            5\n",
      "timestamp    458455\n",
      "dtype: int64\n",
      "(1000209, 4)\n",
      "Minimum Session Length: 20\n",
      "Maximum Session Length: 2314\n",
      "Average Session Length: 165.60\n"
     ]
    }
   ],
   "source": [
    "# ------------------Data Initialization----------------------#\n",
    "\n",
    "# convert .dat file to time-sorted pandas dataframe\n",
    "ml_1m = create_df(read_filename,size=size)\n",
    "\n",
    "# remove users who have sessions lengths less than min_len\n",
    "ml_1m = filter_df(ml_1m,item_min=min_len)"
   ]
  },
  {
   "cell_type": "code",
   "execution_count": 5,
   "metadata": {},
   "outputs": [
    {
     "name": "stdout",
     "output_type": "stream",
     "text": [
      "========== Initialize Reset DataFrame Object ==========\n",
      "========== Resetting user ids and item ids in DataFrame ==========\n"
     ]
    }
   ],
   "source": [
    "# ------------------Data Initialization----------------------#\n",
    "if read_movie_filename != \"\":\n",
    "    ml_movie_df = create_movie_df(read_movie_filename,size=size)\n",
    "    ml_movie_df = convert_genres(ml_movie_df)\n",
    "    \n",
    "    # initialize reset object\n",
    "    reset_object = reset_df()\n",
    "    \n",
    "    # map all user ids, item ids, and genres to range 0 - number of users/items/genres\n",
    "    ml_1m,ml_movie_df = reset_object.fit_transform(ml_1m,ml_movie_df)\n",
    "    \n",
    "    # value that padded genre tokens shall take\n",
    "    pad_genre_token = reset_object.genre_enc.transform([\"NULL\"]).item()\n",
    "    \n",
    "    genre_dim = len(np.unique(np.concatenate(ml_movie_df.genre))) - 1\n",
    "\n",
    "else:\n",
    "    # initialize reset object\n",
    "    reset_object = reset_df()\n",
    "    \n",
    "    # map all user ids and item ids to range 0 - Number of Users/Items \n",
    "    # i.e. [1,7,5] -> [0,2,1]\n",
    "    ml_1m = reset_object.fit_transform(ml_1m)\n",
    "    \n",
    "    pad_genre_token = None\n",
    "    ml_movie_df = None\n",
    "    genre_dim = 0"
   ]
  },
  {
   "cell_type": "code",
   "execution_count": 6,
   "metadata": {},
   "outputs": [],
   "source": [
    "# ------------------Data Initialization----------------------#\n",
    "# how many unique users, items, ratings and timestamps are there\n",
    "n_users,n_items,n_ratings,n_timestamp = ml_1m.nunique()\n",
    "\n",
    "# value that padded tokens shall take\n",
    "pad_token = n_items\n",
    "\n",
    "# the output dimension for softmax layer\n",
    "output_dim = n_items\n",
    "\n",
    "\n",
    "# get the item id : bert plot embedding dictionary\n",
    "if bert_dim != 0:\n",
    "    feature_embed = bert2dict(bert_filename=read_bert_filename)"
   ]
  },
  {
   "cell_type": "code",
   "execution_count": 7,
   "metadata": {},
   "outputs": [
    {
     "name": "stderr",
     "output_type": "stream",
     "text": [
      "  1%|█▏                                                                             | 90/6040 [00:00<00:06, 893.47it/s]"
     ]
    },
    {
     "name": "stdout",
     "output_type": "stream",
     "text": [
      "========== Creating User Histories ==========\n"
     ]
    },
    {
     "name": "stderr",
     "output_type": "stream",
     "text": [
      "100%|█████████████████████████████████████████████████████████████████████████████| 6040/6040 [00:06<00:00, 945.60it/s]\n"
     ]
    }
   ],
   "source": [
    "# create a dictionary of every user's session (history)\n",
    "# i.e. {user: [user clicks]}\n",
    "user_history = create_user_history(ml_1m)\n",
    "\n",
    "# create a dictionary of all items a user has not clicked\n",
    "# i.e. {user: [items not clicked by user]}\n",
    "# user_noclicks = create_user_noclick(user_history,ml_1m,n_items)"
   ]
  },
  {
   "cell_type": "code",
   "execution_count": 8,
   "metadata": {},
   "outputs": [],
   "source": [
    "#import pickle\n",
    "\n",
    "#with open('userhistory.pickle', 'wb') as handle:\n",
    "#    pickle.dump(user_history, handle, protocol=pickle.HIGHEST_PROTOCOL)\n",
    "\n",
    "#with open('userhistory.pickle', 'rb') as handle:\n",
    "#    user_history = pickle.load(handle)"
   ]
  },
  {
   "cell_type": "code",
   "execution_count": 9,
   "metadata": {},
   "outputs": [
    {
     "name": "stderr",
     "output_type": "stream",
     "text": [
      "100%|██████████████████████████████████████████████████████████████████████████| 6040/6040 [00:00<00:00, 208615.14it/s]"
     ]
    },
    {
     "name": "stdout",
     "output_type": "stream",
     "text": [
      "========== Splitting User Histories into Train, Validation, and Test Splits ==========\n"
     ]
    },
    {
     "name": "stderr",
     "output_type": "stream",
     "text": [
      "\n"
     ]
    }
   ],
   "source": [
    "# split data by leave-one-out strategy\n",
    "# have train dictionary {user: [last 41 items prior to last 2 items in user session]}\n",
    "# have val dictionary {user: [last 41 items prior to last item in user session]}\n",
    "# have test dictionary {user: [last 41 items]}\n",
    "# i.e. if max_length = 4, [1,2,3,4,5,6] -> [1,2,3,4] , [2,3,4,5] , [3,4,5,6]\n",
    "train_history,val_history,test_history = train_val_test_split(user_history,max_length=max_length)\n",
    "\n",
    "# initialize the train,validation, and test pytorch dataset objects\n",
    "# eval pads all items except last token to predict\n",
    "train_dataset = GRUDataset(train_history,genre_df=ml_movie_df,mode='train',max_length=max_length,pad_token=pad_token,pad_genre_token=pad_genre_token)\n",
    "val_dataset = GRUDataset(val_history,genre_df=ml_movie_df,mode='eval',max_length=max_length,pad_token=pad_token,pad_genre_token=pad_genre_token)\n",
    "test_dataset = GRUDataset(test_history,genre_df=ml_movie_df,mode='eval',max_length=max_length,pad_token=pad_token,pad_genre_token=pad_genre_token)\n",
    "\n",
    "# create the train,validation, and test pytorch dataloader objects\n",
    "train_dl = DataLoader(train_dataset,batch_size = batch_size,shuffle=True)\n",
    "val_dl = DataLoader(val_dataset,batch_size=64)\n",
    "test_dl = DataLoader(test_dataset,batch_size=64)"
   ]
  },
  {
   "cell_type": "code",
   "execution_count": 10,
   "metadata": {},
   "outputs": [
    {
     "name": "stdout",
     "output_type": "stream",
     "text": [
      "Bert dim: 0\n",
      "Genre dim: 0\n",
      "Pad Token: 3706\n",
      "Pad Genre Token: None\n"
     ]
    }
   ],
   "source": [
    "print(\"Bert dim: {:d}\".format(bert_dim))\n",
    "print(\"Genre dim: {:d}\".format(genre_dim))\n",
    "print(\"Pad Token: {}\".format(pad_token))\n",
    "print(\"Pad Genre Token: {}\".format(pad_genre_token))"
   ]
  },
  {
   "cell_type": "code",
   "execution_count": 11,
   "metadata": {},
   "outputs": [],
   "source": [
    "# ------------------Model Initialization----------------------#\n",
    "\n",
    "# initialize gru4rec model with arguments specified earlier\n",
    "\"\"\"\n",
    "model = gru4recF(embedding_dim=embedding_dim,\n",
    "         hidden_dim=hidden_dim,\n",
    "         output_dim=output_dim,\n",
    "         genre_dim=genre_dim,\n",
    "         batch_first=True,\n",
    "         max_length=max_length,\n",
    "         pad_token=pad_token,\n",
    "         pad_genre_token=pad_genre_token,\n",
    "         bert_dim=bert_dim)\n",
    "\"\"\"\n",
    "\"\"\"\n",
    "model = gru4recFC(embedding_dim=embedding_dim,\n",
    "         hidden_dim=hidden_dim,\n",
    "         output_dim=output_dim,\n",
    "         genre_dim=genre_dim,\n",
    "         batch_first=True,\n",
    "         max_length=max_length,\n",
    "         pad_token=pad_token,\n",
    "         pad_genre_token=pad_genre_token,\n",
    "         bert_dim=bert_dim)\n",
    "\"\"\"\n",
    "model = gru4rec_vanilla(hidden_dim=hidden_dim,\n",
    "                        output_dim=output_dim,\n",
    "                        batch_first=True,\n",
    "                        max_length=max_length,\n",
    "                        pad_token=pad_token)"
   ]
  },
  {
   "cell_type": "code",
   "execution_count": 12,
   "metadata": {},
   "outputs": [
    {
     "data": {
      "text/plain": [
       "gru4rec_vanilla(\n",
       "  (encoder_layer): GRU(3707, 256, batch_first=True)\n",
       "  (output_layer): Linear(in_features=256, out_features=3706, bias=True)\n",
       ")"
      ]
     },
     "execution_count": 12,
     "metadata": {},
     "output_type": "execute_result"
    }
   ],
   "source": [
    "model"
   ]
  },
  {
   "cell_type": "code",
   "execution_count": 13,
   "metadata": {},
   "outputs": [],
   "source": [
    "if bert_dim != 0:\n",
    "    model.init_weight(reset_object,feature_embed)\n",
    "    \n",
    "model = model.cuda()"
   ]
  },
  {
   "cell_type": "code",
   "execution_count": 14,
   "metadata": {},
   "outputs": [
    {
     "data": {
      "text/plain": [
       "gru4rec_vanilla(\n",
       "  (encoder_layer): GRU(3707, 256, batch_first=True)\n",
       "  (output_layer): Linear(in_features=256, out_features=3706, bias=True)\n",
       ")"
      ]
     },
     "execution_count": 14,
     "metadata": {},
     "output_type": "execute_result"
    }
   ],
   "source": [
    "model"
   ]
  },
  {
   "cell_type": "code",
   "execution_count": 15,
   "metadata": {},
   "outputs": [
    {
     "data": {
      "text/plain": [
       "['encoder_layer.weight_ih_l0',\n",
       " 'encoder_layer.weight_hh_l0',\n",
       " 'encoder_layer.bias_ih_l0',\n",
       " 'encoder_layer.bias_hh_l0',\n",
       " 'output_layer.weight',\n",
       " 'output_layer.bias']"
      ]
     },
     "execution_count": 15,
     "metadata": {},
     "output_type": "execute_result"
    }
   ],
   "source": [
    "[name for name,param in model.named_parameters() if ((\"movie\" not in name) or (\"plot_embedding\" in name) or (\"genre\" in name)) ]"
   ]
  },
  {
   "cell_type": "code",
   "execution_count": 16,
   "metadata": {},
   "outputs": [
    {
     "data": {
      "text/plain": [
       "['encoder_layer.weight_ih_l0',\n",
       " 'encoder_layer.weight_hh_l0',\n",
       " 'encoder_layer.bias_ih_l0',\n",
       " 'encoder_layer.bias_hh_l0',\n",
       " 'output_layer.weight',\n",
       " 'output_layer.bias']"
      ]
     },
     "execution_count": 16,
     "metadata": {},
     "output_type": "execute_result"
    }
   ],
   "source": [
    "[name for name,param in model.named_parameters() if (\"plot\" not in name) and (\"genre\" not in name)]"
   ]
  },
  {
   "cell_type": "code",
   "execution_count": 17,
   "metadata": {},
   "outputs": [],
   "source": [
    "# initialize Adam optimizer with gru4rec model parameters\n",
    "if train_method != \"normal\":\n",
    "    optimizer_features = torch.optim.Adam([param for name,param in model.named_parameters() if ((\"movie\" not in name) or (\"plot_embedding\" in name) or (\"genre\" in name)) ],\n",
    "                                          lr=lr,weight_decay=reg)\n",
    "    \n",
    "    optimizer_ids = torch.optim.Adam([param for name,param in model.named_parameters() if (\"plot\" not in name) and (\"genre\" not in name)],\n",
    "                                     lr=lr,weight_decay=reg)\n",
    "\n",
    "elif train_method == \"normal\":\n",
    "    optimizer = torch.optim.Adam(model.parameters(),lr=lr,weight_decay=reg)"
   ]
  },
  {
   "cell_type": "code",
   "execution_count": 18,
   "metadata": {},
   "outputs": [],
   "source": [
    "loss_fn = nn.CrossEntropyLoss(ignore_index=n_items)\n",
    "#Recall_Object = Recall_E_prob(ml_1m,user_history,n_users,n_items,k=k)\n",
    "#Recall_Object = Recall_E_Noprob(ml_1m,user_history,n_users,n_items,k=k)"
   ]
  },
  {
   "cell_type": "code",
   "execution_count": 19,
   "metadata": {},
   "outputs": [
    {
     "name": "stdout",
     "output_type": "stream",
     "text": [
      "========== Creating Hit@10 Metric Object ==========\n"
     ]
    }
   ],
   "source": [
    "Recall_Object = Recall_E_prob(ml_1m,user_history,n_users,n_items,k=k)"
   ]
  },
  {
   "cell_type": "code",
   "execution_count": 20,
   "metadata": {},
   "outputs": [
    {
     "data": {
      "text/plain": [
       "6040"
      ]
     },
     "execution_count": 20,
     "metadata": {},
     "output_type": "execute_result"
    }
   ],
   "source": [
    "n_users"
   ]
  },
  {
   "cell_type": "code",
   "execution_count": 21,
   "metadata": {},
   "outputs": [
    {
     "name": "stdout",
     "output_type": "stream",
     "text": [
      "Baseline POP results:  14.33774834437086\n"
     ]
    }
   ],
   "source": [
    "print(\"Baseline POP results: \",Recall_Object.popular_baseline())"
   ]
  },
  {
   "cell_type": "code",
   "execution_count": 22,
   "metadata": {},
   "outputs": [],
   "source": [
    "#training_hit = Recall_Object(model,train_dl)\n",
    "#validation_hit = Recall_Object(model,val_dl)\n",
    "#testing_hit = Recall_Object(model,test_dl)\n",
    "#print(\"Training Hits@{:d}: {:.2f}\".format(k,training_hit))\n",
    "#print(\"Validation Hits@{:d}: {:.2f}\".format(k,validation_hit))\n",
    "#print(\"Testing Hits@{:d}: {:.2f}\".format(k,testing_hit))"
   ]
  },
  {
   "cell_type": "code",
   "execution_count": null,
   "metadata": {
    "scrolled": true
   },
   "outputs": [
    {
     "name": "stderr",
     "output_type": "stream",
     "text": [
      "\r",
      "  0%|                                                                                           | 0/95 [00:00<?, ?it/s]"
     ]
    },
    {
     "name": "stdout",
     "output_type": "stream",
     "text": [
      "==================== Epoch 1 ====================\n"
     ]
    },
    {
     "name": "stderr",
     "output_type": "stream",
     "text": [
      "100%|██████████████████████████████████████████████████████████████████████████████████| 95/95 [00:07<00:00, 12.51it/s]\n",
      "  0%|                                                                                           | 0/95 [00:00<?, ?it/s]"
     ]
    },
    {
     "name": "stdout",
     "output_type": "stream",
     "text": [
      "Training CE Loss: 7.57304\n",
      "Training Hits@10: 14.52\n",
      "Validation Hits@10: 13.97\n",
      "Testing Hits@10: 14.40\n",
      "==================== Epoch 2 ====================\n"
     ]
    },
    {
     "name": "stderr",
     "output_type": "stream",
     "text": [
      "100%|██████████████████████████████████████████████████████████████████████████████████| 95/95 [00:07<00:00, 12.33it/s]\n",
      "  1%|▊                                                                                  | 1/95 [00:00<00:09,  9.97it/s]"
     ]
    },
    {
     "name": "stdout",
     "output_type": "stream",
     "text": [
      "Training CE Loss: 7.39622\n",
      "Training Hits@10: 21.66\n",
      "Validation Hits@10: 21.27\n",
      "Testing Hits@10: 19.74\n",
      "==================== Epoch 3 ====================\n"
     ]
    },
    {
     "name": "stderr",
     "output_type": "stream",
     "text": [
      "100%|██████████████████████████████████████████████████████████████████████████████████| 95/95 [00:07<00:00, 12.62it/s]\n",
      "  1%|▊                                                                                  | 1/95 [00:00<00:09,  9.83it/s]"
     ]
    },
    {
     "name": "stdout",
     "output_type": "stream",
     "text": [
      "Training CE Loss: 7.11076\n",
      "Training Hits@10: 29.16\n",
      "Validation Hits@10: 26.67\n",
      "Testing Hits@10: 25.93\n",
      "==================== Epoch 4 ====================\n"
     ]
    },
    {
     "name": "stderr",
     "output_type": "stream",
     "text": [
      "100%|██████████████████████████████████████████████████████████████████████████████████| 95/95 [00:07<00:00, 12.12it/s]\n",
      "  1%|▊                                                                                  | 1/95 [00:00<00:09,  9.83it/s]"
     ]
    },
    {
     "name": "stdout",
     "output_type": "stream",
     "text": [
      "Training CE Loss: 6.83142\n",
      "Training Hits@10: 41.11\n",
      "Validation Hits@10: 38.49\n",
      "Testing Hits@10: 35.58\n",
      "==================== Epoch 5 ====================\n"
     ]
    },
    {
     "name": "stderr",
     "output_type": "stream",
     "text": [
      "100%|██████████████████████████████████████████████████████████████████████████████████| 95/95 [00:07<00:00, 12.43it/s]\n",
      "  1%|▊                                                                                  | 1/95 [00:00<00:09,  9.93it/s]"
     ]
    },
    {
     "name": "stdout",
     "output_type": "stream",
     "text": [
      "Training CE Loss: 6.58545\n",
      "Training Hits@10: 48.94\n",
      "Validation Hits@10: 46.31\n",
      "Testing Hits@10: 43.05\n",
      "==================== Epoch 6 ====================\n"
     ]
    },
    {
     "name": "stderr",
     "output_type": "stream",
     "text": [
      "100%|██████████████████████████████████████████████████████████████████████████████████| 95/95 [00:07<00:00, 12.78it/s]\n",
      "  1%|▊                                                                                  | 1/95 [00:00<00:10,  9.09it/s]"
     ]
    },
    {
     "name": "stdout",
     "output_type": "stream",
     "text": [
      "Training CE Loss: 6.38691\n",
      "Training Hits@10: 53.56\n",
      "Validation Hits@10: 51.08\n",
      "Testing Hits@10: 47.45\n",
      "==================== Epoch 7 ====================\n"
     ]
    },
    {
     "name": "stderr",
     "output_type": "stream",
     "text": [
      "100%|██████████████████████████████████████████████████████████████████████████████████| 95/95 [00:07<00:00, 12.67it/s]\n",
      "  1%|▊                                                                                  | 1/95 [00:00<00:09,  9.93it/s]"
     ]
    },
    {
     "name": "stdout",
     "output_type": "stream",
     "text": [
      "Training CE Loss: 6.24436\n",
      "Training Hits@10: 57.38\n",
      "Validation Hits@10: 54.44\n",
      "Testing Hits@10: 50.08\n",
      "==================== Epoch 8 ====================\n"
     ]
    },
    {
     "name": "stderr",
     "output_type": "stream",
     "text": [
      "100%|██████████████████████████████████████████████████████████████████████████████████| 95/95 [00:07<00:00, 12.74it/s]\n",
      "  1%|▊                                                                                  | 1/95 [00:00<00:09,  9.93it/s]"
     ]
    },
    {
     "name": "stdout",
     "output_type": "stream",
     "text": [
      "Training CE Loss: 6.14366\n",
      "Training Hits@10: 58.77\n",
      "Validation Hits@10: 56.06\n",
      "Testing Hits@10: 51.82\n",
      "==================== Epoch 9 ====================\n"
     ]
    },
    {
     "name": "stderr",
     "output_type": "stream",
     "text": [
      "100%|██████████████████████████████████████████████████████████████████████████████████| 95/95 [00:07<00:00, 12.77it/s]\n",
      "  1%|▊                                                                                  | 1/95 [00:00<00:09,  9.83it/s]"
     ]
    },
    {
     "name": "stdout",
     "output_type": "stream",
     "text": [
      "Training CE Loss: 6.07187\n",
      "Training Hits@10: 59.74\n",
      "Validation Hits@10: 56.95\n",
      "Testing Hits@10: 53.44\n",
      "==================== Epoch 10 ====================\n"
     ]
    },
    {
     "name": "stderr",
     "output_type": "stream",
     "text": [
      "100%|██████████████████████████████████████████████████████████████████████████████████| 95/95 [00:07<00:00, 12.77it/s]\n",
      "  2%|█▋                                                                                 | 2/95 [00:00<00:08, 11.20it/s]"
     ]
    },
    {
     "name": "stdout",
     "output_type": "stream",
     "text": [
      "Training CE Loss: 6.00995\n",
      "Training Hits@10: 62.75\n",
      "Validation Hits@10: 59.30\n",
      "Testing Hits@10: 55.36\n",
      "==================== Epoch 11 ====================\n"
     ]
    },
    {
     "name": "stderr",
     "output_type": "stream",
     "text": [
      "100%|██████████████████████████████████████████████████████████████████████████████████| 95/95 [00:07<00:00, 12.62it/s]\n",
      "  1%|▊                                                                                  | 1/95 [00:00<00:11,  8.29it/s]"
     ]
    },
    {
     "name": "stdout",
     "output_type": "stream",
     "text": [
      "Training CE Loss: 5.96053\n",
      "Training Hits@10: 62.96\n",
      "Validation Hits@10: 59.98\n",
      "Testing Hits@10: 55.71\n",
      "==================== Epoch 12 ====================\n"
     ]
    },
    {
     "name": "stderr",
     "output_type": "stream",
     "text": [
      "100%|██████████████████████████████████████████████████████████████████████████████████| 95/95 [00:07<00:00, 12.04it/s]\n",
      "  1%|▊                                                                                  | 1/95 [00:00<00:09,  9.64it/s]"
     ]
    },
    {
     "name": "stdout",
     "output_type": "stream",
     "text": [
      "Training CE Loss: 5.92164\n",
      "Training Hits@10: 64.01\n",
      "Validation Hits@10: 61.09\n",
      "Testing Hits@10: 56.69\n",
      "==================== Epoch 13 ====================\n"
     ]
    },
    {
     "name": "stderr",
     "output_type": "stream",
     "text": [
      "100%|██████████████████████████████████████████████████████████████████████████████████| 95/95 [00:07<00:00, 12.08it/s]\n",
      "  1%|▊                                                                                  | 1/95 [00:00<00:10,  9.20it/s]"
     ]
    },
    {
     "name": "stdout",
     "output_type": "stream",
     "text": [
      "Training CE Loss: 5.88431\n",
      "Training Hits@10: 64.57\n",
      "Validation Hits@10: 61.31\n",
      "Testing Hits@10: 57.04\n",
      "==================== Epoch 14 ====================\n"
     ]
    },
    {
     "name": "stderr",
     "output_type": "stream",
     "text": [
      "100%|██████████████████████████████████████████████████████████████████████████████████| 95/95 [00:07<00:00, 12.09it/s]\n",
      "  0%|                                                                                           | 0/95 [00:00<?, ?it/s]"
     ]
    },
    {
     "name": "stdout",
     "output_type": "stream",
     "text": [
      "Training CE Loss: 5.85372\n",
      "Training Hits@10: 66.27\n",
      "Validation Hits@10: 62.55\n",
      "Testing Hits@10: 58.15\n",
      "==================== Epoch 15 ====================\n"
     ]
    },
    {
     "name": "stderr",
     "output_type": "stream",
     "text": [
      "100%|██████████████████████████████████████████████████████████████████████████████████| 95/95 [00:07<00:00, 12.49it/s]\n",
      "  1%|▊                                                                                  | 1/95 [00:00<00:10,  9.37it/s]"
     ]
    },
    {
     "name": "stdout",
     "output_type": "stream",
     "text": [
      "Training CE Loss: 5.83168\n",
      "Training Hits@10: 66.66\n",
      "Validation Hits@10: 63.25\n",
      "Testing Hits@10: 58.77\n",
      "==================== Epoch 16 ====================\n"
     ]
    },
    {
     "name": "stderr",
     "output_type": "stream",
     "text": [
      "100%|██████████████████████████████████████████████████████████████████████████████████| 95/95 [00:07<00:00, 12.56it/s]\n",
      "  1%|▊                                                                                  | 1/95 [00:00<00:10,  9.19it/s]"
     ]
    },
    {
     "name": "stdout",
     "output_type": "stream",
     "text": [
      "Training CE Loss: 5.80202\n",
      "Training Hits@10: 67.58\n",
      "Validation Hits@10: 63.21\n",
      "Testing Hits@10: 58.71\n",
      "==================== Epoch 17 ====================\n"
     ]
    },
    {
     "name": "stderr",
     "output_type": "stream",
     "text": [
      "100%|██████████████████████████████████████████████████████████████████████████████████| 95/95 [00:07<00:00, 12.53it/s]\n",
      "  0%|                                                                                           | 0/95 [00:00<?, ?it/s]"
     ]
    },
    {
     "name": "stdout",
     "output_type": "stream",
     "text": [
      "Training CE Loss: 5.78451\n",
      "Training Hits@10: 67.95\n",
      "Validation Hits@10: 63.76\n",
      "Testing Hits@10: 59.47\n",
      "==================== Epoch 18 ====================\n"
     ]
    },
    {
     "name": "stderr",
     "output_type": "stream",
     "text": [
      "100%|██████████████████████████████████████████████████████████████████████████████████| 95/95 [00:07<00:00, 12.55it/s]\n",
      "  1%|▊                                                                                  | 1/95 [00:00<00:09,  9.54it/s]"
     ]
    },
    {
     "name": "stdout",
     "output_type": "stream",
     "text": [
      "Training CE Loss: 5.76282\n",
      "Training Hits@10: 67.95\n",
      "Validation Hits@10: 63.99\n",
      "Testing Hits@10: 59.39\n",
      "==================== Epoch 19 ====================\n"
     ]
    },
    {
     "name": "stderr",
     "output_type": "stream",
     "text": [
      "100%|██████████████████████████████████████████████████████████████████████████████████| 95/95 [00:07<00:00, 12.58it/s]\n",
      "  1%|▊                                                                                  | 1/95 [00:00<00:09,  9.63it/s]"
     ]
    },
    {
     "name": "stdout",
     "output_type": "stream",
     "text": [
      "Training CE Loss: 5.74463\n",
      "Training Hits@10: 68.63\n",
      "Validation Hits@10: 64.59\n",
      "Testing Hits@10: 60.02\n",
      "==================== Epoch 20 ====================\n"
     ]
    },
    {
     "name": "stderr",
     "output_type": "stream",
     "text": [
      "100%|██████████████████████████████████████████████████████████████████████████████████| 95/95 [00:07<00:00, 11.97it/s]\n",
      "  1%|▊                                                                                  | 1/95 [00:00<00:09,  9.97it/s]"
     ]
    },
    {
     "name": "stdout",
     "output_type": "stream",
     "text": [
      "Training CE Loss: 5.72923\n",
      "Training Hits@10: 68.58\n",
      "Validation Hits@10: 64.54\n",
      "Testing Hits@10: 59.98\n",
      "==================== Epoch 21 ====================\n"
     ]
    },
    {
     "name": "stderr",
     "output_type": "stream",
     "text": [
      "100%|██████████████████████████████████████████████████████████████████████████████████| 95/95 [00:07<00:00, 12.66it/s]\n",
      "  1%|▊                                                                                  | 1/95 [00:00<00:09,  9.93it/s]"
     ]
    },
    {
     "name": "stdout",
     "output_type": "stream",
     "text": [
      "Training CE Loss: 5.71871\n",
      "Training Hits@10: 69.21\n",
      "Validation Hits@10: 64.95\n",
      "Testing Hits@10: 60.35\n",
      "==================== Epoch 22 ====================\n"
     ]
    },
    {
     "name": "stderr",
     "output_type": "stream",
     "text": [
      "100%|██████████████████████████████████████████████████████████████████████████████████| 95/95 [00:07<00:00, 12.70it/s]\n"
     ]
    }
   ],
   "source": [
    "\n",
    "# ------------------Training Initialization----------------------#\n",
    "max_train_hit = 0\n",
    "max_val_hit = 0\n",
    "max_test_hit = 0\n",
    "\n",
    "for epoch in range(num_epochs):\n",
    "    print(\"=\"*20,\"Epoch {}\".format(epoch+1),\"=\"*20)\n",
    "    \n",
    "    model.train()  \n",
    "    \n",
    "    running_loss = 0\n",
    "\n",
    "    for j,data in enumerate(tqdm(train_dl,position=0,leave=True)):\n",
    "        \n",
    "        if train_method != \"normal\":\n",
    "            optimizer_features.zero_grad()\n",
    "            optimizer_ids.zero_grad()\n",
    "            \n",
    "        elif train_method == \"normal\": \n",
    "            optimizer.zero_grad()\n",
    "        \n",
    "        if genre_dim != 0:            \n",
    "            inputs,genre_inputs,labels,x_lens,uid = data\n",
    "            outputs = model(x=inputs.cuda(),x_lens=x_lens.squeeze().tolist(),x_genre=genre_inputs.cuda())\n",
    "        \n",
    "        else:\n",
    "            inputs,labels,x_lens,uid = data\n",
    "            outputs = model(x=inputs.cuda(),x_lens=x_lens.squeeze().tolist())\n",
    "\n",
    "        loss = loss_fn(outputs.view(-1,outputs.size(-1)),labels.view(-1).cuda())\n",
    "        loss.backward()\n",
    "        \n",
    "        if train_method != \"normal\":\n",
    "            if train_method == \"interleave\":\n",
    "                # interleave on the epochs\n",
    "                if (j+1) % 2 == 0:\n",
    "                    optimizer_features.step()\n",
    "                else:\n",
    "                    optimizer_ids.step()\n",
    "\n",
    "            elif train_method == \"alternate\":\n",
    "                if (epoch+1) % 2 == 0:\n",
    "                    optimizer_features.step()\n",
    "                else:\n",
    "                    optimizer_ids.step()\n",
    "\n",
    "        elif train_method == \"normal\":\n",
    "            optimizer.step()\n",
    "\n",
    "        running_loss += loss.detach().cpu().item()\n",
    "\n",
    "    training_hit = Recall_Object(model,train_dl)\n",
    "    validation_hit = Recall_Object(model,val_dl)\n",
    "    testing_hit = Recall_Object(model,test_dl)\n",
    "    \n",
    "    if max_val_hit < validation_hit:\n",
    "        max_val_hit = validation_hit\n",
    "        max_test_hit = testing_hit\n",
    "        max_train_hit = training_hit\n",
    "    \n",
    "\n",
    "    print(\"Training CE Loss: {:.5f}\".format(running_loss/len(train_dl)))\n",
    "    print(\"Training Hits@{:d}: {:.2f}\".format(k,training_hit))\n",
    "    print(\"Validation Hits@{:d}: {:.2f}\".format(k,validation_hit))\n",
    "    print(\"Testing Hits@{:d}: {:.2f}\".format(k,testing_hit))\n",
    "    \n",
    "\n",
    "print(\"=\"*100)\n",
    "print(\"Maximum Training Hit@{:d}: {:.2f}\".format(k,max_train_hit))\n",
    "print(\"Maximum Validation Hit@{:d}: {:.2f}\".format(k,max_val_hit))\n",
    "print(\"Maximum Testing Hit@{:d}: {:.2f}\".format(k,max_test_hit))"
   ]
  }
 ],
 "metadata": {
  "kernelspec": {
   "display_name": "NLP",
   "language": "python",
   "name": "nlp"
  },
  "language_info": {
   "codemirror_mode": {
    "name": "ipython",
    "version": 3
   },
   "file_extension": ".py",
   "mimetype": "text/x-python",
   "name": "python",
   "nbconvert_exporter": "python",
   "pygments_lexer": "ipython3",
   "version": "3.7.3"
  }
 },
 "nbformat": 4,
 "nbformat_minor": 4
}
