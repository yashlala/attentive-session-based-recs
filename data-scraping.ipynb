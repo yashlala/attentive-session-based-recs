{
 "cells": [
  {
   "cell_type": "markdown",
   "id": "37590eb8",
   "metadata": {},
   "source": [
    "# Data Scraping"
   ]
  },
  {
   "cell_type": "markdown",
   "id": "0c97159b",
   "metadata": {},
   "source": [
    "This notebook contains a script that can be used to\n",
    "scrape plot summaries en-masse from the IMDb website."
   ]
  },
  {
   "cell_type": "markdown",
   "id": "a0faf20f",
   "metadata": {},
   "source": [
    "## Reading in the MovieLens Datasets"
   ]
  },
  {
   "cell_type": "markdown",
   "id": "2a00fb80",
   "metadata": {},
   "source": [
    "We want to scrape the plots for every movie in the dataset. \n",
    "The movielens 20m dataset includes an `imdbId` field, which we can use to look up the corresponding movie on the IMDb website. "
   ]
  },
  {
   "cell_type": "code",
   "execution_count": 1,
   "id": "04e55f76",
   "metadata": {},
   "outputs": [],
   "source": [
    "import numpy as np\n",
    "import pandas as pd"
   ]
  },
  {
   "cell_type": "code",
   "execution_count": 2,
   "id": "59980ace",
   "metadata": {},
   "outputs": [],
   "source": [
    "movies_20m = pd.read_csv('data/movielens-20m/movies.csv', names=['movieid', 'title', 'genres'])\n",
    "movies_1m = pd.read_csv('data/movielens-1m/movies.dat', delimiter='::', engine='python', \n",
    "                        header=None, names=['movieId', 'title', 'genres'])"
   ]
  },
  {
   "cell_type": "code",
   "execution_count": 3,
   "id": "b5591154",
   "metadata": {},
   "outputs": [
    {
     "name": "stdout",
     "output_type": "stream",
     "text": [
      "543\n",
      "23923\n"
     ]
    }
   ],
   "source": [
    "titles_20m = set(movies_20m['title'])\n",
    "titles_1m = set(movies_1m['title'])\n",
    "print(len(titles_1m - titles_20m))\n",
    "print(len(titles_20m - titles_1m))\n",
    "del titles_1m\n",
    "del titles_20m"
   ]
  },
  {
   "cell_type": "markdown",
   "id": "acf65031",
   "metadata": {},
   "source": [
    "Looks like the 1m movie dataset isn't a strict subset of the 20m dataset.\n",
    "\n",
    "Do the IDs match?"
   ]
  },
  {
   "cell_type": "code",
   "execution_count": null,
   "id": "39f06195",
   "metadata": {},
   "outputs": [],
   "source": [
    "common_movies = pd.merge(movies_1m, movies_20m, on='title', \n",
    "                         how='inner', suffixes=('_1m', '_20m'))\n",
    "common_movies.head()"
   ]
  },
  {
   "cell_type": "code",
   "execution_count": null,
   "id": "3014df8c",
   "metadata": {},
   "outputs": [],
   "source": [
    "unmatched_entries = common_movies.loc[common_movies['movieid_1m'] != common_movies['movieid_20m']]\n",
    "print(unmatched_entries[['title', 'movieid_1m', 'movieid_20m']])"
   ]
  },
  {
   "cell_type": "markdown",
   "id": "fdcf9040",
   "metadata": {},
   "source": [
    "Almost a perfect match.\n",
    "This tells us that we can use the 20m dataset's plot summaries to get the 1m dataset's plots as well. \n",
    "\n",
    "Now to fetch the plots themselves. "
   ]
  },
  {
   "cell_type": "markdown",
   "id": "a35d2467",
   "metadata": {},
   "source": [
    "# Movie Scraping"
   ]
  },
  {
   "cell_type": "markdown",
   "id": "422176ba",
   "metadata": {},
   "source": [
    "## 1m and 20m: Scraping the Intersection\n",
    "\n",
    "These scrapers will take a while to run. Their reliability is also unknown. \n",
    "So for now, let's just scrape the movies at the intersection of the two datasets (1m $\\cap$ 20m). \n",
    "This is easy to scrape (it inherits 20m's imdbID field), and keeps our output flexible (we can use it for either dataset later on).\n",
    "\n",
    "The movie's links will be stored in `./plots.tsv`, as a tab-separated-value data file. "
   ]
  },
  {
   "cell_type": "code",
   "execution_count": null,
   "id": "f5bf710e",
   "metadata": {},
   "outputs": [],
   "source": [
    "links_20m = pd.read_csv('data/movielens-20m/links.csv', header=0,\n",
    "                        names=['movieid_20m', 'imdbid', 'tmdbid'])\n",
    "\n",
    "common_movies = pd.merge(common_movies, links_20m, on='movieid_20m', how='inner')\n",
    "common_movies.head()"
   ]
  },
  {
   "cell_type": "code",
   "execution_count": null,
   "id": "5be696a5",
   "metadata": {},
   "outputs": [],
   "source": [
    "common_movies['plot'] = \"\"\n",
    "common_movies.to_csv('common_movies.csv', index=False)\n",
    "\n",
    "common_movies.head()"
   ]
  },
  {
   "cell_type": "code",
   "execution_count": null,
   "id": "b4477d59",
   "metadata": {},
   "outputs": [],
   "source": [
    "import imdb\n",
    "import csv\n",
    "\n",
    "con = imdb.IMDb()\n",
    "\n",
    "with open('plots.tsv', 'a') as f: \n",
    "    writer = csv.writer(f, delimiter='\\t', quotechar='|', quoting=csv.QUOTE_MINIMAL)\n",
    "    for i in range(len(common_movies)): \n",
    "        row = common_movies.loc[i]\n",
    "\n",
    "        if row['plot'] != \"\": \n",
    "            # If we've already scraped this plot, move on. \n",
    "            print(f\"Not fetching {row['imdbid']} {row['title']}, already in database.\")\n",
    "            writer.writerow([row['imdbid'], row['plot']])\n",
    "        \n",
    "        else: \n",
    "            print(imdbid, row['title'])\n",
    "                         \n",
    "            # Try to fetch a plot. If we can't find one, store an empty entry in our table.  \n",
    "            movie = con.get_movie(row['imdbid'], info=['plot'])\n",
    "            try: \n",
    "                plot = movie['plot'][0]\n",
    "            except (KeyError, IndexError):\n",
    "                plot = \"\"\n",
    "        \n",
    "            # Write to our output modes. \n",
    "            writer.writerow([row['imdbid'], plot])\n",
    "            common_movies.at[i, 'plot'] = plot\n",
    "\n",
    "con.close()"
   ]
  },
  {
   "cell_type": "markdown",
   "id": "ae2f5ea8",
   "metadata": {},
   "source": [
    "## 20m: Scraping it All"
   ]
  },
  {
   "cell_type": "markdown",
   "id": "53e84587",
   "metadata": {},
   "source": [
    "Now to scrape the remainder of the dataset. We'll pull in the data from IMDb, and add it to `plots.tsv`."
   ]
  },
  {
   "cell_type": "code",
   "execution_count": null,
   "id": "1738a4d0",
   "metadata": {},
   "outputs": [],
   "source": [
    "# Make sure to read the IDs as strings. Otherwise, we'll drop the leading zeroes. \n",
    "links_20m = pd.read_csv('data/movielens-20m/links.csv', \n",
    "                        dtype={'movieId': 'string', 'imdbId': 'string', 'tmdbId': 'string'})\n",
    "processed_movies = pd.read_csv('plots.tsv', delimiter='\\t', quotechar='|', \n",
    "                        dtype={'imdbId': 'string'})\n",
    "remaining_ids = set(links_20m['imdbId']) - set(processed_movies['imdbId'])\n",
    "num_remaining_ids = len(remaining_ids)\n",
    "print(f'{num_remaining_ids} movies remain to be processed.')\n",
    "\n",
    "with open('plots.tsv', 'a') as f: \n",
    "    writer = csv.writer(f, delimiter='\\t', quotechar='|', quoting=csv.QUOTE_MINIMAL)\n",
    "    \n",
    "    for imdbid in remaining_ids:  \n",
    "        num_remaining_ids -= 1\n",
    "        if num_remaining_ids % 100 == 1: \n",
    "            print(f'{num_remaining_ids} movies remain.')\n",
    "\n",
    "        movie = con.get_movie(imdbid, info=['plot'])\n",
    "        try: \n",
    "            plot = movie['plot'][0]\n",
    "        except (KeyError, IndexError):\n",
    "            plot = \"\"\n",
    "        \n",
    "        # Write to our output modes. \n",
    "        writer.writerow([imdbid, plot])"
   ]
  },
  {
   "cell_type": "markdown",
   "id": "09a940eb",
   "metadata": {},
   "source": [
    "Hoo boy. That took a while, didn't it?"
   ]
  },
  {
   "cell_type": "code",
   "execution_count": null,
   "id": "ff685d6d",
   "metadata": {},
   "outputs": [],
   "source": [
    "links_20m = pd.read_csv('data/movielens-20m/links.csv', \n",
    "                        dtype={'movieId': 'string', 'imdbId': 'string', 'tmdbId': 'string'})\n",
    "plots_20m = pd.read_csv('data/movielens-20m/plots.tsv', \n",
    "                        delimiter='\\t', quotechar='|', dtype={'imdbId': 'string', 'plot': 'string'})\n",
    "movies_20m = pd.read_csv('data/movielens-20m/movies.csv', \n",
    "                        dtype={'movieId': 'string', 'title': 'string', 'genres': 'string'})\n",
    "\n",
    "print(len(links_20m), len(plots_20m), len(movies_20m))"
   ]
  },
  {
   "cell_type": "code",
   "execution_count": null,
   "id": "226e5f11",
   "metadata": {},
   "outputs": [],
   "source": [
    "# Join into the output CSV\n",
    "\n",
    "union_20m = pd.merge(movies_20m, links_20m, on='movieId', how='inner')\n",
    "assert len(union_20m) == len(links_20m)\n",
    "assert len(union_20m) == len(movies_20m)\n",
    "\n",
    "union_20m.head()"
   ]
  },
  {
   "cell_type": "code",
   "execution_count": null,
   "id": "16c73151",
   "metadata": {},
   "outputs": [],
   "source": [
    "union_20m = pd.merge(union_20m, plots_20m, on='imdbId', how='inner')\n",
    "assert len(union_20m) == len(links_20m)\n",
    "\n",
    "union_20m.head()"
   ]
  },
  {
   "cell_type": "code",
   "execution_count": null,
   "id": "9b92a53b",
   "metadata": {},
   "outputs": [],
   "source": [
    "union_20m.to_csv('movies.csv', index=False)"
   ]
  },
  {
   "cell_type": "markdown",
   "id": "73aa6ebf",
   "metadata": {},
   "source": [
    "## 1m Dataset: Getting all Plot Summaries"
   ]
  },
  {
   "cell_type": "code",
   "execution_count": 10,
   "id": "501065f7",
   "metadata": {},
   "outputs": [],
   "source": [
    "movies_1m = pd.read_csv('data/movielens-1m/movies.dat', delimiter='::', engine='python', \n",
    "                        dtype={'movieId': 'string', 'title': 'string', 'genres': 'string'},\n",
    "                        header=None, names=['movieId', 'title', 'genres'])\n",
    "movieplots_20m = pd.read_csv('data/movielens-20m/movie-plots.csv', \n",
    "                        dtype={'movieId': 'string', 'title': 'string', 'genres': 'string', \n",
    "                              'imdbId': 'string', 'tmdbId': 'string'})"
   ]
  },
  {
   "cell_type": "code",
   "execution_count": 11,
   "id": "2b04ed13",
   "metadata": {},
   "outputs": [
    {
     "data": {
      "text/html": [
       "<div>\n",
       "<style scoped>\n",
       "    .dataframe tbody tr th:only-of-type {\n",
       "        vertical-align: middle;\n",
       "    }\n",
       "\n",
       "    .dataframe tbody tr th {\n",
       "        vertical-align: top;\n",
       "    }\n",
       "\n",
       "    .dataframe thead th {\n",
       "        text-align: right;\n",
       "    }\n",
       "</style>\n",
       "<table border=\"1\" class=\"dataframe\">\n",
       "  <thead>\n",
       "    <tr style=\"text-align: right;\">\n",
       "      <th></th>\n",
       "      <th>movieId</th>\n",
       "      <th>title</th>\n",
       "      <th>genres</th>\n",
       "    </tr>\n",
       "  </thead>\n",
       "  <tbody>\n",
       "    <tr>\n",
       "      <th>0</th>\n",
       "      <td>1</td>\n",
       "      <td>Toy Story (1995)</td>\n",
       "      <td>Animation|Children's|Comedy</td>\n",
       "    </tr>\n",
       "    <tr>\n",
       "      <th>1</th>\n",
       "      <td>2</td>\n",
       "      <td>Jumanji (1995)</td>\n",
       "      <td>Adventure|Children's|Fantasy</td>\n",
       "    </tr>\n",
       "    <tr>\n",
       "      <th>2</th>\n",
       "      <td>3</td>\n",
       "      <td>Grumpier Old Men (1995)</td>\n",
       "      <td>Comedy|Romance</td>\n",
       "    </tr>\n",
       "    <tr>\n",
       "      <th>3</th>\n",
       "      <td>4</td>\n",
       "      <td>Waiting to Exhale (1995)</td>\n",
       "      <td>Comedy|Drama</td>\n",
       "    </tr>\n",
       "    <tr>\n",
       "      <th>4</th>\n",
       "      <td>5</td>\n",
       "      <td>Father of the Bride Part II (1995)</td>\n",
       "      <td>Comedy</td>\n",
       "    </tr>\n",
       "  </tbody>\n",
       "</table>\n",
       "</div>"
      ],
      "text/plain": [
       "  movieId                               title                        genres\n",
       "0       1                    Toy Story (1995)   Animation|Children's|Comedy\n",
       "1       2                      Jumanji (1995)  Adventure|Children's|Fantasy\n",
       "2       3             Grumpier Old Men (1995)                Comedy|Romance\n",
       "3       4            Waiting to Exhale (1995)                  Comedy|Drama\n",
       "4       5  Father of the Bride Part II (1995)                        Comedy"
      ]
     },
     "execution_count": 11,
     "metadata": {},
     "output_type": "execute_result"
    }
   ],
   "source": [
    "movies_1m.head()"
   ]
  },
  {
   "cell_type": "code",
   "execution_count": 12,
   "id": "31e7e4cb",
   "metadata": {
    "scrolled": false
   },
   "outputs": [
    {
     "data": {
      "text/html": [
       "<div>\n",
       "<style scoped>\n",
       "    .dataframe tbody tr th:only-of-type {\n",
       "        vertical-align: middle;\n",
       "    }\n",
       "\n",
       "    .dataframe tbody tr th {\n",
       "        vertical-align: top;\n",
       "    }\n",
       "\n",
       "    .dataframe thead th {\n",
       "        text-align: right;\n",
       "    }\n",
       "</style>\n",
       "<table border=\"1\" class=\"dataframe\">\n",
       "  <thead>\n",
       "    <tr style=\"text-align: right;\">\n",
       "      <th></th>\n",
       "      <th>movieId</th>\n",
       "      <th>title</th>\n",
       "      <th>genres</th>\n",
       "      <th>imdbId</th>\n",
       "      <th>tmdbId</th>\n",
       "      <th>plot</th>\n",
       "    </tr>\n",
       "  </thead>\n",
       "  <tbody>\n",
       "    <tr>\n",
       "      <th>0</th>\n",
       "      <td>1</td>\n",
       "      <td>Toy Story (1995)</td>\n",
       "      <td>Adventure|Animation|Children|Comedy|Fantasy</td>\n",
       "      <td>0114709</td>\n",
       "      <td>862</td>\n",
       "      <td>A cowboy doll is profoundly threatened and jea...</td>\n",
       "    </tr>\n",
       "    <tr>\n",
       "      <th>1</th>\n",
       "      <td>2</td>\n",
       "      <td>Jumanji (1995)</td>\n",
       "      <td>Adventure|Children|Fantasy</td>\n",
       "      <td>0113497</td>\n",
       "      <td>8844</td>\n",
       "      <td>When two kids find and play a magical board ga...</td>\n",
       "    </tr>\n",
       "    <tr>\n",
       "      <th>2</th>\n",
       "      <td>3</td>\n",
       "      <td>Grumpier Old Men (1995)</td>\n",
       "      <td>Comedy|Romance</td>\n",
       "      <td>0113228</td>\n",
       "      <td>15602</td>\n",
       "      <td>John and Max resolve to save their beloved bai...</td>\n",
       "    </tr>\n",
       "    <tr>\n",
       "      <th>3</th>\n",
       "      <td>4</td>\n",
       "      <td>Waiting to Exhale (1995)</td>\n",
       "      <td>Comedy|Drama|Romance</td>\n",
       "      <td>0114885</td>\n",
       "      <td>31357</td>\n",
       "      <td>Based on Terry McMillan's novel, this film fol...</td>\n",
       "    </tr>\n",
       "    <tr>\n",
       "      <th>4</th>\n",
       "      <td>5</td>\n",
       "      <td>Father of the Bride Part II (1995)</td>\n",
       "      <td>Comedy</td>\n",
       "      <td>0113041</td>\n",
       "      <td>11862</td>\n",
       "      <td>George Banks must deal not only with the pregn...</td>\n",
       "    </tr>\n",
       "  </tbody>\n",
       "</table>\n",
       "</div>"
      ],
      "text/plain": [
       "  movieId                               title  \\\n",
       "0       1                    Toy Story (1995)   \n",
       "1       2                      Jumanji (1995)   \n",
       "2       3             Grumpier Old Men (1995)   \n",
       "3       4            Waiting to Exhale (1995)   \n",
       "4       5  Father of the Bride Part II (1995)   \n",
       "\n",
       "                                        genres   imdbId tmdbId  \\\n",
       "0  Adventure|Animation|Children|Comedy|Fantasy  0114709    862   \n",
       "1                   Adventure|Children|Fantasy  0113497   8844   \n",
       "2                               Comedy|Romance  0113228  15602   \n",
       "3                         Comedy|Drama|Romance  0114885  31357   \n",
       "4                                       Comedy  0113041  11862   \n",
       "\n",
       "                                                plot  \n",
       "0  A cowboy doll is profoundly threatened and jea...  \n",
       "1  When two kids find and play a magical board ga...  \n",
       "2  John and Max resolve to save their beloved bai...  \n",
       "3  Based on Terry McMillan's novel, this film fol...  \n",
       "4  George Banks must deal not only with the pregn...  "
      ]
     },
     "execution_count": 12,
     "metadata": {},
     "output_type": "execute_result"
    }
   ],
   "source": [
    "movieplots_20m.head()"
   ]
  },
  {
   "cell_type": "markdown",
   "id": "c46b3a0c",
   "metadata": {},
   "source": [
    "Hypothesis -- the movie IDs in both fields are the same. \n",
    "Michael has verified this. "
   ]
  },
  {
   "cell_type": "code",
   "execution_count": 13,
   "id": "500ea718",
   "metadata": {
    "scrolled": true
   },
   "outputs": [
    {
     "data": {
      "text/html": [
       "<div>\n",
       "<style scoped>\n",
       "    .dataframe tbody tr th:only-of-type {\n",
       "        vertical-align: middle;\n",
       "    }\n",
       "\n",
       "    .dataframe tbody tr th {\n",
       "        vertical-align: top;\n",
       "    }\n",
       "\n",
       "    .dataframe thead th {\n",
       "        text-align: right;\n",
       "    }\n",
       "</style>\n",
       "<table border=\"1\" class=\"dataframe\">\n",
       "  <thead>\n",
       "    <tr style=\"text-align: right;\">\n",
       "      <th></th>\n",
       "      <th>movieId</th>\n",
       "      <th>title</th>\n",
       "      <th>genres</th>\n",
       "      <th>plot</th>\n",
       "    </tr>\n",
       "  </thead>\n",
       "  <tbody>\n",
       "    <tr>\n",
       "      <th>0</th>\n",
       "      <td>1</td>\n",
       "      <td>Toy Story (1995)</td>\n",
       "      <td>Animation|Children's|Comedy</td>\n",
       "      <td>A cowboy doll is profoundly threatened and jea...</td>\n",
       "    </tr>\n",
       "    <tr>\n",
       "      <th>1</th>\n",
       "      <td>2</td>\n",
       "      <td>Jumanji (1995)</td>\n",
       "      <td>Adventure|Children's|Fantasy</td>\n",
       "      <td>When two kids find and play a magical board ga...</td>\n",
       "    </tr>\n",
       "    <tr>\n",
       "      <th>2</th>\n",
       "      <td>3</td>\n",
       "      <td>Grumpier Old Men (1995)</td>\n",
       "      <td>Comedy|Romance</td>\n",
       "      <td>John and Max resolve to save their beloved bai...</td>\n",
       "    </tr>\n",
       "    <tr>\n",
       "      <th>3</th>\n",
       "      <td>4</td>\n",
       "      <td>Waiting to Exhale (1995)</td>\n",
       "      <td>Comedy|Drama</td>\n",
       "      <td>Based on Terry McMillan's novel, this film fol...</td>\n",
       "    </tr>\n",
       "    <tr>\n",
       "      <th>4</th>\n",
       "      <td>5</td>\n",
       "      <td>Father of the Bride Part II (1995)</td>\n",
       "      <td>Comedy</td>\n",
       "      <td>George Banks must deal not only with the pregn...</td>\n",
       "    </tr>\n",
       "  </tbody>\n",
       "</table>\n",
       "</div>"
      ],
      "text/plain": [
       "  movieId                               title                        genres  \\\n",
       "0       1                    Toy Story (1995)   Animation|Children's|Comedy   \n",
       "1       2                      Jumanji (1995)  Adventure|Children's|Fantasy   \n",
       "2       3             Grumpier Old Men (1995)                Comedy|Romance   \n",
       "3       4            Waiting to Exhale (1995)                  Comedy|Drama   \n",
       "4       5  Father of the Bride Part II (1995)                        Comedy   \n",
       "\n",
       "                                                plot  \n",
       "0  A cowboy doll is profoundly threatened and jea...  \n",
       "1  When two kids find and play a magical board ga...  \n",
       "2  John and Max resolve to save their beloved bai...  \n",
       "3  Based on Terry McMillan's novel, this film fol...  \n",
       "4  George Banks must deal not only with the pregn...  "
      ]
     },
     "execution_count": 13,
     "metadata": {},
     "output_type": "execute_result"
    }
   ],
   "source": [
    "union = pd.merge(movies_1m, movieplots_20m.drop(columns=['title', 'genres', 'imdbId', 'tmdbId']),\n",
    "                 suffixes=('_1m', '_20m'), on='movieId', how='left', validate='one_to_one')\n",
    "\n",
    "union.head()"
   ]
  },
  {
   "cell_type": "markdown",
   "id": "daa7ff18",
   "metadata": {},
   "source": [
    "Notice how some movies are unique to the 1M dataset. We'll have to fetch these separately if we want a list of the 1M dataset's movies. What movies are we missing? "
   ]
  },
  {
   "cell_type": "code",
   "execution_count": 14,
   "id": "c02ce9e8",
   "metadata": {},
   "outputs": [
    {
     "name": "stdout",
     "output_type": "stream",
     "text": [
      "                                                     title  \\\n",
      "movieId                                                      \n",
      "557                                      Mamma Roma (1962)   \n",
      "578                            Hour of the Pig, The (1993)   \n",
      "644                                   Happy Weekend (1996)   \n",
      "669                                       Aparajito (1956)   \n",
      "720      Wallace & Gromit: The Best of Aardman Animatio...   \n",
      "730                                   Low Life, The (1994)   \n",
      "739                                       Honigmond (1996)   \n",
      "752                           Vermont Is For Lovers (1992)   \n",
      "770                                     Costa Brava (1946)   \n",
      "791      Last Klezmer: Leopold Kozlowski, His Life and ...   \n",
      "811                               Bewegte Mann, Der (1994)   \n",
      "863                             Celestial Clockwork (1994)   \n",
      "978              Blue Angel, The (Blaue Engel, Der) (1930)   \n",
      "1108                                 Prerokbe Ognja (1995)   \n",
      "1155                  Invitation, The (Zaproszenie) (1986)   \n",
      "1205                   Transformers: The Movie, The (1986)   \n",
      "1294                                        M*A*S*H (1970)   \n",
      "1316                                           Anna (1996)   \n",
      "1319                               Kids of Survival (1993)   \n",
      "1362     Garden of Finzi-Contini, The (Giardino dei Fin...   \n",
      "1494                                 Sixth Man, The (1997)   \n",
      "1657                                     Wonderland (1997)   \n",
      "1706                             Harlem River Drive (1996)   \n",
      "1741     Midaq Alley (Callej�n de los milagros, El) (1995)   \n",
      "1758                               Dangerous Beauty (1998)   \n",
      "1774                                   Mass Transit (1998)   \n",
      "1847                                        Ratchet (1996)   \n",
      "1868                                     Truce, The (1996)   \n",
      "2228                            Mountain Eagle, The (1926)   \n",
      "2588                                       Clubland (1998)   \n",
      "2604      Let it Come Down: The Life of Paul Bowles (1998)   \n",
      "2645                                        Dracula (1958)   \n",
      "2909           Five Wives, Three Secretaries and Me (1998)   \n",
      "3027                               Slaughterhouse 2 (1988)   \n",
      "3065                                      Ten Benny (1997)   \n",
      "3356                                 Condo Painting (2000)   \n",
      "3366                              Where Eagles Dare (1969)   \n",
      "3416                         Trial, The (Le Proc�s) (1963)   \n",
      "3482                                 Price of Glory (2000)   \n",
      "3532            Freedom for Us (� nous la libert� ) (1931)   \n",
      "3842          Make Them Die Slowly (Cannibal Ferox) (1980)   \n",
      "3935                                         Kronos (1973)   \n",
      "\n",
      "                                                  genres plot  \n",
      "movieId                                                        \n",
      "557                                                Drama  NaN  \n",
      "578                                        Drama|Mystery  NaN  \n",
      "644                                               Comedy  NaN  \n",
      "669                                                Drama  NaN  \n",
      "720                                            Animation  NaN  \n",
      "730                                                Drama  NaN  \n",
      "739                                               Comedy  NaN  \n",
      "752                                       Comedy|Romance  NaN  \n",
      "770                                                Drama  NaN  \n",
      "791                                          Documentary  NaN  \n",
      "811                                               Comedy  NaN  \n",
      "863                                               Comedy  NaN  \n",
      "978                                                Drama  NaN  \n",
      "1108                                         Documentary  NaN  \n",
      "1155                                               Drama  NaN  \n",
      "1205     Action|Animation|Children's|Sci-Fi|Thriller|War  NaN  \n",
      "1294                                          Comedy|War  NaN  \n",
      "1316                                               Drama  NaN  \n",
      "1319                                         Documentary  NaN  \n",
      "1362                                               Drama  NaN  \n",
      "1494                                              Comedy  NaN  \n",
      "1657                                         Documentary  NaN  \n",
      "1706                                               Drama  NaN  \n",
      "1741                                               Drama  NaN  \n",
      "1758                                               Drama  NaN  \n",
      "1774                                        Comedy|Drama  NaN  \n",
      "1847                                      Drama|Thriller  NaN  \n",
      "1868                                           Drama|War  NaN  \n",
      "2228                                               Drama  NaN  \n",
      "2588                                               Drama  NaN  \n",
      "2604                                         Documentary  NaN  \n",
      "2645                                              Horror  NaN  \n",
      "2909                                         Documentary  NaN  \n",
      "3027                                              Horror  NaN  \n",
      "3065                                               Drama  NaN  \n",
      "3356                                         Documentary  NaN  \n",
      "3366                                Action|Adventure|War  NaN  \n",
      "3416                                               Drama  NaN  \n",
      "3482                                               Drama  NaN  \n",
      "3532                                              Comedy  NaN  \n",
      "3842                                              Horror  NaN  \n",
      "3935                                              Horror  NaN  \n",
      "Wallace & Gromit: The Best of Aardman Animation (1996)\n"
     ]
    }
   ],
   "source": [
    "missing_movies = union.loc[union['plot'].isnull()].set_index('movieId')\n",
    "print(missing_movies)\n",
    "print(missing_movies.at['720', 'title'])"
   ]
  },
  {
   "cell_type": "markdown",
   "id": "768fc7d6",
   "metadata": {},
   "source": [
    "We should now scrape these from the IMDb website by hand, and put them in `missingno.csv`."
   ]
  },
  {
   "cell_type": "code",
   "execution_count": 15,
   "id": "a6d6c4f2",
   "metadata": {
    "scrolled": true
   },
   "outputs": [
    {
     "name": "stdout",
     "output_type": "stream",
     "text": [
      "42\n"
     ]
    }
   ],
   "source": [
    "manual = pd.read_csv('missingno.csv', dtype={'movieId': 'string', 'plot': 'string'})\n",
    "manual.head()\n",
    "print(len(manual))"
   ]
  },
  {
   "cell_type": "code",
   "execution_count": 24,
   "id": "990e92e7",
   "metadata": {},
   "outputs": [
    {
     "ename": "AttributeError",
     "evalue": "'str' object has no attribute 'isnull'",
     "output_type": "error",
     "traceback": [
      "\u001b[1;31m---------------------------------------------------------------------------\u001b[0m",
      "\u001b[1;31mAttributeError\u001b[0m                            Traceback (most recent call last)",
      "\u001b[1;32m<ipython-input-24-fe48bf64d948>\u001b[0m in \u001b[0;36m<module>\u001b[1;34m\u001b[0m\n\u001b[0;32m      2\u001b[0m \u001b[1;33m\u001b[0m\u001b[0m\n\u001b[0;32m      3\u001b[0m \u001b[1;32mfor\u001b[0m \u001b[0mi\u001b[0m\u001b[1;33m,\u001b[0m \u001b[0mrow\u001b[0m \u001b[1;32min\u001b[0m \u001b[0mmanual\u001b[0m\u001b[1;33m.\u001b[0m\u001b[0miterrows\u001b[0m\u001b[1;33m(\u001b[0m\u001b[1;33m)\u001b[0m\u001b[1;33m:\u001b[0m\u001b[1;33m\u001b[0m\u001b[1;33m\u001b[0m\u001b[0m\n\u001b[1;32m----> 4\u001b[1;33m     \u001b[1;32mif\u001b[0m \u001b[1;33m(\u001b[0m\u001b[0mrow\u001b[0m\u001b[1;33m[\u001b[0m\u001b[1;34m'plot'\u001b[0m\u001b[1;33m]\u001b[0m\u001b[1;33m.\u001b[0m\u001b[0misnull\u001b[0m\u001b[1;33m(\u001b[0m\u001b[1;33m)\u001b[0m\u001b[1;33m)\u001b[0m\u001b[1;33m:\u001b[0m\u001b[1;33m\u001b[0m\u001b[1;33m\u001b[0m\u001b[0m\n\u001b[0m\u001b[0;32m      5\u001b[0m         \u001b[0mplot\u001b[0m \u001b[1;33m=\u001b[0m \u001b[1;34m\"\"\u001b[0m\u001b[1;33m\u001b[0m\u001b[1;33m\u001b[0m\u001b[0m\n\u001b[0;32m      6\u001b[0m     \u001b[1;32melse\u001b[0m\u001b[1;33m:\u001b[0m\u001b[1;33m\u001b[0m\u001b[1;33m\u001b[0m\u001b[0m\n",
      "\u001b[1;31mAttributeError\u001b[0m: 'str' object has no attribute 'isnull'"
     ]
    }
   ],
   "source": [
    "# Now to fill in the missing plot summaries in the 1mil dataset. \n",
    "\n",
    "for i, row in manual.iterrows(): \n",
    "    union.loc[row['movieId'] == union['movieId'], 'plot'] = row['plot']"
   ]
  },
  {
   "cell_type": "code",
   "execution_count": 25,
   "id": "e8c098ef",
   "metadata": {
    "scrolled": true
   },
   "outputs": [
    {
     "data": {
      "text/html": [
       "<div>\n",
       "<style scoped>\n",
       "    .dataframe tbody tr th:only-of-type {\n",
       "        vertical-align: middle;\n",
       "    }\n",
       "\n",
       "    .dataframe tbody tr th {\n",
       "        vertical-align: top;\n",
       "    }\n",
       "\n",
       "    .dataframe thead th {\n",
       "        text-align: right;\n",
       "    }\n",
       "</style>\n",
       "<table border=\"1\" class=\"dataframe\">\n",
       "  <thead>\n",
       "    <tr style=\"text-align: right;\">\n",
       "      <th></th>\n",
       "      <th>movieId</th>\n",
       "      <th>title</th>\n",
       "      <th>genres</th>\n",
       "      <th>plot</th>\n",
       "    </tr>\n",
       "  </thead>\n",
       "  <tbody>\n",
       "    <tr>\n",
       "      <th>639</th>\n",
       "      <td>644</td>\n",
       "      <td>Happy Weekend (1996)</td>\n",
       "      <td>Comedy</td>\n",
       "      <td>&lt;NA&gt;</td>\n",
       "    </tr>\n",
       "    <tr>\n",
       "      <th>730</th>\n",
       "      <td>739</td>\n",
       "      <td>Honigmond (1996)</td>\n",
       "      <td>Comedy</td>\n",
       "      <td>&lt;NA&gt;</td>\n",
       "    </tr>\n",
       "    <tr>\n",
       "      <th>742</th>\n",
       "      <td>752</td>\n",
       "      <td>Vermont Is For Lovers (1992)</td>\n",
       "      <td>Comedy|Romance</td>\n",
       "      <td>&lt;NA&gt;</td>\n",
       "    </tr>\n",
       "    <tr>\n",
       "      <th>760</th>\n",
       "      <td>770</td>\n",
       "      <td>Costa Brava (1946)</td>\n",
       "      <td>Drama</td>\n",
       "      <td>&lt;NA&gt;</td>\n",
       "    </tr>\n",
       "    <tr>\n",
       "      <th>781</th>\n",
       "      <td>791</td>\n",
       "      <td>Last Klezmer: Leopold Kozlowski, His Life and ...</td>\n",
       "      <td>Documentary</td>\n",
       "      <td>&lt;NA&gt;</td>\n",
       "    </tr>\n",
       "    <tr>\n",
       "      <th>1299</th>\n",
       "      <td>1319</td>\n",
       "      <td>Kids of Survival (1993)</td>\n",
       "      <td>Documentary</td>\n",
       "      <td>&lt;NA&gt;</td>\n",
       "    </tr>\n",
       "    <tr>\n",
       "      <th>1611</th>\n",
       "      <td>1657</td>\n",
       "      <td>Wonderland (1997)</td>\n",
       "      <td>Documentary</td>\n",
       "      <td>&lt;NA&gt;</td>\n",
       "    </tr>\n",
       "    <tr>\n",
       "      <th>1658</th>\n",
       "      <td>1706</td>\n",
       "      <td>Harlem River Drive (1996)</td>\n",
       "      <td>Drama</td>\n",
       "      <td>&lt;NA&gt;</td>\n",
       "    </tr>\n",
       "    <tr>\n",
       "      <th>1718</th>\n",
       "      <td>1774</td>\n",
       "      <td>Mass Transit (1998)</td>\n",
       "      <td>Comedy|Drama</td>\n",
       "      <td>&lt;NA&gt;</td>\n",
       "    </tr>\n",
       "    <tr>\n",
       "      <th>2535</th>\n",
       "      <td>2604</td>\n",
       "      <td>Let it Come Down: The Life of Paul Bowles (1998)</td>\n",
       "      <td>Documentary</td>\n",
       "      <td>&lt;NA&gt;</td>\n",
       "    </tr>\n",
       "    <tr>\n",
       "      <th>2840</th>\n",
       "      <td>2909</td>\n",
       "      <td>Five Wives, Three Secretaries and Me (1998)</td>\n",
       "      <td>Documentary</td>\n",
       "      <td>&lt;NA&gt;</td>\n",
       "    </tr>\n",
       "    <tr>\n",
       "      <th>3287</th>\n",
       "      <td>3356</td>\n",
       "      <td>Condo Painting (2000)</td>\n",
       "      <td>Documentary</td>\n",
       "      <td>&lt;NA&gt;</td>\n",
       "    </tr>\n",
       "  </tbody>\n",
       "</table>\n",
       "</div>"
      ],
      "text/plain": [
       "     movieId                                              title  \\\n",
       "639      644                               Happy Weekend (1996)   \n",
       "730      739                                   Honigmond (1996)   \n",
       "742      752                       Vermont Is For Lovers (1992)   \n",
       "760      770                                 Costa Brava (1946)   \n",
       "781      791  Last Klezmer: Leopold Kozlowski, His Life and ...   \n",
       "1299    1319                            Kids of Survival (1993)   \n",
       "1611    1657                                  Wonderland (1997)   \n",
       "1658    1706                          Harlem River Drive (1996)   \n",
       "1718    1774                                Mass Transit (1998)   \n",
       "2535    2604   Let it Come Down: The Life of Paul Bowles (1998)   \n",
       "2840    2909        Five Wives, Three Secretaries and Me (1998)   \n",
       "3287    3356                              Condo Painting (2000)   \n",
       "\n",
       "              genres  plot  \n",
       "639           Comedy  <NA>  \n",
       "730           Comedy  <NA>  \n",
       "742   Comedy|Romance  <NA>  \n",
       "760            Drama  <NA>  \n",
       "781      Documentary  <NA>  \n",
       "1299     Documentary  <NA>  \n",
       "1611     Documentary  <NA>  \n",
       "1658           Drama  <NA>  \n",
       "1718    Comedy|Drama  <NA>  \n",
       "2535     Documentary  <NA>  \n",
       "2840     Documentary  <NA>  \n",
       "3287     Documentary  <NA>  "
      ]
     },
     "execution_count": 25,
     "metadata": {},
     "output_type": "execute_result"
    }
   ],
   "source": [
    "missing_movies = union.loc[union['plot'].isnull()]\n",
    "missing_movies"
   ]
  },
  {
   "cell_type": "markdown",
   "id": "7430d131",
   "metadata": {},
   "source": [
    "Why are we getting a null value? \n",
    "\n",
    "Ah, it's because empty plot strings are being treated as null. \n",
    "Let's replace null values with the empty string. "
   ]
  },
  {
   "cell_type": "code",
   "execution_count": 26,
   "id": "e2efd98a",
   "metadata": {},
   "outputs": [],
   "source": [
    "union.fillna('', inplace=True)"
   ]
  },
  {
   "cell_type": "code",
   "execution_count": 27,
   "id": "980148e9",
   "metadata": {},
   "outputs": [
    {
     "data": {
      "text/html": [
       "<div>\n",
       "<style scoped>\n",
       "    .dataframe tbody tr th:only-of-type {\n",
       "        vertical-align: middle;\n",
       "    }\n",
       "\n",
       "    .dataframe tbody tr th {\n",
       "        vertical-align: top;\n",
       "    }\n",
       "\n",
       "    .dataframe thead th {\n",
       "        text-align: right;\n",
       "    }\n",
       "</style>\n",
       "<table border=\"1\" class=\"dataframe\">\n",
       "  <thead>\n",
       "    <tr style=\"text-align: right;\">\n",
       "      <th></th>\n",
       "      <th>movieId</th>\n",
       "      <th>title</th>\n",
       "      <th>genres</th>\n",
       "      <th>plot</th>\n",
       "    </tr>\n",
       "  </thead>\n",
       "  <tbody>\n",
       "  </tbody>\n",
       "</table>\n",
       "</div>"
      ],
      "text/plain": [
       "Empty DataFrame\n",
       "Columns: [movieId, title, genres, plot]\n",
       "Index: []"
      ]
     },
     "execution_count": 27,
     "metadata": {},
     "output_type": "execute_result"
    }
   ],
   "source": [
    "union.loc[union['plot'].isnull()]"
   ]
  },
  {
   "cell_type": "markdown",
   "id": "4e4928a8",
   "metadata": {},
   "source": [
    "We've now finished scraping the plots. Write the new 1m database (with plots) to `movies_1m.csv`. "
   ]
  },
  {
   "cell_type": "code",
   "execution_count": 28,
   "id": "e2c81e3c",
   "metadata": {},
   "outputs": [],
   "source": [
    "union.to_csv('movies_1m.csv', index=False)"
   ]
  }
 ],
 "metadata": {
  "kernelspec": {
   "display_name": "Python 3",
   "language": "python",
   "name": "python3"
  },
  "language_info": {
   "codemirror_mode": {
    "name": "ipython",
    "version": 3
   },
   "file_extension": ".py",
   "mimetype": "text/x-python",
   "name": "python",
   "nbconvert_exporter": "python",
   "pygments_lexer": "ipython3",
   "version": "3.9.5"
  }
 },
 "nbformat": 4,
 "nbformat_minor": 5
}
